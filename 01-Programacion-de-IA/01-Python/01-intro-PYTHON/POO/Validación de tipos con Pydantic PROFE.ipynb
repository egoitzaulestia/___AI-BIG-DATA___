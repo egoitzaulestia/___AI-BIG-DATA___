{
  "nbformat": 4,
  "nbformat_minor": 0,
  "metadata": {
    "colab": {
      "provenance": [],
      "toc_visible": true
    },
    "kernelspec": {
      "name": "python3",
      "display_name": "Python 3"
    },
    "language_info": {
      "name": "python"
    }
  },
  "cells": [
    {
      "cell_type": "markdown",
      "source": [
        "# Pydantic\n",
        "\n",
        "🐍 **Pydantic** es una biblioteca para crear modelos de datos autovalidantes en Python, lo que facilita la definición y aplicación de estructuras de datos con **tipificación estricta**.\n",
        "\n",
        "📋 Pydantic proporciona validación de datos, lo que garantiza que los modelos de datos cumplan con los tipos especificados y genera excepciones de validación si hay discrepancias de tipos.\n",
        "\n",
        "Sus puntos fuertes son:\n",
        "\n",
        "- **Sencillez**: Se basa en las “sugerencias de tipo” ya existentes en Python pero que sólo funcionan de modo “informativo”. Eso significa menos que aprender, menos código nuevo que escribir e integración con los IDE y herramientas de análisis estático.\n",
        "- **Velocidad**: la lógica de validación central de Pydantic está escrita en Rust, como resultado, Pydantic es una de las bibliotecas de validación de datos más rápidas para Python.\n",
        "- **Esquema JSON**: los modelos de Pydantic pueden emitir esquemas JSON, lo que permite una fácil integración con otras herramientas.\n",
        "- **Modo estricto y laxo**: Pydantic puede ejecutarse en modo `strict=True` (donde los datos no se convierten) o en modo `strict=False`, donde Pydantic intenta convertir los datos al tipo correcto\n",
        "cuando sea apropiado.\n",
        "- **Dataclasses, TypedDicts y más**: Pydantic admite la validación de muchos tipos procedentes de bibliotecas estándar, incluidos `dataclass` y `TypedDict`.\n",
        "- **Personalización**: Pydantic permite que los validadores y serializadores personalizados alteren la forma en que se procesan los datos.\n",
        "- **Ecosistema**: alrededor de 8000 paquetes en **PyPI** usan Pydantic, incluidas bibliotecas muy populares como [**FastAPI**](https://github.com/tiangolo/fastapi), **[huggingface/transformers](https://github.com/huggingface/transformers)**, [**Django Ninja**](https://github.com/vitalik/django-ninja), [**SQLModel**](https://github.com/tiangolo/sqlmodel) y [**LangChain**](https://github.com/hwchase17/langchain).\n",
        "- **Probado en campo de batalla**: Pydantic se descarga más de 70 millones de veces al mes y lo usan todas las empresas FAANG y 20 de las 25 empresas más grandes del NASDAQ. Si estás intentando hacer algo con Pydantic, es probable que alguien más ya lo haya hecho.\n",
        "\n",
        "[Welcome to Pydantic - Pydantic](https://docs.pydantic.dev/2.6/)\n",
        "\n",
        "## Instalación\n",
        "\n",
        "La instalación de pydantic se realiza a través del administrador de paquetes:\n",
        "\n",
        "\n"
      ],
      "metadata": {
        "id": "1_xejWFTeUm3"
      }
    },
    {
      "cell_type": "code",
      "execution_count": null,
      "metadata": {
        "id": "5lgTM7VoeUm_",
        "colab": {
          "base_uri": "https://localhost:8080/"
        },
        "outputId": "8f5cb2d5-b415-45c8-9f5a-bfddc081df87"
      },
      "outputs": [
        {
          "output_type": "stream",
          "name": "stdout",
          "text": [
            "Requirement already satisfied: pydantic in /usr/local/lib/python3.10/dist-packages (2.9.2)\n",
            "Requirement already satisfied: annotated-types>=0.6.0 in /usr/local/lib/python3.10/dist-packages (from pydantic) (0.7.0)\n",
            "Requirement already satisfied: pydantic-core==2.23.4 in /usr/local/lib/python3.10/dist-packages (from pydantic) (2.23.4)\n",
            "Requirement already satisfied: typing-extensions>=4.6.1 in /usr/local/lib/python3.10/dist-packages (from pydantic) (4.12.2)\n"
          ]
        }
      ],
      "source": [
        "# !pip install pydantic"
      ]
    },
    {
      "cell_type": "markdown",
      "source": [
        "\n",
        "\n",
        "> ⚠️ Nota para Google Colab.\n",
        "Actualmente Google Colab tiene instalado por defecto pydantic en su versión 1.10.\n",
        "Este tutorial está hecho para la versión 2.\n",
        "Por tanto hay que desinstalar pydantic e instalar la versión 2 de manera estricta.<br>\n",
        "`!pip install fastapi kaleido python-multipart uvicorn cohere openai tiktoken`<br>\n",
        "`!pip install \"tensorflow-probability==0.23.0\"`<br>\n",
        "`!pip uninstall pydantic==1.10.14`<br>\n",
        "`!pip install \"pydantic==2.*\"`<br>\n",
        ">\n",
        "\n",
        "Comprobamos la versión de pydantic instalada.\n",
        "\n",
        "\n"
      ],
      "metadata": {
        "id": "Z0KV-rMEeUnC"
      }
    },
    {
      "cell_type": "code",
      "execution_count": 1,
      "metadata": {
        "id": "Yb0VXEi9eUnC",
        "colab": {
          "base_uri": "https://localhost:8080/",
          "height": 36
        },
        "outputId": "5f5446ad-cf56-4d33-b99e-73a8db5d6581"
      },
      "outputs": [
        {
          "output_type": "execute_result",
          "data": {
            "text/plain": [
              "'2.9.2'"
            ],
            "application/vnd.google.colaboratory.intrinsic+json": {
              "type": "string"
            }
          },
          "metadata": {},
          "execution_count": 1
        }
      ],
      "source": [
        "import pydantic\n",
        "pydantic.__version__\n",
        "# [Out: ] 2.9.2"
      ]
    },
    {
      "cell_type": "markdown",
      "source": [
        "\n",
        "\n",
        "## **Base Model**\n",
        "\n",
        "Los modelos de datos de Pydantic son simplemente clases de Python con funcionalidad adicional proporcionada por Pydantic mediante herencia. Necesitamos importar el modelo base.\n",
        "\n",
        "\n"
      ],
      "metadata": {
        "id": "k0s62dCYeUnD"
      }
    },
    {
      "cell_type": "code",
      "execution_count": 2,
      "metadata": {
        "id": "RSgAf3MWeUnE"
      },
      "outputs": [],
      "source": [
        "from pydantic import BaseModel"
      ]
    },
    {
      "cell_type": "markdown",
      "source": [
        "\n",
        "\n",
        "Este es un modelo Pydantic muy básico, como puede ver, definimos el tipo de datos de los campos en el modelo usando \"sugerencias de tipo\" de Python y lo añadimos a lo que heredamos del modelo base.\n",
        "\n",
        "\n"
      ],
      "metadata": {
        "id": "9OlxDA1zeUnE"
      }
    },
    {
      "cell_type": "code",
      "execution_count": 274,
      "metadata": {
        "id": "YVGzUmYweUnF"
      },
      "outputs": [],
      "source": [
        "class Persona(BaseModel):\n",
        "    nombre: str\n",
        "    apellido1: str\n",
        "    edad: int"
      ]
    },
    {
      "cell_type": "markdown",
      "source": [
        "\n",
        "\n",
        "Ahora podemos crear instancias de este modelo.\n",
        "\n",
        "\n"
      ],
      "metadata": {
        "id": "7X9pT2tJeUnF"
      }
    },
    {
      "cell_type": "code",
      "execution_count": 276,
      "metadata": {
        "id": "NvGivUO5eUnG",
        "colab": {
          "base_uri": "https://localhost:8080/"
        },
        "outputId": "21794e36-8fef-47f4-b2fc-f0449ab32a81"
      },
      "outputs": [
        {
          "output_type": "stream",
          "name": "stdout",
          "text": [
            "nombre='Juan' apellido1='Pérez' edad=25\n"
          ]
        }
      ],
      "source": [
        "p = Persona(nombre=\"Juan\", apellido1=\"Pérez\", edad=25, dni=\"123\")\n",
        "print(p)"
      ]
    },
    {
      "cell_type": "markdown",
      "source": [
        "\n",
        "\n",
        "Si no usamos los tipos de datos que se espera para cada campo, obtenemos un mensaje de error \"ValidationError\".\n",
        "\n",
        "\n"
      ],
      "metadata": {
        "id": "GZNJZSiLeUnG"
      }
    },
    {
      "cell_type": "code",
      "execution_count": 5,
      "metadata": {
        "id": "RG3ZEjO7eUnG",
        "colab": {
          "base_uri": "https://localhost:8080/",
          "height": 384
        },
        "outputId": "4d094ffa-e2b5-4f39-9ffb-bedc500149d1"
      },
      "outputs": [
        {
          "output_type": "error",
          "ename": "ValidationError",
          "evalue": "2 validation errors for Persona\napellido1\n  Input should be a valid string [type=string_type, input_value=25, input_type=int]\n    For further information visit https://errors.pydantic.dev/2.9/v/string_type\nedad\n  Input should be a valid integer, unable to parse string as an integer [type=int_parsing, input_value='Perez', input_type=str]\n    For further information visit https://errors.pydantic.dev/2.9/v/int_parsing",
          "traceback": [
            "\u001b[0;31m---------------------------------------------------------------------------\u001b[0m",
            "\u001b[0;31mValidationError\u001b[0m                           Traceback (most recent call last)",
            "\u001b[0;32m<ipython-input-5-e2c2359a9553>\u001b[0m in \u001b[0;36m<cell line: 1>\u001b[0;34m()\u001b[0m\n\u001b[0;32m----> 1\u001b[0;31m \u001b[0merror\u001b[0m \u001b[0;34m=\u001b[0m \u001b[0mPersona\u001b[0m\u001b[0;34m(\u001b[0m\u001b[0mnombre\u001b[0m\u001b[0;34m=\u001b[0m\u001b[0;34m\"Juan\"\u001b[0m\u001b[0;34m,\u001b[0m \u001b[0mapellido1\u001b[0m\u001b[0;34m=\u001b[0m\u001b[0;36m25\u001b[0m\u001b[0;34m,\u001b[0m \u001b[0medad\u001b[0m\u001b[0;34m=\u001b[0m\u001b[0;34m\"Perez\"\u001b[0m\u001b[0;34m)\u001b[0m\u001b[0;34m\u001b[0m\u001b[0;34m\u001b[0m\u001b[0m\n\u001b[0m",
            "\u001b[0;32m/usr/local/lib/python3.10/dist-packages/pydantic/main.py\u001b[0m in \u001b[0;36m__init__\u001b[0;34m(self, **data)\u001b[0m\n\u001b[1;32m    210\u001b[0m         \u001b[0;31m# `__tracebackhide__` tells pytest and some other tools to omit this function from tracebacks\u001b[0m\u001b[0;34m\u001b[0m\u001b[0;34m\u001b[0m\u001b[0m\n\u001b[1;32m    211\u001b[0m         \u001b[0m__tracebackhide__\u001b[0m \u001b[0;34m=\u001b[0m \u001b[0;32mTrue\u001b[0m\u001b[0;34m\u001b[0m\u001b[0;34m\u001b[0m\u001b[0m\n\u001b[0;32m--> 212\u001b[0;31m         \u001b[0mvalidated_self\u001b[0m \u001b[0;34m=\u001b[0m \u001b[0mself\u001b[0m\u001b[0;34m.\u001b[0m\u001b[0m__pydantic_validator__\u001b[0m\u001b[0;34m.\u001b[0m\u001b[0mvalidate_python\u001b[0m\u001b[0;34m(\u001b[0m\u001b[0mdata\u001b[0m\u001b[0;34m,\u001b[0m \u001b[0mself_instance\u001b[0m\u001b[0;34m=\u001b[0m\u001b[0mself\u001b[0m\u001b[0;34m)\u001b[0m\u001b[0;34m\u001b[0m\u001b[0;34m\u001b[0m\u001b[0m\n\u001b[0m\u001b[1;32m    213\u001b[0m         \u001b[0;32mif\u001b[0m \u001b[0mself\u001b[0m \u001b[0;32mis\u001b[0m \u001b[0;32mnot\u001b[0m \u001b[0mvalidated_self\u001b[0m\u001b[0;34m:\u001b[0m\u001b[0;34m\u001b[0m\u001b[0;34m\u001b[0m\u001b[0m\n\u001b[1;32m    214\u001b[0m             warnings.warn(\n",
            "\u001b[0;31mValidationError\u001b[0m: 2 validation errors for Persona\napellido1\n  Input should be a valid string [type=string_type, input_value=25, input_type=int]\n    For further information visit https://errors.pydantic.dev/2.9/v/string_type\nedad\n  Input should be a valid integer, unable to parse string as an integer [type=int_parsing, input_value='Perez', input_type=str]\n    For further information visit https://errors.pydantic.dev/2.9/v/int_parsing"
          ]
        }
      ],
      "source": [
        "error = Persona(nombre=\"Juan\", apellido1=25, edad=\"Perez\")"
      ]
    },
    {
      "cell_type": "markdown",
      "source": [
        "\n",
        "\n",
        "Los datos no confiables se pueden pasar a un modelo y, después del análisis y la validación, **Pydantic** garantiza que los campos de la instancia del modelo resultante se ajustarán a los tipos de campo definidos en el modelo. **Pydantic** es principalmente una biblioteca de análisis y transformación, no una biblioteca de validación.\n",
        "\n",
        "La validación es un medio para un fin: crear un modelo que se ajuste a los tipos y restricciones proporcionados. En otras palabras, **Pydantic** garantiza los tipos y las restricciones del modelo de salida, no los datos de entrada. Aunque la validación no es el objetivo principal de **Pydantic**, puede utilizar esta biblioteca para una validación personalizada.\n",
        "\n",
        "✅ **Pydantic**, en algunos casos, intentará convertir los datos de entrada al tipo adecuado, pero cuando no pueda hacerlo y cuando la validación falla, Pydantic genera un error de validación.\n",
        "\n",
        "De esta manera, una vez que tengamos una instancia del modelo, tendremos la garantía de que el nombre será una cadena, el apellido será una cadena y la edad será un número entero. De hecho, también tenemos la garantía, debido a la forma en que definimos los campos, de que esos campos contendrán datos y no serán `None` porque, de forma predeterminada, todos los campos son obligatorios. *Veremos cómo crear campos opcionales más adelante.*\n",
        "\n",
        "Podemos capturar el error para presentarlo en pantalla de manera más limpia\n",
        "\n",
        "\n"
      ],
      "metadata": {
        "id": "zYkdRSl4eUnG"
      }
    },
    {
      "cell_type": "code",
      "execution_count": 7,
      "metadata": {
        "id": "Ax2EsG04eUnG",
        "colab": {
          "base_uri": "https://localhost:8080/"
        },
        "outputId": "3a9713e9-b038-4c9f-fea1-905102636641"
      },
      "outputs": [
        {
          "output_type": "stream",
          "name": "stdout",
          "text": [
            "2 validation errors for Persona\n",
            "apellido1\n",
            "  Input should be a valid string [type=string_type, input_value=25, input_type=int]\n",
            "    For further information visit https://errors.pydantic.dev/2.9/v/string_type\n",
            "edad\n",
            "  Input should be a valid integer, unable to parse string as an integer [type=int_parsing, input_value='Perez', input_type=str]\n",
            "    For further information visit https://errors.pydantic.dev/2.9/v/int_parsing\n"
          ]
        }
      ],
      "source": [
        "from pydantic import ValidationError\n",
        "\n",
        "try:\n",
        "    error = Persona(nombre=\"Juan\", apellido1=25, edad=\"Perez\")\n",
        "except ValidationError as texto_error:\n",
        "    print(texto_error)"
      ]
    },
    {
      "cell_type": "markdown",
      "source": [
        "\n",
        "\n",
        "Podemos acceder a los campos de la instancia creada como en cualquier otra clase de Python\n",
        "\n",
        "\n"
      ],
      "metadata": {
        "id": "q4RXPIAEeUnH"
      }
    },
    {
      "cell_type": "code",
      "execution_count": 8,
      "metadata": {
        "id": "BmmTDmeKeUnH",
        "colab": {
          "base_uri": "https://localhost:8080/"
        },
        "outputId": "2c03615a-1eca-47d2-f678-0272276a9f43"
      },
      "outputs": [
        {
          "output_type": "execute_result",
          "data": {
            "text/plain": [
              "('Juan', 'Pérez', 25)"
            ]
          },
          "metadata": {},
          "execution_count": 8
        }
      ],
      "source": [
        "p = Persona(nombre=\"Juan\", apellido1=\"Pérez\", edad=25)\n",
        "p.nombre, p.apellido1, p.edad"
      ]
    },
    {
      "cell_type": "markdown",
      "source": [
        "\n",
        "\n",
        "Incluso modificarlos.\n",
        "\n",
        "\n"
      ],
      "metadata": {
        "id": "tdAQOz-1eUnH"
      }
    },
    {
      "cell_type": "code",
      "execution_count": 9,
      "metadata": {
        "id": "QPLoXFBWeUnH",
        "colab": {
          "base_uri": "https://localhost:8080/"
        },
        "outputId": "49f59540-4d6a-47bf-e96d-40f817723818"
      },
      "outputs": [
        {
          "output_type": "execute_result",
          "data": {
            "text/plain": [
              "Persona(nombre='Juan', apellido1='Pérez', edad=26)"
            ]
          },
          "metadata": {},
          "execution_count": 9
        }
      ],
      "source": [
        "p.edad = 26\n",
        "p"
      ]
    },
    {
      "cell_type": "markdown",
      "source": [
        "\n",
        "\n",
        "Por defecto, Pydantic no valida los datos en estas modificaciones. Sólo en la creación de la instancia.\n",
        "\n",
        "\n"
      ],
      "metadata": {
        "id": "n96YPSILeUnH"
      }
    },
    {
      "cell_type": "code",
      "execution_count": 10,
      "metadata": {
        "id": "P7R19AROeUnH",
        "colab": {
          "base_uri": "https://localhost:8080/"
        },
        "outputId": "845f023a-3f5d-4adc-de23-686ad889ddf9"
      },
      "outputs": [
        {
          "output_type": "execute_result",
          "data": {
            "text/plain": [
              "Persona(nombre='Juan', apellido1='Pérez', edad='Veintiseis')"
            ]
          },
          "metadata": {},
          "execution_count": 10
        }
      ],
      "source": [
        "p.edad = \"Veintiseis\"\n",
        "p"
      ]
    },
    {
      "cell_type": "markdown",
      "source": [
        "## Datos de los errores de validación\n",
        "\n",
        "Podemos obtener los datos que han producido el error de validación como un objeto. Esto es útil para tratar de darles una solución:\n",
        "\n",
        "\n"
      ],
      "metadata": {
        "id": "EHI_ivqjeUnH"
      }
    },
    {
      "cell_type": "code",
      "execution_count": 12,
      "metadata": {
        "id": "vC-RyCHYeUnH"
      },
      "outputs": [],
      "source": [
        "from pydantic import ValidationError\n",
        "try:\n",
        "    error = Persona(nombre=\"Juan\", apellido1=25, edad=\"Pérez\")\n",
        "except ValidationError as texto_error:\n",
        "    objeto_error_validacion = texto_error"
      ]
    },
    {
      "cell_type": "markdown",
      "source": [
        "\n",
        "\n",
        "En formato lista de diccionarios\n",
        "\n",
        "\n"
      ],
      "metadata": {
        "id": "5qWCFUr8eUnH"
      }
    },
    {
      "cell_type": "code",
      "execution_count": 13,
      "metadata": {
        "id": "rOJ6TLm9eUnH",
        "colab": {
          "base_uri": "https://localhost:8080/"
        },
        "outputId": "101f2aba-4071-4c13-ea08-7b7e279bca3a"
      },
      "outputs": [
        {
          "output_type": "execute_result",
          "data": {
            "text/plain": [
              "[{'type': 'string_type',\n",
              "  'loc': ('apellido1',),\n",
              "  'msg': 'Input should be a valid string',\n",
              "  'input': 25,\n",
              "  'url': 'https://errors.pydantic.dev/2.9/v/string_type'},\n",
              " {'type': 'int_parsing',\n",
              "  'loc': ('edad',),\n",
              "  'msg': 'Input should be a valid integer, unable to parse string as an integer',\n",
              "  'input': 'Pérez',\n",
              "  'url': 'https://errors.pydantic.dev/2.9/v/int_parsing'}]"
            ]
          },
          "metadata": {},
          "execution_count": 13
        }
      ],
      "source": [
        "objeto_error_validacion.errors()"
      ]
    },
    {
      "cell_type": "markdown",
      "source": [
        "\n",
        "\n",
        "En formato string de json:\n",
        "\n",
        "\n"
      ],
      "metadata": {
        "id": "McwGL0QJeUnI"
      }
    },
    {
      "cell_type": "code",
      "execution_count": 23,
      "metadata": {
        "id": "Dqoijk3YeUnI",
        "colab": {
          "base_uri": "https://localhost:8080/",
          "height": 72
        },
        "outputId": "f7c4bfaf-b909-4a59-c5db-ead3372c3683"
      },
      "outputs": [
        {
          "output_type": "execute_result",
          "data": {
            "text/plain": [
              "'[{\"type\":\"string_type\",\"loc\":[\"apellido1\"],\"msg\":\"Input should be a valid string\",\"input\":25,\"url\":\"https://errors.pydantic.dev/2.9/v/string_type\"},{\"type\":\"int_parsing\",\"loc\":[\"edad\"],\"msg\":\"Input should be a valid integer, unable to parse string as an integer\",\"input\":\"Pérez\",\"url\":\"https://errors.pydantic.dev/2.9/v/int_parsing\"}]'"
            ],
            "application/vnd.google.colaboratory.intrinsic+json": {
              "type": "string"
            }
          },
          "metadata": {},
          "execution_count": 23
        }
      ],
      "source": [
        "objeto_error_validacion.json()"
      ]
    },
    {
      "cell_type": "markdown",
      "source": [
        "\n",
        "\n",
        "- Manejo de errores\n",
        "    \n",
        "    Pydantic generará un error `ValidationError` cada vez que encuentre un error en los datos que está validando. Se generará una excepción independientemente de la cantidad de errores encontrados; ese error `ValidationError` contendrá información sobre todos los errores y cómo ocurrieron.\n",
        "    \n",
        "    \n"
      ],
      "metadata": {
        "id": "LuqSDvoMeUnI"
      }
    },
    {
      "cell_type": "code",
      "execution_count": 29,
      "metadata": {
        "id": "qlE1_FsPeUnI",
        "colab": {
          "base_uri": "https://localhost:8080/"
        },
        "outputId": "beb35298-11d9-4d33-e336-f96bd8a28656"
      },
      "outputs": [
        {
          "output_type": "stream",
          "name": "stdout",
          "text": [
            "2 validation errors for Modelo\n",
            "lista_de_ints.2\n",
            "  Input should be a valid integer, unable to parse string as an integer [type=int_parsing, input_value='Hola', input_type=str]\n",
            "    For further information visit https://errors.pydantic.dev/2.9/v/int_parsing\n",
            "floatante\n",
            "  Input should be a valid number, unable to parse string as a number [type=float_parsing, input_value='esto no es un float', input_type=str]\n",
            "    For further information visit https://errors.pydantic.dev/2.9/v/float_parsing\n"
          ]
        }
      ],
      "source": [
        "from pydantic import BaseModel, ValidationError\n",
        "\n",
        "class Modelo(BaseModel):\n",
        "    lista_de_ints: list[int]\n",
        "    floatante: float\n",
        "\n",
        "datos = dict(\n",
        "    lista_de_ints=['1', 2, 'Hola'],\n",
        "    floatante='esto no es un float',\n",
        "    )\n",
        "\n",
        "try:\n",
        "    Modelo(**datos)\n",
        "except ValidationError as e:\n",
        "    print(e)"
      ]
    },
    {
      "cell_type": "markdown",
      "source": [
        "Es posible saltarnos el paso de validación. Lo haremos cuando el paso de validación sea costoso computacionalmente y ya hayamos validado los datos en otro momento,"
      ],
      "metadata": {
        "id": "fNVo0YghsQXH"
      }
    },
    {
      "cell_type": "code",
      "source": [
        "from pydantic import BaseModel\n",
        "class User(BaseModel):\n",
        "    id: int\n",
        "    age: int\n",
        "    name: str = 'John Doe'\n",
        "original_user = User(id=123, age=32)\n",
        "user_data = original_user.model_dump()\n",
        "print(user_data)\n",
        "#> {'id': 123, 'age': 32, 'name': 'John Doe'}\n",
        "fields_set = original_user.model_fields_set\n",
        "print(fields_set)\n",
        "#> {'age', 'id'}\n",
        "# ...\n",
        "# pass user_data and fields_set to RPC or save to the database etc.\n",
        "# ...\n",
        "# you can then create a new instance of User without\n",
        "# re-running validation which would be unnecessary at this point:\n",
        "# if _fields_set was not provided, new_user.model_fields_set would be {'id', 'age', 'name'}.\n",
        "new_user = User.model_construct(_fields_set=fields_set, **user_data)\n",
        "print(repr(new_user))#> User(id=123, age=32, name='John Doe')\n",
        "print(new_user.model_fields_set)\n",
        "#> {'age', 'id'}\n",
        "# construct can be dangerous, only use it with validated data!:\n",
        "bad_user = User.model_construct(id='dog')\n",
        "print(repr(bad_user))\n",
        "#> User(id='dog', name='John Doe')"
      ],
      "metadata": {
        "id": "NEAkO_P1sPCR"
      },
      "execution_count": null,
      "outputs": []
    },
    {
      "cell_type": "markdown",
      "source": [
        "\n",
        "    \n",
        "\n",
        "## Deserialización de los datos\n",
        "\n",
        "Puedo convertir en instancia unos datos recibidos en formato diccionario\n",
        "\n",
        "\n"
      ],
      "metadata": {
        "id": "yBqGlxRyeUnI"
      }
    },
    {
      "cell_type": "code",
      "execution_count": 41,
      "metadata": {
        "id": "YJL55WnGeUnI",
        "colab": {
          "base_uri": "https://localhost:8080/"
        },
        "outputId": "c0d0d255-4e0f-4c9e-d33f-375607b8f3d6"
      },
      "outputs": [
        {
          "output_type": "stream",
          "name": "stdout",
          "text": [
            "nombre='Luis' apellido1='López' edad=30\n"
          ]
        }
      ],
      "source": [
        "datos_dict = {\"nombre\": \"Luis\", \"apellido1\": \"López\", \"edad\": 30}\n",
        "p = Persona.model_validate(datos_dict)\n",
        "print(p)"
      ]
    },
    {
      "cell_type": "markdown",
      "source": [
        "\n",
        "\n",
        "o un string con formato json\n",
        "\n",
        "\n"
      ],
      "metadata": {
        "id": "E1x8iqlGeUnI"
      }
    },
    {
      "cell_type": "code",
      "execution_count": 34,
      "metadata": {
        "id": "H58SY3sCeUnI",
        "colab": {
          "base_uri": "https://localhost:8080/"
        },
        "outputId": "ad14ae97-03cb-434b-8fb6-578446e156f1"
      },
      "outputs": [
        {
          "output_type": "stream",
          "name": "stdout",
          "text": [
            "nombre='Luis' apellido1='López' edad=30\n"
          ]
        }
      ],
      "source": [
        "datos_json = \"\"\"{\n",
        "    \"nombre\": \"Luis\",\n",
        "    \"apellido1\": \"López\",\n",
        "    \"edad\": 30}\n",
        "    \"\"\"\n",
        "p = Persona.model_validate_json(datos_json)\n",
        "print(p)"
      ]
    },
    {
      "cell_type": "markdown",
      "source": [
        "\n",
        "\n",
        "## Serialización de datos\n",
        "\n",
        "La serialización es la operación inversa. Pasar de la instancia de la clase Persona a los tipos estándar (diccionario o string de json)\n",
        "\n",
        "\n"
      ],
      "metadata": {
        "id": "RVyDS3iTeUnI"
      }
    },
    {
      "cell_type": "code",
      "execution_count": 38,
      "metadata": {
        "id": "ppXnmsZLeUnI",
        "colab": {
          "base_uri": "https://localhost:8080/",
          "height": 36
        },
        "outputId": "8a8041d8-36f3-4425-9000-2c53633f41ec"
      },
      "outputs": [
        {
          "output_type": "execute_result",
          "data": {
            "text/plain": [
              "'Luis'"
            ],
            "application/vnd.google.colaboratory.intrinsic+json": {
              "type": "string"
            }
          },
          "metadata": {},
          "execution_count": 38
        }
      ],
      "source": [
        "p.model_dump()"
      ]
    },
    {
      "cell_type": "code",
      "execution_count": 39,
      "metadata": {
        "id": "81R7IPc7eUnI",
        "colab": {
          "base_uri": "https://localhost:8080/",
          "height": 36
        },
        "outputId": "b1b62afe-cefa-429f-d6ea-0b2c4c74b0f3"
      },
      "outputs": [
        {
          "output_type": "execute_result",
          "data": {
            "text/plain": [
              "'{\"nombre\":\"Luis\",\"apellido1\":\"López\",\"edad\":30}'"
            ],
            "application/vnd.google.colaboratory.intrinsic+json": {
              "type": "string"
            }
          },
          "metadata": {},
          "execution_count": 39
        }
      ],
      "source": [
        "p.model_dump_json()"
      ]
    },
    {
      "cell_type": "markdown",
      "source": [
        "\n",
        "\n",
        "## Campos *Required* y *Optional*\n",
        "\n",
        "Como hemos dicho antes, el comportamiento por defecto es que todos los campos sean requeridos (obligatorios). Pero podemos modificar la forma en la que declaramos algunos campos, dándoles un contenido por defecto para que sean opcionales.\n",
        "\n",
        "Por ejemplo, voy a añadir el campo apellido2 que contenga el segundo apellido de la persona pero, como algunos extranjeros no tienen segundo apellido voy a permitir que ese valor esté vacío.\n",
        "\n",
        "\n"
      ],
      "metadata": {
        "id": "K-1H-W11eUnJ"
      }
    },
    {
      "cell_type": "code",
      "execution_count": 54,
      "metadata": {
        "id": "D-cI9ks1eUnM"
      },
      "outputs": [],
      "source": [
        "class Persona(BaseModel):\n",
        "    nombre: str\n",
        "    apellido1: str\n",
        "    apellido2: str = None\n",
        "    edad: int"
      ]
    },
    {
      "cell_type": "code",
      "execution_count": 48,
      "metadata": {
        "id": "OWTdKgBNeUnM",
        "colab": {
          "base_uri": "https://localhost:8080/"
        },
        "outputId": "c8191c7b-1202-48a8-91e3-1fe267969b3f"
      },
      "outputs": [
        {
          "output_type": "stream",
          "name": "stdout",
          "text": [
            "nombre='Luis' apellido1='López' apellido2='García' edad=30\n"
          ]
        }
      ],
      "source": [
        "datos_dict = {\"nombre\": \"Luis\", \"apellido1\": \"López\", \"apellido2\": \"García\", \"edad\": 30}\n",
        "p = Persona.model_validate(datos_dict)\n",
        "print(p)"
      ]
    },
    {
      "cell_type": "code",
      "execution_count": 56,
      "metadata": {
        "id": "NRgrqHiNeUnM",
        "colab": {
          "base_uri": "https://localhost:8080/"
        },
        "outputId": "cdab13ad-3d45-44c0-c6c4-e79cecd02efe"
      },
      "outputs": [
        {
          "output_type": "stream",
          "name": "stdout",
          "text": [
            "nombre='John' apellido1='Smith' apellido2=None edad=30\n"
          ]
        }
      ],
      "source": [
        "datos_dict = {\"nombre\": \"John\", \"apellido1\": \"Smith\", \"edad\": 30}\n",
        "p2 = Persona.model_validate(datos_dict)\n",
        "print(p2)"
      ]
    },
    {
      "cell_type": "markdown",
      "source": [
        "Pero apellido2 no es \"Nulable\""
      ],
      "metadata": {
        "id": "bolM_m5TOAG_"
      }
    },
    {
      "cell_type": "code",
      "source": [
        "datos_dict = {\"nombre\": \"John\", \"apellido1\": \"Smith\", \"apellido2\": None,  \"edad\": 30}\n",
        "p2 = Persona.model_validate(datos_dict)\n",
        "print(p2)"
      ],
      "metadata": {
        "colab": {
          "base_uri": "https://localhost:8080/",
          "height": 366
        },
        "id": "Vrpn7FB1N8Lz",
        "outputId": "9e626ab3-f9ce-4121-9b76-b9d363e1c141"
      },
      "execution_count": 57,
      "outputs": [
        {
          "output_type": "error",
          "ename": "ValidationError",
          "evalue": "1 validation error for Persona\napellido2\n  Input should be a valid string [type=string_type, input_value=None, input_type=NoneType]\n    For further information visit https://errors.pydantic.dev/2.9/v/string_type",
          "traceback": [
            "\u001b[0;31m---------------------------------------------------------------------------\u001b[0m",
            "\u001b[0;31mValidationError\u001b[0m                           Traceback (most recent call last)",
            "\u001b[0;32m<ipython-input-57-ef633aa463dd>\u001b[0m in \u001b[0;36m<cell line: 2>\u001b[0;34m()\u001b[0m\n\u001b[1;32m      1\u001b[0m \u001b[0mdatos_dict\u001b[0m \u001b[0;34m=\u001b[0m \u001b[0;34m{\u001b[0m\u001b[0;34m\"nombre\"\u001b[0m\u001b[0;34m:\u001b[0m \u001b[0;34m\"John\"\u001b[0m\u001b[0;34m,\u001b[0m \u001b[0;34m\"apellido1\"\u001b[0m\u001b[0;34m:\u001b[0m \u001b[0;34m\"Smith\"\u001b[0m\u001b[0;34m,\u001b[0m \u001b[0;34m\"apellido2\"\u001b[0m\u001b[0;34m:\u001b[0m \u001b[0;32mNone\u001b[0m\u001b[0;34m,\u001b[0m  \u001b[0;34m\"edad\"\u001b[0m\u001b[0;34m:\u001b[0m \u001b[0;36m30\u001b[0m\u001b[0;34m}\u001b[0m\u001b[0;34m\u001b[0m\u001b[0;34m\u001b[0m\u001b[0m\n\u001b[0;32m----> 2\u001b[0;31m \u001b[0mp2\u001b[0m \u001b[0;34m=\u001b[0m \u001b[0mPersona\u001b[0m\u001b[0;34m.\u001b[0m\u001b[0mmodel_validate\u001b[0m\u001b[0;34m(\u001b[0m\u001b[0mdatos_dict\u001b[0m\u001b[0;34m)\u001b[0m\u001b[0;34m\u001b[0m\u001b[0;34m\u001b[0m\u001b[0m\n\u001b[0m\u001b[1;32m      3\u001b[0m \u001b[0mprint\u001b[0m\u001b[0;34m(\u001b[0m\u001b[0mp2\u001b[0m\u001b[0;34m)\u001b[0m\u001b[0;34m\u001b[0m\u001b[0;34m\u001b[0m\u001b[0m\n",
            "\u001b[0;32m/usr/local/lib/python3.10/dist-packages/pydantic/main.py\u001b[0m in \u001b[0;36mmodel_validate\u001b[0;34m(cls, obj, strict, from_attributes, context)\u001b[0m\n\u001b[1;32m    594\u001b[0m         \u001b[0;31m# `__tracebackhide__` tells pytest and some other tools to omit this function from tracebacks\u001b[0m\u001b[0;34m\u001b[0m\u001b[0;34m\u001b[0m\u001b[0m\n\u001b[1;32m    595\u001b[0m         \u001b[0m__tracebackhide__\u001b[0m \u001b[0;34m=\u001b[0m \u001b[0;32mTrue\u001b[0m\u001b[0;34m\u001b[0m\u001b[0;34m\u001b[0m\u001b[0m\n\u001b[0;32m--> 596\u001b[0;31m         return cls.__pydantic_validator__.validate_python(\n\u001b[0m\u001b[1;32m    597\u001b[0m             \u001b[0mobj\u001b[0m\u001b[0;34m,\u001b[0m \u001b[0mstrict\u001b[0m\u001b[0;34m=\u001b[0m\u001b[0mstrict\u001b[0m\u001b[0;34m,\u001b[0m \u001b[0mfrom_attributes\u001b[0m\u001b[0;34m=\u001b[0m\u001b[0mfrom_attributes\u001b[0m\u001b[0;34m,\u001b[0m \u001b[0mcontext\u001b[0m\u001b[0;34m=\u001b[0m\u001b[0mcontext\u001b[0m\u001b[0;34m\u001b[0m\u001b[0;34m\u001b[0m\u001b[0m\n\u001b[1;32m    598\u001b[0m         )\n",
            "\u001b[0;31mValidationError\u001b[0m: 1 validation error for Persona\napellido2\n  Input should be a valid string [type=string_type, input_value=None, input_type=NoneType]\n    For further information visit https://errors.pydantic.dev/2.9/v/string_type"
          ]
        }
      ]
    },
    {
      "cell_type": "markdown",
      "source": [
        "\n",
        "\n",
        "Podemos ver cómo se han definido los campos del modelo con el atributo `model_fields`\n",
        "\n",
        "\n"
      ],
      "metadata": {
        "id": "sjBKqn8MeUnM"
      }
    },
    {
      "cell_type": "code",
      "execution_count": 46,
      "metadata": {
        "id": "DkNJUR3aeUnN",
        "colab": {
          "base_uri": "https://localhost:8080/"
        },
        "outputId": "24fb2d93-2cc6-4452-b010-8397ad1c9f94"
      },
      "outputs": [
        {
          "output_type": "execute_result",
          "data": {
            "text/plain": [
              "{'nombre': FieldInfo(annotation=str, required=True),\n",
              " 'apellido1': FieldInfo(annotation=str, required=True),\n",
              " 'apellido2': FieldInfo(annotation=str, required=False, default=''),\n",
              " 'edad': FieldInfo(annotation=int, required=True)}"
            ]
          },
          "metadata": {},
          "execution_count": 46
        }
      ],
      "source": [
        "Persona.model_fields"
      ]
    },
    {
      "cell_type": "markdown",
      "source": [
        "\n",
        "\n",
        "## Campos Nullable\n",
        "\n",
        "En lugar de una cadena vacía, podríamos preferir guardar el valor `None` en apellido2 en caso de no haber segundo apellido. Pero hemos de tener cuidado de que el valor que asignamos por defecto (a la derecha del igual) sea del mismo tipo que el tipo que hemos asignado al campo. Y `None` no es de tipo `str` así que tengo que incluir el tipo `None` en la definición del campo:\n",
        "\n",
        "\n"
      ],
      "metadata": {
        "id": "Kep4LjleeUnN"
      }
    },
    {
      "cell_type": "code",
      "execution_count": 61,
      "metadata": {
        "id": "m4Q054bneUnN"
      },
      "outputs": [],
      "source": [
        "class Persona(BaseModel):\n",
        "    nombre: str\n",
        "    apellido1: str\n",
        "    apellido2: str | None = None\n",
        "    edad: int"
      ]
    },
    {
      "cell_type": "code",
      "execution_count": 62,
      "metadata": {
        "id": "_EzsSyPSeUnN",
        "colab": {
          "base_uri": "https://localhost:8080/"
        },
        "outputId": "ca1fe2ba-5b6b-4e23-b32e-87994473a59f"
      },
      "outputs": [
        {
          "output_type": "execute_result",
          "data": {
            "text/plain": [
              "{'nombre': FieldInfo(annotation=str, required=True),\n",
              " 'apellido1': FieldInfo(annotation=str, required=True),\n",
              " 'apellido2': FieldInfo(annotation=Union[str, NoneType], required=False, default=None),\n",
              " 'edad': FieldInfo(annotation=int, required=True)}"
            ]
          },
          "metadata": {},
          "execution_count": 62
        }
      ],
      "source": [
        "Persona.model_fields"
      ]
    },
    {
      "cell_type": "code",
      "execution_count": 63,
      "metadata": {
        "id": "WoJkBz_UeUnN",
        "colab": {
          "base_uri": "https://localhost:8080/"
        },
        "outputId": "431c90f2-bd90-44f4-c887-6822c7ab2e8b"
      },
      "outputs": [
        {
          "output_type": "stream",
          "name": "stdout",
          "text": [
            "nombre='John' apellido1='Smith' apellido2=None edad=30\n"
          ]
        }
      ],
      "source": [
        "datos_dict = {\"nombre\": \"John\", \"apellido1\": \"Smith\", \"edad\": 30}\n",
        "p2 = Persona.model_validate(datos_dict)\n",
        "print(p2)"
      ]
    },
    {
      "cell_type": "code",
      "source": [
        "datos_dict = {\"nombre\": \"John\", \"apellido1\": \"Smith\", \"apellido2\": None,  \"edad\": 30}\n",
        "p2 = Persona.model_validate(datos_dict)\n",
        "print(p2)"
      ],
      "metadata": {
        "colab": {
          "base_uri": "https://localhost:8080/"
        },
        "id": "Gg2IOLZ3OJ00",
        "outputId": "9aba323e-930d-4d1f-cfc5-e5cc4e639f6b"
      },
      "execution_count": 64,
      "outputs": [
        {
          "output_type": "stream",
          "name": "stdout",
          "text": [
            "nombre='John' apellido1='Smith' apellido2=None edad=30\n"
          ]
        }
      ]
    },
    {
      "cell_type": "markdown",
      "source": [
        "Con la clase `Optional` de la librería `typing` podemos obtener lo mismo:"
      ],
      "metadata": {
        "id": "a29av7lTeUnN"
      }
    },
    {
      "cell_type": "code",
      "execution_count": 74,
      "metadata": {
        "id": "LsGssggDeUnN",
        "colab": {
          "base_uri": "https://localhost:8080/",
          "height": 110
        },
        "outputId": "969d959e-d1fa-40bd-97df-d82d20b4b1bc"
      },
      "outputs": [
        {
          "output_type": "error",
          "ename": "SyntaxError",
          "evalue": "invalid syntax (<ipython-input-74-fc02f2ad2632>, line 4)",
          "traceback": [
            "\u001b[0;36m  File \u001b[0;32m\"<ipython-input-74-fc02f2ad2632>\"\u001b[0;36m, line \u001b[0;32m4\u001b[0m\n\u001b[0;31m    apellido materno: str\u001b[0m\n\u001b[0m             ^\u001b[0m\n\u001b[0;31mSyntaxError\u001b[0m\u001b[0;31m:\u001b[0m invalid syntax\n"
          ]
        }
      ],
      "source": [
        "from typing import Optional\n",
        "class Persona(BaseModel):\n",
        "    nombre: str\n",
        "    apellido1: str\n",
        "    apellido2: Optional[str] = None\n",
        "    edad: int\n",
        "Persona.model_fields"
      ]
    },
    {
      "cell_type": "markdown",
      "source": [
        "\n",
        "\n",
        "Pero, OJO, eso no quiere decir que la introducción de apellido2 sea opcional, sino que es opcional que tenga un string o un None, porque si quito el `= None` de después, cuando intente crear la instancia de John Smith tendre que decir explícitamente `apellido2 = None`.\n",
        "\n"
      ],
      "metadata": {
        "id": "UFgBczn7eUnN"
      }
    },
    {
      "cell_type": "code",
      "execution_count": 71,
      "metadata": {
        "colab": {
          "base_uri": "https://localhost:8080/",
          "height": 366
        },
        "outputId": "002e5dbe-b491-4cca-d356-35ae19d21963",
        "id": "OBWCC6OqOnRz"
      },
      "outputs": [
        {
          "output_type": "error",
          "ename": "ValidationError",
          "evalue": "1 validation error for Persona\napellido2\n  Field required [type=missing, input_value={'nombre': 'John', 'apell...1': 'Smith', 'edad': 30}, input_type=dict]\n    For further information visit https://errors.pydantic.dev/2.9/v/missing",
          "traceback": [
            "\u001b[0;31m---------------------------------------------------------------------------\u001b[0m",
            "\u001b[0;31mValidationError\u001b[0m                           Traceback (most recent call last)",
            "\u001b[0;32m<ipython-input-71-7c44d64ef0f8>\u001b[0m in \u001b[0;36m<cell line: 2>\u001b[0;34m()\u001b[0m\n\u001b[1;32m      1\u001b[0m \u001b[0mdatos_dict\u001b[0m \u001b[0;34m=\u001b[0m \u001b[0;34m{\u001b[0m\u001b[0;34m\"nombre\"\u001b[0m\u001b[0;34m:\u001b[0m \u001b[0;34m\"John\"\u001b[0m\u001b[0;34m,\u001b[0m \u001b[0;34m\"apellido1\"\u001b[0m\u001b[0;34m:\u001b[0m \u001b[0;34m\"Smith\"\u001b[0m\u001b[0;34m,\u001b[0m \u001b[0;34m\"edad\"\u001b[0m\u001b[0;34m:\u001b[0m \u001b[0;36m30\u001b[0m\u001b[0;34m}\u001b[0m\u001b[0;34m\u001b[0m\u001b[0;34m\u001b[0m\u001b[0m\n\u001b[0;32m----> 2\u001b[0;31m \u001b[0mp2\u001b[0m \u001b[0;34m=\u001b[0m \u001b[0mPersona\u001b[0m\u001b[0;34m.\u001b[0m\u001b[0mmodel_validate\u001b[0m\u001b[0;34m(\u001b[0m\u001b[0mdatos_dict\u001b[0m\u001b[0;34m)\u001b[0m\u001b[0;34m\u001b[0m\u001b[0;34m\u001b[0m\u001b[0m\n\u001b[0m\u001b[1;32m      3\u001b[0m \u001b[0mprint\u001b[0m\u001b[0;34m(\u001b[0m\u001b[0mp2\u001b[0m\u001b[0;34m)\u001b[0m\u001b[0;34m\u001b[0m\u001b[0;34m\u001b[0m\u001b[0m\n",
            "\u001b[0;32m/usr/local/lib/python3.10/dist-packages/pydantic/main.py\u001b[0m in \u001b[0;36mmodel_validate\u001b[0;34m(cls, obj, strict, from_attributes, context)\u001b[0m\n\u001b[1;32m    594\u001b[0m         \u001b[0;31m# `__tracebackhide__` tells pytest and some other tools to omit this function from tracebacks\u001b[0m\u001b[0;34m\u001b[0m\u001b[0;34m\u001b[0m\u001b[0m\n\u001b[1;32m    595\u001b[0m         \u001b[0m__tracebackhide__\u001b[0m \u001b[0;34m=\u001b[0m \u001b[0;32mTrue\u001b[0m\u001b[0;34m\u001b[0m\u001b[0;34m\u001b[0m\u001b[0m\n\u001b[0;32m--> 596\u001b[0;31m         return cls.__pydantic_validator__.validate_python(\n\u001b[0m\u001b[1;32m    597\u001b[0m             \u001b[0mobj\u001b[0m\u001b[0;34m,\u001b[0m \u001b[0mstrict\u001b[0m\u001b[0;34m=\u001b[0m\u001b[0mstrict\u001b[0m\u001b[0;34m,\u001b[0m \u001b[0mfrom_attributes\u001b[0m\u001b[0;34m=\u001b[0m\u001b[0mfrom_attributes\u001b[0m\u001b[0;34m,\u001b[0m \u001b[0mcontext\u001b[0m\u001b[0;34m=\u001b[0m\u001b[0mcontext\u001b[0m\u001b[0;34m\u001b[0m\u001b[0;34m\u001b[0m\u001b[0m\n\u001b[1;32m    598\u001b[0m         )\n",
            "\u001b[0;31mValidationError\u001b[0m: 1 validation error for Persona\napellido2\n  Field required [type=missing, input_value={'nombre': 'John', 'apell...1': 'Smith', 'edad': 30}, input_type=dict]\n    For further information visit https://errors.pydantic.dev/2.9/v/missing"
          ]
        }
      ],
      "source": [
        "datos_dict = {\"nombre\": \"John\", \"apellido1\": \"Smith\", \"edad\": 30}\n",
        "p2 = Persona.model_validate(datos_dict)\n",
        "print(p2)"
      ]
    },
    {
      "cell_type": "code",
      "source": [
        "datos_dict = {\"nombre\": \"John\", \"apellido1\": \"Smith\", \"apellido2\": None,  \"edad\": 30}\n",
        "p2 = Persona.model_validate(datos_dict)\n",
        "print(p2)"
      ],
      "metadata": {
        "colab": {
          "base_uri": "https://localhost:8080/"
        },
        "outputId": "bf37c267-3d73-4cc6-b29f-5a10ca7304e3",
        "id": "xCnTo8roOnR1"
      },
      "execution_count": 73,
      "outputs": [
        {
          "output_type": "stream",
          "name": "stdout",
          "text": [
            "nombre='John' apellido1='Smith' apellido2=None edad=30\n"
          ]
        }
      ]
    },
    {
      "cell_type": "markdown",
      "source": [
        "## Alias y la clase *Field*\n",
        "\n",
        "Podría ser que recibiéramos datos en formato json en los que las claves no tienen un formato correcto que sirva para una variable de Python. Por ejemplo, que contengan espacios.\n",
        "\n",
        "\n"
      ],
      "metadata": {
        "id": "n9yh9KWoOlwm"
      }
    },
    {
      "cell_type": "code",
      "execution_count": 76,
      "metadata": {
        "id": "hz4Juyr-eUnN",
        "colab": {
          "base_uri": "https://localhost:8080/",
          "height": 457
        },
        "outputId": "fa1a78bb-28bc-4bd2-99cd-38a2aea3682b"
      },
      "outputs": [
        {
          "output_type": "error",
          "ename": "ValidationError",
          "evalue": "2 validation errors for Persona\napellido1\n  Field required [type=missing, input_value={'nombre': 'Luis', 'apell...': 'López', 'edad': 30}, input_type=dict]\n    For further information visit https://errors.pydantic.dev/2.9/v/missing\napellido2\n  Field required [type=missing, input_value={'nombre': 'Luis', 'apell...': 'López', 'edad': 30}, input_type=dict]\n    For further information visit https://errors.pydantic.dev/2.9/v/missing",
          "traceback": [
            "\u001b[0;31m---------------------------------------------------------------------------\u001b[0m",
            "\u001b[0;31mValidationError\u001b[0m                           Traceback (most recent call last)",
            "\u001b[0;32m<ipython-input-76-78537292d6b7>\u001b[0m in \u001b[0;36m<cell line: 6>\u001b[0;34m()\u001b[0m\n\u001b[1;32m      4\u001b[0m     \"edad\": 30}\n\u001b[1;32m      5\u001b[0m     \"\"\"\n\u001b[0;32m----> 6\u001b[0;31m \u001b[0mp\u001b[0m \u001b[0;34m=\u001b[0m \u001b[0mPersona\u001b[0m\u001b[0;34m.\u001b[0m\u001b[0mmodel_validate_json\u001b[0m\u001b[0;34m(\u001b[0m\u001b[0mdatos_json\u001b[0m\u001b[0;34m)\u001b[0m\u001b[0;34m\u001b[0m\u001b[0;34m\u001b[0m\u001b[0m\n\u001b[0m\u001b[1;32m      7\u001b[0m \u001b[0mprint\u001b[0m\u001b[0;34m(\u001b[0m\u001b[0mp\u001b[0m\u001b[0;34m)\u001b[0m\u001b[0;34m\u001b[0m\u001b[0;34m\u001b[0m\u001b[0m\n\u001b[1;32m      8\u001b[0m \u001b[0;34m\u001b[0m\u001b[0m\n",
            "\u001b[0;32m/usr/local/lib/python3.10/dist-packages/pydantic/main.py\u001b[0m in \u001b[0;36mmodel_validate_json\u001b[0;34m(cls, json_data, strict, context)\u001b[0m\n\u001b[1;32m    623\u001b[0m         \u001b[0;31m# `__tracebackhide__` tells pytest and some other tools to omit this function from tracebacks\u001b[0m\u001b[0;34m\u001b[0m\u001b[0;34m\u001b[0m\u001b[0m\n\u001b[1;32m    624\u001b[0m         \u001b[0m__tracebackhide__\u001b[0m \u001b[0;34m=\u001b[0m \u001b[0;32mTrue\u001b[0m\u001b[0;34m\u001b[0m\u001b[0;34m\u001b[0m\u001b[0m\n\u001b[0;32m--> 625\u001b[0;31m         \u001b[0;32mreturn\u001b[0m \u001b[0mcls\u001b[0m\u001b[0;34m.\u001b[0m\u001b[0m__pydantic_validator__\u001b[0m\u001b[0;34m.\u001b[0m\u001b[0mvalidate_json\u001b[0m\u001b[0;34m(\u001b[0m\u001b[0mjson_data\u001b[0m\u001b[0;34m,\u001b[0m \u001b[0mstrict\u001b[0m\u001b[0;34m=\u001b[0m\u001b[0mstrict\u001b[0m\u001b[0;34m,\u001b[0m \u001b[0mcontext\u001b[0m\u001b[0;34m=\u001b[0m\u001b[0mcontext\u001b[0m\u001b[0;34m)\u001b[0m\u001b[0;34m\u001b[0m\u001b[0;34m\u001b[0m\u001b[0m\n\u001b[0m\u001b[1;32m    626\u001b[0m \u001b[0;34m\u001b[0m\u001b[0m\n\u001b[1;32m    627\u001b[0m     \u001b[0;34m@\u001b[0m\u001b[0mclassmethod\u001b[0m\u001b[0;34m\u001b[0m\u001b[0;34m\u001b[0m\u001b[0m\n",
            "\u001b[0;31mValidationError\u001b[0m: 2 validation errors for Persona\napellido1\n  Field required [type=missing, input_value={'nombre': 'Luis', 'apell...': 'López', 'edad': 30}, input_type=dict]\n    For further information visit https://errors.pydantic.dev/2.9/v/missing\napellido2\n  Field required [type=missing, input_value={'nombre': 'Luis', 'apell...': 'López', 'edad': 30}, input_type=dict]\n    For further information visit https://errors.pydantic.dev/2.9/v/missing"
          ]
        }
      ],
      "source": [
        "datos_json = \"\"\"{\n",
        "    \"nombre\": \"Luis\",\n",
        "    \"apellido paterno\": \"López\",\n",
        "    \"edad\": 30}\n",
        "    \"\"\"\n",
        "p = Persona.model_validate_json(datos_json)\n",
        "print(p)\n",
        "\n",
        "\"\"\"----------------------\n",
        "Devuelve un error de validación\"\"\""
      ]
    },
    {
      "cell_type": "markdown",
      "source": [
        "\n",
        "\n",
        "En este caso, yo no puedo crear el campo `apellido paterno`, y si creo el campo `apellido_paterno`, no me lo relacionará con la clave del json al deserializar con `model_validate_json`.\n",
        "\n",
        "La solución es que permita usar un alias para ese campo. La clase Field me permite crear campos más complejos.\n",
        "\n",
        "[Fields - Pydantic](https://docs.pydantic.dev/latest/concepts/fields/)\n",
        "\n",
        "\n"
      ],
      "metadata": {
        "id": "S7UykNS1eUnN"
      }
    },
    {
      "cell_type": "code",
      "execution_count": 77,
      "metadata": {
        "id": "QvbQGhp1eUnN",
        "colab": {
          "base_uri": "https://localhost:8080/"
        },
        "outputId": "17f82abd-f414-4cb5-a0f1-d6dfc50194cb"
      },
      "outputs": [
        {
          "output_type": "execute_result",
          "data": {
            "text/plain": [
              "{'nombre': FieldInfo(annotation=str, required=True),\n",
              " 'apellido1': FieldInfo(annotation=str, required=True, alias='apellido paterno', alias_priority=2),\n",
              " 'apellido2': FieldInfo(annotation=Union[str, NoneType], required=False, default=None, alias='apellido materno', alias_priority=2),\n",
              " 'edad': FieldInfo(annotation=int, required=True)}"
            ]
          },
          "metadata": {},
          "execution_count": 77
        }
      ],
      "source": [
        "from typing import Optional\n",
        "from pydantic import Field\n",
        "\n",
        "class Persona(BaseModel):\n",
        "    nombre: str\n",
        "    apellido1: str = Field(alias=\"apellido paterno\")\n",
        "    apellido2: str | None = Field(alias=\"apellido materno\", default = None)\n",
        "    edad: int\n",
        "\n",
        "Persona.model_fields"
      ]
    },
    {
      "cell_type": "markdown",
      "source": [
        "Ahora sí puedo crear el dato\n",
        "\n",
        "\n"
      ],
      "metadata": {
        "id": "TMaJsR3GeUnN"
      }
    },
    {
      "cell_type": "code",
      "execution_count": 78,
      "metadata": {
        "id": "cv9Oy3MyeUnN",
        "colab": {
          "base_uri": "https://localhost:8080/"
        },
        "outputId": "9c8bffe1-4771-4359-8ca3-13176365d4c1"
      },
      "outputs": [
        {
          "output_type": "stream",
          "name": "stdout",
          "text": [
            "nombre='Luis' apellido1='López' apellido2=None edad=30\n"
          ]
        }
      ],
      "source": [
        "datos_json = \"\"\"{\n",
        "    \"nombre\": \"Luis\",\n",
        "    \"apellido paterno\": \"López\",\n",
        "    \"edad\": 30}\n",
        "    \"\"\"\n",
        "p = Persona.model_validate_json(datos_json)\n",
        "print(p)"
      ]
    },
    {
      "cell_type": "markdown",
      "source": [
        "\n",
        "\n",
        "Al serializar a un diccionario nos devolverá los nombres de los campos en las claves.\n",
        "\n",
        "\n"
      ],
      "metadata": {
        "id": "yT3HK_OweUnN"
      }
    },
    {
      "cell_type": "code",
      "execution_count": 81,
      "metadata": {
        "id": "LuzTJRQIeUnN",
        "colab": {
          "base_uri": "https://localhost:8080/"
        },
        "outputId": "3d2ffbb0-e698-4eac-db81-34dbac44642a"
      },
      "outputs": [
        {
          "output_type": "execute_result",
          "data": {
            "text/plain": [
              "{'nombre': 'Luis', 'apellido1': 'López', 'apellido2': None, 'edad': 30}"
            ]
          },
          "metadata": {},
          "execution_count": 81
        }
      ],
      "source": [
        "p.model_dump()"
      ]
    },
    {
      "cell_type": "markdown",
      "source": [
        "\n",
        "\n",
        "Si queremos que serialice con los aliases:\n",
        "\n",
        "\n"
      ],
      "metadata": {
        "id": "vctbMvf6eUnN"
      }
    },
    {
      "cell_type": "code",
      "execution_count": 84,
      "metadata": {
        "id": "r8EDA9paeUnN",
        "colab": {
          "base_uri": "https://localhost:8080/"
        },
        "outputId": "e5028550-147e-45ca-851f-fc4b23716f37"
      },
      "outputs": [
        {
          "output_type": "execute_result",
          "data": {
            "text/plain": [
              "{'nombre': 'Luis',\n",
              " 'apellido paterno': 'López',\n",
              " 'apellido materno': None,\n",
              " 'edad': 30}"
            ]
          },
          "metadata": {},
          "execution_count": 84
        }
      ],
      "source": [
        "p.model_dump(by_alias=True)"
      ]
    },
    {
      "cell_type": "markdown",
      "source": [
        "\n",
        "\n",
        "Lo mismo ocurrirá con `model_dump_json`\n",
        "\n",
        "Pero no tenemos opción de deserializar con los nombres de los campos, sólo con los aliases.\n",
        "\n",
        "\n"
      ],
      "metadata": {
        "id": "f8OowpUOeUnO"
      }
    },
    {
      "cell_type": "code",
      "execution_count": 85,
      "metadata": {
        "id": "u9h1WERleUnO",
        "colab": {
          "base_uri": "https://localhost:8080/",
          "height": 402
        },
        "outputId": "5c4bb0c3-b239-4bbb-e4df-b8ffcc50647f"
      },
      "outputs": [
        {
          "output_type": "error",
          "ename": "ValidationError",
          "evalue": "1 validation error for Persona\napellido paterno\n  Field required [type=missing, input_value={'nombre': 'Luis', 'apell...': 'López', 'edad': 30}, input_type=dict]\n    For further information visit https://errors.pydantic.dev/2.9/v/missing",
          "traceback": [
            "\u001b[0;31m---------------------------------------------------------------------------\u001b[0m",
            "\u001b[0;31mValidationError\u001b[0m                           Traceback (most recent call last)",
            "\u001b[0;32m<ipython-input-85-fc2c9256d420>\u001b[0m in \u001b[0;36m<cell line: 6>\u001b[0;34m()\u001b[0m\n\u001b[1;32m      4\u001b[0m \"edad\": 30}\n\u001b[1;32m      5\u001b[0m \"\"\"\n\u001b[0;32m----> 6\u001b[0;31m \u001b[0mp\u001b[0m \u001b[0;34m=\u001b[0m \u001b[0mPersona\u001b[0m\u001b[0;34m.\u001b[0m\u001b[0mmodel_validate_json\u001b[0m\u001b[0;34m(\u001b[0m\u001b[0mdatos_json\u001b[0m\u001b[0;34m)\u001b[0m\u001b[0;34m\u001b[0m\u001b[0;34m\u001b[0m\u001b[0m\n\u001b[0m\u001b[1;32m      7\u001b[0m \u001b[0mprint\u001b[0m\u001b[0;34m(\u001b[0m\u001b[0mp\u001b[0m\u001b[0;34m)\u001b[0m\u001b[0;34m\u001b[0m\u001b[0;34m\u001b[0m\u001b[0m\n\u001b[1;32m      8\u001b[0m \u001b[0;34m\u001b[0m\u001b[0m\n",
            "\u001b[0;32m/usr/local/lib/python3.10/dist-packages/pydantic/main.py\u001b[0m in \u001b[0;36mmodel_validate_json\u001b[0;34m(cls, json_data, strict, context)\u001b[0m\n\u001b[1;32m    623\u001b[0m         \u001b[0;31m# `__tracebackhide__` tells pytest and some other tools to omit this function from tracebacks\u001b[0m\u001b[0;34m\u001b[0m\u001b[0;34m\u001b[0m\u001b[0m\n\u001b[1;32m    624\u001b[0m         \u001b[0m__tracebackhide__\u001b[0m \u001b[0;34m=\u001b[0m \u001b[0;32mTrue\u001b[0m\u001b[0;34m\u001b[0m\u001b[0;34m\u001b[0m\u001b[0m\n\u001b[0;32m--> 625\u001b[0;31m         \u001b[0;32mreturn\u001b[0m \u001b[0mcls\u001b[0m\u001b[0;34m.\u001b[0m\u001b[0m__pydantic_validator__\u001b[0m\u001b[0;34m.\u001b[0m\u001b[0mvalidate_json\u001b[0m\u001b[0;34m(\u001b[0m\u001b[0mjson_data\u001b[0m\u001b[0;34m,\u001b[0m \u001b[0mstrict\u001b[0m\u001b[0;34m=\u001b[0m\u001b[0mstrict\u001b[0m\u001b[0;34m,\u001b[0m \u001b[0mcontext\u001b[0m\u001b[0;34m=\u001b[0m\u001b[0mcontext\u001b[0m\u001b[0;34m)\u001b[0m\u001b[0;34m\u001b[0m\u001b[0;34m\u001b[0m\u001b[0m\n\u001b[0m\u001b[1;32m    626\u001b[0m \u001b[0;34m\u001b[0m\u001b[0m\n\u001b[1;32m    627\u001b[0m     \u001b[0;34m@\u001b[0m\u001b[0mclassmethod\u001b[0m\u001b[0;34m\u001b[0m\u001b[0;34m\u001b[0m\u001b[0m\n",
            "\u001b[0;31mValidationError\u001b[0m: 1 validation error for Persona\napellido paterno\n  Field required [type=missing, input_value={'nombre': 'Luis', 'apell...': 'López', 'edad': 30}, input_type=dict]\n    For further information visit https://errors.pydantic.dev/2.9/v/missing"
          ]
        }
      ],
      "source": [
        "datos_json = \"\"\"{\n",
        "\"nombre\": \"Luis\",\n",
        "\"apellido1\": \"López\",\n",
        "\"edad\": 30}\n",
        "\"\"\"\n",
        "p = Persona.model_validate_json(datos_json)\n",
        "print(p)\n",
        "\n",
        "\"\"\"------------------\n",
        "ValidationError: 1 validation error for Persona\n",
        "apellido paterno\n",
        "  Field required [type=missing, input_value={'nombre': 'Luis', 'apell...': 'López', 'edad': 30}, input_type=dict]\n",
        "    For further information visit https://errors.pydantic.dev/2.9/v/missing\n",
        "\"\"\""
      ]
    },
    {
      "cell_type": "markdown",
      "source": [
        "\n",
        "\n",
        "para poderlo hacer necesitamos manipular la configuración del modelo.\n",
        "\n",
        "## Configuración del modelo\n",
        "\n",
        "La configuración del modelo se importa de pydantic y podemos sobreescribir el comportamiento por defecto `populate_by_name = False` que impide usar el nombre del campo para cargar los datos en la instancia.\n",
        "\n",
        "[Configuration - Pydantic](https://docs.pydantic.dev/latest/concepts/config/)\n",
        "\n",
        "\n"
      ],
      "metadata": {
        "id": "cA5N5k2ieUnO"
      }
    },
    {
      "cell_type": "code",
      "execution_count": 86,
      "metadata": {
        "id": "zLFueQM8eUnO",
        "colab": {
          "base_uri": "https://localhost:8080/"
        },
        "outputId": "5aabce75-f7af-439f-874a-0338bcf2c746"
      },
      "outputs": [
        {
          "output_type": "execute_result",
          "data": {
            "text/plain": [
              "{'nombre': FieldInfo(annotation=str, required=True),\n",
              " 'apellido1': FieldInfo(annotation=str, required=True, alias='apellido paterno', alias_priority=2),\n",
              " 'apellido2': FieldInfo(annotation=Union[str, NoneType], required=False, default=None, alias='apellido materno', alias_priority=2),\n",
              " 'edad': FieldInfo(annotation=int, required=True)}"
            ]
          },
          "metadata": {},
          "execution_count": 86
        }
      ],
      "source": [
        "from pydantic import BaseModel, Field, ConfigDict\n",
        "from typing import Optional\n",
        "class Persona(BaseModel):\n",
        "    model_config = ConfigDict(populate_by_name=True)\n",
        "    nombre: str\n",
        "    apellido1: str = Field(alias=\"apellido paterno\")\n",
        "    apellido2: str | None = Field(alias=\"apellido materno\", default = None)\n",
        "    edad: int\n",
        "Persona.model_fields"
      ]
    },
    {
      "cell_type": "code",
      "execution_count": 100,
      "metadata": {
        "id": "3OM2BpPSeUnO",
        "colab": {
          "base_uri": "https://localhost:8080/"
        },
        "outputId": "f3fd6eed-1fef-4c99-b800-f7e4f87b4a58"
      },
      "outputs": [
        {
          "output_type": "stream",
          "name": "stdout",
          "text": [
            "nombre='Luis' apellido1='López' apellido2=None edad=30\n",
            "nombre='Luis' apellido1='López' apellido2=None edad=30\n",
            "nombre='Luis' apellido1='López' apellido2=None edad=30\n"
          ]
        }
      ],
      "source": [
        "datos_json = \"\"\"{\n",
        "    \"nombre\": \"Luis\",\n",
        "    \"apellido1\": \"López\",\n",
        "    \"edad\": 30}\n",
        "    \"\"\"\n",
        "p = Persona.model_validate_json(datos_json)\n",
        "print(p)\n",
        "\n",
        "datos_dict = {\"nombre\": \"Luis\", \"apellido paterno\" : \"López\", \"edad\" : 30}\n",
        "datos_dict = dict(\n",
        "    nombre=\"Luis\",\n",
        "    apellido1=\"López\",\n",
        "    edad=30\n",
        ")\n",
        "p2 = Persona.model_validate(datos_dict)\n",
        "print(p2)\n",
        "\n",
        "datos_json = \"\"\"{\n",
        "    \"nombre\": \"Luis\",\n",
        "    \"apellido paterno\": \"López\",\n",
        "    \"edad\": 30}\n",
        "    \"\"\"\n",
        "p2 = Persona.model_validate_json(datos_json)\n",
        "print(p2)"
      ]
    },
    {
      "cell_type": "code",
      "source": [
        "un_libro = \"\"\"{\n",
        "    \"Título\": \"El Quijote\",\n",
        "    \"Autor\": \"Cervantes\",\n",
        "    \"año\": null,\n",
        "    \"prestable\": true,\n",
        "    \"ISBN\": \"slithgeriy85895487643\",\n",
        "    \"número páginas\": 1000\n",
        "}\"\"\"\n",
        "\n",
        "otro_libro = \"\"\"{\n",
        "    \"titulo\": \"El Quijote\",\n",
        "    \"autor\": \"Cervantes\",\n",
        "    \"anio\": 1608,\n",
        "    \"prestable\": true,\n",
        "    \"isbn\": \"slithgeriy85895487643\",\n",
        "    \"número páginas\": 1000\n",
        "}\"\"\""
      ],
      "metadata": {
        "id": "0KiMYksNRnIP"
      },
      "execution_count": 208,
      "outputs": []
    },
    {
      "cell_type": "code",
      "source": [
        "from pydantic import BaseModel, Field, ConfigDict\n",
        "from typing import Optional\n",
        "\n",
        "class Libro(BaseModel):\n",
        "    model_config = ConfigDict(populate_by_name=True, validate_assignment=True)\n",
        "    titulo: str = Field(alias=\"Título\")\n",
        "    autor: str = Field(alias=\"Autor\")\n",
        "    anio: Optional[int] = Field(alias=\"año\", default=None)\n",
        "    prestable: bool = Field(default=False)\n",
        "    isbn: str = Field(alias=\"ISBN\", min_length = 21)\n",
        "    num_paginas: int = Field(alias=\"número páginas\")\n",
        "\n",
        "Libro.model_fields"
      ],
      "metadata": {
        "colab": {
          "base_uri": "https://localhost:8080/"
        },
        "id": "Mau57ltNYZmU",
        "outputId": "7d0b9fea-807e-4d5a-e678-0ce5f454d6d4"
      },
      "execution_count": 209,
      "outputs": [
        {
          "output_type": "execute_result",
          "data": {
            "text/plain": [
              "{'titulo': FieldInfo(annotation=str, required=True, alias='Título', alias_priority=2),\n",
              " 'autor': FieldInfo(annotation=str, required=True, alias='Autor', alias_priority=2),\n",
              " 'anio': FieldInfo(annotation=Union[int, NoneType], required=False, default=None, alias='año', alias_priority=2),\n",
              " 'prestable': FieldInfo(annotation=bool, required=False, default=False),\n",
              " 'isbn': FieldInfo(annotation=str, required=True, alias='ISBN', alias_priority=2, metadata=[MinLen(min_length=21)]),\n",
              " 'num_paginas': FieldInfo(annotation=int, required=True, alias='número páginas', alias_priority=2)}"
            ]
          },
          "metadata": {},
          "execution_count": 209
        }
      ]
    },
    {
      "cell_type": "code",
      "source": [
        "libro_validado = Libro.model_validate_json(un_libro)\n",
        "print(libro_validado)\n",
        "\n",
        "libro_validado2 = Libro.model_validate_json(otro_libro)\n",
        "print(libro_validado2)"
      ],
      "metadata": {
        "colab": {
          "base_uri": "https://localhost:8080/"
        },
        "id": "R4gRTmK7Yk3O",
        "outputId": "f3472c09-cbc1-40b1-9418-6d6dce00f5ae"
      },
      "execution_count": 210,
      "outputs": [
        {
          "output_type": "stream",
          "name": "stdout",
          "text": [
            "titulo='El Quijote' autor='Cervantes' anio=None prestable=True isbn='slithgeriy85895487643' num_paginas=1000\n",
            "titulo='El Quijote' autor='Cervantes' anio=1608 prestable=True isbn='slithgeriy85895487643' num_paginas=1000\n"
          ]
        }
      ]
    },
    {
      "cell_type": "code",
      "source": [
        "libro_validado.anio = \"No sé qué poner\"\n",
        "print(libro_validado)"
      ],
      "metadata": {
        "colab": {
          "base_uri": "https://localhost:8080/",
          "height": 348
        },
        "id": "CgE0K0qweruN",
        "outputId": "86612baa-046c-4520-e7de-2510347e1da5"
      },
      "execution_count": 164,
      "outputs": [
        {
          "output_type": "error",
          "ename": "ValidationError",
          "evalue": "1 validation error for Libro\nanio\n  Input should be a valid integer, unable to parse string as an integer [type=int_parsing, input_value='No sé qué poner', input_type=str]\n    For further information visit https://errors.pydantic.dev/2.9/v/int_parsing",
          "traceback": [
            "\u001b[0;31m---------------------------------------------------------------------------\u001b[0m",
            "\u001b[0;31mValidationError\u001b[0m                           Traceback (most recent call last)",
            "\u001b[0;32m<ipython-input-164-7f54189532ac>\u001b[0m in \u001b[0;36m<cell line: 1>\u001b[0;34m()\u001b[0m\n\u001b[0;32m----> 1\u001b[0;31m \u001b[0mlibro_validado\u001b[0m\u001b[0;34m.\u001b[0m\u001b[0manio\u001b[0m \u001b[0;34m=\u001b[0m \u001b[0;34m\"No sé qué poner\"\u001b[0m\u001b[0;34m\u001b[0m\u001b[0;34m\u001b[0m\u001b[0m\n\u001b[0m\u001b[1;32m      2\u001b[0m \u001b[0mprint\u001b[0m\u001b[0;34m(\u001b[0m\u001b[0mlibro_validado\u001b[0m\u001b[0;34m)\u001b[0m\u001b[0;34m\u001b[0m\u001b[0;34m\u001b[0m\u001b[0m\n",
            "\u001b[0;32m/usr/local/lib/python3.10/dist-packages/pydantic/main.py\u001b[0m in \u001b[0;36m__setattr__\u001b[0;34m(self, name, value)\u001b[0m\n\u001b[1;32m    879\u001b[0m                 \u001b[0mattr\u001b[0m\u001b[0;34m.\u001b[0m\u001b[0m__set__\u001b[0m\u001b[0;34m(\u001b[0m\u001b[0mself\u001b[0m\u001b[0;34m,\u001b[0m \u001b[0mvalue\u001b[0m\u001b[0;34m)\u001b[0m\u001b[0;34m\u001b[0m\u001b[0;34m\u001b[0m\u001b[0m\n\u001b[1;32m    880\u001b[0m             \u001b[0;32melif\u001b[0m \u001b[0mself\u001b[0m\u001b[0;34m.\u001b[0m\u001b[0mmodel_config\u001b[0m\u001b[0;34m.\u001b[0m\u001b[0mget\u001b[0m\u001b[0;34m(\u001b[0m\u001b[0;34m'validate_assignment'\u001b[0m\u001b[0;34m,\u001b[0m \u001b[0;32mNone\u001b[0m\u001b[0;34m)\u001b[0m\u001b[0;34m:\u001b[0m\u001b[0;34m\u001b[0m\u001b[0;34m\u001b[0m\u001b[0m\n\u001b[0;32m--> 881\u001b[0;31m                 \u001b[0mself\u001b[0m\u001b[0;34m.\u001b[0m\u001b[0m__pydantic_validator__\u001b[0m\u001b[0;34m.\u001b[0m\u001b[0mvalidate_assignment\u001b[0m\u001b[0;34m(\u001b[0m\u001b[0mself\u001b[0m\u001b[0;34m,\u001b[0m \u001b[0mname\u001b[0m\u001b[0;34m,\u001b[0m \u001b[0mvalue\u001b[0m\u001b[0;34m)\u001b[0m\u001b[0;34m\u001b[0m\u001b[0;34m\u001b[0m\u001b[0m\n\u001b[0m\u001b[1;32m    882\u001b[0m             \u001b[0;32melif\u001b[0m \u001b[0mself\u001b[0m\u001b[0;34m.\u001b[0m\u001b[0mmodel_config\u001b[0m\u001b[0;34m.\u001b[0m\u001b[0mget\u001b[0m\u001b[0;34m(\u001b[0m\u001b[0;34m'extra'\u001b[0m\u001b[0;34m)\u001b[0m \u001b[0;34m!=\u001b[0m \u001b[0;34m'allow'\u001b[0m \u001b[0;32mand\u001b[0m \u001b[0mname\u001b[0m \u001b[0;32mnot\u001b[0m \u001b[0;32min\u001b[0m \u001b[0mself\u001b[0m\u001b[0;34m.\u001b[0m\u001b[0mmodel_fields\u001b[0m\u001b[0;34m:\u001b[0m\u001b[0;34m\u001b[0m\u001b[0;34m\u001b[0m\u001b[0m\n\u001b[1;32m    883\u001b[0m                 \u001b[0;31m# TODO - matching error\u001b[0m\u001b[0;34m\u001b[0m\u001b[0;34m\u001b[0m\u001b[0m\n",
            "\u001b[0;31mValidationError\u001b[0m: 1 validation error for Libro\nanio\n  Input should be a valid integer, unable to parse string as an integer [type=int_parsing, input_value='No sé qué poner', input_type=str]\n    For further information visit https://errors.pydantic.dev/2.9/v/int_parsing"
          ]
        }
      ]
    },
    {
      "cell_type": "markdown",
      "source": [
        "\n",
        "\n",
        "## Valores por defecto dinámicos (Default Factories)\n",
        "\n",
        "Los \"Default Factories\" (fábricas por defecto) son funciones que se utilizan para generar valores por defecto dinámicamente cuando se inicializa un modelo de datos. Estas funciones se definen en el cuerpo de una clase modelo de Pydantic y se asocian con un campo específico mediante el uso de `Field`.\n",
        "\n",
        "La idea principal detrás de las \"Default Factories\" es proporcionar una manera flexible y dinámica de establecer valores predeterminados para los campos de un modelo Pydantic. Esto es útil cuando se desea calcular un valor por defecto en tiempo de ejecución en lugar de simplemente asignar un valor estático.\n",
        "\n",
        "Para ello hay que especificar funciones que serán invocadas automáticamente para generar un valor por defecto para un campo específico. Estas fábricas se definen como métodos dentro de la clase del modelo y se decoran con `@Field(default_factory=...)`. Cuando se crea una instancia del modelo y no se proporciona un valor para ese campo en particular, la fábrica por defecto se ejecuta para calcular el valor.\n",
        "\n",
        "\n"
      ],
      "metadata": {
        "id": "XzLYOP2feUnO"
      }
    },
    {
      "cell_type": "code",
      "execution_count": 169,
      "metadata": {
        "id": "Sif4-FzCeUnO",
        "colab": {
          "base_uri": "https://localhost:8080/"
        },
        "outputId": "54e685fe-e5cb-44ec-a8ea-7866a54179e6"
      },
      "outputs": [
        {
          "output_type": "stream",
          "name": "stdout",
          "text": [
            "Campos del modelo: Persona.model_fields\n",
            "{'nombre': 'Juan', 'apellido1': 'Pérez', 'apellido2': 'García', 'campo_con_default_factory': '¡Valor Dinámico!', 'lista_con_default_factory': [], 'edad': 50}\n",
            "{\"nombre\":\"Juan\",\"apellido1\":\"Pérez\",\"apellido2\":\"García\",\"campo_con_default_factory\":\"¡Valor Dinámico!\",\"lista_con_default_factory\":[],\"edad\":50}\n"
          ]
        }
      ],
      "source": [
        "from pydantic import BaseModel, Field, ConfigDict\n",
        "from typing import Optional, List\n",
        "\n",
        "def calcular_valor_predeterminado():\n",
        "    # Esta función puede realizar cálculos u obtener valores dinámicamente.\n",
        "    return \"¡Valor Dinámico!\"\n",
        "\n",
        "class Persona(BaseModel):\n",
        "    model_config = ConfigDict(populate_by_name=True)\n",
        "    nombre: str\n",
        "    apellido1: str = Field(alias=\"apellido paterno\")\n",
        "    apellido2: str | None = Field(alias=\"apellido materno\", default = None)\n",
        "    campo_con_default_factory: str = Field(default_factory=calcular_valor_predeterminado)\n",
        "    lista_con_default_factory: List[int] = Field(default_factory=list)\n",
        "    edad: int\n",
        "\n",
        "\n",
        "print(f\"Campos del modelo: Persona.model_fields\")\n",
        "\n",
        "# Crear una instancia del modelo sin proporcionar valores específicos para los campos con default factory\n",
        "p = Persona(nombre=\"Juan\", apellido1=\"Pérez\", apellido2=\"García\", edad=50)\n",
        "\n",
        "# Acceder a los valores, incluyendo los generados por las fábricas por defecto\n",
        "print(p.model_dump())\n",
        "print(p.model_dump_json())"
      ]
    },
    {
      "cell_type": "markdown",
      "source": [
        "\n",
        "\n",
        "En este ejemplo, `campo_con_default_factory` utilizará la función `calcular_valor_predeterminado` como su fábrica por defecto. Cuando se crea una instancia de `MiModelo` y no se proporciona un valor para `campo_con_default_factory`, la función se ejecutará automáticamente para obtener el valor predeterminado.\n",
        "\n",
        "La fábrica por defecto también se puede utilizar para campos de tipo lista (`lista_con_default_factory` en este caso), donde proporcionará una lista vacía como valor predeterminado.\n",
        "\n",
        "Vamos a crear un caso práctico de uso de `default_factory`. Podemos hacer que ese campo generado guarde el momento en el que se ha creado la instancia:\n",
        "\n",
        "\n"
      ],
      "metadata": {
        "id": "gB3xCqyUeUnO"
      }
    },
    {
      "cell_type": "code",
      "execution_count": 184,
      "metadata": {
        "id": "pD0HxsdueUnO",
        "colab": {
          "base_uri": "https://localhost:8080/"
        },
        "outputId": "fe606711-faa8-4804-9855-1aaba8dc0e18"
      },
      "outputs": [
        {
          "output_type": "stream",
          "name": "stdout",
          "text": [
            "{'nombre': 'Juan', 'apellido1': 'Pérez', 'apellido2': 'García', 'dt': datetime.datetime(2024, 10, 9, 9, 29, 28, 154680, tzinfo=datetime.timezone.utc), 'lista_con_default_factory': [], 'edad': 50}\n",
            "{\"nombre\":\"Juan\",\"apellido1\":\"Pérez\",\"apellido2\":\"García\",\"dt\":\"2024-10-09T09:29:28.154680Z\",\"lista_con_default_factory\":[],\"edad\":50}\n"
          ]
        }
      ],
      "source": [
        "from pydantic import BaseModel, Field, ConfigDict\n",
        "from typing import Optional, List\n",
        "from datetime import datetime, timezone\n",
        "\n",
        "def obtener_fecha_hora():\n",
        "    # Esta función puede realizar cálculos u obtener valores dinámicamente.\n",
        "    return datetime.now(timezone.utc)\n",
        "\n",
        "class Persona(BaseModel):\n",
        "    model_config = ConfigDict(populate_by_name=True)\n",
        "    nombre: str\n",
        "    apellido1: str = Field(alias=\"apellido paterno\")\n",
        "    apellido2: str | None = Field(alias=\"apellido materno\", default = None)\n",
        "    dt: datetime = Field(default_factory=obtener_fecha_hora)\n",
        "    # Default factory para crear una lista vacía si no se aporta el campo\n",
        "    lista_con_default_factory: List[int] = Field(default_factory=list)\n",
        "    edad: int\n",
        "\n",
        "Persona.model_fields\n",
        "# Crear una instancia del modelo sin proporcionar valores específicos para los campos con default factory\n",
        "p = Persona(nombre=\"Juan\", apellido1=\"Pérez\", apellido2=\"García\", edad=50)\n",
        "# Acceder a los valores, incluyendo los generados por las fábricas por defecto\n",
        "print(p.model_dump())\n",
        "print(p.model_dump_json())\n"
      ]
    },
    {
      "cell_type": "markdown",
      "source": [
        "\n",
        "\n",
        "Podemos ver que la serialización del dato es distinta si lo hacemos a un diccionario de Python o a un string json. En el primer caso, dt almacena un objeto de tipo datetime, con todos sus atributos que serían accesibles usando Python. En el segundo, convierte la información a un string.\n",
        "\n",
        "Si queremos un comportamiento distinto del comportamiento por defecto debemos sobreescribir los métodos de serialización mediante serializadores customizados.\n",
        "\n"
      ],
      "metadata": {
        "id": "N4OaqoNReUnO"
      }
    },
    {
      "cell_type": "code",
      "source": [
        "from pydantic import BaseModel, Field, ConfigDict\n",
        "from typing import List\n",
        "from datetime import datetime, timezone\n",
        "\n",
        "class Persona(BaseModel):\n",
        "    model_config = ConfigDict(populate_by_name=True)\n",
        "    nombre: str\n",
        "    apellido1: str = Field(alias=\"apellido paterno\")\n",
        "    apellido2: str | None = Field(alias=\"apellido materno\", default=None)\n",
        "\n",
        "    # Usar el método estático como default_factory\n",
        "    dt: datetime = Field(default_factory=lambda: Persona.calcular_fecha_hora())\n",
        "    # Default factory para crear una lista vacía si no se aporta el campo\n",
        "    lista_con_default_factory: List[int] = Field(default_factory=list)\n",
        "    edad: int\n",
        "\n",
        "    # Método estático para calcular el valor predeterminado\n",
        "    @staticmethod\n",
        "    def calcular_fecha_hora():\n",
        "        return datetime.now(timezone.utc)\n",
        "\n",
        "\n",
        "# Crear una instancia del modelo sin proporcionar valores específicos para los campos con default factory\n",
        "p = Persona(nombre=\"Juan\", apellido1=\"Pérez\", apellido2=\"García\", edad=50)\n",
        "\n",
        "# Acceder a los valores, incluyendo los generados por las fábricas por defecto\n",
        "print(p.model_dump())\n",
        "print(p.model_dump_json())"
      ],
      "metadata": {
        "colab": {
          "base_uri": "https://localhost:8080/"
        },
        "id": "SqLKKfIKkrT1",
        "outputId": "c4332595-ac56-4ca8-9e52-5fd8e3c90844"
      },
      "execution_count": 194,
      "outputs": [
        {
          "output_type": "stream",
          "name": "stdout",
          "text": [
            "{'nombre': 'Juan', 'apellido1': 'Pérez', 'apellido2': 'García', 'dt': datetime.datetime(2024, 10, 9, 9, 42, 40, 557952, tzinfo=datetime.timezone.utc), 'lista_con_default_factory': [], 'edad': 50}\n",
            "{\"nombre\":\"Juan\",\"apellido1\":\"Pérez\",\"apellido2\":\"García\",\"dt\":\"2024-10-09T09:42:40.557952Z\",\"lista_con_default_factory\":[],\"edad\":50}\n"
          ]
        }
      ]
    },
    {
      "cell_type": "code",
      "source": [
        "datetime.now(timezone.utc) - p.model_dump()[\"dt\"]"
      ],
      "metadata": {
        "colab": {
          "base_uri": "https://localhost:8080/"
        },
        "id": "fKTRwsysjR4P",
        "outputId": "a635a815-85c6-4537-b000-1ff72b11eafc"
      },
      "execution_count": 191,
      "outputs": [
        {
          "output_type": "execute_result",
          "data": {
            "text/plain": [
              "datetime.timedelta(seconds=4, microseconds=433795)"
            ]
          },
          "metadata": {},
          "execution_count": 191
        }
      ]
    },
    {
      "cell_type": "code",
      "source": [
        "from pydantic import BaseModel, Field, ConfigDict\n",
        "from typing import List\n",
        "from datetime import datetime, timezone\n",
        "\n",
        "class Persona(BaseModel):\n",
        "    model_config = ConfigDict(populate_by_name=True)\n",
        "    nombre: str\n",
        "    apellido1: str = Field(alias=\"apellido paterno\")\n",
        "    apellido2: str | None = Field(alias=\"apellido materno\", default=None)\n",
        "\n",
        "    # Usar el método estático como default_factory\n",
        "    dt: datetime = Field(default_factory=lambda: Persona.calcular_fecha_hora(), validate_default=True)\n",
        "    # Default factory para crear una lista vacía si no se aporta el campo\n",
        "    lista_con_default_factory: List[int] = Field(default_factory=list)\n",
        "    edad: int\n",
        "\n",
        "    # Método estático para calcular el valor predeterminado\n",
        "    @staticmethod\n",
        "    def calcular_fecha_hora():\n",
        "        return datetime.now(timezone.utc)\n",
        "        #return \"No tengo reloj\"\n",
        "\n",
        "\n",
        "# Crear una instancia del modelo sin proporcionar valores específicos para los campos con default factory\n",
        "p = Persona(nombre=\"Juan\", apellido1=\"Pérez\", apellido2=\"García\", edad=50)\n",
        "\n",
        "# Acceder a los valores, incluyendo los generados por las fábricas por defecto\n",
        "print(p.model_dump())\n",
        "print(p.model_dump_json())"
      ],
      "metadata": {
        "colab": {
          "base_uri": "https://localhost:8080/"
        },
        "id": "cyguYMS2oo73",
        "outputId": "826315b1-bd08-4231-c7ef-ce601120758b"
      },
      "execution_count": 199,
      "outputs": [
        {
          "output_type": "stream",
          "name": "stdout",
          "text": [
            "{'nombre': 'Juan', 'apellido1': 'Pérez', 'apellido2': 'García', 'dt': datetime.datetime(2024, 10, 9, 9, 45, 7, 82693, tzinfo=datetime.timezone.utc), 'lista_con_default_factory': [], 'edad': 50}\n",
            "{\"nombre\":\"Juan\",\"apellido1\":\"Pérez\",\"apellido2\":\"García\",\"dt\":\"2024-10-09T09:45:07.082693Z\",\"lista_con_default_factory\":[],\"edad\":50}\n"
          ]
        }
      ]
    },
    {
      "cell_type": "markdown",
      "source": [
        "## Serializadores customizados - Custom Serializers\n",
        "\n",
        "Imaginemos que queremos guardar la altura de una persona en metros y al serializar queremos que nos devuelva el número con dos decimales.\n",
        "\n",
        "Los serializadores son decoradores que se importan de pydantic y a los cuales hay que especificarles el campo que van a modificar en el proceso de serializado.\n",
        "\n",
        "Como son métodos de la clase, recibirán el objeto self en los parámetros, además del valor a modificar\n",
        "\n",
        "\n"
      ],
      "metadata": {
        "id": "Pd0s79WWjRYf"
      }
    },
    {
      "cell_type": "code",
      "execution_count": 216,
      "metadata": {
        "id": "P70lDnWeeUnO",
        "colab": {
          "base_uri": "https://localhost:8080/"
        },
        "outputId": "ce4cfd8e-91db-4d9d-bdee-6d2748679602"
      },
      "outputs": [
        {
          "output_type": "stream",
          "name": "stdout",
          "text": [
            "{'nombre': 'Juan', 'apellido1': 'Pérez', 'apellido2': 'García', 'edad': 50, 'altura': 1.69}\n",
            "{\"nombre\":\"Juan\",\"apellido1\":\"Pérez\",\"apellido2\":\"García\",\"edad\":50,\"altura\":1.69}\n"
          ]
        }
      ],
      "source": [
        "from pydantic import BaseModel, Field, ConfigDict\n",
        "from typing import Optional, List\n",
        "from pydantic import field_serializer\n",
        "class Persona(BaseModel):\n",
        "    model_config = ConfigDict(populate_by_name=True)\n",
        "    nombre: str\n",
        "    apellido1: str = Field(alias=\"apellido paterno\")\n",
        "    apellido2: str | None = Field(alias=\"apellido materno\", default = None)\n",
        "    edad: int\n",
        "    altura: float\n",
        "\n",
        "    @field_serializer(\"altura\")\n",
        "    def serialize_float(self, value):\n",
        "        return round(value, 2)\n",
        "# Crear una instancia del modelo sin proporcionar valores específicos para los campos con default factory\n",
        "p = Persona(nombre=\"Juan\", apellido1=\"Pérez\", apellido2=\"García\", edad=50, altura=1.687)\n",
        "# Acceder a los valores, incluyendo los generados por las fábricas por defecto\n",
        "print(p.model_dump())\n",
        "print(p.model_dump_json())\n"
      ]
    },
    {
      "cell_type": "code",
      "source": [
        "p.altura"
      ],
      "metadata": {
        "colab": {
          "base_uri": "https://localhost:8080/"
        },
        "id": "zUxhksY0s7ZA",
        "outputId": "e67f8c00-0297-4e1b-cd06-eaf779a6e8d4"
      },
      "execution_count": 213,
      "outputs": [
        {
          "output_type": "execute_result",
          "data": {
            "text/plain": [
              "1.687"
            ]
          },
          "metadata": {},
          "execution_count": 213
        }
      ]
    },
    {
      "cell_type": "markdown",
      "source": [
        "\n",
        "\n",
        "Vamos a customizar ahora el campo dt para que me devuelva la fecha y la hora en el formato que yo quiera cuando convierto el dato en un json\n",
        "\n",
        "\n"
      ],
      "metadata": {
        "id": "TJYcIz0deUnO"
      }
    },
    {
      "cell_type": "code",
      "execution_count": 218,
      "metadata": {
        "id": "GSXbPOCQeUnO",
        "colab": {
          "base_uri": "https://localhost:8080/"
        },
        "outputId": "39a98053-9015-4348-c053-3be16437586c"
      },
      "outputs": [
        {
          "output_type": "stream",
          "name": "stdout",
          "text": [
            "{'nombre': 'Juan', 'apellido1': 'Pérez', 'apellido2': 'García', 'dt': datetime.datetime(2024, 10, 9, 9, 59, 40, 595102, tzinfo=datetime.timezone.utc), 'edad': 50, 'altura': 1.684}\n",
            "{\"nombre\":\"Juan\",\"apellido1\":\"Pérez\",\"apellido2\":\"García\",\"dt\":\"2024/10/09 09:59 AM\",\"edad\":50,\"altura\":1.684}\n"
          ]
        }
      ],
      "source": [
        "from pydantic import BaseModel, Field, ConfigDict\n",
        "from typing import Optional, List\n",
        "from pydantic import field_serializer\n",
        "from datetime import datetime, timezone\n",
        "\n",
        "def obtener_fecha_hora():\n",
        "    # Esta función puede realizar cálculos u obtener valores dinámicamente.\n",
        "    return datetime.now(timezone.utc)\n",
        "\n",
        "class Persona(BaseModel):\n",
        "    model_config = ConfigDict(populate_by_name=True)\n",
        "    nombre: str\n",
        "    apellido1: str = Field(alias=\"apellido paterno\")\n",
        "    apellido2: str | None = Field(alias=\"apellido materno\", default = None)\n",
        "    dt: datetime = Field(default_factory=obtener_fecha_hora)\n",
        "    edad: int\n",
        "    altura: float\n",
        "\n",
        "    @field_serializer(\"altura\")\n",
        "    def serialize_float(self, value):\n",
        "        return round(value, 2)\n",
        "\n",
        "    @field_serializer(\"dt\", when_used=\"json-unless-none\")\n",
        "    def serialize_float(self, value):\n",
        "        return value.strftime(\"%Y/%m/%d %I:%M %p\")\n",
        "\n",
        "# Crear una instancia del modelo sin proporcionar valores específicos para los campos con default factory\n",
        "p = Persona(nombre=\"Juan\", apellido1=\"Pérez\", apellido2=\"García\", edad=50, altura=1.684)\n",
        "# Acceder a los valores, incluyendo los generados por las fábricas por defecto\n",
        "print(p.model_dump())\n",
        "print(p.model_dump_json())\n"
      ]
    },
    {
      "cell_type": "markdown",
      "source": [
        "\n",
        "\n",
        "## Validadores Customizados - Custom Validators\n",
        "\n",
        "Podemos introducir cierto grado de customización en la validación con Field (ver la línea `edad: int = Field(ge=0, le=120)` que limita la edad a enteros positivos y menores de 120)\n",
        "\n",
        "\n"
      ],
      "metadata": {
        "id": "yfVX6yxReUnO"
      }
    },
    {
      "cell_type": "code",
      "execution_count": 222,
      "metadata": {
        "id": "C-KInTYKeUnO",
        "colab": {
          "base_uri": "https://localhost:8080/"
        },
        "outputId": "e2f18eda-1991-46b0-b346-3aa329b04ac0"
      },
      "outputs": [
        {
          "output_type": "stream",
          "name": "stdout",
          "text": [
            "{'nombre': 'Juan', 'apellido1': 'Pérez', 'apellido2': 'García', 'dt': datetime.datetime(2024, 10, 9, 10, 2, 31, 221438, tzinfo=datetime.timezone.utc), 'edad': 120, 'altura': 1.684}\n",
            "{\"nombre\":\"Juan\",\"apellido1\":\"Pérez\",\"apellido2\":\"García\",\"dt\":\"2024/10/09 10:02 AM\",\"edad\":120,\"altura\":1.684}\n"
          ]
        }
      ],
      "source": [
        "from pydantic import BaseModel, Field, ConfigDict\n",
        "from typing import Optional, List\n",
        "from pydantic import field_serializer\n",
        "from datetime import datetime, timezone\n",
        "\n",
        "def obtener_fecha_hora():\n",
        "    # Esta función puede realizar cálculos u obtener valores dinámicamente.\n",
        "    return datetime.now(timezone.utc)\n",
        "\n",
        "class Persona(BaseModel):\n",
        "    model_config = ConfigDict(populate_by_name=True)\n",
        "    nombre: str\n",
        "    apellido1: str = Field(alias=\"apellido paterno\")\n",
        "    apellido2: str | None = Field(alias=\"apellido materno\", default = None)\n",
        "    dt: datetime = Field(default_factory=obtener_fecha_hora)\n",
        "    edad: int = Field(ge=0, le=120)\n",
        "    altura: float\n",
        "\n",
        "    @field_serializer(\"altura\")\n",
        "    def serialize_float(self, value):\n",
        "        return round(value, 2)\n",
        "\n",
        "    @field_serializer(\"dt\", when_used=\"json-unless-none\")\n",
        "    def serialize_float(self, value):\n",
        "        return value.strftime(\"%Y/%m/%d %I:%M %p\")\n",
        "\n",
        "p = Persona(nombre=\"Juan\", apellido1=\"Pérez\", apellido2=\"García\", edad=120, altura=1.684)\n",
        "print(p.model_dump())\n",
        "print(p.model_dump_json())\n"
      ]
    },
    {
      "cell_type": "markdown",
      "source": [
        "\n",
        "\n",
        "Pero los validadores customizados nos permiten transformar el dato recibido. Por ejemplo. Si se introduce un negativo se guarda el valor absoluto.\n",
        "\n",
        "Los validadores son métodos de la clase, no de la instancia. Por ello requieren el decorador \"classmethod\" y la función decorada requiere la clase como primer parámetro.\n",
        "\n",
        "\n"
      ],
      "metadata": {
        "id": "Pzj-KyQCeUnO"
      }
    },
    {
      "cell_type": "code",
      "execution_count": 242,
      "metadata": {
        "id": "pJC5anFteUnO",
        "colab": {
          "base_uri": "https://localhost:8080/"
        },
        "outputId": "0a87d7de-84bf-48f1-9efd-23486848bf8a"
      },
      "outputs": [
        {
          "output_type": "stream",
          "name": "stderr",
          "text": [
            "/usr/local/lib/python3.10/dist-packages/pydantic/_internal/_model_construction.py:66: UserWarning: `serialize_float` overrides an existing Pydantic `@field_serializer` decorator\n",
            "  warnings.warn(f'`{k}` overrides an existing Pydantic `{existing.decorator_info.decorator_repr}` decorator')\n"
          ]
        }
      ],
      "source": [
        "from pydantic import BaseModel, Field, ConfigDict\n",
        "from typing import Optional, List\n",
        "from pydantic import field_serializer, field_validator\n",
        "from datetime import datetime, timezone\n",
        "def obtener_fecha_hora():\n",
        "    # Esta función puede realizar cálculos u obtener valores dinámicamente.\n",
        "    return datetime.now(timezone.utc)\n",
        "class Persona(BaseModel):\n",
        "    model_config = ConfigDict(populate_by_name=True)\n",
        "    nombre: str\n",
        "    apellido1: str = Field(alias=\"apellido paterno\")\n",
        "    apellido2: str | None = Field(alias=\"apellido materno\", default = None)\n",
        "    dt: datetime = Field(default_factory=obtener_fecha_hora)\n",
        "    edad: int = Field(ge = -120, le=120)\n",
        "    altura: float\n",
        "    @field_serializer(\"altura\")\n",
        "    def serialize_float(self, value):\n",
        "        return round(value, 2)\n",
        "\n",
        "    # Los validadores son métodos de la clase, no de la instancia\n",
        "    @field_validator(\"edad\")\n",
        "    @classmethod\n",
        "    def deserializa_edad(cls, value):\n",
        "        return abs(value)\n",
        "\n",
        "    @field_serializer(\"dt\", when_used=\"json-unless-none\")\n",
        "    def serialize_float(self, value):\n",
        "        return value.strftime(\"%Y/%m/%d %I:%M %p\")"
      ]
    },
    {
      "cell_type": "markdown",
      "source": [
        "\n",
        "\n",
        "\n"
      ],
      "metadata": {
        "id": "9ph2isl2eUnP"
      }
    },
    {
      "cell_type": "code",
      "execution_count": 243,
      "metadata": {
        "id": "KG94hWuEeUnP",
        "colab": {
          "base_uri": "https://localhost:8080/"
        },
        "outputId": "3e7d9c8a-cca0-4f14-df68-22db258b6553"
      },
      "outputs": [
        {
          "output_type": "stream",
          "name": "stdout",
          "text": [
            "{'nombre': 'Juan', 'apellido1': 'Pérez', 'apellido2': 'García', 'dt': datetime.datetime(2024, 10, 9, 10, 23, 55, 841362, tzinfo=datetime.timezone.utc), 'edad': 50, 'altura': 1.684}\n",
            "{\"nombre\":\"Juan\",\"apellido1\":\"Pérez\",\"apellido2\":\"García\",\"dt\":\"2024/10/09 10:23 AM\",\"edad\":50,\"altura\":1.684}\n"
          ]
        }
      ],
      "source": [
        "p = Persona(nombre=\"Juan\", apellido1=\"Pérez\", apellido2=\"García\", edad=-50, altura=1.684)\n",
        "print(p.model_dump())\n",
        "print(p.model_dump_json())\n"
      ]
    },
    {
      "cell_type": "code",
      "execution_count": 244,
      "metadata": {
        "id": "3z6OUHBJeUnP",
        "colab": {
          "base_uri": "https://localhost:8080/"
        },
        "outputId": "2bc9318e-72b0-41a1-f11e-f340430b2d9b"
      },
      "outputs": [
        {
          "output_type": "stream",
          "name": "stdout",
          "text": [
            "{'nombre': 'Juan', 'apellido1': 'Pérez', 'apellido2': 'García', 'dt': datetime.datetime(2024, 10, 9, 10, 23, 57, 304116, tzinfo=datetime.timezone.utc), 'edad': 50, 'altura': 1.684}\n",
            "{\"nombre\":\"Juan\",\"apellido1\":\"Pérez\",\"apellido2\":\"García\",\"dt\":\"2024/10/09 10:23 AM\",\"edad\":50,\"altura\":1.684}\n"
          ]
        }
      ],
      "source": [
        "p = Persona(nombre=\"Juan\", apellido1=\"Pérez\", apellido2=\"García\", edad=\"-50\", altura=1.684)\n",
        "print(p.model_dump())\n",
        "print(p.model_dump_json())\n"
      ]
    },
    {
      "cell_type": "markdown",
      "source": [
        "### Ejemplo: Validador de DNIs\n"
      ],
      "metadata": {
        "id": "KoWnOS-mwCMz"
      }
    },
    {
      "cell_type": "code",
      "source": [
        "from pydantic import BaseModel, Field, ConfigDict\n",
        "from pydantic import field_serializer, field_validator\n",
        "\n",
        "class Persona(BaseModel):\n",
        "    model_config = ConfigDict(populate_by_name=True)\n",
        "    nombre: str\n",
        "    apellido1: str = Field(alias=\"apellido paterno\")\n",
        "    apellido2: str | None = Field(alias=\"apellido materno\", default = None)\n",
        "    dni: str = Field(min_length=9, max_length=9)\n",
        "\n",
        "    @field_validator(\"dni\")\n",
        "    @classmethod\n",
        "    def valida_dni(cls, value):\n",
        "        numero = int(value[:-1])\n",
        "        letra = value[-1].upper()\n",
        "        letras = \"TRWAGMYFPDXBNJZSQVHLCKE\"\n",
        "        if letras[numero%23] == letra:\n",
        "            return value\n",
        "        else:\n",
        "            raise ValueError(\"DNI no válido\")"
      ],
      "metadata": {
        "id": "KrZ240-JwNfc"
      },
      "execution_count": 234,
      "outputs": []
    },
    {
      "cell_type": "code",
      "source": [
        "p1 = Persona(nombre=\"Juan\", apellido1=\"Pérez\", apellido2=\"García\", dni=\"01234567L\")\n",
        "print(p1)"
      ],
      "metadata": {
        "colab": {
          "base_uri": "https://localhost:8080/"
        },
        "id": "4V8YUkP-xxkg",
        "outputId": "169f66b1-b362-4b9f-cc8e-4c3edf5efcb7"
      },
      "execution_count": 241,
      "outputs": [
        {
          "output_type": "stream",
          "name": "stdout",
          "text": [
            "nombre='Juan' apellido1='Pérez' apellido2='García' dni='01234567L'\n"
          ]
        }
      ]
    },
    {
      "cell_type": "markdown",
      "source": [
        "\n",
        "\n",
        "Puedo introducir la edad como string y aún así no voy a tener problemas con `abs(value)` porque la validación de string a entero se realiza antes del field_validator. Es decir, field_validator es un validador \"a posteriori\"\n",
        "\n",
        "\n"
      ],
      "metadata": {
        "id": "Xm2FgvPNeUnP"
      }
    },
    {
      "cell_type": "markdown",
      "source": [
        "\n",
        "\n",
        "### Validar lista de elementos. Queremos que sean únicos.\n",
        "\n",
        "\n"
      ],
      "metadata": {
        "id": "k12EcNrdeUnP"
      }
    },
    {
      "cell_type": "code",
      "execution_count": 245,
      "metadata": {
        "id": "i-Dj5JyaeUnP"
      },
      "outputs": [],
      "source": [
        "from pydantic import BaseModel\n",
        "from pydantic import field_validator\n",
        "class Model(BaseModel):\n",
        "    numeros: list[int] = []\n",
        "\n",
        "    @field_validator(\"numeros\")\n",
        "    @classmethod\n",
        "    def asegura_unicos(csl, numeros):\n",
        "        if len(set(numeros)) != len(numeros):\n",
        "            raise ValueError(\"Los elementos han de ser únicos\")\n",
        "        return numeros"
      ]
    },
    {
      "cell_type": "markdown",
      "source": [
        "\n",
        "\n",
        "\n"
      ],
      "metadata": {
        "id": "HEbp2TP1eUnP"
      }
    },
    {
      "cell_type": "code",
      "execution_count": 249,
      "metadata": {
        "id": "4wza8p44eUnP",
        "colab": {
          "base_uri": "https://localhost:8080/"
        },
        "outputId": "9a382620-8c8d-4952-8e94-9390d5fac562"
      },
      "outputs": [
        {
          "output_type": "stream",
          "name": "stdout",
          "text": [
            "[1, 3, 2]\n"
          ]
        }
      ],
      "source": [
        "lista_numeros = Model(numeros = [1, 3, 2])\n",
        "print(lista_numeros.numeros)"
      ]
    },
    {
      "cell_type": "markdown",
      "source": [
        "\n",
        "\n",
        "Si la lista de números se puede convertir en lista de enteros da error la validación customizada\n",
        "\n",
        "\n"
      ],
      "metadata": {
        "id": "dq8n2ExPeUnP"
      }
    },
    {
      "cell_type": "code",
      "execution_count": 252,
      "metadata": {
        "id": "BM227Sp4eUnP",
        "colab": {
          "base_uri": "https://localhost:8080/",
          "height": 348
        },
        "outputId": "16171d53-166f-4538-f6b5-06a871a5ccc4"
      },
      "outputs": [
        {
          "output_type": "error",
          "ename": "ValidationError",
          "evalue": "1 validation error for Model\nnumeros\n  Value error, Los elementos han de ser únicos [type=value_error, input_value=[1, '2', 2.0], input_type=list]\n    For further information visit https://errors.pydantic.dev/2.9/v/value_error",
          "traceback": [
            "\u001b[0;31m---------------------------------------------------------------------------\u001b[0m",
            "\u001b[0;31mValidationError\u001b[0m                           Traceback (most recent call last)",
            "\u001b[0;32m<ipython-input-252-67f98af1b6bf>\u001b[0m in \u001b[0;36m<cell line: 1>\u001b[0;34m()\u001b[0m\n\u001b[0;32m----> 1\u001b[0;31m \u001b[0mlista_numeros\u001b[0m \u001b[0;34m=\u001b[0m \u001b[0mModel\u001b[0m\u001b[0;34m(\u001b[0m\u001b[0mnumeros\u001b[0m \u001b[0;34m=\u001b[0m \u001b[0;34m[\u001b[0m\u001b[0;36m1\u001b[0m\u001b[0;34m,\u001b[0m \u001b[0;34m\"2\"\u001b[0m\u001b[0;34m,\u001b[0m \u001b[0;36m2.0\u001b[0m\u001b[0;34m]\u001b[0m\u001b[0;34m)\u001b[0m\u001b[0;34m\u001b[0m\u001b[0;34m\u001b[0m\u001b[0m\n\u001b[0m\u001b[1;32m      2\u001b[0m \u001b[0mprint\u001b[0m\u001b[0;34m(\u001b[0m\u001b[0mlista_numeros\u001b[0m\u001b[0;34m.\u001b[0m\u001b[0mnumeros\u001b[0m\u001b[0;34m)\u001b[0m\u001b[0;34m\u001b[0m\u001b[0;34m\u001b[0m\u001b[0m\n",
            "\u001b[0;32m/usr/local/lib/python3.10/dist-packages/pydantic/main.py\u001b[0m in \u001b[0;36m__init__\u001b[0;34m(self, **data)\u001b[0m\n\u001b[1;32m    210\u001b[0m         \u001b[0;31m# `__tracebackhide__` tells pytest and some other tools to omit this function from tracebacks\u001b[0m\u001b[0;34m\u001b[0m\u001b[0;34m\u001b[0m\u001b[0m\n\u001b[1;32m    211\u001b[0m         \u001b[0m__tracebackhide__\u001b[0m \u001b[0;34m=\u001b[0m \u001b[0;32mTrue\u001b[0m\u001b[0;34m\u001b[0m\u001b[0;34m\u001b[0m\u001b[0m\n\u001b[0;32m--> 212\u001b[0;31m         \u001b[0mvalidated_self\u001b[0m \u001b[0;34m=\u001b[0m \u001b[0mself\u001b[0m\u001b[0;34m.\u001b[0m\u001b[0m__pydantic_validator__\u001b[0m\u001b[0;34m.\u001b[0m\u001b[0mvalidate_python\u001b[0m\u001b[0;34m(\u001b[0m\u001b[0mdata\u001b[0m\u001b[0;34m,\u001b[0m \u001b[0mself_instance\u001b[0m\u001b[0;34m=\u001b[0m\u001b[0mself\u001b[0m\u001b[0;34m)\u001b[0m\u001b[0;34m\u001b[0m\u001b[0;34m\u001b[0m\u001b[0m\n\u001b[0m\u001b[1;32m    213\u001b[0m         \u001b[0;32mif\u001b[0m \u001b[0mself\u001b[0m \u001b[0;32mis\u001b[0m \u001b[0;32mnot\u001b[0m \u001b[0mvalidated_self\u001b[0m\u001b[0;34m:\u001b[0m\u001b[0;34m\u001b[0m\u001b[0;34m\u001b[0m\u001b[0m\n\u001b[1;32m    214\u001b[0m             warnings.warn(\n",
            "\u001b[0;31mValidationError\u001b[0m: 1 validation error for Model\nnumeros\n  Value error, Los elementos han de ser únicos [type=value_error, input_value=[1, '2', 2.0], input_type=list]\n    For further information visit https://errors.pydantic.dev/2.9/v/value_error"
          ]
        }
      ],
      "source": [
        "lista_numeros = Model(numeros = [1, \"2\", 2.0])\n",
        "print(lista_numeros.numeros)"
      ]
    },
    {
      "cell_type": "markdown",
      "source": [
        "\n",
        "\n",
        "Pero si introducimos un número repetido se lanza la excepción.\n",
        "\n",
        "\n"
      ],
      "metadata": {
        "id": "Cnw7H2BZeUnP"
      }
    },
    {
      "cell_type": "code",
      "execution_count": 253,
      "metadata": {
        "id": "jOmtqcQreUnP",
        "colab": {
          "base_uri": "https://localhost:8080/"
        },
        "outputId": "bc23371e-522e-4bc8-8eef-4e22920b6845"
      },
      "outputs": [
        {
          "output_type": "stream",
          "name": "stdout",
          "text": [
            "1 validation error for Model\n",
            "numeros\n",
            "  Value error, Los elementos han de ser únicos [type=value_error, input_value=[1, 1, '2', 3.0], input_type=list]\n",
            "    For further information visit https://errors.pydantic.dev/2.9/v/value_error\n"
          ]
        }
      ],
      "source": [
        "from pydantic import ValidationError\n",
        "try:\n",
        "    lista_numeros = Model(numeros = [1, 1, \"2\", 3.0])\n",
        "except ValidationError as ex:\n",
        "    print(ex)"
      ]
    },
    {
      "cell_type": "markdown",
      "source": [
        "\n",
        "\n",
        "## Modelos de datos anidados\n",
        "\n",
        "Supongamos que obtenemos los siguientes datos de algún lugar (en formato diccionario)\n",
        "\n",
        "\n"
      ],
      "metadata": {
        "id": "pj1dIhxBeUnP"
      }
    },
    {
      "cell_type": "code",
      "execution_count": 272,
      "metadata": {
        "id": "7x7gwSqoeUnP"
      },
      "outputs": [],
      "source": [
        "datos = {\n",
        "    \"nombre\": \"Pedro\",\n",
        "    \"apellido1\": \"Gómez\",\n",
        "    \"apellido2\": \"Pérez\",\n",
        "    \"nacimiento\": {\n",
        "        \"lugar\": {\n",
        "            \"pais\": \"Colombia\",\n",
        "            \"ciudad\": \"Medellín\"},\n",
        "        \"fecha\": \"1990-01-15\"\n",
        "    }\n",
        "}"
      ]
    },
    {
      "cell_type": "markdown",
      "source": [
        "\n",
        "\n",
        "Vemos datos anidados dentro de \"nacimiento\" y de \"lugar”\n",
        "\n",
        "Vamos definiendo los modelos de datos desde el anidamiento máximo hacia arriba. Así podemos usar el tipo de los datos anidados en los niveles superiores.\n",
        "\n",
        "\n"
      ],
      "metadata": {
        "id": "rL3919oleUnP"
      }
    },
    {
      "cell_type": "code",
      "execution_count": 257,
      "metadata": {
        "id": "RiVQT3l5eUnP"
      },
      "outputs": [],
      "source": [
        "class Lugar(BaseModel):\n",
        "    pais: str\n",
        "    ciudad: str"
      ]
    },
    {
      "cell_type": "markdown",
      "source": [
        "\n",
        "\n",
        "\n"
      ],
      "metadata": {
        "id": "YiIXN8_oeUnP"
      }
    },
    {
      "cell_type": "code",
      "execution_count": 258,
      "metadata": {
        "id": "E_9h0ZmDeUnP"
      },
      "outputs": [],
      "source": [
        "from datetime import date\n",
        "from pydantic import Field\n",
        "class Nacimiento(BaseModel):\n",
        "    lugar: Lugar\n",
        "    dt: date = Field(alias=\"fecha\")"
      ]
    },
    {
      "cell_type": "markdown",
      "source": [
        "\n",
        "\n",
        "\n"
      ],
      "metadata": {
        "id": "NEgiV4Q7eUnP"
      }
    },
    {
      "cell_type": "code",
      "execution_count": 259,
      "metadata": {
        "id": "-lMLtUF1eUnP"
      },
      "outputs": [],
      "source": [
        "class Persona(BaseModel):\n",
        "    nombre: str\n",
        "    apellido1: str\n",
        "    apellido2: str | None = None\n",
        "    nacimiento: Nacimiento"
      ]
    },
    {
      "cell_type": "markdown",
      "source": [
        "\n",
        "\n",
        "\n"
      ],
      "metadata": {
        "id": "U3bJT9mgeUnP"
      }
    },
    {
      "cell_type": "code",
      "execution_count": 273,
      "metadata": {
        "id": "IjNcGLh-eUnP",
        "colab": {
          "base_uri": "https://localhost:8080/"
        },
        "outputId": "7b1b88c9-c9ca-4d37-c42c-ad1c090123a9"
      },
      "outputs": [
        {
          "output_type": "execute_result",
          "data": {
            "text/plain": [
              "Persona(nombre='Pedro', apellido1='Gómez', apellido2='Pérez', nacimiento=Nacimiento(lugar=Lugar(pais='Colombia', ciudad='Medellín'), dt=datetime.date(1990, 1, 15)))"
            ]
          },
          "metadata": {},
          "execution_count": 273
        }
      ],
      "source": [
        "pedro = Persona.model_validate(datos)\n",
        "pedro"
      ]
    },
    {
      "cell_type": "markdown",
      "source": [
        "\n",
        "\n",
        "\n"
      ],
      "metadata": {
        "id": "AkY_1X2heUnQ"
      }
    },
    {
      "cell_type": "code",
      "execution_count": 261,
      "metadata": {
        "id": "aBvVuT2ueUnQ",
        "colab": {
          "base_uri": "https://localhost:8080/"
        },
        "outputId": "6002235b-d63a-4128-aa5e-61a246c2ccfd"
      },
      "outputs": [
        {
          "output_type": "execute_result",
          "data": {
            "text/plain": [
              "Nacimiento(lugar=Lugar(pais='Colombia', ciudad='Medellín'), dt=datetime.date(1990, 1, 15))"
            ]
          },
          "metadata": {},
          "execution_count": 261
        }
      ],
      "source": [
        "pedro.nacimiento"
      ]
    },
    {
      "cell_type": "markdown",
      "source": [
        "\n",
        "\n",
        "\n"
      ],
      "metadata": {
        "id": "3QoMKcIzeUnQ"
      }
    },
    {
      "cell_type": "code",
      "execution_count": 262,
      "metadata": {
        "id": "NDzvcR0beUnQ",
        "colab": {
          "base_uri": "https://localhost:8080/"
        },
        "outputId": "1bf06106-d411-46bf-c4b9-cde21760739e"
      },
      "outputs": [
        {
          "output_type": "execute_result",
          "data": {
            "text/plain": [
              "datetime.date(1990, 1, 15)"
            ]
          },
          "metadata": {},
          "execution_count": 262
        }
      ],
      "source": [
        "pedro.nacimiento.dt"
      ]
    },
    {
      "cell_type": "markdown",
      "source": [
        "\n",
        "\n",
        "\n"
      ],
      "metadata": {
        "id": "B0B8mGOkeUnQ"
      }
    },
    {
      "cell_type": "code",
      "execution_count": 265,
      "metadata": {
        "id": "ifVoeexZeUnQ",
        "colab": {
          "base_uri": "https://localhost:8080/",
          "height": 36
        },
        "outputId": "18e2329a-cc2e-44de-f860-c8f09266fa37"
      },
      "outputs": [
        {
          "output_type": "execute_result",
          "data": {
            "text/plain": [
              "'Medellín'"
            ],
            "application/vnd.google.colaboratory.intrinsic+json": {
              "type": "string"
            }
          },
          "metadata": {},
          "execution_count": 265
        }
      ],
      "source": [
        "pedro.nacimiento.lugar.ciudad"
      ]
    },
    {
      "cell_type": "markdown",
      "source": [
        "\n",
        "\n",
        "\n"
      ],
      "metadata": {
        "id": "PwOzGU_LeUnQ"
      }
    },
    {
      "cell_type": "code",
      "execution_count": 268,
      "metadata": {
        "id": "PDqjpYZJeUnQ",
        "colab": {
          "base_uri": "https://localhost:8080/"
        },
        "outputId": "92fe2591-ce92-4c02-8bc0-6af50108ba99"
      },
      "outputs": [
        {
          "output_type": "stream",
          "name": "stdout",
          "text": [
            "{\n",
            "    \"nombre\": \"Pedro\",\n",
            "    \"apellido1\": \"Gómez\",\n",
            "    \"apellido2\": \"Pérez\",\n",
            "    \"nacimiento\": {\n",
            "        \"lugar\": {\n",
            "            \"pais\": \"Colombia\",\n",
            "            \"ciudad\": \"Medellín\"\n",
            "        },\n",
            "        \"dt\": \"1990-01-15\"\n",
            "    }\n",
            "}\n"
          ]
        }
      ],
      "source": [
        "print(pedro.model_dump_json(indent=4))"
      ]
    },
    {
      "cell_type": "markdown",
      "source": [
        "\n",
        "\n",
        "\n"
      ],
      "metadata": {
        "id": "FPFUa0B2eUnQ"
      }
    },
    {
      "cell_type": "code",
      "execution_count": null,
      "metadata": {
        "id": "AYugPUcUeUnQ"
      },
      "outputs": [],
      "source": [
        "from pprint import pprint\n",
        "print(pedro.model_dump())\n",
        "--------------------------------\n",
        "{'apellido1': 'Gómez',\n",
        " 'apellido2': 'Pérez',\n",
        " 'nacimiento': {'dt': datetime.date(1990, 1, 15),\n",
        "                'lugar': {'ciudad': 'Medellín', 'pais': 'Colombia'}},\n",
        " 'nombre': 'Pedro'}"
      ]
    },
    {
      "cell_type": "markdown",
      "source": [
        "# Ejercicios\n",
        "\n",
        "### Ejercicio 1: Base Model\n",
        "\n",
        "1. Crea un modelo Pydantic llamado `Product` con campos como `name` (str), `price` (float), y `is_available` (bool).\n",
        "\n"
      ],
      "metadata": {
        "id": "5CXYD4JXeUnQ"
      }
    },
    {
      "cell_type": "code",
      "source": [
        "from pydantic import BaseModel\n",
        "\n",
        "class Product(BaseModel):\n",
        "    name: str\n",
        "    price: float\n",
        "    is_available: bool"
      ],
      "metadata": {
        "id": "zMbAw9Jq3scM"
      },
      "execution_count": 277,
      "outputs": []
    },
    {
      "cell_type": "markdown",
      "source": [
        "### Ejercicio 2: Datos de errores de validación\n",
        "\n",
        "1. Intenta crear una instancia de `Product` sin proporcionar el precio y observa el error de validación.\n",
        "2. Modifica el modelo `Product` para que el campo `price` sea opcional.\n",
        "\n"
      ],
      "metadata": {
        "id": "zB22iEUZ3q__"
      }
    },
    {
      "cell_type": "code",
      "source": [
        "producto1 = Product(name=\"Producto 1\", price=10.99, is_available=True)\n",
        "print(producto1)\n",
        "\n",
        "try:\n",
        "    producto2 = Product(name=\"Producto 2\", is_available=True)\n",
        "except ValidationError as e:\n",
        "    print(e.args)\n",
        "    print(e.errors()[0][\"input\"])\n",
        "    print(e.title)\n",
        "else:\n",
        "    print(producto2)"
      ],
      "metadata": {
        "colab": {
          "base_uri": "https://localhost:8080/"
        },
        "id": "NVhNywvE3zos",
        "outputId": "9c9a1b1b-d05d-48e8-e679-d066f046cac1"
      },
      "execution_count": 301,
      "outputs": [
        {
          "output_type": "stream",
          "name": "stdout",
          "text": [
            "name='Producto 1' price=10.99 is_available=True\n",
            "()\n",
            "{'name': 'Producto 2', 'is_available': True}\n",
            "Product\n"
          ]
        }
      ]
    },
    {
      "cell_type": "markdown",
      "source": [
        "### Ejercicio 3: Deserialización y Serialización\n",
        "\n",
        "1. Crea un diccionario con datos de un producto y deserialízalo usando el modelo `Product`.\n",
        "2. Serializa la instancia de `Product` creada en el Ejercicio 1 y verifica que los datos serializados sean correctos.\n",
        "\n"
      ],
      "metadata": {
        "id": "Tz7viMpg3xqd"
      }
    },
    {
      "cell_type": "code",
      "source": [
        "datos_dict = {'name': 'Producto 1', 'price': 10.99, 'is_available': True}\n",
        "datos_dict = dict(name = \"Producto 1\", price = 11.35, is_available = True)\n",
        "producto_deserializado = Product.model_validate(datos_dict)\n",
        "print(producto_deserializado)"
      ],
      "metadata": {
        "colab": {
          "base_uri": "https://localhost:8080/"
        },
        "id": "wv0x9Qul5mbF",
        "outputId": "1239ea33-0641-4fa3-db2b-136a4bddb427"
      },
      "execution_count": 302,
      "outputs": [
        {
          "output_type": "stream",
          "name": "stdout",
          "text": [
            "name='Producto 1' price=11.35 is_available=True\n"
          ]
        }
      ]
    },
    {
      "cell_type": "code",
      "source": [
        "datos_json = '{\"name\":\"Producto 3\", \"price\":12.05, \"is_available\": true}'\n",
        "producto_deserializado = Product.model_validate_json(datos_json)\n",
        "print(producto_deserializado)"
      ],
      "metadata": {
        "colab": {
          "base_uri": "https://localhost:8080/"
        },
        "id": "0UfnAo61CjKz",
        "outputId": "034aad6e-deae-470d-c132-c750902ac14e"
      },
      "execution_count": 303,
      "outputs": [
        {
          "output_type": "stream",
          "name": "stdout",
          "text": [
            "name='Producto 3' price=12.05 is_available=True\n"
          ]
        }
      ]
    },
    {
      "cell_type": "code",
      "source": [
        "producto_deserializado.model_dump()[\"price\"]"
      ],
      "metadata": {
        "colab": {
          "base_uri": "https://localhost:8080/"
        },
        "id": "DIOMF-dODInt",
        "outputId": "ee6fe52a-3f39-40fb-d0f1-a74b7107d31f"
      },
      "execution_count": 306,
      "outputs": [
        {
          "output_type": "execute_result",
          "data": {
            "text/plain": [
              "12.05"
            ]
          },
          "metadata": {},
          "execution_count": 306
        }
      ]
    },
    {
      "cell_type": "code",
      "source": [
        "producto_deserializado.model_dump_json()"
      ],
      "metadata": {
        "colab": {
          "base_uri": "https://localhost:8080/",
          "height": 36
        },
        "id": "4UJu_NjTDCfp",
        "outputId": "8dc3f809-9719-4579-e679-a4099e021989"
      },
      "execution_count": 308,
      "outputs": [
        {
          "output_type": "execute_result",
          "data": {
            "text/plain": [
              "'{\"name\":\"Producto 3\",\"price\":12.05,\"is_available\":true}'"
            ],
            "application/vnd.google.colaboratory.intrinsic+json": {
              "type": "string"
            }
          },
          "metadata": {},
          "execution_count": 308
        }
      ]
    },
    {
      "cell_type": "code",
      "source": [
        "from pydantic import BaseModel\n",
        "\n",
        "class Product(BaseModel):\n",
        "    name: str\n",
        "    price: float | None = None\n",
        "    is_available: bool\n",
        "\n",
        "try:\n",
        "    producto2 = Product(name=\"Producto 2\", is_available=True)\n",
        "except ValidationError as e:\n",
        "    print(e.args)\n",
        "    print(e.errors()[0][\"input\"])\n",
        "    print(e.title)\n",
        "else:\n",
        "    print(producto2)"
      ],
      "metadata": {
        "colab": {
          "base_uri": "https://localhost:8080/"
        },
        "id": "VfbC-b_BDex2",
        "outputId": "fd665f67-c9ad-4e72-e164-b6f6e7b48268"
      },
      "execution_count": 312,
      "outputs": [
        {
          "output_type": "stream",
          "name": "stdout",
          "text": [
            "name='Producto 2' price=None is_available=True\n"
          ]
        }
      ]
    },
    {
      "cell_type": "markdown",
      "source": [
        "### Ejercicio 4: Campos Required, Optional y Nullables\n",
        "\n",
        "1. Modifica el modelo `Product` para que el campo `is_available` sea opcional y nulo.\n",
        "2. Intenta crear una instancia de `Product` sin proporcionar la disponibilidad y verifica que no genere un error.\n",
        "\n"
      ],
      "metadata": {
        "id": "A_dBiauB5ab7"
      }
    },
    {
      "cell_type": "code",
      "source": [
        "from pydantic import BaseModel\n",
        "from typing import Optional\n",
        "\n",
        "class Product(BaseModel):\n",
        "    name: str\n",
        "    price: Optional[float] = None\n",
        "    is_available: Optional[bool] = None\n",
        "\n",
        "try:\n",
        "    producto2 = Product(name=\"Producto 2\")\n",
        "except ValidationError as e:\n",
        "    print(e.args)\n",
        "    print(e.errors()[0][\"input\"])\n",
        "    print(e.title)\n",
        "else:\n",
        "    print(producto2)"
      ],
      "metadata": {
        "colab": {
          "base_uri": "https://localhost:8080/"
        },
        "id": "LUxlOzE55mxA",
        "outputId": "b4751025-38c7-4682-ef45-2611fbee8a34"
      },
      "execution_count": 314,
      "outputs": [
        {
          "output_type": "stream",
          "name": "stdout",
          "text": [
            "name='Producto 2' price=None is_available=None\n"
          ]
        }
      ]
    },
    {
      "cell_type": "code",
      "source": [
        "if not producto2.is_available:\n",
        "    print(producto2)"
      ],
      "metadata": {
        "colab": {
          "base_uri": "https://localhost:8080/"
        },
        "id": "n8RRsaaPFeyr",
        "outputId": "0fb69ae7-77fb-4773-eb21-d454cdf65dc2"
      },
      "execution_count": 317,
      "outputs": [
        {
          "output_type": "stream",
          "name": "stdout",
          "text": [
            "name='Producto 2' price=None is_available=None\n"
          ]
        }
      ]
    },
    {
      "cell_type": "markdown",
      "source": [
        "### Ejercicio 5: Alias y clase Field\n",
        "\n",
        "1. Agrega un alias al campo `name` del modelo `Product` para que sea accesible como `product_name`.\n",
        "2. Deserializa un diccionario que contenga la clave `product_name` y serializa el objeto obtenido a un JSON\n",
        "\n"
      ],
      "metadata": {
        "id": "Rd_2eCAB5ldk"
      }
    },
    {
      "cell_type": "code",
      "source": [
        "from pydantic import BaseModel\n",
        "from typing import Optional\n",
        "\n",
        "class Product(BaseModel):\n",
        "    model_config = ConfigDict(populate_by_name=True)\n",
        "    name: str = Field(alias=\"product_name\")\n",
        "    price: Optional[float] = None\n",
        "    is_available: Optional[bool] = None"
      ],
      "metadata": {
        "id": "-62tS2op5nTY"
      },
      "execution_count": 330,
      "outputs": []
    },
    {
      "cell_type": "code",
      "source": [
        "try:\n",
        "    producto2 = Product(product_name=\"Producto 2\")\n",
        "except ValidationError as e:\n",
        "    print(e.args)\n",
        "    print(e.errors()[0][\"input\"])\n",
        "    print(e.title)\n",
        "else:\n",
        "    print(producto2)"
      ],
      "metadata": {
        "colab": {
          "base_uri": "https://localhost:8080/"
        },
        "id": "4uJphI0GGDqg",
        "outputId": "7ede5c89-228d-4691-fed0-d9175cf2bb53"
      },
      "execution_count": 331,
      "outputs": [
        {
          "output_type": "stream",
          "name": "stdout",
          "text": [
            "name='Producto 2' price=None is_available=None\n"
          ]
        }
      ]
    },
    {
      "cell_type": "code",
      "source": [
        "producto2_json = producto2.model_dump_json()\n",
        "print(producto2_json)"
      ],
      "metadata": {
        "id": "4zM9mETIGgI8",
        "colab": {
          "base_uri": "https://localhost:8080/"
        },
        "outputId": "1c0d7102-6b22-4132-8914-3563695ca12f"
      },
      "execution_count": 332,
      "outputs": [
        {
          "output_type": "stream",
          "name": "stdout",
          "text": [
            "{\"name\":\"Producto 2\",\"price\":null,\"is_available\":null}\n"
          ]
        }
      ]
    },
    {
      "cell_type": "code",
      "source": [
        "Product.model_validate_json(producto2_json)"
      ],
      "metadata": {
        "colab": {
          "base_uri": "https://localhost:8080/"
        },
        "id": "PHgOTxoBGtPu",
        "outputId": "0a7f6e2f-6d40-4cc2-d99c-18e5d065fba6"
      },
      "execution_count": 333,
      "outputs": [
        {
          "output_type": "execute_result",
          "data": {
            "text/plain": [
              "Product(name='Producto 2', price=None, is_available=None)"
            ]
          },
          "metadata": {},
          "execution_count": 333
        }
      ]
    },
    {
      "cell_type": "markdown",
      "source": [
        "### Ejercicio 6: Configuración del modelo\n",
        "\n",
        "1. Configura el modelo `Product` para que ignore campos adicionales durante la validación.\n",
        "2. Intenta crear una instancia de `Product` con un campo adicional y verifica que no genere un error.\n",
        "\n"
      ],
      "metadata": {
        "id": "ZQnJOt5d5jMJ"
      }
    },
    {
      "cell_type": "code",
      "source": [
        "from pydantic import BaseModel\n",
        "from typing import Optional\n",
        "\n",
        "class Product(BaseModel):\n",
        "    model_config = ConfigDict(populate_by_name=True, extra='ignore') # ignore, allow, forbid\n",
        "    name: str = Field(alias=\"product_name\")\n",
        "    price: Optional[float] = None\n",
        "    is_available: Optional[bool] = None"
      ],
      "metadata": {
        "id": "mJ9UKPgP5nwA"
      },
      "execution_count": 343,
      "outputs": []
    },
    {
      "cell_type": "code",
      "source": [
        "producto1 = Product(name=\"Producto 1\", price=10.99, is_available=True, tipo='A')\n",
        "print(producto1)"
      ],
      "metadata": {
        "colab": {
          "base_uri": "https://localhost:8080/"
        },
        "id": "mjAQHDyaI0oF",
        "outputId": "96561d88-dfad-4028-decd-412facdd89ec"
      },
      "execution_count": 344,
      "outputs": [
        {
          "output_type": "stream",
          "name": "stdout",
          "text": [
            "name='Producto 1' price=10.99 is_available=True\n"
          ]
        }
      ]
    },
    {
      "cell_type": "markdown",
      "source": [
        "### Ejercicio 7: Valores por defecto dinámicos (Default Factories)\n",
        "\n",
        "1. Agrega un campo `creation_date` al modelo `Product` que tenga como valor predeterminado la fecha actual.\n",
        "2. Crea una instancia de `Product` sin proporcionar la fecha de creación y verifica que se establezca correctamente.\n",
        "\n"
      ],
      "metadata": {
        "id": "gZcij_b35hZF"
      }
    },
    {
      "cell_type": "code",
      "source": [
        "from pydantic import BaseModel\n",
        "from typing import Optional\n",
        "from datetime import datetime, timezone\n",
        "\n",
        "def obtener_fecha_hora():\n",
        "    # Esta función puede realizar cálculos u obtener valores dinámicamente.\n",
        "    return datetime.now(timezone.utc)\n",
        "\n",
        "class Product(BaseModel):\n",
        "    model_config = ConfigDict(populate_by_name=True, extra='ignore') # ignore, allow, forbid\n",
        "    name: str = Field(alias=\"product_name\")\n",
        "    price: Optional[float] = None\n",
        "    is_available: Optional[bool] = None\n",
        "    creation_date: datetime = Field(default_factory=obtener_fecha_hora)"
      ],
      "metadata": {
        "id": "CF7UflHw5oY_"
      },
      "execution_count": 345,
      "outputs": []
    },
    {
      "cell_type": "code",
      "source": [
        "producto1 = Product(name=\"Producto 1\", price=10.99, is_available=True, tipo='A')\n",
        "print(producto1)"
      ],
      "metadata": {
        "colab": {
          "base_uri": "https://localhost:8080/"
        },
        "id": "x71ldSFpKFEB",
        "outputId": "2ef6916c-5d56-4070-ab4b-43f42ca8d43a"
      },
      "execution_count": 346,
      "outputs": [
        {
          "output_type": "stream",
          "name": "stdout",
          "text": [
            "name='Producto 1' price=10.99 is_available=True creation_date=datetime.datetime(2024, 10, 9, 12, 2, 4, 71999, tzinfo=datetime.timezone.utc)\n"
          ]
        }
      ]
    },
    {
      "cell_type": "markdown",
      "source": [
        "### Ejercicio 8: Serializadores customizados\n",
        "\n",
        "1. Crea un serializador personalizado que convierta el nombre (`name`) a minúsculas al serializar.\n",
        "2. Utiliza este serializador al serializar una instancia de `Product` y verifica que el nombre esté en minúsculas.\n",
        "\n"
      ],
      "metadata": {
        "id": "Wlr4Zk1k5fR-"
      }
    },
    {
      "cell_type": "code",
      "source": [
        "from pydantic import BaseModel\n",
        "from typing import Optional\n",
        "from datetime import datetime, timezone\n",
        "\n",
        "def obtener_fecha_hora():\n",
        "    # Esta función puede realizar cálculos u obtener valores dinámicamente.\n",
        "    return datetime.now(timezone.utc)\n",
        "\n",
        "class Product(BaseModel):\n",
        "    model_config = ConfigDict(populate_by_name=True, extra='ignore') # ignore, allow, forbid\n",
        "    name: str = Field(alias=\"product_name\", default_factory=lambda: Product.serializar_nombre())\n",
        "    price: Optional[float] = None\n",
        "    is_available: Optional[bool] = None\n",
        "    creation_date: datetime = Field(default_factory=obtener_fecha_hora)\n",
        "\n",
        "    @field_serializer(\"name\")\n",
        "    def serializar_nombre(self, value):\n",
        "        return value.lower()"
      ],
      "metadata": {
        "id": "WFKFxn-G5o2d"
      },
      "execution_count": 353,
      "outputs": []
    },
    {
      "cell_type": "code",
      "source": [
        "producto1 = Product(name=\"Producto 1\", price=10.99, is_available=True, tipo='A')\n",
        "producto1.model_dump_json()"
      ],
      "metadata": {
        "colab": {
          "base_uri": "https://localhost:8080/",
          "height": 36
        },
        "id": "ZG57Tb5RKZoH",
        "outputId": "ca95e017-6c39-47fb-b2ab-374fb1ab5cf7"
      },
      "execution_count": 354,
      "outputs": [
        {
          "output_type": "execute_result",
          "data": {
            "text/plain": [
              "'{\"name\":\"producto 1\",\"price\":10.99,\"is_available\":true,\"creation_date\":\"2024-10-09T12:06:31.764812Z\"}'"
            ],
            "application/vnd.google.colaboratory.intrinsic+json": {
              "type": "string"
            }
          },
          "metadata": {},
          "execution_count": 354
        }
      ]
    },
    {
      "cell_type": "markdown",
      "source": [
        "### Ejercicio 9: Validadores customizados\n",
        "\n",
        "1. Agrega un validador personalizado al campo `price` del modelo `Product` que asegure que el precio sea mayor de 0.\n",
        "2. Intenta crear una instancia de `Product` con un precio no válido y verifica el error de validación.\n",
        "\n"
      ],
      "metadata": {
        "id": "oqRn6D0n5d0A"
      }
    },
    {
      "cell_type": "code",
      "source": [
        "from pydantic import BaseModel\n",
        "from typing import Optional\n",
        "from datetime import datetime, timezone\n",
        "\n",
        "def obtener_fecha_hora():\n",
        "    # Esta función puede realizar cálculos u obtener valores dinámicamente.\n",
        "    return datetime.now(timezone.utc)\n",
        "\n",
        "class Product(BaseModel):\n",
        "    model_config = ConfigDict(populate_by_name=True, extra='ignore') # ignore, allow, forbid\n",
        "    name: str = Field(alias=\"product_name\", default_factory=lambda: Product.serializar_nombre())\n",
        "    price: Optional[float] = None\n",
        "    is_available: Optional[bool] = None\n",
        "    creation_date: datetime = Field(default_factory=obtener_fecha_hora)\n",
        "\n",
        "    @field_serializer(\"name\")\n",
        "    def serializar_nombre(self, value):\n",
        "        return value.lower()\n",
        "\n",
        "    @field_validator(\"price\")\n",
        "    @classmethod\n",
        "    def validar_precio(cls, value):\n",
        "        if value <= 0:\n",
        "            raise ValueError(\"El precio debe ser mayor que 0\")\n",
        "        return value"
      ],
      "metadata": {
        "id": "QGoJBsdF5pUk"
      },
      "execution_count": 355,
      "outputs": []
    },
    {
      "cell_type": "code",
      "source": [
        "producto1 = Product(name=\"Producto 1\", price=10.99, is_available=True, tipo='A')\n",
        "producto1.model_dump_json()"
      ],
      "metadata": {
        "colab": {
          "base_uri": "https://localhost:8080/",
          "height": 36
        },
        "id": "om-a_reHLQi8",
        "outputId": "a3081f1e-4ee9-42f9-a598-0b8c4b3cf05b"
      },
      "execution_count": 358,
      "outputs": [
        {
          "output_type": "execute_result",
          "data": {
            "text/plain": [
              "'{\"name\":\"producto 1\",\"price\":10.99,\"is_available\":true,\"creation_date\":\"2024-10-09T12:07:58.430907Z\"}'"
            ],
            "application/vnd.google.colaboratory.intrinsic+json": {
              "type": "string"
            }
          },
          "metadata": {},
          "execution_count": 358
        }
      ]
    },
    {
      "cell_type": "markdown",
      "source": [
        "### Ejercicio 10: Modelos de datos anidados\n",
        "\n",
        "1. Crea un modelo Pydantic llamado `Order` con campos como `product` (instancia de `Product`) y `quantity` (int).\n",
        "2. Crea una instancia de `Order` con datos completos, incluyendo un producto y una cantidad.\n"
      ],
      "metadata": {
        "id": "e8Wdu9A55cU0"
      }
    },
    {
      "cell_type": "code",
      "source": [
        "from pydantic import BaseModel\n",
        "from typing import Optional\n",
        "from datetime import datetime, timezone\n",
        "\n",
        "def obtener_fecha_hora():\n",
        "    # Esta función puede realizar cálculos u obtener valores dinámicamente.\n",
        "    return datetime.now(timezone.utc)\n",
        "\n",
        "class Product(BaseModel):\n",
        "    model_config = ConfigDict(populate_by_name=True, extra='ignore') # ignore, allow, forbid\n",
        "    name: str = Field(alias=\"product_name\", default_factory=lambda: Product.serializar_nombre())\n",
        "    price: Optional[float] = None\n",
        "    is_available: Optional[bool] = None\n",
        "    creation_date: datetime = Field(default_factory=obtener_fecha_hora)\n",
        "\n",
        "    @field_serializer(\"name\")\n",
        "    def serializar_nombre(self, value):\n",
        "        return value.lower()\n",
        "\n",
        "    @field_validator(\"price\")\n",
        "    @classmethod\n",
        "    def validar_precio(cls, value):\n",
        "        if value <= 0:\n",
        "            raise ValueError(\"El precio debe ser mayor que 0\")\n",
        "        return value\n",
        "\n",
        "\n",
        "class Order(BaseModel):\n",
        "    product: Product\n",
        "    quantity: int"
      ],
      "metadata": {
        "id": "4DPH_OKT5ppp"
      },
      "execution_count": 359,
      "outputs": []
    },
    {
      "cell_type": "code",
      "source": [
        "producto1 = Product(name=\"Producto 1\", price=10.99, is_available=True, tipo='A')\n",
        "producto1.model_dump_json()\n",
        "orden = Order(product=producto1, quantity=5)"
      ],
      "metadata": {
        "id": "FhDt0xhaLq1e"
      },
      "execution_count": 361,
      "outputs": []
    },
    {
      "cell_type": "code",
      "source": [
        "print(orden.model_dump_json(indent=4))"
      ],
      "metadata": {
        "colab": {
          "base_uri": "https://localhost:8080/"
        },
        "id": "lcJNBB4BL9L-",
        "outputId": "569abbaa-8138-47f7-cccc-a016947dd823"
      },
      "execution_count": 362,
      "outputs": [
        {
          "output_type": "stream",
          "name": "stdout",
          "text": [
            "{\n",
            "    \"product\": {\n",
            "        \"name\": \"producto 1\",\n",
            "        \"price\": 10.99,\n",
            "        \"is_available\": true,\n",
            "        \"creation_date\": \"2024-10-09T12:10:08.146540Z\"\n",
            "    },\n",
            "    \"quantity\": 5\n",
            "}\n"
          ]
        }
      ]
    },
    {
      "cell_type": "code",
      "source": [],
      "metadata": {
        "id": "PaTN4embL_DA"
      },
      "execution_count": null,
      "outputs": []
    }
  ]
}