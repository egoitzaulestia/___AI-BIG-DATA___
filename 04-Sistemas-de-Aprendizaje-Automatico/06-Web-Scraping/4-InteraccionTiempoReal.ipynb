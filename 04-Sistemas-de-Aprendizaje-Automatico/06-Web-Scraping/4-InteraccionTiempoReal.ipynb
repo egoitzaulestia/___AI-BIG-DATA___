{
 "cells": [
  {
   "cell_type": "code",
   "execution_count": 10,
   "metadata": {},
   "outputs": [],
   "source": [
    "## Interactuar con paginas web en tiempo real ##\n",
    "    \n",
    "    \n",
    "# Se quiere scrapear una web en la que se simula la tirada de un dado\n",
    "import mechanicalsoup\n",
    "\n",
    "# En primer lugar hay que determinar que elemento de la pagina\n",
    "# contiene el resultado de la tirada (Codigo fuente de la web) \n",
    "#    <h2 id=\"result\">1</h2>"
   ]
  },
  {
   "cell_type": "code",
   "execution_count": 11,
   "metadata": {},
   "outputs": [],
   "source": [
    "# Creamos el objeto Browser\n",
    "browser = mechanicalsoup.Browser()\n",
    "\n",
    "# Solicitud de la URL deseada\n",
    "page = browser.get(\"http://olympus.realpython.org/dice\")"
   ]
  },
  {
   "cell_type": "code",
   "execution_count": 12,
   "metadata": {},
   "outputs": [
    {
     "data": {
      "text/plain": [
       "<html>\n",
       "<head>\n",
       "<title>Dice Roll</title>\n",
       "</head>\n",
       "<body bgcolor=\"yellow\">\n",
       "<center>\n",
       "<br/><br/>\n",
       "<h1>Your dice roll result:</h1>\n",
       "<br/>\n",
       "<h2 id=\"result\">1</h2>\n",
       "<br/>\n",
       "<p><a href=\"/dice\">Roll it again</a></p>\n",
       "<br/>\n",
       "<br/>\n",
       "<p id=\"time\">February 18, 2025 08:32:19AM</p>\n",
       "</center>\n",
       "</body>\n",
       "</html>"
      ]
     },
     "execution_count": 12,
     "metadata": {},
     "output_type": "execute_result"
    }
   ],
   "source": [
    "page.soup"
   ]
  },
  {
   "cell_type": "code",
   "execution_count": 13,
   "metadata": {},
   "outputs": [],
   "source": [
    "# Buscamos el elemento con id=result. \n",
    "# En este caso utilizamos el selector de ID de CSS (#) para indicar que\n",
    "# lo que queremos es el valor del id.\n",
    "tag = page.soup.select(\"#result\")[0]\n",
    "#tag = page.soup.select(\"h2\")"
   ]
  },
  {
   "cell_type": "code",
   "execution_count": 14,
   "metadata": {},
   "outputs": [
    {
     "name": "stdout",
     "output_type": "stream",
     "text": [
      "The result of your dice roll is: 1\n"
     ]
    }
   ],
   "source": [
    "result = tag.text\n",
    "\n",
    "print(f\"The result of your dice roll is: {result}\")   "
   ]
  },
  {
   "cell_type": "code",
   "execution_count": 15,
   "metadata": {},
   "outputs": [
    {
     "name": "stdout",
     "output_type": "stream",
     "text": [
      "I'm about to wait for five seconds...\n",
      "Done waiting!\n"
     ]
    }
   ],
   "source": [
    "# Para obtener resultados continuamente hay que crear un bucle \n",
    "# que cargue la pagina en cada caso. Añadimos un tiempo de espera entre tiradas\n",
    "\n",
    "\n",
    "# Ejemplo modulo .sleep()\n",
    "import time\n",
    "\n",
    "print(\"I'm about to wait for five seconds...\")\n",
    "time.sleep(5)\n",
    "print(\"Done waiting!\")"
   ]
  },
  {
   "cell_type": "code",
   "execution_count": 16,
   "metadata": {},
   "outputs": [],
   "source": [
    "import time\n",
    "import mechanicalsoup\n",
    "\n",
    "browser = mechanicalsoup.Browser()"
   ]
  },
  {
   "cell_type": "code",
   "execution_count": 17,
   "metadata": {},
   "outputs": [
    {
     "name": "stdout",
     "output_type": "stream",
     "text": [
      "The result of your dice roll is: 4\n",
      "The result of your dice roll is: 4\n",
      "The result of your dice roll is: 3\n",
      "The result of your dice roll is: 3\n"
     ]
    }
   ],
   "source": [
    "for i in range(4):\n",
    "    page = browser.get(\"http://olympus.realpython.org/dice\")\n",
    "    tag = page.soup.select(\"#result\")[0]\n",
    "    result = tag.text\n",
    "    print(f\"The result of your dice roll is: {result}\")\n",
    "    time.sleep(10) # Tiempo espera"
   ]
  },
  {
   "cell_type": "code",
   "execution_count": 8,
   "metadata": {},
   "outputs": [],
   "source": [
    "# Optimizamos el codigo para no tener que esperar 10seg en la tirada 4    \n",
    "    \n",
    "import time\n",
    "import mechanicalsoup\n",
    "\n",
    "browser = mechanicalsoup.Browser()"
   ]
  },
  {
   "cell_type": "code",
   "execution_count": 18,
   "metadata": {},
   "outputs": [
    {
     "name": "stdout",
     "output_type": "stream",
     "text": [
      "The result of your dice roll is: 2\n",
      "The result of your dice roll is: 1\n",
      "The result of your dice roll is: 3\n",
      "The result of your dice roll is: 2\n"
     ]
    }
   ],
   "source": [
    "for i in range(4):\n",
    "    page = browser.get(\"http://olympus.realpython.org/dice\")\n",
    "    tag = page.soup.select(\"#result\")[0]\n",
    "    result = tag.text\n",
    "    print(f\"The result of your dice roll is: {result}\")\n",
    "\n",
    "    # Esperamos 10seg siempre que no sea la ultima tirada\n",
    "    if i < 3:\n",
    "        time.sleep(10)  "
   ]
  },
  {
   "cell_type": "code",
   "execution_count": null,
   "metadata": {},
   "outputs": [],
   "source": []
  }
 ],
 "metadata": {
  "kernelspec": {
   "display_name": "base",
   "language": "python",
   "name": "python3"
  },
  "language_info": {
   "codemirror_mode": {
    "name": "ipython",
    "version": 3
   },
   "file_extension": ".py",
   "mimetype": "text/x-python",
   "name": "python",
   "nbconvert_exporter": "python",
   "pygments_lexer": "ipython3",
   "version": "3.9.19"
  }
 },
 "nbformat": 4,
 "nbformat_minor": 2
}
