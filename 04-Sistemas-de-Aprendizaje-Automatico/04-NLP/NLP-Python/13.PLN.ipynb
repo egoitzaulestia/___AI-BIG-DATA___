{
 "cells": [
  {
   "cell_type": "markdown",
   "metadata": {},
   "source": [
    "# PLN (Procesamiento del lenguaje natural) con Python - Recetas\n",
    "  \n",
    "**Requisitos: Será necesario instalar la librería NLTK, además de descargar el corpus para las stopwords. Por defecto Conda incluye el paquete NLTK así como Google Colab.  En el caso de que no estuviera instalado NLTK, ejecutar el siguiente chunk**"
   ]
  },
  {
   "cell_type": "code",
   "execution_count": 1,
   "metadata": {},
   "outputs": [],
   "source": [
    "# Ejecutar este chunk sólo si no está instalado NLTK\n",
    "# Descomentar la siguiente línea para instalar la libraría:\n",
    "\n",
    "#!conda install nltk "
   ]
  },
  {
   "cell_type": "code",
   "execution_count": 1,
   "metadata": {},
   "outputs": [],
   "source": [
    "import nltk"
   ]
  },
  {
   "cell_type": "code",
   "execution_count": 3,
   "metadata": {},
   "outputs": [
    {
     "name": "stdout",
     "output_type": "stream",
     "text": [
      "NLTK Downloader\n",
      "---------------------------------------------------------------------------\n",
      "    d) Download   l) List    u) Update   c) Config   h) Help   q) Quit\n",
      "---------------------------------------------------------------------------\n"
     ]
    }
   ],
   "source": [
    "# nltk.download_shell() \n",
    "# #d) DOwnload:\n",
    "# #stopwords"
   ]
  },
  {
   "cell_type": "markdown",
   "metadata": {},
   "source": [
    "## 1.Descarga de un corpus externo\n",
    "Descargaremos el set de datos de películas Cornell CS Movie.  Incluye valoraciones positivas y negativas de diferentes películas.  Los datos pueden descargarse desde:\n",
    "http://www.cs.cornell.edu/people/pabo/movie-review-data/mix20_rand700_tokens_cleaned.zip"
   ]
  },
  {
   "cell_type": "code",
   "execution_count": 2,
   "metadata": {},
   "outputs": [],
   "source": [
    "from nltk.corpus import CategorizedPlaintextCorpusReader"
   ]
  },
  {
   "cell_type": "markdown",
   "metadata": {},
   "source": [
    "El corpus ya está categorizado por múltiples ficheros de texto con revisiones positivas y negativas), por eso usamos **CategorizedPlaintextCorpusReader** en este caso.  Más adelante trabajaremos con datos que no lo están. La clase CategorizedPlainCorpusReader, nos permite cargar los datos manteniendo la categorización."
   ]
  },
  {
   "cell_type": "code",
   "execution_count": 26,
   "metadata": {},
   "outputs": [],
   "source": [
    "reader = CategorizedPlaintextCorpusReader(\n",
    "    r'//Users/egoitzaulestiapadilla/01_CODE/___AI-BIG-DATA___/04-Sistemas-de-Aprendizaje-Automatico/04-NLP/NLP-Python/mix20_rand700_tokens_cleaned',\n",
    "    r'.*\\.txt',\n",
    "    cat_pattern=r'tokens/([^/]+)/.*',\n",
    "    encoding='cp1252'\n",
    ")\n"
   ]
  },
  {
   "cell_type": "code",
   "execution_count": 27,
   "metadata": {},
   "outputs": [
    {
     "name": "stdout",
     "output_type": "stream",
     "text": [
      "['neg', 'pos']\n",
      "['tokens/neg/cv001_tok-19324.txt', 'tokens/neg/cv002_tok-3321.txt', 'tokens/neg/cv003_tok-13044.txt', 'tokens/neg/cv004_tok-25944.txt', 'tokens/neg/cv005_tok-24602.txt', 'tokens/neg/cv006_tok-29539.txt', 'tokens/neg/cv007_tok-11669.txt', 'tokens/neg/cv008_tok-11555.txt', 'tokens/neg/cv009_tok-19587.txt', 'tokens/neg/cv010_tok-2188.txt', 'tokens/neg/cv011_tok-7845.txt', 'tokens/neg/cv012_tok-26965.txt', 'tokens/neg/cv013_tok-14854.txt', 'tokens/neg/cv014_tok-12391.txt', 'tokens/neg/cv015_tok-23730.txt', 'tokens/neg/cv016_tok-16970.txt', 'tokens/neg/cv017_tok-27221.txt', 'tokens/neg/cv018_tok-11502.txt', 'tokens/neg/cv019_tok-2003.txt', 'tokens/neg/cv020_tok-13096.txt', 'tokens/neg/cv021_tok-29141.txt', 'tokens/neg/cv022_tok-25633.txt', 'tokens/neg/cv023_tok-25625.txt', 'tokens/neg/cv024_tok-22867.txt', 'tokens/neg/cv025_tok-12991.txt', 'tokens/neg/cv026_tok-23590.txt', 'tokens/neg/cv027_tok-20123.txt', 'tokens/neg/cv028_tok-25883.txt', 'tokens/neg/cv029_tok-27815.txt', 'tokens/neg/cv030_tok-23788.txt', 'tokens/neg/cv031_tok-25886.txt', 'tokens/neg/cv032_tok-9567.txt', 'tokens/neg/cv033_tok-13710.txt', 'tokens/neg/cv034_tok-25395.txt', 'tokens/neg/cv035_tok-22978.txt', 'tokens/neg/cv036_tok-9704.txt', 'tokens/neg/cv037_tok-18875.txt', 'tokens/neg/cv038_tok-25639.txt', 'tokens/neg/cv039_tok-11790.txt', 'tokens/neg/cv040_tok-24758.txt', 'tokens/neg/cv041_tok-17672.txt', 'tokens/neg/cv042_tok-23615.txt', 'tokens/neg/cv043_tok-12173.txt', 'tokens/neg/cv044_tok-13701.txt', 'tokens/neg/cv045_tok-13307.txt', 'tokens/neg/cv046_tok-14467.txt', 'tokens/neg/cv047_tok-26750.txt', 'tokens/neg/cv048_tok-14254.txt', 'tokens/neg/cv049_tok-24355.txt']\n"
     ]
    }
   ],
   "source": [
    "print(reader.categories())\n",
    "print(reader.fileids()[1:50])"
   ]
  },
  {
   "cell_type": "code",
   "execution_count": 23,
   "metadata": {},
   "outputs": [
    {
     "name": "stdout",
     "output_type": "stream",
     "text": [
      "tristar / 1 : 30 / 1997 / r ( language , violence , dennis rodman ) cast : jean-claude van damme ; mickey rourke ; dennis rodman ; natacha lindinger ; paul freeman director : tsui hark screenplay : dan jakoby ; paul mones ripe with explosions , mass death and really weird hairdos , tsui hark's \" double team \" must be the result of a tipsy hollywood power lunch that decided jean-claude van damme needs another notch on his bad movie-bedpost and nba superstar dennis rodman should have an acting career . actually , in \" double team , \" neither's performance is all that bad . i've always been the one critic to defend van damme -- he possesses a high charisma level that some genre stars ( namely steven seagal ) never aim for ; it's just that he's never made a movie so exuberantly witty since 1994's \" timecop . \" and rodman . . . well , he's pretty much rodman . he's extremely colorful , and therefore he pretty much fits his role to a t , even if the role is that of an ex-cia weapons expert . it's the story that needs some major work . van damme plays counter-terrorist operative jack quinn , who teams up with arms dealer yaz ( rodman ) to rub out deadly gangster stavros ( mickey rourke , all beefy and weird-looking ) in an antwerp amusement park . the job is botched when stavros' son gets killed in the gunfire , and quinn is taken off to an island known as \" the colony \" -- a think tank for soldiers \" too valuable to kill \" but \" too dangerous to set free . \" quinn escapes and tries to make it back home to his pregnant wife ( natacha lindinger ) , but stavros is out for revenge and kidnaps her . so , what's a kickboxing mercenary to do ? quinn looks up yaz and the two travel to rome so they can rescue the woman , kill stavros , save the world and do whatever else the screenplay requires them to do . with crazy , often eye-popping camera work by peter pau and rodman's lite brite locks , \" double team \" should be a mildly enjoyable guilty pleasure . but too much tries to happen in each frame , and the result is a movie that leaves you exhausted rather than exhilarated . the numerous action scenes are loud and headache-inducing and the frenetic pacing never slows down enough for us to care about what's going on in the movie . and much of what's going on is just wacky . there's a whole segment devoted to net-surfing monks that i have yet to figure out . and the climax finds quinn going head-to-head with a tiger in the roman coliseum while yaz circles them on a motorcycle , trying to avoid running over land mines and hold on to quinn's baby boy ( who's in a bomb equipped basket ) -- all this while stavros watches shirtless from the bleachers . did i mention \" double team \" is strange ? when it all comes down , this is just another rarely entertaining formula killathon , albeit one that feels no need to indulge in gratuitous profanity . rodman juices things up with his blatantly vibrant screen persona , though , leading up to a stunt where he kicks an opponent between the legs . but we didn't need \" double team \" to tell us he could do that , did we ? © 1997 jamie peck e-mail : jpeck1@gl . umbc . edu visit the reel deal online : http : //www . gl . umbc . edu/~jpeck1/ \n",
      "\n"
     ]
    }
   ],
   "source": [
    "print(reader.raw(reader.fileids()[0]))  # Reads the full content of the second file\n"
   ]
  },
  {
   "cell_type": "code",
   "execution_count": 17,
   "metadata": {},
   "outputs": [
    {
     "data": {
      "text/plain": [
       "'tristar / 1 : 30 / 1997 / r ( language , violence , dennis rodman ) cast : jean-claude van damme ; mickey rourke ; dennis rodman ; natacha lindinger ; paul freeman director : tsui hark screenplay : dan jakoby ; paul mones ripe with explosions , mass death and really weird hairdos , tsui hark\\'s \" double team \" must be the result of a tipsy hollywood power lunch that decided jean-claude van damme needs another notch on his bad movie-bedpost and nba superstar dennis rodman should have an acting career . actually , in \" double team , \" neither\\'s performance is all that bad . i\\'ve always been the one critic to defend van damme -- he possesses a high charisma level that some genre stars ( namely steven seagal ) never aim for ; it\\'s just that he\\'s never made a movie so exuberantly witty since 1994\\'s \" timecop . \" and rodman . . . well , he\\'s pretty much rodman . he\\'s extremely colorful , and therefore he pretty much fits his role to a t , even if the role is that of an ex-cia weapons expert . it\\'s the story that needs some major work . van damme plays counter-terrorist operative jack quinn , who teams up with arms dealer yaz ( rodman ) to rub out deadly gangster stavros ( mickey rourke , all beefy and weird-looking ) in an antwerp amusement park . the job is botched when stavros\\' son gets killed in the gunfire , and quinn is taken off to an island known as \" the colony \" -- a think tank for soldiers \" too valuable to kill \" but \" too dangerous to set free . \" quinn escapes and tries to make it back home to his pregnant wife ( natacha lindinger ) , but stavros is out for revenge and kidnaps her . so , what\\'s a kickboxing mercenary to do ? quinn looks up yaz and the two travel to rome so they can rescue the woman , kill stavros , save the world and do whatever else the screenplay requires them to do . with crazy , often eye-popping camera work by peter pau and rodman\\'s lite brite locks , \" double team \" should be a mildly enjoyable guilty pleasure . but too much tries to happen in each frame , and the result is a movie that leaves you exhausted rather than exhilarated . the numerous action scenes are loud and headache-inducing and the frenetic pacing never slows down enough for us to care about what\\'s going on in the movie . and much of what\\'s going on is just wacky . there\\'s a whole segment devoted to net-surfing monks that i have yet to figure out . and the climax finds quinn going head-to-head with a tiger in the roman coliseum while yaz circles them on a motorcycle , trying to avoid running over land mines and hold on to quinn\\'s baby boy ( who\\'s in a bomb equipped basket ) -- all this while stavros watches shirtless from the bleachers . did i mention \" double team \" is strange ? when it all comes down , this is just another rarely entertaining formula killathon , albeit one that feels no need to indulge in gratuitous profanity . rodman juices things up with his blatantly vibrant screen persona , though , leading up to a stunt where he kicks an opponent between the legs . but we didn\\'t need \" double team \" to tell us he could do that , did we ? © 1997 jamie peck e-mail : jpeck1@gl . umbc . edu visit the reel deal online : http : //www . gl . umbc . edu/~jpeck1/ \\r\\n'"
      ]
     },
     "execution_count": 17,
     "metadata": {},
     "output_type": "execute_result"
    }
   ],
   "source": [
    "reader.raw(reader.fileids()[0])"
   ]
  },
  {
   "cell_type": "code",
   "execution_count": 19,
   "metadata": {},
   "outputs": [
    {
     "name": "stdout",
     "output_type": "stream",
     "text": [
      "['tristar', '/', '1', ':', '30', '/', '1997', '/', 'r', ...]\n"
     ]
    }
   ],
   "source": [
    "print(reader.words(reader.fileids()[0]))  # Returns a list of words from the second file\n"
   ]
  },
  {
   "cell_type": "code",
   "execution_count": 20,
   "metadata": {},
   "outputs": [
    {
     "name": "stdout",
     "output_type": "stream",
     "text": [
      "['tokens']\n"
     ]
    }
   ],
   "source": [
    "print(reader.categories())  # Returns a list of categories\n"
   ]
  },
  {
   "cell_type": "markdown",
   "metadata": {},
   "source": [
    "Generamos los datos con revisión positiva y negativa"
   ]
  },
  {
   "cell_type": "code",
   "execution_count": 28,
   "metadata": {},
   "outputs": [],
   "source": [
    "posFiles = reader.fileids(categories='pos')\n",
    "negFiles = reader.fileids(categories='neg')"
   ]
  },
  {
   "cell_type": "code",
   "execution_count": 29,
   "metadata": {},
   "outputs": [
    {
     "data": {
      "text/plain": [
       "['tokens/pos/cv001_tok-10180.txt',\n",
       " 'tokens/pos/cv002_tok-12931.txt',\n",
       " 'tokens/pos/cv003_tok-8338.txt',\n",
       " 'tokens/pos/cv004_tok-29856.txt',\n",
       " 'tokens/pos/cv005_tok-26110.txt',\n",
       " 'tokens/pos/cv006_tok-28887.txt',\n",
       " 'tokens/pos/cv007_tok-14417.txt',\n",
       " 'tokens/pos/cv008_tok-15650.txt',\n",
       " 'tokens/pos/cv009_tok-6385.txt']"
      ]
     },
     "execution_count": 29,
     "metadata": {},
     "output_type": "execute_result"
    }
   ],
   "source": [
    "posFiles [1:10]"
   ]
  },
  {
   "cell_type": "markdown",
   "metadata": {},
   "source": [
    "Vamos a extraer de manera aleatoria los nombres de 2 ficheroas (uno con revisión negativa y otro positiva)."
   ]
  },
  {
   "cell_type": "code",
   "execution_count": 30,
   "metadata": {},
   "outputs": [
    {
     "name": "stdout",
     "output_type": "stream",
     "text": [
      "tokens/pos/cv448_tok-25113.txt\n",
      "tokens/neg/cv520_tok-20758.txt\n"
     ]
    }
   ],
   "source": [
    "from random import randint\n",
    "fileP = posFiles[randint(0,len(posFiles)-1)]\n",
    "fileN = negFiles[randint(0, len(posFiles) - 1)]\n",
    "print(fileP)\n",
    "print(fileN)"
   ]
  },
  {
   "cell_type": "markdown",
   "metadata": {},
   "source": [
    "Imprimimos cada fichero..."
   ]
  },
  {
   "cell_type": "code",
   "execution_count": 31,
   "metadata": {
    "scrolled": true,
    "tags": []
   },
   "outputs": [
    {
     "name": "stdout",
     "output_type": "stream",
     "text": [
      "directed by peter lord and nick park . \n",
      "screenplay by karey kirkpatrick , from a story by lord and park . \n",
      "starring julia sawalha , mel gibson , miranda richardson . \n",
      "running time : 84 minutes . \n",
      "rated g by the mfcb . \n",
      "reviewed on june 27th , 2000 . \n",
      "\" chicken run \" is the first full - length feature from nick park , creator of the popular \" wallace and gromit \" series of short films . \n",
      "like those movies , \" chicken run \" is done entirely in the claymation style of animation ( albeit far more advanced than those old rankin - bass christmas specials from the sixties that crop up on tv every december ) , and features a primarily british cast and setting . \n",
      "the result is a lovely family film , one which is sure to have tremendous appeal for the children while keeping the grown - ups quietly amused , as well . \n",
      "the tweedy chicken farm is home to hundreds of imprisoned chickens . \n",
      "some , like bunty ( imelda staunton ) , raf veteran fowler ( benjamin whitrow ) and dimwitted babs ( jane horrocks ) seem to accept their situation . \n",
      "others , like the feisty ginger ( julia sawalha from \" absolutely fabulous \" ) and scientific mac ( lynn ferguson ) are determined to escape . \n",
      "to this end , they devise numerous schemes of sometimes mindboggling complexity -- but every time , they meet with failure and are nabbed by the oafish mr tweedy ( tony haygarth ) . \n",
      "observes ginger , it ' s not enough that just one or two chickens escape -- she wants everyone to be free of the tweedys . \n",
      "then one day , rocky rhodes ( mel gibson ) , a smooth - talking flying rooster from america , lands in the chicken coop with an injured wing . \n",
      "he claims he can teach the chickens to fly , igniting ginger ' s hopes and dreams one more time . \n",
      "but the chickens ' mission is given new urgency when profit - minded mrs tweedy ( miranda richardson ) , tired of making chickenfeed ( excuse the pun ) selling eggs , purchases a fearsome new pie - making machine . \n",
      "\" chickens go in , pies come out , \" she declares . \n",
      "\" oooh , \" says mr tweedy , \" what kind of pies ? \" visually , \" chicken run \" is a treat . \n",
      "it doesn ' t possess the same kind of awe - inspiring cinematography as the summer ' s previous kid - oriented picture , \" dinosaur \" , but rather allows the viewer to feast upon the details of its every frame . \n",
      "there ' s a lot going on in each scene of \" chicken run \" , and i was particularly impressed by how so many of the claymation puppets were given distinct mannerisms , like babs ' constant knitting . \n",
      "claymation is a very different , more tactile style of animation than hand - drawn or computerised cartoons , giving the events an extra layer of reality , no matter how outlandish the goings - on . \n",
      "this is particularly effective in scenes like one where rocky and ginger are trapped in the bowels of the pie machine . \n",
      "the dangers are still comical but they feel more real , and the entire voyage through the contraption is all the more fascinating because of it . \n",
      "nowhere is this more true than in the movie ' s outstanding climax , a more thrilling and inventive ending than most films so far this year . \n",
      "you ' ll believe a chicken can fly . \n",
      ". \n",
      ". \n",
      "as it were . \n",
      "the voicework is generally accomplished , particularly amongst the british cast : mel gibson does a fine job as rocky , but he ' s clearly just playing a skewed version of his own public image here . \n",
      "the other artistes give their characters more personality , and as a result chickens like ginger and fowler come across as better - rounded individuals . \n",
      "indeed , the animals of \" chicken run \" are by and large more interesting than the humans in most other movies this summer ! richardson , meanwhile , finds just the right note as the fiendish but not too - exaggerated mrs tweedy . \n",
      "and horrocks is perhaps best of all as the simple - minded , put - upon mr tweedy , who is the only one aware that the chickens are plotting an escape ( \" the chickens -- they ' ve organised ! \" he protests to his disbelieving wife ) . \n",
      "as a comedy , \" chicken run \" is funny , but i suspect children will get more laughs out of it than adults . \n",
      "certainly , i found the movie made me just smile more often than outright guffaw . \n",
      "that said , there are definitely elements intended for both age groups , and the screenplay by karey kirkpatrick slips in several references which only the grown - ups will get -- the chickens meet in hut 17 , for example , a sly reference to the world war ii internment movie \" stalag 17 \" , starring william holden . \n",
      "viewers should particularly keep an eye out for the cleverly - named nick and fetcher ( timothy spall from \" topsy - turvy \" and phil daniels ) , two rats who supply the chickens with merchandise -- for a price . \n",
      "this pair forms a hilarious double act , and steal virtually every scene they ' re in . \n",
      "be sure to stick around for their post - credits conversation . \n",
      "\" chicken run \" avoids the pitfall of many kids ' movies by not being particularly preachy or heavy - handed in getting its message across . \n",
      "there ' s a lot of good stuff here , about teamwork and never giving up , but kirkpatrick doesn ' t belabor the point . \n",
      "he trusts that his audience is intelligent enough to figure these things out for themselves ; i wish other movies had this kind of faith . \n",
      "parents will also be glad to learn that , content - wise , \" chicken run \" should be suitable for just about any age . \n",
      "there are scenes of suspense ( like the aforementioned journey through the pie machine ) , but these are tempered with a lot of humor and shouldn ' t prove notably frightening . \n",
      "even scenes depicting the stark reality of the chicken farm -- a chicken who can no longer lay eggs is beheaded and cooked for dinner by the tweedys , for instance -- are handled in a careful manner that gets the idea across without being unnecessarily traumatising . \n",
      "\" chicken run \" is just what the box office needed amongst the tidal wave of big - budget summer actions flicks : a good - natured , funny movie that pretty much anyone can enjoy . \n",
      "well - written , well - acted and certainly well - made , \" chicken run \" may by the best family movie this year . \n",
      "copyright © 2000 shannon patrick sullivan . \n",
      "archived at the popcorn gallery , http : // www . \n",
      "physics . \n",
      "mun . \n",
      "ca /~ sps / movies / chickenrun . \n",
      "html _______________________________________________________________________ / shannon patrick sullivan | \" we are all in the gutter , but some of us \\ | shannon @ mun . \n",
      "ca | are looking at the stars . \n",
      "\" - oscar wilde | \\ ___________________________ | __________________________________________ / | popcorn gallery movie reviews www . \n",
      "physics . \n",
      "mun . \n",
      "ca /~ sps / movies . \n",
      "html | | doctor who : a brief history of time ( travel ) / drwho . \n",
      "html | "
     ]
    },
    {
     "name": "stderr",
     "output_type": "stream",
     "text": [
      "<>:3: SyntaxWarning: \"is\" with a literal. Did you mean \"==\"?\n",
      "<>:3: SyntaxWarning: \"is\" with a literal. Did you mean \"==\"?\n",
      "/var/folders/3_/bsh490990pv6w7gjtmjv6qy80000gn/T/ipykernel_2500/3888772881.py:3: SyntaxWarning: \"is\" with a literal. Did you mean \"==\"?\n",
      "  if (w is '.'):\n"
     ]
    }
   ],
   "source": [
    "for w in reader.words(fileP):\n",
    "    print(w + ' ', end='')\n",
    "    if (w is '.'):\n",
    "        print()"
   ]
  },
  {
   "cell_type": "code",
   "execution_count": 32,
   "metadata": {
    "scrolled": true,
    "tags": []
   },
   "outputs": [
    {
     "name": "stdout",
     "output_type": "stream",
     "text": [
      "for more reviews and movie screensavers , visit http : // www . \n",
      "joblo . \n",
      "com / writer / director lawrence kasdan had a hand in penning some of the biggest film successes of the 1980s . \n",
      "yes , that ' s right , he co - wrote raiders of the lost ark ( 9 / 10 ) , the empire strikes back ( 8 . \n",
      "5 / 10 ) and return of the jedi ( 8 / 10 ) . \n",
      "now with this film , it looks as though he has decided to test his skills at mediocre screenwriting and bland directing . \n",
      "and guess what ? he succeeds once again ! plot : a man with a shady and regrettable past decides to run away and into a small american town , where he pretends to be a licensed psychologist to an open - armed swarm of people with problems . \n",
      "it isn ' t long before he befriends the small - town billionaire , folks become suspicious and he falls for one of his own patients . \n",
      "critique : this film is not a comedy ! it is a drama . \n",
      "i say this right up front because from the looks of the trailer , you would think that this film secures its base in humor , but unfortunately for us , it does not . \n",
      "it is a serious film ( seriously flawed if you ask me , but i digress ) which offers a couple of witty quips to keep you awake , but overall , just sits there . \n",
      "now on to my review . \n",
      "this movie sucks because it was slow and boring , starred an uninteresting protagonist with an unbelievable past , included extremely dull patients whose problems left me indifferent at best and pissed at worst , and certified it all with many a predictable ending . \n",
      "i have no idea what lawrence kasdan was trying to accomplish with this picture , but whatever it was . \n",
      ". \n",
      ". \n",
      "he missed ! anyone without his name could never have made this film because it is an extremely generic puff - piece , which on a good day , might be described as predictably digestible . \n",
      "it ' s no wonder that the studio is trying to sell it as a comedy ! it sucks as a drama , and bored my movie cohort right to sleep . \n",
      "i ' ve given it four points on four extremely shallow yet distinguishable marks . \n",
      "first of all , i couldn ' t help but think about how much the lead actor , loren dean , looked like a young charles grodin . \n",
      "he even acted like him , save for the dry , sardonic wit . \n",
      "this kept me interested in watching him at least . \n",
      "number two , and this one is really shallow ( seemed to be geared that way as well ) , there were quite a few \" titshots \" , as they would say back in high school . \n",
      "and god help me if i can ' t get enough of those in an aimless drama . \n",
      "and three , and this one surprised me the most , actor ted danson ' s cameo ( yes , he will always be sam malone to us real fans ! ) was the best part about this movie and actually made me see him as a different person . \n",
      "a different asshole , but a different person nonetheless . \n",
      "if ever you rent this movie one day ( promise you won ' t throw away your hard - earned money at the theaters ? ! ) , wait for his scene because it ' s actually pretty good . \n",
      "other than that , drab , drab , drab and drab . \n",
      "even jason lee , a personal favorite of mine , was left out to dry with lame dialogue and one of the phoniest romances to hit the big screen in a while . \n",
      "well , at least he finally \" came out \" and did some real skateboarding in this movie ! oh yeah , and i guess that ' s the fourth point in my rating . \n",
      "anyway , if you enjoy watching boring patients babble on about their boring problems to an uninteresting psychologist . \n",
      ". \n",
      ". \n",
      "this film ' s your bag ! otherwise , skip it and see analyze this ( 8 / 10 ) again . \n",
      ". \n",
      ". \n",
      "now there ' s a great shrink movie ! little known facts about this film and its stars : \" three ' s company \" fans alert ! ! ! terri from the tv show , also known as actress priscilla barnes , plays a small but pivotal part as the landlady in this film . \n",
      "the scene is actually a fantasy sequence and does feature cleavage , so stay tuned , kids ! also , it is to note that the actress was once named \" penthouse pet of the month \" in march of 1976 . \n",
      "she was known as one joann witty back then . \n",
      "she ' s originally from jersey . \n",
      "who the hell is loren dean , the dude who plays mumford in this film ? you got me , but all i know is that he was born in las vegas in 1969 and played the character of billy bathgate in the 1991 film of the same name . \n",
      "jason lee was born in the state of california in the year of 1971 . \n",
      "he was a professional skateboarder before his acting career took off after mallrats ( 6 / 10 ) , and even owns his own skateboarding company called stereo manufacturing corp . \n",
      "he ' s been in every kevin smith film except for clerks ( 8 . \n",
      "5 / 10 ) . \n",
      "listen closely and you will hear the pharmacist in this film ( the ballooning actor formerly known as pruit taylor vince ) make a reference to the \" lost ark \" , which is obviously an in - joke , considering that it is the writer / director of this film , lawrence kasdan , who co - wrote raiders of the lost ark ( 9 / 10 ) . \n",
      "kasdan also played the part of dr . \n",
      "green in 1997 ' s as good as it gets ( 8 / 10 ) . \n",
      "ted danson also played the role of lawyer peter lowenstein in kasdan ' s 1981 directorial debut body heat starring a sexy kathleen turner and william hurt . \n"
     ]
    },
    {
     "name": "stderr",
     "output_type": "stream",
     "text": [
      "<>:3: SyntaxWarning: \"is\" with a literal. Did you mean \"==\"?\n",
      "<>:3: SyntaxWarning: \"is\" with a literal. Did you mean \"==\"?\n",
      "/var/folders/3_/bsh490990pv6w7gjtmjv6qy80000gn/T/ipykernel_2500/20101311.py:3: SyntaxWarning: \"is\" with a literal. Did you mean \"==\"?\n",
      "  if (w is '.'):\n"
     ]
    }
   ],
   "source": [
    "for w in reader.words(fileN):\n",
    "    print(w + ' ', end='')\n",
    "    if (w is '.'):\n",
    "        print()"
   ]
  },
  {
   "cell_type": "markdown",
   "metadata": {},
   "source": [
    "## 2.Contando todas las palabras 'wh'\n",
    "\n",
    "Usaremos en este caso el corpus 'Brown' incluido en el paquete NLTK.  Contiene aproximadamente 500 textos categorizados en 15 diferentes géneros y categorías (noticias, humor, ...)."
   ]
  },
  {
   "cell_type": "code",
   "execution_count": 33,
   "metadata": {},
   "outputs": [],
   "source": [
    "import nltk\n",
    "from nltk.corpus import brown"
   ]
  },
  {
   "cell_type": "markdown",
   "metadata": {},
   "source": [
    "Descargamos el set de datos."
   ]
  },
  {
   "cell_type": "code",
   "execution_count": null,
   "metadata": {},
   "outputs": [
    {
     "name": "stderr",
     "output_type": "stream",
     "text": [
      "[nltk_data] Downloading package brown to /home/mydoctor/nltk_data...\n",
      "[nltk_data]   Package brown is already up-to-date!\n"
     ]
    },
    {
     "data": {
      "text/plain": [
       "True"
      ]
     },
     "execution_count": 13,
     "metadata": {},
     "output_type": "execute_result"
    }
   ],
   "source": [
    "# nltk.download('brown')"
   ]
  },
  {
   "cell_type": "markdown",
   "metadata": {},
   "source": [
    "Las categorías existentes en el set de datos son:"
   ]
  },
  {
   "cell_type": "code",
   "execution_count": 34,
   "metadata": {},
   "outputs": [
    {
     "name": "stdout",
     "output_type": "stream",
     "text": [
      "['adventure', 'belles_lettres', 'editorial', 'fiction', 'government', 'hobbies', 'humor', 'learned', 'lore', 'mystery', 'news', 'religion', 'reviews', 'romance', 'science_fiction']\n"
     ]
    }
   ],
   "source": [
    "print(brown.categories())"
   ]
  },
  {
   "cell_type": "markdown",
   "metadata": {},
   "source": [
    "Seleccionamos 3 géneros, así como las palabras que queremos contar."
   ]
  },
  {
   "cell_type": "code",
   "execution_count": 35,
   "metadata": {},
   "outputs": [],
   "source": [
    "generos = ['fiction', 'humor', 'romance']\n",
    "palabraswh = ['what', 'which', 'how', 'why', 'when', 'where', 'who']"
   ]
  },
  {
   "cell_type": "code",
   "execution_count": 40,
   "metadata": {},
   "outputs": [
    {
     "name": "stdout",
     "output_type": "stream",
     "text": [
      "['The', 'Fulton', 'County', 'Grand', 'Jury']\n"
     ]
    }
   ],
   "source": [
    "words = brown.words(categories='news')  # Get all words from \"news\" category\n",
    "print(words[:5])  # First 20 words\n"
   ]
  },
  {
   "cell_type": "code",
   "execution_count": 41,
   "metadata": {},
   "outputs": [
    {
     "name": "stdout",
     "output_type": "stream",
     "text": [
      "\n",
      "Analizando 'fiction\n",
      "['Thirty-three', 'Scotty', 'did', 'not', 'go', 'back', ...]\n",
      "\n",
      "Analizando 'humor\n",
      "['It', 'was', 'among', 'these', 'that', 'Hinkle', ...]\n",
      "\n",
      "Analizando 'romance\n",
      "['They', 'neither', 'liked', 'nor', 'disliked', 'the', ...]\n"
     ]
    }
   ],
   "source": [
    "for i in range(0,len(generos)):\n",
    "    genero = generos[i]\n",
    "    print()\n",
    "    print(\"Analizando '\"+ genero)\n",
    "    texto_generos = brown.words(categories = genero)\n",
    "    print(texto_generos)"
   ]
  },
  {
   "cell_type": "markdown",
   "metadata": {},
   "source": [
    "Hemos extraído para cada género los textos en brown.  Ahora comprobaremos la distribución de frecuencias, para cada categoría seleccionada."
   ]
  },
  {
   "cell_type": "code",
   "execution_count": 42,
   "metadata": {},
   "outputs": [
    {
     "name": "stdout",
     "output_type": "stream",
     "text": [
      "\n",
      "Analizando 'fiction\n",
      "['Thirty-three', 'Scotty', 'did', 'not', 'go', 'back', ...]\n",
      "<FreqDist with 9302 samples and 68488 outcomes>\n",
      "\n",
      "Analizando 'humor\n",
      "['It', 'was', 'among', 'these', 'that', 'Hinkle', ...]\n",
      "<FreqDist with 5017 samples and 21695 outcomes>\n",
      "\n",
      "Analizando 'romance\n",
      "['They', 'neither', 'liked', 'nor', 'disliked', 'the', ...]\n",
      "<FreqDist with 8452 samples and 70022 outcomes>\n"
     ]
    }
   ],
   "source": [
    "for i in range(0,len(generos)):\n",
    "    genero = generos[i]\n",
    "    print()\n",
    "    print(\"Analizando '\"+ genero)\n",
    "    texto_generos = brown.words(categories = genero)\n",
    "    print (texto_generos)\n",
    "    fdist = nltk.FreqDist(texto_generos)\n",
    "    print (fdist)"
   ]
  },
  {
   "cell_type": "markdown",
   "metadata": {},
   "source": [
    "Samples -> Total muestras en los datos con el género buscado.  \n",
    "Outcomes -> Total de elementos existentes en las muestras.\n",
    "\n",
    "Podemos hacer lo mismo, para las palabras wh"
   ]
  },
  {
   "cell_type": "code",
   "execution_count": 8,
   "metadata": {},
   "outputs": [
    {
     "name": "stdout",
     "output_type": "stream",
     "text": [
      "what: 121 which: 104 how: 60 why: 34 when: 126 where: 54 who: 89 "
     ]
    }
   ],
   "source": [
    "for wh in palabraswh:\n",
    "    print(wh + ':', fdist[wh], end=' ')"
   ]
  },
  {
   "cell_type": "code",
   "execution_count": 16,
   "metadata": {},
   "outputs": [
    {
     "name": "stdout",
     "output_type": "stream",
     "text": [
      "0\n"
     ]
    }
   ],
   "source": []
  },
  {
   "cell_type": "markdown",
   "metadata": {},
   "source": [
    "Estamos iterando palabraswb y obteniendo el total de ocurrencias de cada caso (what aparece 121 veces en la categoría romance, which 104, ...).  Juntando todos los pasos..."
   ]
  },
  {
   "cell_type": "code",
   "execution_count": 9,
   "metadata": {},
   "outputs": [
    {
     "name": "stdout",
     "output_type": "stream",
     "text": [
      "['adventure', 'belles_lettres', 'editorial', 'fiction', 'government', 'hobbies', 'humor', 'learned', 'lore', 'mystery', 'news', 'religion', 'reviews', 'romance', 'science_fiction']\n",
      "\n",
      "Analizando 'fiction'\n",
      "what: 128 which: 123 how: 54 why: 18 when: 133 where: 76 who: 103 \n",
      "Analizando 'humor'\n",
      "what: 36 which: 62 how: 18 why: 9 when: 52 where: 15 who: 48 \n",
      "Analizando 'romance'\n",
      "what: 121 which: 104 how: 60 why: 34 when: 126 where: 54 who: 89 "
     ]
    }
   ],
   "source": [
    "print(brown.categories())\n",
    "for i in range(0,len(generos)):\n",
    "    genero = generos[i]\n",
    "    print()\n",
    "    print(\"Analizando '\"+ genero+\"'\")\n",
    "    texto_generos = brown.words(categories = genero)\n",
    "    fdist = nltk.FreqDist(texto_generos)\n",
    "    for wh in palabraswh:\n",
    "        print(wh + ':', fdist[wh], end=' ')"
   ]
  },
  {
   "cell_type": "code",
   "execution_count": null,
   "metadata": {},
   "outputs": [],
   "source": [
    "print(fdist['word'])  # Devuelve la frecuencia de la palabra 'word'\n"
   ]
  },
  {
   "cell_type": "code",
   "execution_count": 17,
   "metadata": {},
   "outputs": [
    {
     "name": "stdout",
     "output_type": "stream",
     "text": [
      "['25', 'SEXY', 'MALE', ',', 'seeks', 'attrac', 'older', 'single', 'lady', 'for', 'discreet', 'encounters', '.', '35YO', 'Security', 'Guard', 'seeking', 'in', 'uniform', 'fun', 'times', '40', 'yo', 'SINGLE', 'DAD', 'sincere', 'friendly', 'DTE', 'r', '/', 'ship', 'with', 'fem', 'age', 'open', 'S', 'E', '44yo', 'tall', 'working', 'mum', 'or', 'below', '45', 'fship', 'rship', 'Nat', 'Open', '6', '2', '35', 'yr', 'old', 'OUTGOING', 'M', '28', '-', 'o', 'door', 'sports', 'w', 'e', 'away', 'A', 'professional', 'business', 'male', 'late', '40s', 'feet', 'slim', 'build', 'well', 'groomed', 'great', 'personality', 'home', 'owner', 'interests', 'include', 'the', 'arts', 'travel', 'and', 'all', 'things', 'good', 'Ringwood', 'area', 'is', 'a', 'genuine', 'female', 'of', 'similar', 'same', 'surrounds', 'meaningful', 'long', 'term', 'Looking', 'forward', 'to', 'hearing', 'from', 'you', 'ABLE', 'young', 'man', 'sexy', 'women', 'Phone', 'ready', 'play', 'AFFECTIONATE', 'LADY', 'Sought', 'by', 'generous', 'guy', 'mutual', 'fulfillment', 'ARE', 'YOU', 'ALONE', 'lost', 'too', 'no', 'hope', 'sight', '?', 'Maybe', 'we', 'could', 'explore', 'new', 'beginnings', 'together', 'Im', 'Slim', 'Med', 'GSOH', 'high', 'needs', 'looking', 'someone', 'You', 'WONT', 'be', 'disappointed', 'AMIABLE', '43', 'y', 'gentleman', 'European', 'background', '170', 'cm', 'medium', 'employed', 'never', 'married', 'children', 'Enjoys', 'music', 'cafes', 'beach', '&', 'c', 'Seeks', 'an', 'honest', 'attractive', 'without', 'who', 'would', 'like', 'get', 'have', 'chil', 'dren', 'future', '29', '39', 'Prefer', 'non', 'smoker', 'living', 'Adelaide', 'COPPER', 'REDHEAD', 'I', 'am', '36', 'companionship', 'friendship', 'enjoy', 'AFL', 'animals', 'dining', 'out', 'ATTRACTIVE', 'Y', 'O', '61', 'financially', 'secure', 'up', 'View', 'permanent', 'relationship', 'GUY', 'Late', '30s', '57', 'Taurus', 'Into', 'fitness', 'movies', 'dinner', 'parties', 'there', 'AUSSIE', 'Solid', 'likes', 'walks', 'on', 'meet', 'view', 'AUSTRALIAN', 'FATHER', '58', 'With', '11', 'son', 'me', 'nice', 'caring', 're', 'lationship', 'coastal', 'town', 'Eyre', 'Peninsula', 'Age', '55', 'SLIM', 'FUN', '5', 'ft', '8', 'Enjoy', 'BBQs', 'sport', 'fishing', 'going', 'meal', 'Fun', 'com', 'panion', 'aged', 'between', '50', 'Must', 'Possible', 'BEAUTIFUL', 'INTELLIGENT', 'CARING', 'MUSICAL', 'Shy', '20s', 'size', '12', 'blonde', 'hair', 'drink', 'Guiness', 'If', 'this', 'then', 'want', 'BLONDE', 'HAIR', 'BLUE', 'EYES', 'Medium', 'my', 'early', 'Am', 'golf', 'bike', 'riding', 'TV', 'DVDs', 'quiet', 'nights', 'at', 'kissing', 'cuddling', 'special', 'person', 'life', 'BUSINESSMAN', '60', \"''\", 'ish', '56', 'taller', 'outlook', 'ties', 'prepared', 'outdoor', '(', 'cars', 'boats', 'etc', '.),', 'wining', 's', 'h', 'modern', 'CUDDLY', 'FULL', 'FIGURED', 'plus', 'sought', 'Australian', 'gent', '60s', 'drinker', 'FIT', 'ACTIVE', 'EASYGOING', 'med', 'fit', 'healthy', 'fully', 'light', 'Seeking', 'friend', '+.', 'towards', 'Give', 'call', 'lets', 'chat', 'GENUINE', 'AND', 'HONEST', 'Hi', '44', 'sense', 'humour', 'romantic', 'love', 'drives', 'camping', 'Love', 'kids', '38', 'possible', 'MAN', '.,', '9', 'outdoors', 'gym', 'country', 'woman', 'enjoys', 'simple', 'GOOD', 'LISTENER', 'Well', 'educated', 'blue', 'eyes', 'brown', 'Mid', 'n', 'Likes', 'looks', 'not', 'important', 'nor', 'distance', 'speed', 'complete', 'social', 'circles', 'GREEK', 'AUST', 'Early', 'bbqs', 'football', '20', '30', 'HANDSOME', 'Tall', 'independant', 'under', 'standing', 'mid', '50s', 'classy', 'wants', 'retain', 'her', 'privacy', 'still', 'independance', 'private', 'HERE', 'AM', 'PICK', 'ME', '!', 'Now', 'that', 'your', 'attention', '59', 'active', 'LIMESTONE', 'COAST', 'REGION', 'Attractive', '46', 'Interests', 'incl', 'self', 'sufficiencies', 'permaculture', 'smoking', 'loving', 'LATE', 'Single', 'prof', ':', 'Music', 'theatre', 'art', 'environment', 'share', 'concerts', 'unimportant', 'RETIRED', 'GENT', 'Like', 'caravan', 'heading', 'Darwin', 'May', 'driving', 'ROMANTIC', 'one', 'child', 'year', 'Clare', 'Barossa', 'region', 'northern', 'suburbs', 'TALL', 'down', 'earth', 'easy', 'understanding', 'varied', 'quality', 'VIETNAMESE', 'welcome', 'WIDOW', 'EARLY', 'Self', 'established', 'UK', 'born', 'many', 'Sports', 'short', 'petite', 'any', 'years', '31', 'YO', 'ok', 'Eastern', 'Suburbs', 'Male', 'blond', 'outgoing', 'bet', 'easygoing', 'YEAR', 'OLD', 'Working', 'Would', 'CENTRAL', 'VICTORIAN', 'Dad', 'teen', 'daughters', 'HEALTHY', 'emp', 'tradesman', 'NS', 'Indian', 'Sri', 'Lankan', 'Olive', 'Dark', 'Complexion', '48', 'F', 'dship', 'Poss', 'rel', 'MATURE', 'N', 'Non', 'Asian', 'Sexy', 'WELL', 'DRESSED', 'emotionally', '37', 'full', 'figured', 'shy', 'D', 'NRL', 'nature', 'time', 'DtoE', 'SOH', 'Fship', 'poss', 'Rship', 'replies', 'only', 'ALA', 'Lots', 'friends', 'but', 'lonely', '57YRS', 'WLTM', 'Lady', 'outings', 'weekends', 'perm', 'if', 'suited', 'Nationality', '34yo', 'tractive', 'Ladies', 'are', 'poor', 'work', 'career', 'Have', 'always', 'connected', 'more', 'Women', 'TAINING', 'interesting', '46yo', 'Prof', 'Kind', 'listener', 'having', 'Witty', 'humorous', 'comb', 'responsible', 'reading', 'being', 'company', 'beginning', 'exciting', '57yrs', '177cm', 'meeting', 'sim', 'int', 'Please', 'send', 'photo', 'GENTLEMAN', 'cooking', 'house', 'gardening', 'wild', 'HI', 'SWM', '54y', 'nts', 'supporting', 'happy', 'nat', 'pamper', 'roll', 'loves', 'hurry', 'Is', 'Woman', 'spend', '1', 'weekend', 'month', 'Charters', 'Towers', 'especially', 'festival', 'so', 'please', 'write', 'Ref', '8826', 'PROFESSIONAL', 'walking', 'bch', 'amongst', 'other', 'Christian', '178cm', '79kg', 'Clean', 'cut', 'intelligent', 'natur', 'ist', 'minded', 'red', 'hd', 'brunette', 'eurasian', 'Home', 'My', '70', 'yrs', 'reliable', 'ASIAN', '+', 'SOUGHT', 'BY', 'Aussie', 'R', 'Kids', 'OK', 'as', 'family', 'Nice', 'Businessman', 'f', 'ATHLETIC', 'gen', 'Morn', 'Pen', 'Are', '50yo', 'SD', 'Caring', 'thats', 'seek', 'ing', 'casual', 'meetings', 'mature', 'ladies', 'BRIGHT', 'Boy', 'brain', 'cook', 'Physique', '42', 'fair', 'd', 'lunch', 'converse', 'Essendon', 'inner', 'Bright', 'positive', 'LOVING', 'Female', 'dressed', 'rom', 'elegance', 'CASUAL', 'weekday', 'obligation', 'East', 'EUROPEAN', '36yo', 'MARRIED', 'attr', 'encounter', '41yo', 'Greek', '37yrs', 'Good', 'larger', 'Preferably', 'nth', 'subs', 'LIKE', 'TO', 'BE', 'MISTRESS', 'YOUR', 'treated', 'Bold', 'precious', 'available', 'during', 'day', 'appreciate', 'Lets', 'Talk', ')', 'LJ', 'JS', 'Bayswater', 'Be', 'mine', '26', 'South', 'burly', 'beared', 'intimate', 'ston', 'MID', 'strings', 'attached', 'HANDYMAN', 'missing', 'TLC', 'position', 'MT', 'ELIZA', 'Business', 'gorg', 'passion', 'running', 'LTR', 'girl', 'serious', 'Man', 'assertive', 'kind', 'stylish', 'For', 'wine', 'Northcote', 'Married', 'Call', 'PROF', '68', 'Mornington', 'SCORPIO', '47', 'passionate', 'affair', '6ft', '95', 'kg', 'def', 'Knox', '4WD', '49', 'Fe', 'Ok', 'pref', 'STERN', 'HEADMASTER', 'firm', 'hand', 'naughty', 'Sgl', 'ave', 'bi', 'curious', 'dad', 'sub', '\"', 'FAIR', 'affectionate', 'loyal', 'WANT', 'SPOILT', 'Warm', 'natural', 'sgl', '38yo', 'YOUNG', 'girls', '23', 'YR', 'attract', 'uni', 'student', 'daytime', 'FRIEND', 'LOVER', 'find', 'presented', 'athletic', 'cuddly', 'ATTRACT', '32', 'younger', '18', '27', '52', 'Aust', 'GOSH', 'busty', 'curvaceous', 'DISCIPLINARIAN', 'Euro', 'Guy', 'Nth', 'Subs', 'into', 'Genuine', '52yo', 'HARLEY', 'RIDER', 'HERPES', 'dinners', 'JAPANESE', 'b', 'LOVE', 'widowed', 'over', 'North', 'West', '34', 'travels', 'lot', 'personal', 'trainer', 'Sth', '42yo', 'olive', 'skin', 'dog', 'thinks', 'he', 'human', 'partner', 'spoilt', 'commitment', 'OLDER', 'relation', 'adventure', 'NICE', 'GUYS', 'Aged', 'two', 'females', 'night', 'clubbing', 'COUNTRY', 'BOY', '+,', 'soh', 'Harley', 'rider', 'semi', 'retired', 'LITTLE', 'MAGIC', 'articulate', 'conversation', 'little', 'green', 'eyed', 'ABOUND', 'CAREFREE', 'Vibrant', 'creative', 'adventurous', 'executive', 'very', 'flexible', 'laugh', 'contrasts', 'finer', 'outlooks', 'ABOUT', 'Easygoing', '511', 'YEARS', 'Southern', 'lifestyle', 'ADELAIDE', 'HILLS', 'ADVENTUROUS', 'sensitive', 'vegetarian', '\",', 'travelled', 'AGED', 'dark', 'Interested', 'basketball', 'cricket', '10', 'pin', 'bowling', 'SANFL', 'travelling', 'nightclubs', 'TERTIARY', 'Educated', '53', 'V8', 'motor', 'racing', '65', 'EMPLOYED', 'haired', 'strictly', '41', 'No', 'normal', 'hours', 'near', 'City', 'EASY', 'GOING', 'Intelligent', 'exercise', 'daily', 'trustworthy', 'integrity', 'morals', 'Children', 'BALLROOM', 'DANCING', 'SEEKING', 'PARTNER', 'Me', 'slimmish', 'after', 'dancing', 'again', 'must', 'than', 'avoid', 'complications', 'unattached', 'CITY', 'GIRL', 'SEEKS', 'ROMANCE', 'farmer', 'land', '),', 'clean', 'shaven', 'strong', 'values', 'Other', 'callers', 'reply', 'DO', 'DANCE', 'Rock', 'Roll', 'dance', 'Friendship', 'maybe', 'leading', '510', 'western', 'southern', '5ft', 'large', 'nonsmoker', 'mother', '15', 'boy', 'Lives', 'NE', 'FEISTY', 'FOXY', 'YUMMY', 'GRANDMUMMY', 'laughter', 'least', 'enough', 'comfortable', 'just', 'watch', 'fanatical', 'bonus', 'GARDEN', '62', 'entertain', 'lead', '4', 'VERY', '54', 'hugs', 'kisses', 'those', 'tingles', 'when', 'click', 'lover', 'Amongst', 'river', 'real', 'WOMAN', 'OF', 'SUBSTANCE', 'elegant', 'preserved', 'sgle', 'Prince', 'Charming', 'Living', 'city', 'filled', 'glorious', 'sunsets', 'candlelight', 'fine', 'romance', 'true', 'YORKE', 'PENINSULA', '70s', 'pleasingly', 'plump', 'luncheons', 'cards', 'indoor', 'bowls', 'marriage', 'Melb', '43YO', 'car', '48YO', 'SWF', '54yo', 'Photo', 'pls', 'companion', 'go', 'Could', 'hearted', 'classes', 'about', 'some', 'experience', 'Ballroom', 'Jive', '51', 'sedate', 'appreciated', '63', 'genu', 'ine', 'possibly', 'religious', 'horses', 'dogs', 'food', 'beaches', 'fish', 'Gent', 'dating', 'fin', 'lovely', 'Fem', 'activites', 'read', '40yo', 'Mum', 'judgemental', '45yo', 'danc', 'general', 'themselves', 'Only', 'enquiries', 'ABBREVIATIONS', 'Sense', 'Social', 'All', 'letters', 'answered', 'Down', 'Earth', 'DONT', 'FORGET', '..', 'Its', 'FREE', 'advertise', 'Perfect', 'Match']\n"
     ]
    }
   ],
   "source": [
    "palabras_unicas = list(fdist.keys())\n",
    "print(palabras_unicas)\n"
   ]
  },
  {
   "cell_type": "code",
   "execution_count": 18,
   "metadata": {},
   "outputs": [
    {
     "name": "stdout",
     "output_type": "stream",
     "text": [
      "[6, 2, 15, 539, 60, 3, 4, 10, 68, 99, 7, 3, 353, 1, 1, 1, 14, 27, 1, 28, 15, 16, 10, 6, 2, 5, 4, 7, 14, 110, 33, 44, 4, 17, 14, 36, 3, 2, 12, 4, 3, 13, 1, 16, 11, 18, 1, 1, 8, 8, 16, 1, 4, 2, 1, 2, 66, 26, 1, 4, 2, 1, 4, 10, 4, 2, 15, 3, 8, 1, 27, 27, 9, 1, 3, 3, 9, 2, 11, 2, 14, 1, 10, 74, 2, 5, 21, 1, 6, 11, 52, 11, 14, 14, 10, 4, 1, 1, 9, 6, 16, 2, 74, 1, 2, 6, 1, 5, 7, 6, 2, 1, 2, 1, 2, 13, 1, 7, 4, 13, 1, 1, 2, 3, 1, 1, 1, 13, 1, 1, 6, 1, 2, 1, 1, 3, 1, 1, 5, 2, 2, 14, 1, 1, 18, 2, 2, 1, 13, 1, 1, 7, 23, 5, 4, 2, 1, 1, 11, 12, 3, 10, 8, 2, 13, 2, 11, 30, 4, 11, 7, 20, 17, 1, 17, 9, 18, 1, 10, 1, 1, 2, 1, 4, 2, 22, 23, 7, 2, 1, 1, 22, 7, 6, 2, 17, 14, 2, 3, 19, 19, 8, 3, 3, 1, 4, 8, 8, 2, 5, 29, 6, 6, 8, 5, 1, 1, 2, 22, 3, 2, 3, 1, 1, 11, 9, 4, 15, 6, 2, 1, 4, 2, 3, 1, 6, 3, 12, 1, 1, 1, 1, 1, 1, 4, 6, 4, 1, 16, 13, 3, 2, 3, 2, 8, 6, 1, 2, 1, 1, 3, 2, 23, 7, 2, 1, 1, 4, 1, 1, 2, 3, 1, 1, 3, 1, 1, 3, 2, 1, 1, 1, 2, 1, 1, 1, 4, 3, 2, 1, 1, 1, 2, 1, 10, 9, 9, 1, 1, 5, 4, 15, 4, 8, 14, 2, 2, 2, 3, 5, 1, 4, 4, 3, 1, 3, 1, 2, 24, 2, 1, 1, 1, 1, 2, 6, 2, 6, 2, 13, 5, 2, 2, 7, 14, 6, 1, 2, 9, 3, 1, 1, 1, 1, 2, 1, 2, 2, 2, 2, 2, 4, 5, 4, 6, 7, 3, 2, 5, 5, 5, 6, 9, 2, 6, 2, 9, 8, 9, 1, 2, 1, 1, 1, 2, 1, 1, 3, 11, 5, 2, 5, 1, 1, 1, 1, 1, 12, 1, 4, 2, 2, 1, 1, 2, 13, 1, 1, 2, 4, 1, 4, 2, 3, 1, 2, 2, 1, 1, 1, 1, 1, 1, 2, 4, 6, 1, 1, 1, 1, 3, 2, 1, 1, 1, 4, 4, 5, 2, 5, 1, 1, 1, 6, 1, 3, 6, 6, 1, 4, 1, 1, 8, 1, 1, 1, 4, 1, 1, 1, 1, 1, 1, 3, 1, 1, 2, 1, 1, 1, 1, 5, 3, 3, 3, 4, 1, 1, 2, 1, 4, 1, 2, 2, 1, 1, 1, 3, 2, 2, 3, 4, 5, 1, 1, 2, 1, 4, 12, 1, 3, 1, 3, 1, 2, 1, 5, 1, 1, 1, 1, 1, 1, 1, 1, 5, 2, 1, 1, 1, 2, 1, 5, 4, 1, 2, 1, 1, 12, 3, 5, 1, 1, 1, 1, 4, 2, 1, 1, 12, 1, 1, 3, 5, 4, 3, 11, 1, 2, 1, 2, 1, 1, 4, 2, 1, 11, 7, 5, 3, 2, 2, 1, 1, 1, 1, 1, 3, 1, 2, 1, 1, 1, 1, 1, 1, 1, 1, 1, 2, 1, 2, 1, 1, 1, 1, 2, 2, 3, 3, 1, 2, 1, 1, 1, 2, 2, 1, 1, 2, 1, 2, 2, 5, 1, 1, 3, 1, 1, 1, 3, 1, 1, 1, 4, 1, 1, 2, 1, 2, 2, 1, 1, 1, 1, 1, 2, 3, 1, 1, 1, 1, 2, 2, 1, 3, 1, 1, 1, 1, 1, 3, 1, 1, 1, 1, 1, 2, 1, 1, 2, 1, 4, 3, 5, 7, 1, 1, 4, 4, 1, 3, 1, 3, 1, 1, 13, 1, 3, 1, 2, 2, 3, 1, 1, 1, 1, 4, 6, 4, 1, 1, 1, 1, 1, 1, 1, 6, 1, 3, 1, 1, 1, 2, 1, 1, 1, 1, 1, 1, 1, 1, 1, 1, 4, 1, 1, 9, 3, 1, 1, 2, 1, 3, 1, 1, 1, 4, 1, 5, 2, 1, 1, 1, 1, 1, 1, 1, 1, 1, 1, 1, 1, 1, 1, 1, 1, 1, 1, 1, 1, 1, 3, 1, 1, 1, 1, 1, 2, 1, 1, 1, 1, 1, 1, 1, 1, 1, 1, 1, 1, 1, 1, 1, 1, 3, 1, 2, 1, 1, 1, 1, 1, 6, 1, 2, 3, 1, 2, 1, 1, 1, 3, 1, 1, 2, 1, 1, 1, 1, 1, 1, 1, 1, 1, 1, 1, 1, 1, 2, 2, 1, 1, 1, 2, 2, 1, 1, 1, 1, 1, 1, 1, 1, 1, 1, 2, 1, 3, 1, 1, 1, 4, 1, 1, 1, 3, 2, 1, 1, 1, 1, 1, 3, 1, 2, 3, 2, 1, 1, 1, 1, 2, 1, 1, 2, 1, 1, 1, 1, 1, 1, 1, 1, 1, 1, 1, 1, 1, 1, 1, 1, 1, 2, 1, 1, 1, 2, 2, 1, 1, 1, 1, 1, 1, 1, 2, 1, 1, 2, 1, 1, 1, 1, 1, 1, 3, 3, 1, 1, 1, 1, 1, 2, 1, 2, 1, 2, 1, 1, 1, 1, 1, 2, 2, 2, 1, 2, 1, 1, 1, 1, 1, 2, 2, 1, 1, 2, 1, 1, 1, 2, 1, 1, 1, 2, 1, 1, 1, 3, 1, 1, 2, 3, 1, 1, 1, 2, 2, 2, 1, 1, 1, 1, 1, 1, 1, 1, 1, 1, 1, 1, 1, 2, 2, 1, 1, 1, 1, 4, 1, 2, 1, 1, 1, 1, 1, 1, 1, 1, 1, 1, 2, 1, 1, 1, 1, 1, 1, 2, 1, 1, 1, 1, 2, 3, 2, 1, 1, 1, 1, 1, 1, 1, 1, 1, 1, 1, 1, 1, 1, 1, 1, 1, 1, 2, 2, 1, 1, 1, 1, 1, 1, 1, 1, 1, 1, 1, 1, 1, 1, 1, 1, 1, 1, 1, 1, 1, 1, 1, 1, 1, 1, 1, 1, 1, 1, 1, 1, 1, 1, 1, 1, 1, 1, 1, 1, 1, 1, 1, 1, 1, 1, 1, 1, 1, 1, 1, 1, 2, 1, 3, 2, 1, 1, 1, 1, 1, 1, 1, 1, 1, 1, 1, 1, 1, 1, 1, 1, 1, 1, 1, 1, 1, 1, 1, 1, 1, 1, 1, 1, 1, 1, 1, 1, 1, 1, 1, 1, 1, 1, 1, 1, 1, 2, 1, 1, 1, 1, 1, 1, 1, 1, 1, 1, 1, 1, 1]\n"
     ]
    }
   ],
   "source": [
    "frecuencias = list(fdist.values())\n",
    "print(frecuencias)\n"
   ]
  },
  {
   "cell_type": "code",
   "execution_count": 19,
   "metadata": {},
   "outputs": [
    {
     "name": "stdout",
     "output_type": "stream",
     "text": [
      "Palabra: 25, Frecuencia: 6\n",
      "Palabra: SEXY, Frecuencia: 2\n",
      "Palabra: MALE, Frecuencia: 15\n",
      "Palabra: ,, Frecuencia: 539\n",
      "Palabra: seeks, Frecuencia: 60\n",
      "Palabra: attrac, Frecuencia: 3\n",
      "Palabra: older, Frecuencia: 4\n",
      "Palabra: single, Frecuencia: 10\n",
      "Palabra: lady, Frecuencia: 68\n",
      "Palabra: for, Frecuencia: 99\n",
      "Palabra: discreet, Frecuencia: 7\n",
      "Palabra: encounters, Frecuencia: 3\n",
      "Palabra: ., Frecuencia: 353\n",
      "Palabra: 35YO, Frecuencia: 1\n",
      "Palabra: Security, Frecuencia: 1\n",
      "Palabra: Guard, Frecuencia: 1\n",
      "Palabra: seeking, Frecuencia: 14\n",
      "Palabra: in, Frecuencia: 27\n",
      "Palabra: uniform, Frecuencia: 1\n",
      "Palabra: fun, Frecuencia: 28\n",
      "Palabra: times, Frecuencia: 15\n",
      "Palabra: 40, Frecuencia: 16\n",
      "Palabra: yo, Frecuencia: 10\n",
      "Palabra: SINGLE, Frecuencia: 6\n",
      "Palabra: DAD, Frecuencia: 2\n",
      "Palabra: sincere, Frecuencia: 5\n",
      "Palabra: friendly, Frecuencia: 4\n",
      "Palabra: DTE, Frecuencia: 7\n",
      "Palabra: r, Frecuencia: 14\n",
      "Palabra: /, Frecuencia: 110\n",
      "Palabra: ship, Frecuencia: 33\n",
      "Palabra: with, Frecuencia: 44\n",
      "Palabra: fem, Frecuencia: 4\n",
      "Palabra: age, Frecuencia: 17\n",
      "Palabra: open, Frecuencia: 14\n",
      "Palabra: S, Frecuencia: 36\n",
      "Palabra: E, Frecuencia: 3\n",
      "Palabra: 44yo, Frecuencia: 2\n",
      "Palabra: tall, Frecuencia: 12\n",
      "Palabra: working, Frecuencia: 4\n",
      "Palabra: mum, Frecuencia: 3\n",
      "Palabra: or, Frecuencia: 13\n",
      "Palabra: below, Frecuencia: 1\n",
      "Palabra: 45, Frecuencia: 16\n",
      "Palabra: fship, Frecuencia: 11\n",
      "Palabra: rship, Frecuencia: 18\n",
      "Palabra: Nat, Frecuencia: 1\n",
      "Palabra: Open, Frecuencia: 1\n",
      "Palabra: 6, Frecuencia: 8\n",
      "Palabra: 2, Frecuencia: 8\n",
      "Palabra: 35, Frecuencia: 16\n",
      "Palabra: yr, Frecuencia: 1\n",
      "Palabra: old, Frecuencia: 4\n",
      "Palabra: OUTGOING, Frecuencia: 2\n",
      "Palabra: M, Frecuencia: 1\n",
      "Palabra: 28, Frecuencia: 2\n",
      "Palabra: -, Frecuencia: 66\n",
      "Palabra: o, Frecuencia: 26\n",
      "Palabra: door, Frecuencia: 1\n",
      "Palabra: sports, Frecuencia: 4\n",
      "Palabra: w, Frecuencia: 2\n",
      "Palabra: e, Frecuencia: 1\n",
      "Palabra: away, Frecuencia: 4\n",
      "Palabra: A, Frecuencia: 10\n",
      "Palabra: professional, Frecuencia: 4\n",
      "Palabra: business, Frecuencia: 2\n",
      "Palabra: male, Frecuencia: 15\n",
      "Palabra: late, Frecuencia: 3\n",
      "Palabra: 40s, Frecuencia: 8\n",
      "Palabra: feet, Frecuencia: 1\n",
      "Palabra: slim, Frecuencia: 27\n",
      "Palabra: build, Frecuencia: 27\n",
      "Palabra: well, Frecuencia: 9\n",
      "Palabra: groomed, Frecuencia: 1\n",
      "Palabra: great, Frecuencia: 3\n",
      "Palabra: personality, Frecuencia: 3\n",
      "Palabra: home, Frecuencia: 9\n",
      "Palabra: owner, Frecuencia: 2\n",
      "Palabra: interests, Frecuencia: 11\n",
      "Palabra: include, Frecuencia: 2\n",
      "Palabra: the, Frecuencia: 14\n",
      "Palabra: arts, Frecuencia: 1\n",
      "Palabra: travel, Frecuencia: 10\n",
      "Palabra: and, Frecuencia: 74\n",
      "Palabra: all, Frecuencia: 2\n",
      "Palabra: things, Frecuencia: 5\n",
      "Palabra: good, Frecuencia: 21\n",
      "Palabra: Ringwood, Frecuencia: 1\n",
      "Palabra: area, Frecuencia: 6\n",
      "Palabra: is, Frecuencia: 11\n",
      "Palabra: a, Frecuencia: 52\n",
      "Palabra: genuine, Frecuencia: 11\n",
      "Palabra: female, Frecuencia: 14\n",
      "Palabra: of, Frecuencia: 14\n",
      "Palabra: similar, Frecuencia: 10\n",
      "Palabra: same, Frecuencia: 4\n",
      "Palabra: surrounds, Frecuencia: 1\n",
      "Palabra: meaningful, Frecuencia: 1\n",
      "Palabra: long, Frecuencia: 9\n",
      "Palabra: term, Frecuencia: 6\n",
      "Palabra: Looking, Frecuencia: 16\n",
      "Palabra: forward, Frecuencia: 2\n",
      "Palabra: to, Frecuencia: 74\n",
      "Palabra: hearing, Frecuencia: 1\n",
      "Palabra: from, Frecuencia: 2\n",
      "Palabra: you, Frecuencia: 6\n",
      "Palabra: ABLE, Frecuencia: 1\n",
      "Palabra: young, Frecuencia: 5\n",
      "Palabra: man, Frecuencia: 7\n",
      "Palabra: sexy, Frecuencia: 6\n",
      "Palabra: women, Frecuencia: 2\n",
      "Palabra: Phone, Frecuencia: 1\n",
      "Palabra: ready, Frecuencia: 2\n",
      "Palabra: play, Frecuencia: 1\n",
      "Palabra: AFFECTIONATE, Frecuencia: 2\n",
      "Palabra: LADY, Frecuencia: 13\n",
      "Palabra: Sought, Frecuencia: 1\n",
      "Palabra: by, Frecuencia: 7\n",
      "Palabra: generous, Frecuencia: 4\n",
      "Palabra: guy, Frecuencia: 13\n",
      "Palabra: mutual, Frecuencia: 1\n",
      "Palabra: fulfillment, Frecuencia: 1\n",
      "Palabra: ARE, Frecuencia: 2\n",
      "Palabra: YOU, Frecuencia: 3\n",
      "Palabra: ALONE, Frecuencia: 1\n",
      "Palabra: lost, Frecuencia: 1\n",
      "Palabra: too, Frecuencia: 1\n",
      "Palabra: no, Frecuencia: 13\n",
      "Palabra: hope, Frecuencia: 1\n",
      "Palabra: sight, Frecuencia: 1\n",
      "Palabra: ?, Frecuencia: 6\n",
      "Palabra: Maybe, Frecuencia: 1\n",
      "Palabra: we, Frecuencia: 2\n",
      "Palabra: could, Frecuencia: 1\n",
      "Palabra: explore, Frecuencia: 1\n",
      "Palabra: new, Frecuencia: 3\n",
      "Palabra: beginnings, Frecuencia: 1\n",
      "Palabra: together, Frecuencia: 1\n",
      "Palabra: Im, Frecuencia: 5\n",
      "Palabra: Slim, Frecuencia: 2\n",
      "Palabra: Med, Frecuencia: 2\n",
      "Palabra: GSOH, Frecuencia: 14\n",
      "Palabra: high, Frecuencia: 1\n",
      "Palabra: needs, Frecuencia: 1\n",
      "Palabra: looking, Frecuencia: 18\n",
      "Palabra: someone, Frecuencia: 2\n",
      "Palabra: You, Frecuencia: 2\n",
      "Palabra: WONT, Frecuencia: 1\n",
      "Palabra: be, Frecuencia: 13\n",
      "Palabra: disappointed, Frecuencia: 1\n",
      "Palabra: AMIABLE, Frecuencia: 1\n",
      "Palabra: 43, Frecuencia: 7\n",
      "Palabra: y, Frecuencia: 23\n",
      "Palabra: gentleman, Frecuencia: 5\n",
      "Palabra: European, Frecuencia: 4\n",
      "Palabra: background, Frecuencia: 2\n",
      "Palabra: 170, Frecuencia: 1\n",
      "Palabra: cm, Frecuencia: 1\n",
      "Palabra: medium, Frecuencia: 11\n",
      "Palabra: employed, Frecuencia: 12\n",
      "Palabra: never, Frecuencia: 3\n",
      "Palabra: married, Frecuencia: 10\n",
      "Palabra: children, Frecuencia: 8\n",
      "Palabra: Enjoys, Frecuencia: 2\n",
      "Palabra: music, Frecuencia: 13\n",
      "Palabra: cafes, Frecuencia: 2\n",
      "Palabra: beach, Frecuencia: 11\n",
      "Palabra: &, Frecuencia: 30\n",
      "Palabra: c, Frecuencia: 4\n",
      "Palabra: Seeks, Frecuencia: 11\n",
      "Palabra: an, Frecuencia: 7\n",
      "Palabra: honest, Frecuencia: 20\n",
      "Palabra: attractive, Frecuencia: 17\n",
      "Palabra: without, Frecuencia: 1\n",
      "Palabra: who, Frecuencia: 17\n",
      "Palabra: would, Frecuencia: 9\n",
      "Palabra: like, Frecuencia: 18\n",
      "Palabra: get, Frecuencia: 1\n",
      "Palabra: have, Frecuencia: 10\n",
      "Palabra: chil, Frecuencia: 1\n",
      "Palabra: dren, Frecuencia: 1\n",
      "Palabra: future, Frecuencia: 2\n",
      "Palabra: 29, Frecuencia: 1\n",
      "Palabra: 39, Frecuencia: 4\n",
      "Palabra: Prefer, Frecuencia: 2\n",
      "Palabra: non, Frecuencia: 22\n",
      "Palabra: smoker, Frecuencia: 23\n",
      "Palabra: living, Frecuencia: 7\n",
      "Palabra: Adelaide, Frecuencia: 2\n",
      "Palabra: COPPER, Frecuencia: 1\n",
      "Palabra: REDHEAD, Frecuencia: 1\n",
      "Palabra: I, Frecuencia: 22\n",
      "Palabra: am, Frecuencia: 7\n",
      "Palabra: 36, Frecuencia: 6\n",
      "Palabra: companionship, Frecuencia: 2\n",
      "Palabra: friendship, Frecuencia: 17\n",
      "Palabra: enjoy, Frecuencia: 14\n",
      "Palabra: AFL, Frecuencia: 2\n",
      "Palabra: animals, Frecuencia: 3\n",
      "Palabra: dining, Frecuencia: 19\n",
      "Palabra: out, Frecuencia: 19\n",
      "Palabra: ATTRACTIVE, Frecuencia: 8\n",
      "Palabra: Y, Frecuencia: 3\n",
      "Palabra: O, Frecuencia: 3\n",
      "Palabra: 61, Frecuencia: 1\n",
      "Palabra: financially, Frecuencia: 4\n",
      "Palabra: secure, Frecuencia: 8\n",
      "Palabra: up, Frecuencia: 8\n",
      "Palabra: View, Frecuencia: 2\n",
      "Palabra: permanent, Frecuencia: 5\n",
      "Palabra: relationship, Frecuencia: 29\n",
      "Palabra: GUY, Frecuencia: 6\n",
      "Palabra: Late, Frecuencia: 6\n",
      "Palabra: 30s, Frecuencia: 8\n",
      "Palabra: 57, Frecuencia: 5\n",
      "Palabra: Taurus, Frecuencia: 1\n",
      "Palabra: Into, Frecuencia: 1\n",
      "Palabra: fitness, Frecuencia: 2\n",
      "Palabra: movies, Frecuencia: 22\n",
      "Palabra: dinner, Frecuencia: 3\n",
      "Palabra: parties, Frecuencia: 2\n",
      "Palabra: there, Frecuencia: 3\n",
      "Palabra: AUSSIE, Frecuencia: 1\n",
      "Palabra: Solid, Frecuencia: 1\n",
      "Palabra: likes, Frecuencia: 11\n",
      "Palabra: walks, Frecuencia: 9\n",
      "Palabra: on, Frecuencia: 4\n",
      "Palabra: meet, Frecuencia: 15\n",
      "Palabra: view, Frecuencia: 6\n",
      "Palabra: AUSTRALIAN, Frecuencia: 2\n",
      "Palabra: FATHER, Frecuencia: 1\n",
      "Palabra: 58, Frecuencia: 4\n",
      "Palabra: With, Frecuencia: 2\n",
      "Palabra: 11, Frecuencia: 3\n",
      "Palabra: son, Frecuencia: 1\n",
      "Palabra: me, Frecuencia: 6\n",
      "Palabra: nice, Frecuencia: 3\n",
      "Palabra: caring, Frecuencia: 12\n",
      "Palabra: re, Frecuencia: 1\n",
      "Palabra: lationship, Frecuencia: 1\n",
      "Palabra: coastal, Frecuencia: 1\n",
      "Palabra: town, Frecuencia: 1\n",
      "Palabra: Eyre, Frecuencia: 1\n",
      "Palabra: Peninsula, Frecuencia: 1\n",
      "Palabra: Age, Frecuencia: 4\n",
      "Palabra: 55, Frecuencia: 6\n",
      "Palabra: SLIM, Frecuencia: 4\n",
      "Palabra: FUN, Frecuencia: 1\n",
      "Palabra: 5, Frecuencia: 16\n",
      "Palabra: ft, Frecuencia: 13\n",
      "Palabra: 8, Frecuencia: 3\n",
      "Palabra: Enjoy, Frecuencia: 2\n",
      "Palabra: BBQs, Frecuencia: 3\n",
      "Palabra: sport, Frecuencia: 2\n",
      "Palabra: fishing, Frecuencia: 8\n",
      "Palabra: going, Frecuencia: 6\n",
      "Palabra: meal, Frecuencia: 1\n",
      "Palabra: Fun, Frecuencia: 2\n",
      "Palabra: com, Frecuencia: 1\n",
      "Palabra: panion, Frecuencia: 1\n",
      "Palabra: aged, Frecuencia: 3\n",
      "Palabra: between, Frecuencia: 2\n",
      "Palabra: 50, Frecuencia: 23\n",
      "Palabra: Must, Frecuencia: 7\n",
      "Palabra: Possible, Frecuencia: 2\n",
      "Palabra: BEAUTIFUL, Frecuencia: 1\n",
      "Palabra: INTELLIGENT, Frecuencia: 1\n",
      "Palabra: CARING, Frecuencia: 4\n",
      "Palabra: MUSICAL, Frecuencia: 1\n",
      "Palabra: Shy, Frecuencia: 1\n",
      "Palabra: 20s, Frecuencia: 2\n",
      "Palabra: size, Frecuencia: 3\n",
      "Palabra: 12, Frecuencia: 1\n",
      "Palabra: blonde, Frecuencia: 1\n",
      "Palabra: hair, Frecuencia: 3\n",
      "Palabra: drink, Frecuencia: 1\n",
      "Palabra: Guiness, Frecuencia: 1\n",
      "Palabra: If, Frecuencia: 3\n",
      "Palabra: this, Frecuencia: 2\n",
      "Palabra: then, Frecuencia: 1\n",
      "Palabra: want, Frecuencia: 1\n",
      "Palabra: BLONDE, Frecuencia: 1\n",
      "Palabra: HAIR, Frecuencia: 2\n",
      "Palabra: BLUE, Frecuencia: 1\n",
      "Palabra: EYES, Frecuencia: 1\n",
      "Palabra: Medium, Frecuencia: 1\n",
      "Palabra: my, Frecuencia: 4\n",
      "Palabra: early, Frecuencia: 3\n",
      "Palabra: Am, Frecuencia: 2\n",
      "Palabra: golf, Frecuencia: 1\n",
      "Palabra: bike, Frecuencia: 1\n",
      "Palabra: riding, Frecuencia: 1\n",
      "Palabra: TV, Frecuencia: 2\n",
      "Palabra: DVDs, Frecuencia: 1\n",
      "Palabra: quiet, Frecuencia: 10\n",
      "Palabra: nights, Frecuencia: 9\n",
      "Palabra: at, Frecuencia: 9\n",
      "Palabra: kissing, Frecuencia: 1\n",
      "Palabra: cuddling, Frecuencia: 1\n",
      "Palabra: special, Frecuencia: 5\n",
      "Palabra: person, Frecuencia: 4\n",
      "Palabra: life, Frecuencia: 15\n",
      "Palabra: BUSINESSMAN, Frecuencia: 4\n",
      "Palabra: 60, Frecuencia: 8\n",
      "Palabra: '', Frecuencia: 14\n",
      "Palabra: ish, Frecuencia: 2\n",
      "Palabra: 56, Frecuencia: 2\n",
      "Palabra: taller, Frecuencia: 2\n",
      "Palabra: outlook, Frecuencia: 3\n",
      "Palabra: ties, Frecuencia: 5\n",
      "Palabra: prepared, Frecuencia: 1\n",
      "Palabra: outdoor, Frecuencia: 4\n",
      "Palabra: (, Frecuencia: 4\n",
      "Palabra: cars, Frecuencia: 3\n",
      "Palabra: boats, Frecuencia: 1\n",
      "Palabra: etc, Frecuencia: 3\n",
      "Palabra: .),, Frecuencia: 1\n",
      "Palabra: wining, Frecuencia: 2\n",
      "Palabra: s, Frecuencia: 24\n",
      "Palabra: h, Frecuencia: 2\n",
      "Palabra: modern, Frecuencia: 1\n",
      "Palabra: CUDDLY, Frecuencia: 1\n",
      "Palabra: FULL, Frecuencia: 1\n",
      "Palabra: FIGURED, Frecuencia: 1\n",
      "Palabra: plus, Frecuencia: 2\n",
      "Palabra: sought, Frecuencia: 6\n",
      "Palabra: Australian, Frecuencia: 2\n",
      "Palabra: gent, Frecuencia: 6\n",
      "Palabra: 60s, Frecuencia: 2\n",
      "Palabra: drinker, Frecuencia: 13\n",
      "Palabra: FIT, Frecuencia: 5\n",
      "Palabra: ACTIVE, Frecuencia: 2\n",
      "Palabra: EASYGOING, Frecuencia: 2\n",
      "Palabra: med, Frecuencia: 7\n",
      "Palabra: fit, Frecuencia: 14\n",
      "Palabra: healthy, Frecuencia: 6\n",
      "Palabra: fully, Frecuencia: 1\n",
      "Palabra: light, Frecuencia: 2\n",
      "Palabra: Seeking, Frecuencia: 9\n",
      "Palabra: friend, Frecuencia: 3\n",
      "Palabra: +., Frecuencia: 1\n",
      "Palabra: towards, Frecuencia: 1\n",
      "Palabra: Give, Frecuencia: 1\n",
      "Palabra: call, Frecuencia: 1\n",
      "Palabra: lets, Frecuencia: 2\n",
      "Palabra: chat, Frecuencia: 1\n",
      "Palabra: GENUINE, Frecuencia: 2\n",
      "Palabra: AND, Frecuencia: 2\n",
      "Palabra: HONEST, Frecuencia: 2\n",
      "Palabra: Hi, Frecuencia: 2\n",
      "Palabra: 44, Frecuencia: 2\n",
      "Palabra: sense, Frecuencia: 4\n",
      "Palabra: humour, Frecuencia: 5\n",
      "Palabra: romantic, Frecuencia: 4\n",
      "Palabra: love, Frecuencia: 6\n",
      "Palabra: drives, Frecuencia: 7\n",
      "Palabra: camping, Frecuencia: 3\n",
      "Palabra: Love, Frecuencia: 2\n",
      "Palabra: kids, Frecuencia: 5\n",
      "Palabra: 38, Frecuencia: 5\n",
      "Palabra: possible, Frecuencia: 5\n",
      "Palabra: MAN, Frecuencia: 6\n",
      "Palabra: .,, Frecuencia: 9\n",
      "Palabra: 9, Frecuencia: 2\n",
      "Palabra: outdoors, Frecuencia: 6\n",
      "Palabra: gym, Frecuencia: 2\n",
      "Palabra: country, Frecuencia: 9\n",
      "Palabra: woman, Frecuencia: 8\n",
      "Palabra: enjoys, Frecuencia: 9\n",
      "Palabra: simple, Frecuencia: 1\n",
      "Palabra: GOOD, Frecuencia: 2\n",
      "Palabra: LISTENER, Frecuencia: 1\n",
      "Palabra: Well, Frecuencia: 1\n",
      "Palabra: educated, Frecuencia: 1\n",
      "Palabra: blue, Frecuencia: 2\n",
      "Palabra: eyes, Frecuencia: 1\n",
      "Palabra: brown, Frecuencia: 1\n",
      "Palabra: Mid, Frecuencia: 3\n",
      "Palabra: n, Frecuencia: 11\n",
      "Palabra: Likes, Frecuencia: 5\n",
      "Palabra: looks, Frecuencia: 2\n",
      "Palabra: not, Frecuencia: 5\n",
      "Palabra: important, Frecuencia: 1\n",
      "Palabra: nor, Frecuencia: 1\n",
      "Palabra: distance, Frecuencia: 1\n",
      "Palabra: speed, Frecuencia: 1\n",
      "Palabra: complete, Frecuencia: 1\n",
      "Palabra: social, Frecuencia: 12\n",
      "Palabra: circles, Frecuencia: 1\n",
      "Palabra: GREEK, Frecuencia: 4\n",
      "Palabra: AUST, Frecuencia: 2\n",
      "Palabra: Early, Frecuencia: 2\n",
      "Palabra: bbqs, Frecuencia: 1\n",
      "Palabra: football, Frecuencia: 1\n",
      "Palabra: 20, Frecuencia: 2\n",
      "Palabra: 30, Frecuencia: 13\n",
      "Palabra: HANDSOME, Frecuencia: 1\n",
      "Palabra: Tall, Frecuencia: 1\n",
      "Palabra: independant, Frecuencia: 2\n",
      "Palabra: under, Frecuencia: 4\n",
      "Palabra: standing, Frecuencia: 1\n",
      "Palabra: mid, Frecuencia: 4\n",
      "Palabra: 50s, Frecuencia: 2\n",
      "Palabra: classy, Frecuencia: 3\n",
      "Palabra: wants, Frecuencia: 1\n",
      "Palabra: retain, Frecuencia: 2\n",
      "Palabra: her, Frecuencia: 2\n",
      "Palabra: privacy, Frecuencia: 1\n",
      "Palabra: still, Frecuencia: 1\n",
      "Palabra: independance, Frecuencia: 1\n",
      "Palabra: private, Frecuencia: 1\n",
      "Palabra: HERE, Frecuencia: 1\n",
      "Palabra: AM, Frecuencia: 1\n",
      "Palabra: PICK, Frecuencia: 2\n",
      "Palabra: ME, Frecuencia: 4\n",
      "Palabra: !, Frecuencia: 6\n",
      "Palabra: Now, Frecuencia: 1\n",
      "Palabra: that, Frecuencia: 1\n",
      "Palabra: your, Frecuencia: 1\n",
      "Palabra: attention, Frecuencia: 1\n",
      "Palabra: 59, Frecuencia: 3\n",
      "Palabra: active, Frecuencia: 2\n",
      "Palabra: LIMESTONE, Frecuencia: 1\n",
      "Palabra: COAST, Frecuencia: 1\n",
      "Palabra: REGION, Frecuencia: 1\n",
      "Palabra: Attractive, Frecuencia: 4\n",
      "Palabra: 46, Frecuencia: 4\n",
      "Palabra: Interests, Frecuencia: 5\n",
      "Palabra: incl, Frecuencia: 2\n",
      "Palabra: self, Frecuencia: 5\n",
      "Palabra: sufficiencies, Frecuencia: 1\n",
      "Palabra: permaculture, Frecuencia: 1\n",
      "Palabra: smoking, Frecuencia: 1\n",
      "Palabra: loving, Frecuencia: 6\n",
      "Palabra: LATE, Frecuencia: 1\n",
      "Palabra: Single, Frecuencia: 3\n",
      "Palabra: prof, Frecuencia: 6\n",
      "Palabra: :, Frecuencia: 6\n",
      "Palabra: Music, Frecuencia: 1\n",
      "Palabra: theatre, Frecuencia: 4\n",
      "Palabra: art, Frecuencia: 1\n",
      "Palabra: environment, Frecuencia: 1\n",
      "Palabra: share, Frecuencia: 8\n",
      "Palabra: concerts, Frecuencia: 1\n",
      "Palabra: unimportant, Frecuencia: 1\n",
      "Palabra: RETIRED, Frecuencia: 1\n",
      "Palabra: GENT, Frecuencia: 4\n",
      "Palabra: Like, Frecuencia: 1\n",
      "Palabra: caravan, Frecuencia: 1\n",
      "Palabra: heading, Frecuencia: 1\n",
      "Palabra: Darwin, Frecuencia: 1\n",
      "Palabra: May, Frecuencia: 1\n",
      "Palabra: driving, Frecuencia: 1\n",
      "Palabra: ROMANTIC, Frecuencia: 3\n",
      "Palabra: one, Frecuencia: 1\n",
      "Palabra: child, Frecuencia: 1\n",
      "Palabra: year, Frecuencia: 2\n",
      "Palabra: Clare, Frecuencia: 1\n",
      "Palabra: Barossa, Frecuencia: 1\n",
      "Palabra: region, Frecuencia: 1\n",
      "Palabra: northern, Frecuencia: 1\n",
      "Palabra: suburbs, Frecuencia: 5\n",
      "Palabra: TALL, Frecuencia: 3\n",
      "Palabra: down, Frecuencia: 3\n",
      "Palabra: earth, Frecuencia: 3\n",
      "Palabra: easy, Frecuencia: 4\n",
      "Palabra: understanding, Frecuencia: 1\n",
      "Palabra: varied, Frecuencia: 1\n",
      "Palabra: quality, Frecuencia: 2\n",
      "Palabra: VIETNAMESE, Frecuencia: 1\n",
      "Palabra: welcome, Frecuencia: 4\n",
      "Palabra: WIDOW, Frecuencia: 1\n",
      "Palabra: EARLY, Frecuencia: 2\n",
      "Palabra: Self, Frecuencia: 2\n",
      "Palabra: established, Frecuencia: 1\n",
      "Palabra: UK, Frecuencia: 1\n",
      "Palabra: born, Frecuencia: 1\n",
      "Palabra: many, Frecuencia: 3\n",
      "Palabra: Sports, Frecuencia: 2\n",
      "Palabra: short, Frecuencia: 2\n",
      "Palabra: petite, Frecuencia: 3\n",
      "Palabra: any, Frecuencia: 4\n",
      "Palabra: years, Frecuencia: 5\n",
      "Palabra: 31, Frecuencia: 1\n",
      "Palabra: YO, Frecuencia: 1\n",
      "Palabra: ok, Frecuencia: 2\n",
      "Palabra: Eastern, Frecuencia: 1\n",
      "Palabra: Suburbs, Frecuencia: 4\n",
      "Palabra: Male, Frecuencia: 12\n",
      "Palabra: blond, Frecuencia: 1\n",
      "Palabra: outgoing, Frecuencia: 3\n",
      "Palabra: bet, Frecuencia: 1\n",
      "Palabra: easygoing, Frecuencia: 3\n",
      "Palabra: YEAR, Frecuencia: 1\n",
      "Palabra: OLD, Frecuencia: 2\n",
      "Palabra: Working, Frecuencia: 1\n",
      "Palabra: Would, Frecuencia: 5\n",
      "Palabra: CENTRAL, Frecuencia: 1\n",
      "Palabra: VICTORIAN, Frecuencia: 1\n",
      "Palabra: Dad, Frecuencia: 1\n",
      "Palabra: teen, Frecuencia: 1\n",
      "Palabra: daughters, Frecuencia: 1\n",
      "Palabra: HEALTHY, Frecuencia: 1\n",
      "Palabra: emp, Frecuencia: 1\n",
      "Palabra: tradesman, Frecuencia: 1\n",
      "Palabra: NS, Frecuencia: 5\n",
      "Palabra: Indian, Frecuencia: 2\n",
      "Palabra: Sri, Frecuencia: 1\n",
      "Palabra: Lankan, Frecuencia: 1\n",
      "Palabra: Olive, Frecuencia: 1\n",
      "Palabra: Dark, Frecuencia: 2\n",
      "Palabra: Complexion, Frecuencia: 1\n",
      "Palabra: 48, Frecuencia: 5\n",
      "Palabra: F, Frecuencia: 4\n",
      "Palabra: dship, Frecuencia: 1\n",
      "Palabra: Poss, Frecuencia: 2\n",
      "Palabra: rel, Frecuencia: 1\n",
      "Palabra: MATURE, Frecuencia: 1\n",
      "Palabra: N, Frecuencia: 12\n",
      "Palabra: Non, Frecuencia: 3\n",
      "Palabra: Asian, Frecuencia: 5\n",
      "Palabra: Sexy, Frecuencia: 1\n",
      "Palabra: WELL, Frecuencia: 1\n",
      "Palabra: DRESSED, Frecuencia: 1\n",
      "Palabra: emotionally, Frecuencia: 1\n",
      "Palabra: 37, Frecuencia: 4\n",
      "Palabra: full, Frecuencia: 2\n",
      "Palabra: figured, Frecuencia: 1\n",
      "Palabra: shy, Frecuencia: 1\n",
      "Palabra: D, Frecuencia: 12\n",
      "Palabra: NRL, Frecuencia: 1\n",
      "Palabra: nature, Frecuencia: 1\n",
      "Palabra: time, Frecuencia: 3\n",
      "Palabra: DtoE, Frecuencia: 5\n",
      "Palabra: SOH, Frecuencia: 4\n",
      "Palabra: Fship, Frecuencia: 3\n",
      "Palabra: poss, Frecuencia: 11\n",
      "Palabra: Rship, Frecuencia: 1\n",
      "Palabra: replies, Frecuencia: 2\n",
      "Palabra: only, Frecuencia: 1\n",
      "Palabra: ALA, Frecuencia: 2\n",
      "Palabra: Lots, Frecuencia: 1\n",
      "Palabra: friends, Frecuencia: 1\n",
      "Palabra: but, Frecuencia: 4\n",
      "Palabra: lonely, Frecuencia: 2\n",
      "Palabra: 57YRS, Frecuencia: 1\n",
      "Palabra: WLTM, Frecuencia: 11\n",
      "Palabra: Lady, Frecuencia: 7\n",
      "Palabra: outings, Frecuencia: 5\n",
      "Palabra: weekends, Frecuencia: 3\n",
      "Palabra: perm, Frecuencia: 2\n",
      "Palabra: if, Frecuencia: 2\n",
      "Palabra: suited, Frecuencia: 1\n",
      "Palabra: Nationality, Frecuencia: 1\n",
      "Palabra: 34yo, Frecuencia: 1\n",
      "Palabra: tractive, Frecuencia: 1\n",
      "Palabra: Ladies, Frecuencia: 1\n",
      "Palabra: are, Frecuencia: 3\n",
      "Palabra: poor, Frecuencia: 1\n",
      "Palabra: work, Frecuencia: 2\n",
      "Palabra: career, Frecuencia: 1\n",
      "Palabra: Have, Frecuencia: 1\n",
      "Palabra: always, Frecuencia: 1\n",
      "Palabra: connected, Frecuencia: 1\n",
      "Palabra: more, Frecuencia: 1\n",
      "Palabra: Women, Frecuencia: 1\n",
      "Palabra: TAINING, Frecuencia: 1\n",
      "Palabra: interesting, Frecuencia: 1\n",
      "Palabra: 46yo, Frecuencia: 1\n",
      "Palabra: Prof, Frecuencia: 2\n",
      "Palabra: Kind, Frecuencia: 1\n",
      "Palabra: listener, Frecuencia: 2\n",
      "Palabra: having, Frecuencia: 1\n",
      "Palabra: Witty, Frecuencia: 1\n",
      "Palabra: humorous, Frecuencia: 1\n",
      "Palabra: comb, Frecuencia: 1\n",
      "Palabra: responsible, Frecuencia: 2\n",
      "Palabra: reading, Frecuencia: 2\n",
      "Palabra: being, Frecuencia: 3\n",
      "Palabra: company, Frecuencia: 3\n",
      "Palabra: beginning, Frecuencia: 1\n",
      "Palabra: exciting, Frecuencia: 2\n",
      "Palabra: 57yrs, Frecuencia: 1\n",
      "Palabra: 177cm, Frecuencia: 1\n",
      "Palabra: meeting, Frecuencia: 1\n",
      "Palabra: sim, Frecuencia: 2\n",
      "Palabra: int, Frecuencia: 2\n",
      "Palabra: Please, Frecuencia: 1\n",
      "Palabra: send, Frecuencia: 1\n",
      "Palabra: photo, Frecuencia: 2\n",
      "Palabra: GENTLEMAN, Frecuencia: 1\n",
      "Palabra: cooking, Frecuencia: 2\n",
      "Palabra: house, Frecuencia: 2\n",
      "Palabra: gardening, Frecuencia: 5\n",
      "Palabra: wild, Frecuencia: 1\n",
      "Palabra: HI, Frecuencia: 1\n",
      "Palabra: SWM, Frecuencia: 3\n",
      "Palabra: 54y, Frecuencia: 1\n",
      "Palabra: nts, Frecuencia: 1\n",
      "Palabra: supporting, Frecuencia: 1\n",
      "Palabra: happy, Frecuencia: 3\n",
      "Palabra: nat, Frecuencia: 1\n",
      "Palabra: pamper, Frecuencia: 1\n",
      "Palabra: roll, Frecuencia: 1\n",
      "Palabra: loves, Frecuencia: 4\n",
      "Palabra: hurry, Frecuencia: 1\n",
      "Palabra: Is, Frecuencia: 1\n",
      "Palabra: Woman, Frecuencia: 2\n",
      "Palabra: spend, Frecuencia: 1\n",
      "Palabra: 1, Frecuencia: 2\n",
      "Palabra: weekend, Frecuencia: 2\n",
      "Palabra: month, Frecuencia: 1\n",
      "Palabra: Charters, Frecuencia: 1\n",
      "Palabra: Towers, Frecuencia: 1\n",
      "Palabra: especially, Frecuencia: 1\n",
      "Palabra: festival, Frecuencia: 1\n",
      "Palabra: so, Frecuencia: 2\n",
      "Palabra: please, Frecuencia: 3\n",
      "Palabra: write, Frecuencia: 1\n",
      "Palabra: Ref, Frecuencia: 1\n",
      "Palabra: 8826, Frecuencia: 1\n",
      "Palabra: PROFESSIONAL, Frecuencia: 1\n",
      "Palabra: walking, Frecuencia: 2\n",
      "Palabra: bch, Frecuencia: 2\n",
      "Palabra: amongst, Frecuencia: 1\n",
      "Palabra: other, Frecuencia: 3\n",
      "Palabra: Christian, Frecuencia: 1\n",
      "Palabra: 178cm, Frecuencia: 1\n",
      "Palabra: 79kg, Frecuencia: 1\n",
      "Palabra: Clean, Frecuencia: 1\n",
      "Palabra: cut, Frecuencia: 1\n",
      "Palabra: intelligent, Frecuencia: 3\n",
      "Palabra: natur, Frecuencia: 1\n",
      "Palabra: ist, Frecuencia: 1\n",
      "Palabra: minded, Frecuencia: 1\n",
      "Palabra: red, Frecuencia: 1\n",
      "Palabra: hd, Frecuencia: 1\n",
      "Palabra: brunette, Frecuencia: 2\n",
      "Palabra: eurasian, Frecuencia: 1\n",
      "Palabra: Home, Frecuencia: 1\n",
      "Palabra: My, Frecuencia: 2\n",
      "Palabra: 70, Frecuencia: 1\n",
      "Palabra: yrs, Frecuencia: 4\n",
      "Palabra: reliable, Frecuencia: 3\n",
      "Palabra: ASIAN, Frecuencia: 5\n",
      "Palabra: +, Frecuencia: 7\n",
      "Palabra: SOUGHT, Frecuencia: 1\n",
      "Palabra: BY, Frecuencia: 1\n",
      "Palabra: Aussie, Frecuencia: 4\n",
      "Palabra: R, Frecuencia: 4\n",
      "Palabra: Kids, Frecuencia: 1\n",
      "Palabra: OK, Frecuencia: 3\n",
      "Palabra: as, Frecuencia: 1\n",
      "Palabra: family, Frecuencia: 3\n",
      "Palabra: Nice, Frecuencia: 1\n",
      "Palabra: Businessman, Frecuencia: 1\n",
      "Palabra: f, Frecuencia: 13\n",
      "Palabra: ATHLETIC, Frecuencia: 1\n",
      "Palabra: gen, Frecuencia: 3\n",
      "Palabra: Morn, Frecuencia: 1\n",
      "Palabra: Pen, Frecuencia: 2\n",
      "Palabra: Are, Frecuencia: 2\n",
      "Palabra: 50yo, Frecuencia: 3\n",
      "Palabra: SD, Frecuencia: 1\n",
      "Palabra: Caring, Frecuencia: 1\n",
      "Palabra: thats, Frecuencia: 1\n",
      "Palabra: seek, Frecuencia: 1\n",
      "Palabra: ing, Frecuencia: 4\n",
      "Palabra: casual, Frecuencia: 6\n",
      "Palabra: meetings, Frecuencia: 4\n",
      "Palabra: mature, Frecuencia: 1\n",
      "Palabra: ladies, Frecuencia: 1\n",
      "Palabra: BRIGHT, Frecuencia: 1\n",
      "Palabra: Boy, Frecuencia: 1\n",
      "Palabra: brain, Frecuencia: 1\n",
      "Palabra: cook, Frecuencia: 1\n",
      "Palabra: Physique, Frecuencia: 1\n",
      "Palabra: 42, Frecuencia: 6\n",
      "Palabra: fair, Frecuencia: 1\n",
      "Palabra: d, Frecuencia: 3\n",
      "Palabra: lunch, Frecuencia: 1\n",
      "Palabra: converse, Frecuencia: 1\n",
      "Palabra: Essendon, Frecuencia: 1\n",
      "Palabra: inner, Frecuencia: 2\n",
      "Palabra: Bright, Frecuencia: 1\n",
      "Palabra: positive, Frecuencia: 1\n",
      "Palabra: LOVING, Frecuencia: 1\n",
      "Palabra: Female, Frecuencia: 1\n",
      "Palabra: dressed, Frecuencia: 1\n",
      "Palabra: rom, Frecuencia: 1\n",
      "Palabra: elegance, Frecuencia: 1\n",
      "Palabra: CASUAL, Frecuencia: 1\n",
      "Palabra: weekday, Frecuencia: 1\n",
      "Palabra: obligation, Frecuencia: 1\n",
      "Palabra: East, Frecuencia: 4\n",
      "Palabra: EUROPEAN, Frecuencia: 1\n",
      "Palabra: 36yo, Frecuencia: 1\n",
      "Palabra: MARRIED, Frecuencia: 9\n",
      "Palabra: attr, Frecuencia: 3\n",
      "Palabra: encounter, Frecuencia: 1\n",
      "Palabra: 41yo, Frecuencia: 1\n",
      "Palabra: Greek, Frecuencia: 2\n",
      "Palabra: 37yrs, Frecuencia: 1\n",
      "Palabra: Good, Frecuencia: 3\n",
      "Palabra: larger, Frecuencia: 1\n",
      "Palabra: Preferably, Frecuencia: 1\n",
      "Palabra: nth, Frecuencia: 1\n",
      "Palabra: subs, Frecuencia: 4\n",
      "Palabra: LIKE, Frecuencia: 1\n",
      "Palabra: TO, Frecuencia: 5\n",
      "Palabra: BE, Frecuencia: 2\n",
      "Palabra: MISTRESS, Frecuencia: 1\n",
      "Palabra: YOUR, Frecuencia: 1\n",
      "Palabra: treated, Frecuencia: 1\n",
      "Palabra: Bold, Frecuencia: 1\n",
      "Palabra: precious, Frecuencia: 1\n",
      "Palabra: available, Frecuencia: 1\n",
      "Palabra: during, Frecuencia: 1\n",
      "Palabra: day, Frecuencia: 1\n",
      "Palabra: appreciate, Frecuencia: 1\n",
      "Palabra: Lets, Frecuencia: 1\n",
      "Palabra: Talk, Frecuencia: 1\n",
      "Palabra: ), Frecuencia: 1\n",
      "Palabra: LJ, Frecuencia: 1\n",
      "Palabra: JS, Frecuencia: 1\n",
      "Palabra: Bayswater, Frecuencia: 1\n",
      "Palabra: Be, Frecuencia: 1\n",
      "Palabra: mine, Frecuencia: 1\n",
      "Palabra: 26, Frecuencia: 1\n",
      "Palabra: South, Frecuencia: 1\n",
      "Palabra: burly, Frecuencia: 1\n",
      "Palabra: beared, Frecuencia: 1\n",
      "Palabra: intimate, Frecuencia: 3\n",
      "Palabra: ston, Frecuencia: 1\n",
      "Palabra: MID, Frecuencia: 1\n",
      "Palabra: strings, Frecuencia: 1\n",
      "Palabra: attached, Frecuencia: 1\n",
      "Palabra: HANDYMAN, Frecuencia: 1\n",
      "Palabra: missing, Frecuencia: 2\n",
      "Palabra: TLC, Frecuencia: 1\n",
      "Palabra: position, Frecuencia: 1\n",
      "Palabra: MT, Frecuencia: 1\n",
      "Palabra: ELIZA, Frecuencia: 1\n",
      "Palabra: Business, Frecuencia: 1\n",
      "Palabra: gorg, Frecuencia: 1\n",
      "Palabra: passion, Frecuencia: 1\n",
      "Palabra: running, Frecuencia: 1\n",
      "Palabra: LTR, Frecuencia: 1\n",
      "Palabra: girl, Frecuencia: 1\n",
      "Palabra: serious, Frecuencia: 1\n",
      "Palabra: Man, Frecuencia: 1\n",
      "Palabra: assertive, Frecuencia: 1\n",
      "Palabra: kind, Frecuencia: 1\n",
      "Palabra: stylish, Frecuencia: 1\n",
      "Palabra: For, Frecuencia: 1\n",
      "Palabra: wine, Frecuencia: 3\n",
      "Palabra: Northcote, Frecuencia: 1\n",
      "Palabra: Married, Frecuencia: 2\n",
      "Palabra: Call, Frecuencia: 1\n",
      "Palabra: PROF, Frecuencia: 1\n",
      "Palabra: 68, Frecuencia: 1\n",
      "Palabra: Mornington, Frecuencia: 1\n",
      "Palabra: SCORPIO, Frecuencia: 1\n",
      "Palabra: 47, Frecuencia: 6\n",
      "Palabra: passionate, Frecuencia: 1\n",
      "Palabra: affair, Frecuencia: 2\n",
      "Palabra: 6ft, Frecuencia: 3\n",
      "Palabra: 95, Frecuencia: 1\n",
      "Palabra: kg, Frecuencia: 2\n",
      "Palabra: def, Frecuencia: 1\n",
      "Palabra: Knox, Frecuencia: 1\n",
      "Palabra: 4WD, Frecuencia: 1\n",
      "Palabra: 49, Frecuencia: 3\n",
      "Palabra: Fe, Frecuencia: 1\n",
      "Palabra: Ok, Frecuencia: 1\n",
      "Palabra: pref, Frecuencia: 2\n",
      "Palabra: STERN, Frecuencia: 1\n",
      "Palabra: HEADMASTER, Frecuencia: 1\n",
      "Palabra: firm, Frecuencia: 1\n",
      "Palabra: hand, Frecuencia: 1\n",
      "Palabra: naughty, Frecuencia: 1\n",
      "Palabra: Sgl, Frecuencia: 1\n",
      "Palabra: ave, Frecuencia: 1\n",
      "Palabra: bi, Frecuencia: 1\n",
      "Palabra: curious, Frecuencia: 1\n",
      "Palabra: dad, Frecuencia: 1\n",
      "Palabra: sub, Frecuencia: 1\n",
      "Palabra: \", Frecuencia: 1\n",
      "Palabra: FAIR, Frecuencia: 1\n",
      "Palabra: affectionate, Frecuencia: 2\n",
      "Palabra: loyal, Frecuencia: 2\n",
      "Palabra: WANT, Frecuencia: 1\n",
      "Palabra: SPOILT, Frecuencia: 1\n",
      "Palabra: Warm, Frecuencia: 1\n",
      "Palabra: natural, Frecuencia: 2\n",
      "Palabra: sgl, Frecuencia: 2\n",
      "Palabra: 38yo, Frecuencia: 1\n",
      "Palabra: YOUNG, Frecuencia: 1\n",
      "Palabra: girls, Frecuencia: 1\n",
      "Palabra: 23, Frecuencia: 1\n",
      "Palabra: YR, Frecuencia: 1\n",
      "Palabra: attract, Frecuencia: 1\n",
      "Palabra: uni, Frecuencia: 1\n",
      "Palabra: student, Frecuencia: 1\n",
      "Palabra: daytime, Frecuencia: 1\n",
      "Palabra: FRIEND, Frecuencia: 1\n",
      "Palabra: LOVER, Frecuencia: 2\n",
      "Palabra: find, Frecuencia: 1\n",
      "Palabra: presented, Frecuencia: 3\n",
      "Palabra: athletic, Frecuencia: 1\n",
      "Palabra: cuddly, Frecuencia: 1\n",
      "Palabra: ATTRACT, Frecuencia: 1\n",
      "Palabra: 32, Frecuencia: 4\n",
      "Palabra: younger, Frecuencia: 1\n",
      "Palabra: 18, Frecuencia: 1\n",
      "Palabra: 27, Frecuencia: 1\n",
      "Palabra: 52, Frecuencia: 3\n",
      "Palabra: Aust, Frecuencia: 2\n",
      "Palabra: GOSH, Frecuencia: 1\n",
      "Palabra: busty, Frecuencia: 1\n",
      "Palabra: curvaceous, Frecuencia: 1\n",
      "Palabra: DISCIPLINARIAN, Frecuencia: 1\n",
      "Palabra: Euro, Frecuencia: 1\n",
      "Palabra: Guy, Frecuencia: 3\n",
      "Palabra: Nth, Frecuencia: 1\n",
      "Palabra: Subs, Frecuencia: 2\n",
      "Palabra: into, Frecuencia: 3\n",
      "Palabra: Genuine, Frecuencia: 2\n",
      "Palabra: 52yo, Frecuencia: 1\n",
      "Palabra: HARLEY, Frecuencia: 1\n",
      "Palabra: RIDER, Frecuencia: 1\n",
      "Palabra: HERPES, Frecuencia: 1\n",
      "Palabra: dinners, Frecuencia: 2\n",
      "Palabra: JAPANESE, Frecuencia: 1\n",
      "Palabra: b, Frecuencia: 1\n",
      "Palabra: LOVE, Frecuencia: 2\n",
      "Palabra: widowed, Frecuencia: 1\n",
      "Palabra: over, Frecuencia: 1\n",
      "Palabra: North, Frecuencia: 1\n",
      "Palabra: West, Frecuencia: 1\n",
      "Palabra: 34, Frecuencia: 1\n",
      "Palabra: travels, Frecuencia: 1\n",
      "Palabra: lot, Frecuencia: 1\n",
      "Palabra: personal, Frecuencia: 1\n",
      "Palabra: trainer, Frecuencia: 1\n",
      "Palabra: Sth, Frecuencia: 1\n",
      "Palabra: 42yo, Frecuencia: 1\n",
      "Palabra: olive, Frecuencia: 1\n",
      "Palabra: skin, Frecuencia: 1\n",
      "Palabra: dog, Frecuencia: 1\n",
      "Palabra: thinks, Frecuencia: 1\n",
      "Palabra: he, Frecuencia: 1\n",
      "Palabra: human, Frecuencia: 1\n",
      "Palabra: partner, Frecuencia: 2\n",
      "Palabra: spoilt, Frecuencia: 1\n",
      "Palabra: commitment, Frecuencia: 1\n",
      "Palabra: OLDER, Frecuencia: 1\n",
      "Palabra: relation, Frecuencia: 2\n",
      "Palabra: adventure, Frecuencia: 2\n",
      "Palabra: NICE, Frecuencia: 1\n",
      "Palabra: GUYS, Frecuencia: 1\n",
      "Palabra: Aged, Frecuencia: 1\n",
      "Palabra: two, Frecuencia: 1\n",
      "Palabra: females, Frecuencia: 1\n",
      "Palabra: night, Frecuencia: 1\n",
      "Palabra: clubbing, Frecuencia: 1\n",
      "Palabra: COUNTRY, Frecuencia: 2\n",
      "Palabra: BOY, Frecuencia: 1\n",
      "Palabra: +,, Frecuencia: 1\n",
      "Palabra: soh, Frecuencia: 2\n",
      "Palabra: Harley, Frecuencia: 1\n",
      "Palabra: rider, Frecuencia: 1\n",
      "Palabra: semi, Frecuencia: 1\n",
      "Palabra: retired, Frecuencia: 1\n",
      "Palabra: LITTLE, Frecuencia: 1\n",
      "Palabra: MAGIC, Frecuencia: 1\n",
      "Palabra: articulate, Frecuencia: 3\n",
      "Palabra: conversation, Frecuencia: 3\n",
      "Palabra: little, Frecuencia: 1\n",
      "Palabra: green, Frecuencia: 1\n",
      "Palabra: eyed, Frecuencia: 1\n",
      "Palabra: ABOUND, Frecuencia: 1\n",
      "Palabra: CAREFREE, Frecuencia: 1\n",
      "Palabra: Vibrant, Frecuencia: 2\n",
      "Palabra: creative, Frecuencia: 1\n",
      "Palabra: adventurous, Frecuencia: 2\n",
      "Palabra: executive, Frecuencia: 1\n",
      "Palabra: very, Frecuencia: 2\n",
      "Palabra: flexible, Frecuencia: 1\n",
      "Palabra: laugh, Frecuencia: 1\n",
      "Palabra: contrasts, Frecuencia: 1\n",
      "Palabra: finer, Frecuencia: 1\n",
      "Palabra: outlooks, Frecuencia: 1\n",
      "Palabra: ABOUT, Frecuencia: 2\n",
      "Palabra: Easygoing, Frecuencia: 2\n",
      "Palabra: 511, Frecuencia: 2\n",
      "Palabra: YEARS, Frecuencia: 1\n",
      "Palabra: Southern, Frecuencia: 2\n",
      "Palabra: lifestyle, Frecuencia: 1\n",
      "Palabra: ADELAIDE, Frecuencia: 1\n",
      "Palabra: HILLS, Frecuencia: 1\n",
      "Palabra: ADVENTUROUS, Frecuencia: 1\n",
      "Palabra: sensitive, Frecuencia: 1\n",
      "Palabra: vegetarian, Frecuencia: 2\n",
      "Palabra: \",, Frecuencia: 2\n",
      "Palabra: travelled, Frecuencia: 1\n",
      "Palabra: AGED, Frecuencia: 1\n",
      "Palabra: dark, Frecuencia: 2\n",
      "Palabra: Interested, Frecuencia: 1\n",
      "Palabra: basketball, Frecuencia: 1\n",
      "Palabra: cricket, Frecuencia: 1\n",
      "Palabra: 10, Frecuencia: 2\n",
      "Palabra: pin, Frecuencia: 1\n",
      "Palabra: bowling, Frecuencia: 1\n",
      "Palabra: SANFL, Frecuencia: 1\n",
      "Palabra: travelling, Frecuencia: 2\n",
      "Palabra: nightclubs, Frecuencia: 1\n",
      "Palabra: TERTIARY, Frecuencia: 1\n",
      "Palabra: Educated, Frecuencia: 1\n",
      "Palabra: 53, Frecuencia: 3\n",
      "Palabra: V8, Frecuencia: 1\n",
      "Palabra: motor, Frecuencia: 1\n",
      "Palabra: racing, Frecuencia: 2\n",
      "Palabra: 65, Frecuencia: 3\n",
      "Palabra: EMPLOYED, Frecuencia: 1\n",
      "Palabra: haired, Frecuencia: 1\n",
      "Palabra: strictly, Frecuencia: 1\n",
      "Palabra: 41, Frecuencia: 2\n",
      "Palabra: No, Frecuencia: 2\n",
      "Palabra: normal, Frecuencia: 2\n",
      "Palabra: hours, Frecuencia: 1\n",
      "Palabra: near, Frecuencia: 1\n",
      "Palabra: City, Frecuencia: 1\n",
      "Palabra: EASY, Frecuencia: 1\n",
      "Palabra: GOING, Frecuencia: 1\n",
      "Palabra: Intelligent, Frecuencia: 1\n",
      "Palabra: exercise, Frecuencia: 1\n",
      "Palabra: daily, Frecuencia: 1\n",
      "Palabra: trustworthy, Frecuencia: 1\n",
      "Palabra: integrity, Frecuencia: 1\n",
      "Palabra: morals, Frecuencia: 1\n",
      "Palabra: Children, Frecuencia: 1\n",
      "Palabra: BALLROOM, Frecuencia: 1\n",
      "Palabra: DANCING, Frecuencia: 2\n",
      "Palabra: SEEKING, Frecuencia: 2\n",
      "Palabra: PARTNER, Frecuencia: 1\n",
      "Palabra: Me, Frecuencia: 1\n",
      "Palabra: slimmish, Frecuencia: 1\n",
      "Palabra: after, Frecuencia: 1\n",
      "Palabra: dancing, Frecuencia: 4\n",
      "Palabra: again, Frecuencia: 1\n",
      "Palabra: must, Frecuencia: 2\n",
      "Palabra: than, Frecuencia: 1\n",
      "Palabra: avoid, Frecuencia: 1\n",
      "Palabra: complications, Frecuencia: 1\n",
      "Palabra: unattached, Frecuencia: 1\n",
      "Palabra: CITY, Frecuencia: 1\n",
      "Palabra: GIRL, Frecuencia: 1\n",
      "Palabra: SEEKS, Frecuencia: 1\n",
      "Palabra: ROMANCE, Frecuencia: 1\n",
      "Palabra: farmer, Frecuencia: 1\n",
      "Palabra: land, Frecuencia: 1\n",
      "Palabra: ),, Frecuencia: 2\n",
      "Palabra: clean, Frecuencia: 1\n",
      "Palabra: shaven, Frecuencia: 1\n",
      "Palabra: strong, Frecuencia: 1\n",
      "Palabra: values, Frecuencia: 1\n",
      "Palabra: Other, Frecuencia: 1\n",
      "Palabra: callers, Frecuencia: 1\n",
      "Palabra: reply, Frecuencia: 2\n",
      "Palabra: DO, Frecuencia: 1\n",
      "Palabra: DANCE, Frecuencia: 1\n",
      "Palabra: Rock, Frecuencia: 1\n",
      "Palabra: Roll, Frecuencia: 1\n",
      "Palabra: dance, Frecuencia: 2\n",
      "Palabra: Friendship, Frecuencia: 3\n",
      "Palabra: maybe, Frecuencia: 2\n",
      "Palabra: leading, Frecuencia: 1\n",
      "Palabra: 510, Frecuencia: 1\n",
      "Palabra: western, Frecuencia: 1\n",
      "Palabra: southern, Frecuencia: 1\n",
      "Palabra: 5ft, Frecuencia: 1\n",
      "Palabra: large, Frecuencia: 1\n",
      "Palabra: nonsmoker, Frecuencia: 1\n",
      "Palabra: mother, Frecuencia: 1\n",
      "Palabra: 15, Frecuencia: 1\n",
      "Palabra: boy, Frecuencia: 1\n",
      "Palabra: Lives, Frecuencia: 1\n",
      "Palabra: NE, Frecuencia: 1\n",
      "Palabra: FEISTY, Frecuencia: 1\n",
      "Palabra: FOXY, Frecuencia: 1\n",
      "Palabra: YUMMY, Frecuencia: 1\n",
      "Palabra: GRANDMUMMY, Frecuencia: 1\n",
      "Palabra: laughter, Frecuencia: 1\n",
      "Palabra: least, Frecuencia: 1\n",
      "Palabra: enough, Frecuencia: 2\n",
      "Palabra: comfortable, Frecuencia: 2\n",
      "Palabra: just, Frecuencia: 1\n",
      "Palabra: watch, Frecuencia: 1\n",
      "Palabra: fanatical, Frecuencia: 1\n",
      "Palabra: bonus, Frecuencia: 1\n",
      "Palabra: GARDEN, Frecuencia: 1\n",
      "Palabra: 62, Frecuencia: 1\n",
      "Palabra: entertain, Frecuencia: 1\n",
      "Palabra: lead, Frecuencia: 1\n",
      "Palabra: 4, Frecuencia: 1\n",
      "Palabra: VERY, Frecuencia: 1\n",
      "Palabra: 54, Frecuencia: 1\n",
      "Palabra: hugs, Frecuencia: 1\n",
      "Palabra: kisses, Frecuencia: 1\n",
      "Palabra: those, Frecuencia: 1\n",
      "Palabra: tingles, Frecuencia: 1\n",
      "Palabra: when, Frecuencia: 1\n",
      "Palabra: click, Frecuencia: 1\n",
      "Palabra: lover, Frecuencia: 1\n",
      "Palabra: Amongst, Frecuencia: 1\n",
      "Palabra: river, Frecuencia: 1\n",
      "Palabra: real, Frecuencia: 1\n",
      "Palabra: WOMAN, Frecuencia: 1\n",
      "Palabra: OF, Frecuencia: 1\n",
      "Palabra: SUBSTANCE, Frecuencia: 1\n",
      "Palabra: elegant, Frecuencia: 1\n",
      "Palabra: preserved, Frecuencia: 1\n",
      "Palabra: sgle, Frecuencia: 1\n",
      "Palabra: Prince, Frecuencia: 1\n",
      "Palabra: Charming, Frecuencia: 1\n",
      "Palabra: Living, Frecuencia: 1\n",
      "Palabra: city, Frecuencia: 1\n",
      "Palabra: filled, Frecuencia: 1\n",
      "Palabra: glorious, Frecuencia: 1\n",
      "Palabra: sunsets, Frecuencia: 1\n",
      "Palabra: candlelight, Frecuencia: 1\n",
      "Palabra: fine, Frecuencia: 1\n",
      "Palabra: romance, Frecuencia: 1\n",
      "Palabra: true, Frecuencia: 1\n",
      "Palabra: YORKE, Frecuencia: 1\n",
      "Palabra: PENINSULA, Frecuencia: 1\n",
      "Palabra: 70s, Frecuencia: 1\n",
      "Palabra: pleasingly, Frecuencia: 1\n",
      "Palabra: plump, Frecuencia: 1\n",
      "Palabra: luncheons, Frecuencia: 1\n",
      "Palabra: cards, Frecuencia: 1\n",
      "Palabra: indoor, Frecuencia: 1\n",
      "Palabra: bowls, Frecuencia: 1\n",
      "Palabra: marriage, Frecuencia: 1\n",
      "Palabra: Melb, Frecuencia: 1\n",
      "Palabra: 43YO, Frecuencia: 1\n",
      "Palabra: car, Frecuencia: 1\n",
      "Palabra: 48YO, Frecuencia: 1\n",
      "Palabra: SWF, Frecuencia: 2\n",
      "Palabra: 54yo, Frecuencia: 1\n",
      "Palabra: Photo, Frecuencia: 3\n",
      "Palabra: pls, Frecuencia: 2\n",
      "Palabra: companion, Frecuencia: 1\n",
      "Palabra: go, Frecuencia: 1\n",
      "Palabra: Could, Frecuencia: 1\n",
      "Palabra: hearted, Frecuencia: 1\n",
      "Palabra: classes, Frecuencia: 1\n",
      "Palabra: about, Frecuencia: 1\n",
      "Palabra: some, Frecuencia: 1\n",
      "Palabra: experience, Frecuencia: 1\n",
      "Palabra: Ballroom, Frecuencia: 1\n",
      "Palabra: Jive, Frecuencia: 1\n",
      "Palabra: 51, Frecuencia: 1\n",
      "Palabra: sedate, Frecuencia: 1\n",
      "Palabra: appreciated, Frecuencia: 1\n",
      "Palabra: 63, Frecuencia: 1\n",
      "Palabra: genu, Frecuencia: 1\n",
      "Palabra: ine, Frecuencia: 1\n",
      "Palabra: possibly, Frecuencia: 1\n",
      "Palabra: religious, Frecuencia: 1\n",
      "Palabra: horses, Frecuencia: 1\n",
      "Palabra: dogs, Frecuencia: 1\n",
      "Palabra: food, Frecuencia: 1\n",
      "Palabra: beaches, Frecuencia: 1\n",
      "Palabra: fish, Frecuencia: 1\n",
      "Palabra: Gent, Frecuencia: 1\n",
      "Palabra: dating, Frecuencia: 1\n",
      "Palabra: fin, Frecuencia: 1\n",
      "Palabra: lovely, Frecuencia: 1\n",
      "Palabra: Fem, Frecuencia: 1\n",
      "Palabra: activites, Frecuencia: 1\n",
      "Palabra: read, Frecuencia: 1\n",
      "Palabra: 40yo, Frecuencia: 1\n",
      "Palabra: Mum, Frecuencia: 1\n",
      "Palabra: judgemental, Frecuencia: 1\n",
      "Palabra: 45yo, Frecuencia: 1\n",
      "Palabra: danc, Frecuencia: 1\n",
      "Palabra: general, Frecuencia: 1\n",
      "Palabra: themselves, Frecuencia: 1\n",
      "Palabra: Only, Frecuencia: 1\n",
      "Palabra: enquiries, Frecuencia: 1\n",
      "Palabra: ABBREVIATIONS, Frecuencia: 1\n",
      "Palabra: Sense, Frecuencia: 1\n",
      "Palabra: Social, Frecuencia: 2\n",
      "Palabra: All, Frecuencia: 1\n",
      "Palabra: letters, Frecuencia: 1\n",
      "Palabra: answered, Frecuencia: 1\n",
      "Palabra: Down, Frecuencia: 1\n",
      "Palabra: Earth, Frecuencia: 1\n",
      "Palabra: DONT, Frecuencia: 1\n",
      "Palabra: FORGET, Frecuencia: 1\n",
      "Palabra: .., Frecuencia: 1\n",
      "Palabra: Its, Frecuencia: 1\n",
      "Palabra: FREE, Frecuencia: 1\n",
      "Palabra: advertise, Frecuencia: 1\n",
      "Palabra: Perfect, Frecuencia: 1\n",
      "Palabra: Match, Frecuencia: 1\n"
     ]
    }
   ],
   "source": [
    "for palabra, frecuencia in fdist.items():\n",
    "    print(f\"Palabra: {palabra}, Frecuencia: {frecuencia}\")\n"
   ]
  },
  {
   "cell_type": "code",
   "execution_count": 23,
   "metadata": {},
   "outputs": [
    {
     "data": {
      "text/plain": [
       "dict_items([('They', 69), ('neither', 7), ('liked', 12), ('nor', 5), ('disliked', 4), ('the', 2758), ('Old', 17), ('Man', 13), ('.', 3736), ('To', 15), ('them', 142), ('he', 702), ('could', 193), ('have', 258), ('been', 179), ('broken', 8), ('bell', 4), ('in', 875), ('church', 29), ('tower', 1), ('which', 104), ('rang', 6), ('before', 88), ('and', 1776), ('after', 58), ('Mass', 1), (',', 3899), ('at', 402), ('noon', 4), ('six', 11), ('each', 24), ('evening', 14), ('--', 291), ('its', 69), ('tone', 9), ('repetitive', 1), ('monotonous', 1), ('never', 84), ('breaking', 4), ('boredom', 3), ('of', 1186), ('streets', 5), ('The', 230), ('was', 993), ('unimportant', 1), ('Yet', 9), ('if', 142), ('were', 214), ('not', 250), ('there', 169), ('they', 168), ('would', 244), ('missed', 5), ('him', 339), ('as', 282), ('sounds', 12), ('bees', 1), ('buzzing', 4), ('against', 42), ('screen', 4), ('door', 43), ('early', 21), ('June', 4), (';', 264), ('or', 150), ('smell', 3), ('thick', 9), ('tomato', 1), ('paste', 1), ('ripe', 3), ('that', 583), ('both', 28), ('sweet', 8), ('sour', 1), ('rising', 8), ('up', 211), ('from', 202), ('aluminum', 1), ('trays', 1), ('wrapped', 3), ('fly-dotted', 1), ('cheesecloth', 1), ('Or', 15), ('surging', 1), ('whirling', 2), ('bats', 2), ('night', 54), ('when', 126), ('their', 114), ('black', 32), ('bodies', 1), ('dived', 1), ('into', 136), ('blackness', 1), ('above', 17), ('below', 4), ('amber', 1), ('street', 14), ('lights', 2), ('bay', 1), ('female', 4), ('dogs', 3), ('heat', 4), ('called', 31), ('by', 107), ('name', 13), ('although', 4), ('had', 692), ('one', 166), ('Filippo', 1), ('Rossi', 1), (\"that's\", 21), ('what', 121), ('old', 73), ('country', 10), ('but', 252), ('here', 65), ('just', 100), ('Signore', 1), ('But', 135), ('this', 149), ('unusual', 5), ('because', 85), ('youth', 5), ('these', 30), ('quarters', 4), ('always', 49), ('pushed', 7), ('a', 1335), ('distance', 7), ('elders', 1), ('Youth', 1), ('obeyed', 2), ('commanded', 2), ('It', 144), ('went', 82), ('to', 1502), ('on', 362), ('Sunday', 5), ('Saturday', 4), ('month', 6), ('confession', 2), ('asked', 45), ('nothing', 47), ('parents', 6), ('touch', 7), ('hand', 35), ('kiss', 3), ('given', 18), ('passing', 5), ('only', 106), ('thing', 52), ('about', 164), ('long', 65), ('since', 19), ('happened', 19), ('past', 15), ('dead', 15), ('present', 9), ('Once', 9), ('wife', 21), ('And', 129), ('once', 38), ('she', 496), ('too', 92), ('ignored', 2), ('With', 13), ('tiny', 12), ('fur-piece', 1), ('around', 68), ('her', 651), ('shoulders', 7), ('wiggled', 1), ('satin-covered', 1), ('buttocks', 1), ('down', 127), (\"didn't\", 101), ('stop', 16), ('In', 55), ('clutched', 1), ('hundred', 4), ('dollar', 3), ('bill', 3), ('other', 70), ('straw', 1), ('suitcase', 4), ('way', 83), ('strutted', 1), ('blind', 2), ('noticed', 3), ('Without', 2), ('looking', 36), ('without', 30), ('anything', 42), ('except', 10), ('Drexel', 3), ('Street', 5), ('directly', 2), ('front', 17), ('climbed', 7), ('those', 53), ('orange', 6), ('streetcars', 1), ('rode', 4), ('away', 64), ('it', 573), ('came', 75), ('back', 126), ('``', 1045), (\"shouldn't\", 10), ('come', 73), ('first', 52), ('place', 45), (\"''\", 1044), ('women', 22), ('said', 330), ('No', 40), ('no', 123), ('Not', 23), ('She', 232), ('thought', 105), ('bigger', 1), ('than', 65), ('we', 78), ('are', 72), ('Torino', 2), ('Eh', 2), ('!', 316), ('gave', 32), ('herself', 40), ('fancy', 1), ('airs', 1), ('Just', 28), ('part', 18), ('stage', 2), ('carry', 9), ('head', 46), ('higher', 3), ('ours', 1), ('slapped', 2), ('thighs', 2), (\"It's\", 28), ('for', 410), ('making', 17), ('pretty', 19), ('speeches', 1), ('Dante', 1), ('actresses', 1), ('get', 92), ('paid', 9), ('so', 174), ('good', 65), ('Henh', 1), ('Calloused', 1), ('fingers', 13), ('caressed', 2), ('smoothness', 2), ('polished', 1), ('rosaries', 2), ('swayed', 4), ('excitedly', 1), ('beneath', 6), ('puckered', 1), ('chins', 1), ('where', 54), ('hairs', 1), ('sprouted', 1), ('be', 289), ('tweezed', 1), ('Mauve-colored', 1), ('mouths', 1), ('known', 10), ('sweeter', 2), ('taste', 9), ('new', 31), ('wine', 5), ('passion', 5), (\"man's\", 9), ('tongue', 11), ('smiled', 23), ('condemned', 2), ('again', 53), ('Puttana', 1), ('even', 73), ('his', 559), ('now', 83), ('nobody', 11), ('cared', 5), ('fig', 2), ('enough', 40), ('people', 48), ('know', 88), ('time', 93), ('looked', 72), ('fleshy', 1), ('suppleness', 1), ('woman', 34), ('consumed', 2), ('watching', 20), ('become', 6), ('thinner', 3), ('thin', 11), ('seams', 1), ('stockings', 3), ('still', 62), ('His', 44), ('voice', 33), ('questioned', 2), ('why', 34), ('seen', 20), ('wave', 2), ('an', 152), ('exhausted', 2), ('farewell', 2), ('might', 51), ('shooing', 1), ('fleas', 1), ('hopped', 1), ('yellow', 13), ('dog', 8), ('onto', 6), ('(', 21), ('He', 366), (')', 21), ('eyes', 76), ('miniature', 3), ('sundials', 1), ('variegated', 1), ('altered', 2), ('expression', 1), ('direction', 6), (\"Man's\", 2), ('very', 50), ('soul', 6), ('left', 49), ('flown', 1), (\"wouldn't\", 33), ('anyone', 11), ('Perhaps', 9), ('then', 101), ('taking', 19), ('withered', 1), ('wrinkled', 3), ('sister', 7), ('Rose', 4), ('care', 19), ('children', 20), ('guessed', 6), ('all', 209), ('remember', 14), ('memory', 6), ('climbing', 2), ('streetcar', 1), ('?', 690), ('There', 66), ('seemed', 51), ('contemptuous', 1), ('purpose', 1), ('sat', 32), ('with', 460), ('glued', 2), ('opposition', 1), ('behind', 15), ('For', 31), ('saw', 47), ('see', 74), ('town', 15), ('Italy', 7), ('outskirts', 1), ('Philadelphia', 1), ('Bari', 1), ('Chieti', 1), ('smelled', 8), ('What', 50), ('did', 115), ('matter', 18), ('park', 5), ('foot', 7), ('Ash', 1), ('Road', 1), ('stretched', 2), ('elevated', 1), ('trains', 1), ('roared', 2), ('stucco', 2), ('station', 3), (\"city's\", 1), ('center', 7), ('half-hour', 1), ('intervals', 3), ('creek', 1), ('spun', 4), ('silent', 11), ('course', 36), ('toward', 22), ('Schuylkill', 1), ('This', 38), ('hatred', 4), ('companion', 3), ('aloneness', 1), ('same', 30), ('Sameness', 2), ('framed', 1), ('wall', 8), ('ginkgo', 1), ('trees', 7), ('divided', 3), ('city', 10), ('lined', 1), ('two-story', 1), ('houses', 6), ('color', 13), ('ash', 3), ('slashed', 1), ('sloping', 2), ('manure-scented', 1), ('lawns', 1), ('concrete', 3), ('steps', 11), ('upward', 2), ('white', 30), ('wooden', 3), ('porches', 2), ('wicker', 1), ('swings', 1), ('screeched', 2), ('rusted', 1), ('hinges', 1), ('doors', 3), ('Even', 13), ('stable-garage', 1), ('housed', 2), ('scent', 2), ('rot', 1), ('lawn', 2), ('coffee', 19), ('shop', 8), ('men', 29), ('spent', 9), ('evenings', 1), ('Sundays', 1), ('playing', 5), ('cards', 5), ('rose', 9), ('hedge', 2), ('window', 9), ('reeked', 1), ('dregs', 1), ('thrown', 3), ('Only', 8), ('house', 36), ('squatted', 1), ('low', 10), ('square', 4), ('upon', 16), ('sidewalk', 1), ('heavy', 13), ('iron', 3), ('grating', 1), ('supporting', 2), ('glass', 7), ('facade', 2), ('That', 29), (\"Bartoli's\", 1), ('Above', 3), ('second-story', 1), ('showroom', 1), ('angels', 1), ('surveyed', 1), ('neighborhood', 5), ('Did', 12), ('everywhere', 2), ('else', 29), ('sameness', 1), ('wood', 5), ('blocks', 2), ('like', 185), ('fortresses', 2), ('perched', 1), ('slant', 1), ('hill', 4), ('top', 8), ('beyond', 9), ('cemetery', 6), ('paved', 1), ('alleyways', 1), ('tunneled', 1), ('through', 56), ('walls', 10), ('mysterious', 3), ('core', 1), ('intimacy', 1), ('backyards', 1), ('owned', 5), ('fences', 1), ('property', 2), ('blended', 1), ('next', 43), ('form', 3), ('courtyards', 1), ('knew', 69), ('privacy', 2), ('Love', 4), ('fear', 4), ('shaded', 2), ('grape', 2), ('vines', 1), ('forked', 3), ('gossip', 3), ('licked', 2), ('sinister', 2), ('porch', 7), ('silently', 3), ('fed', 3), ('kept', 26), ('alive', 10), ('waiting', 15), ('Waiting', 1), ('whom', 5), ('tell', 37), ('though', 29), ('made', 62), ('pact', 1), ('devil', 3), ('himself', 53), ('yet', 21), ('pay', 8), ('price', 5), ('holding', 7), ('out', 217), ('something', 59), ('determined', 3), ('hold', 12), ('son', 33), ('threw', 9), ('belly', 3), ('step', 5), ('coolness', 4), ('dreaming', 3), ('day', 63), ('rich', 6), ('At', 29), ('fifteen', 8), ('mother', 44), (\"couldn't\", 46), ('face', 44), ('Aunt', 2), ('provided', 2), ('named', 7), ('Pompeii', 5), ('tribute', 2), ('heritage', 1), ('less', 12), ('either', 9), ('life', 51), ('restless', 2), ('began', 23), ('sun', 23), ('ended', 1), ('sleep', 10), ('When', 37), ('man', 87), ('Americans', 2), ('who', 89), ('lived', 19), ('white-columned', 1), ('side', 17), ('ride', 5), ('eight-thirty', 1), ('local', 1), ('morning', 40), ('brief', 4), ('case', 10), ('Nor', 3), ('work', 32), ('cane', 4), ('sit', 6), ('inside', 11), ('pound', 1), ('gloved', 1), ('fist', 3), ('table', 19), ('girl', 26), ('hear', 16), ('running', 11), ('bowing', 3), ('calling', 5), ('your', 106), ('service', 6), ('order', 8), ('bring', 9), ('take', 62), ('vest', 1), ('pocket', 6), ('pipe', 6), ('stuff', 5), ('remove', 4), ('gloves', 1), ('light', 24), ('smoke', 7), ('do', 109), ('Hey', 4), ('Laura', 5), ('ten', 11), ('months', 11), ('older', 7), ('you', 456), ('say', 60), ('I', 951), ('smoked', 3), ('answer', 11), ('leaned', 10), ('unconcerned', 1), ('fence', 3), ('brushing', 2), ('drying', 2), ('wet', 10), ('gilded', 1), ('hair', 30), ('One', 16), ('lithe', 1), ('leg', 7), ('straddled', 1), ('railing', 1), ('swung', 4), ('loosely', 1), ('creaking', 1), ('torn', 3), ('pales', 1), ('Her', 29), ('tanned', 2), ('whose', 9), ('arch', 2), ('swept', 2), ('high', 20), ('pointed', 7), ('artfully', 1), ('tapering', 1), ('toes', 5), ('tips', 1), ('glowed', 1), ('All', 33), ('while', 48), ('sinewy', 1), ('arms', 13), ('swirled', 1), ('chest', 6), ('showed', 7), ('sign', 6), ('having', 24), ('heard', 31), ('lost', 13), ('childlike', 1), ('softness', 1), ('beginning', 9), ('fold', 3), ('within', 11), ('fragile', 1), ('features', 2), ('harshness', 1), ('belied', 1), ('lyric', 1), ('lines', 7), ('contours', 1), ('blue', 19), ('somewhat', 7), ('downcast', 1), ('possessed', 1), ('sullen', 3), ('quality', 3), ('boy', 38), ('clouded', 1), ('sure', 30), ('fully', 3), ('took', 48), ('reached', 6), ('screeching', 1), ('rail', 1), ('moving', 6), (\"She's\", 10), ('mood', 5), (\"There's\", 8), (\"doesn't\", 12), ('Well', 34), ('shining', 7), ('dreams', 2), ('dream', 8), ('wanted', 44), ('Suddenly', 6), ('interrupted', 4), ('daydreaming', 1), ('warm', 10), ('wetness', 1), ('lapping', 2), ('chin', 3), ('opened', 13), ('wide', 10), ('sight', 6), (\"goat's\", 2), ('claret', 1), ('feasting', 1), ('salt', 1), ('aged', 3), ('eye', 11), ('sallow', 1), ('time-cast', 1), ('encrusted', 1), ('sphere', 2), ('marbleized', 1), ('pink', 17), ('skin', 6), ('stared', 14), ('unfalteringly', 1), ('Christ', 2), ('sake', 6), ('goat', 3), ('git', 1), (\"You're\", 16), ('boiling', 3), ('milk', 5), (\"ain't\", 4), ('Soothing', 1), ('knowing', 11), ('whiskered', 1), ('jowls', 2), ('swollen', 2), ('teats', 2), ('expectantly', 1), ('rolled', 6), ('over', 88), ('undulated', 1), ('gradually', 1), ('covering', 1), ('space', 7), ('straining', 2), ('taut', 3), ('warmth', 3), ('mouth', 11), ('squirted', 1), ('roof', 3), ('savored', 1), ('earthy', 1), (\"boy's\", 4), ('operated', 1), ('skilled', 1), ('unity', 1), ('bagpipe', 1), ('player', 3), ('pressing', 1), ('pulling', 1), ('delighting', 1), ('slid', 6), ('evasive', 1), ('shadow', 3), ('storm', 2), ('cloud', 1), ('Its', 1), ('figure', 7), ('fluttering', 1), ('soutane', 1), ('near', 9), ('corner', 9), ('let', 39), ('pass', 3), ('sensing', 1), ('portentous', 1), ('also', 15), ('raise', 3), ('finger', 2), ('smooth', 5), (\"dog's\", 1), ('perhaps', 15), ('reassured', 2), ('due', 4), ('Time', 1), ('give', 28), ('meantime', 1), ('sandals', 3), ('stained', 1), ('ocher', 1), (\"Pompeii's\", 1), ('shaved', 4), ('edged', 1), ('close', 16), ('clapping', 1), ('ecstatic', 1), ('pleasure', 7), ('quickly', 8), ('released', 1), ('pretended', 2), ('examining', 3), ('haunches', 1), ('ticks', 1), ('glance', 6), ('biggest', 1), ('belonged', 3), ('Niobe', 1), ('neatest', 1), ('ones', 10), ('Concetta', 1), ('laced', 1), ('Romeo', 1), (\"Concetta's\", 2), ('idiot', 1), ('brother', 5), ('expected', 6), (\"Romeo's\", 1), ('small', 31), ('body', 19), ('sink', 3), ('closer', 6), ('ground', 8), ('reach', 5), ('grasp', 1), ('shrill', 3), ('impetuous', 1), ('sound', 23), ('rotundity', 1), ('disfigured', 2), ('flesh', 7), ('hearing', 9), ('People', 2), ('baby', 25), ('room', 45), ('filled', 5), (\"Maggie's\", 3), ('throbbed', 1), ('excitement', 5), ('fatigue', 1), ('Stuart', 6), ('such', 21), ('happy', 8), ('earnest', 1), ('look', 54), ('proud', 5), ('possession', 2), ('Maggie', 22), ('bear', 4), ('quench', 1), ('Little', 5), ('Anne', 23), ('rapidly', 2), ('outdistanced', 1), ('recovery', 1), ('two', 48), ('became', 7), ('fat', 5), ('highly', 1), ('social', 6), ('fuzz', 1), ('flaxen', 1), ('stopped', 25), ('flying', 4), ('rages', 1), ('started', 22), ('digesting', 1), ('food', 9), ('developed', 5), ('peaches', 1), ('cream', 1), ('complexion', 3), ('sunny', 3), ('disposition', 1), ('more', 85), ('dry', 4), ('comfortable', 7), ('huge', 2), ('amounts', 1), ('stated', 1), ('carried', 7), ('watch', 11), ('activity', 3), ('going', 60), ('shook', 8), ('lifting', 1), ('seem', 10), ('strength', 8), ('catch', 3), (':', 56), ('big', 36), ('basket', 2), ('clothes', 26), ('coaxed', 1), ('rackety', 1), ('washer', 1), ('lugged', 3), ('daily', 1), ('round', 7), ('household', 2), ('chores', 1), ('insisted', 6), ('participating', 1), ('Worry', 1), ('great', 30), ('deal', 4), ('laid', 5), ('off', 56), ('produce', 1), ('company', 13), ('go', 76), ('sitting', 19), (\"father's\", 5), ('office', 13), ('salary', 1), ('father', 23), ('Mr.', 33), ('Clifton', 1), ('preferred', 1), ('death', 12), ('bankruptcy', 1), ('stay', 22), (\"wife's\", 2), ('contributing', 2), (\"family's\", 1), ('upkeep', 2), ('besides', 3), ('things', 30), ('bought', 5), ('juice', 4), ('vitamins', 1), ('soap', 2), ('plain', 5), ('pored', 1), ('figures', 7), ('every', 23), ('trying', 23), ('find', 34), ('how', 60), ('squeeze', 1), ('few', 37), ('pennies', 1), ('desperation', 2), ('consulted', 1), ('Eugenia', 15), ('afternoon', 12), ('Do', 12), ('think', 56), ('me', 193), ('home', 46), ('make', 49), ('some', 69), ('money', 24), ('rest', 17), ('seems', 2), ('is', 150), ('washing', 4), ('machine', 3), ('stove', 5), ('plenty', 8), ('odd', 4), ('moments', 9), ('doing', 20), ('feel', 36), ('lot', 17), ('better', 32), (\"Woman's\", 1), ('Exchange', 1), (\"isn't\", 20), ('baked', 2), ('goods', 1), ('any', 67), (\"can't\", 24), ('leave', 24), ('Grandma', 10), ('strong', 9), (\"baby's\", 4), ('young', 49), ('put', 49), ('nursery', 2), ('should', 32), ('can', 74), ('keeping', 6), ('child', 17), ('starched', 1), ('dresses', 3), ('changed', 9), ('nineteen', 1), ('times', 14), ('beautiful', 25), ('keep', 26), ('nice', 18), ('picked', 16), ('nuzzled', 1), ('little', 99), ('neck', 12), (\"She'll\", 4), ('ironed', 1), ('Evadna', 3), ('Mae', 3), ('Evans', 8), ('flannel', 2), ('wrapper', 1), ('until', 34), ('nine', 4), ('got', 89), (\"Best's\", 1), ('Liliputian', 1), ('Bazaar', 1), ('New', 15), ('York', 13), (\"I'm\", 77), ('sick', 12), ('tired', 11), (\"don't\", 62), ('snap', 5), ('thinking', 24), ('sensible', 1), ('sorry', 19), ('everybody', 13), ('days', 32), ('extra', 2), (\"let's\", 5), (\"Let's\", 10), ('list', 2), ('assets', 2), ('laughing', 8), ('laughed', 13), ('hard', 16), ('yard', 2), ('hang', 3), ('kitchen', 12), ('pencil', 1), ('envelope', 6), ('jotting', 1), ('words', 14), ('run', 16), ('own', 63), ('working', 8), ('mothers', 1), ('We', 31), ('cribs', 1), ('second', 15), ('floor', 13), ('sleeping', 5), ('turn', 19), ('bedroom', 12), ('playroom', 1), (\"it's\", 13), ('entail', 1), ('quite', 22), ('bit', 12), ('stairs', 9), ('Chris', 11), ('careful', 3), ('You', 102), ('set', 17), ('dress', 9), ('living', 11), ('Every', 6), ('block', 3), ('has', 26), ('tried', 22), ('tea', 3), ('tables', 3), ('serve', 3), ('salads', 1), ('beans', 1), ('brown', 12), ('bread', 6), ('gypsy', 1), ('fortunes', 1), ('elaborate', 2), ('truth', 8), ('am', 20), ('sighed', 6), ('really', 38), ('interesting', 4), ('my', 156), ('typing', 2), ('jobs', 6), ('type', 3), ('well', 38), ('Oh', 24), ('fair', 5), (\"Don't\", 24), ('worry', 11), ('wondering', 6), ('world', 26), ('much', 69), ('happier', 3), ('already', 20), ('clearing', 1), ('chattering', 1), ('typewriter', 3), ('right', 55), ('ashamed', 4), ('whenever', 3), ('minute', 7), ('contests', 1), ('feet', 21), ('waste', 3), ('wish', 22), ('three', 17), ('wishes', 4), ('grew', 6), ('bitterly', 2), ('cold', 34), ('end', 24), ('November', 1), ('miseries', 1), ('countless', 1), ('numbers', 2), ('temperature', 1), ('dropped', 14), ('twenty', 7), ('stood', 37), ('zero', 1), ('during', 11), ('settled', 9), ('tangible', 1), ('pall', 1), ('Mile', 1), ('High', 1), ('City', 3), ('locking', 1), ('icy', 3), ('grip', 3), ('harshened', 1), ('outlines', 1), ('physical', 3), ('appearance', 4), ('grim', 4), ('stark', 2), ('realism', 1), ('resembling', 1), ('cities', 2), ('habitual', 1), ('climate', 3), ('instead', 14), ('sprawling', 1), ('bumptious', 1), ('open-handed', 1), ('greedy', 2), ('Western', 2), ('basking', 1), ('eternal', 3), ('sunshine', 2), ('mountains', 2), ('stored', 1), ('endless', 2), ('riches', 1), ('resources', 2), ('jobless', 1), ('huddled', 2), ('outside', 11), ('employment', 1), ('offices', 2), ('newspaper', 2), ('buildings', 4), ('parks', 1), ('relief', 5), ('government', 10), ('agencies', 3), (\"weren't\", 9), ('facilities', 3), ('need', 15), ('felt', 64), ('kind', 34), ('poverty', 4), ('regarded', 4), ('exclusive', 1), ('East', 4), ('created', 1), ('depressions', 1), ('stock', 7), ('markets', 1), ('congested', 1), ('populations', 1), ('centralization', 1), ('industries', 1), ('protected', 2), ('discriminatory', 1), ('freight', 1), ('rates', 2), ('popularly', 1), ('supposed', 9), ('war', 11), ('depression', 3), ('dragging', 3), ('west', 2), ('along', 33), ('creating', 1), ('West', 3), ('doubtless', 2), ('being', 49), ('fast', 7), ('meanwhile', 3), ('penetrated', 1), ('everything', 27), ('Shivering', 2), ('talked', 15), ('argued', 2), ('spending', 1), ('somehow', 7), ('desperate', 6), ('circumstances', 4), ('remedies', 1), ('done', 29), ('Something', 9), ('theme', 3), ('song', 2), ('millions', 1), ('American', 14), ('personal', 3), ('problems', 2), ('urgent', 1), ('Abernathys', 1), ('dozen', 2), ('furnace', 5), ('fuel', 2), ('bills', 4), ('doctor', 13), ('dentist', 3), ('stretch', 1), ('mortgage', 1), ('taxes', 1), ('shoes', 12), ('half', 17), ('soles', 4), ('overshoes', 1), ('leaks', 1), ('gas', 2), ('meeting', 12), ('minor', 3), ('emergencies', 1), ('twice', 3), ('fifty', 2), ('dropping', 4), ('bottle', 8), ('catastrophe', 2), ('wore', 11), ('termed', 1), ('major', 1), ('disaster', 1), ('Abernathy', 2), ('giant', 5), ('ravenous', 2), ('maw', 1), ('appeased', 1), ('hurling', 1), ('tons', 1), ('coal', 3), ('evil', 8), ('red', 15), ('depths', 2), ('remained', 6), ('Cold', 1), ('innumerable', 1), ('cracks', 4), ('sprung', 1), ('under', 14), ('loosened', 3), ('frames', 1), ('attic', 1), ('widened', 2), ('between', 22), ('shingles', 1), ('Presently', 2), ('full', 19), ('capacity', 1), ('depend', 2), ('range', 4), ('removed', 2), ('installed', 2), ('fireplaces', 1), ('electric', 1), ('heater', 5), (\"Grandma's\", 3), ('wretched', 3), ('sort', 10), ('gaiety', 1), ('infected', 1), ('stormbound', 1), ('shipwrecked', 1), ('caught', 15), ('freak', 2), ('circumstance', 1), ('anxieties', 1), ('fell', 14), ('important', 4), ('cling', 1), ('together', 25), ('survive', 1), ('pipes', 1), ('burst', 8), ('ice', 4), ('water', 34), ('ankles', 1), ('swabbed', 1), ('bathrooms', 1), ('mainly', 3), ('moved', 15), ('bed', 23), ('undressed', 2), ('ran', 13), ('groaning', 1), ('shivering', 3), ('upper', 3), ('polar', 1), ('regions', 1), ('plunged', 2), ('beds', 3), ('mining', 1), ('camp', 5), ('ought', 14), ('live', 13), ('getting', 16), ('used', 21), ('mouthful', 3), ('grimly', 2), ('hated', 6), ('worse', 6), ('joys', 1), ('wearing', 8), ('meet', 11), ('emergency', 1), ('another', 26), ('wallow', 1), ('last', 44), ('forever', 10), ('Plenty', 2), ('poor', 8), ('lives', 3), (\"haven't\", 13), ('our', 25), ('brains', 3), ('talent', 4), ('start', 9), ('talking', 17), (\"you'll\", 8), ('ruin', 2), ('whole', 23), ('prove', 2), ('family', 23), ('superior', 3), ('worries', 5), ('begged', 7), ('strange', 11), ('teeth', 10), ('hoped', 7), ('die', 7), ('Christian', 4), ('Lord', 6), ('willed', 1), ('pneumonia', 2), ('want', 37), ('especially', 4), ('span', 2), ('nearly', 8), ('anyway', 10), ('Hope', 4), (\"Hope's\", 1), ('dragged', 3), ('forth', 8), ('tipped', 1), ('almost', 19), ('bedspread', 2), ('fire', 12), ('proved', 5), (\"wasn't\", 50), ('trusted', 2), ('burned', 5), ('crisp', 4), ('anybody', 7), ('suspected', 6), ('deliberately', 2), ('overturning', 1), ('Thrifty', 1), ('use', 14), ('Unusual', 1), ('joke', 2), (\"Didn't\", 3), ('read', 13), ('married', 10), ('tenant', 1), ('yes', 10), ('simplify', 1), (\"Tolley's\", 3), ('Laban', 4), ('Tolley', 6), ('gone', 25), ('California', 1), (\"He'd\", 6), ('mentioned', 5), ('idea', 23), ('Jenny', 7), ('jilted', 1), ('Roy', 4), ('Robards', 8), ('nose', 7), (\"they're\", 2), ('Mamma', 2), ('Zion', 4), ('stayed', 11), ('pin', 2), (\"it'll\", 4), ('will', 43), ('Kizzie', 5), ('turned', 48), ('Let', 8), ('pictures', 5), (\"sun's\", 1), ('Pictures', 2), (\"Brace's\", 1), ('told', 47), ('camera', 2), ('Indeed', 2), ('Why', 28), ('empty', 3), ('marrying', 2), ('sneaky', 1), ('trip', 9), ('consorting', 1), ('tenants', 1), ('Mt.', 2), ('Pleasant', 2), ('understands', 1), ('simple', 5), ('fact', 6), ('Wait', 2), (\"I'll\", 53), ('dressed', 11), ('Frank', 5), ('followed', 10), ('hooked', 2), ('Hurry', 2), (\"They're\", 5), ('laugh', 6), ('Fairbrothers', 2), ('Labans', 1), ('fault', 5), ('drove', 10), ('exactly', 5), ('valiant', 1), ('pitiable', 1), ('kissed', 3), ('Make', 2), ('God', 23), ('dear', 8), ('congregation', 2), ('decide', 3), ('cruel', 2), ('unfair', 2), ('coming', 13), ('Yes', 25), ('oh', 3), ('Returning', 1), ('log-house', 1), ('found', 29), ('favorite', 4), ('Jonathan', 1), ('Swift', 3), ('lips', 11), ('Under', 3), ('stormy', 1), ('weather', 7), ('marry', 7), ('none', 6), ('Him', 1), ('rules', 2), ('thunder', 2), ('Put', 1), ('asunder', 1), ('Absolution', 1), ('lie', 5), (\"God's\", 3), ('telegraph', 1), ('message', 1), ('sealed', 1), ('pigeonhole', 1), ('preserved', 2), ('If', 28), ('died', 7), ('unable', 4), ('resist', 1), ('opening', 4), ('thrusting', 2), ('burden', 2), ('remaining', 2), ('sons', 2), ('parties', 5), ('deception', 1), ('peculiarly', 1), ('simply', 11), ('necessity', 2), ('confess', 1), ('write', 6), (\"You've\", 6), ('lacerate', 1), ('Reaching', 1), ('clay', 2), ('pot', 4), ('relic', 1), ('pioneer', 1), ('tore', 3), ('pieces', 2), ('touching', 5), ('pyre', 1), ('flame', 2), ('curl', 1), ('sealing', 1), ('wax', 1), ('melting', 1), ('bubbling', 1), ('feathery', 1), ('Surely', 4), ('beloved', 1), ('peace', 7), (\"'\", 14), ('gathers', 1), ('shall', 3), ('gather', 3), ('fruit', 1), ('A', 48), ('haunting', 2), ('line', 10), ('subtle', 1), ('genius', 1), ('Swinburne', 1), ('difficult', 8), ('envy', 3), ('gifted', 1), ('satisfactions', 1), ('Beyond', 1), ('greening', 1), ('spring', 6), ('hope', 10), ('lay', 11), ('Grand', 1), (\"Fair's\", 2), ('Quinzaine', 4), (\"parents'\", 1), ('graves', 2), ('promise', 10), ('grandsons', 1), ('poured', 4), ('thimble', 1), ('toast', 2), (\"he'd\", 16), ('often', 7), ('absent', 2), ('loved', 16), ('drank', 10), ('Brace', 1), ('person', 9), ('easygoing', 1), ('bother', 4), ('blacksmith', 1), ('preacher', 1), ('Howdy', 1), ('Miss', 28), ('adding', 2), ('careless', 1), ('Simply', 2), ('call', 24), ('Whipsnade', 2), ('Oscar', 1), ('Dr.', 6), ('Dunne', 4), ('P.GA', 1), (\"C'un\", 1), ('Major', 1), ('damn', 6), ('fool', 5), ('plain-out', 1), ('please', 10), ('try', 10), ('ever', 35), ('Mist', 2), ('scream', 2), (\"hadn't\", 29), ('meant', 11), ('assured', 2), ('importance', 2), ('How', 17), ('handsome', 11), ('carte', 1), ('blanche', 1), ('furnishings', 2), ('fail', 2), ('spiritual', 2), ('ways', 4), ('Another', 3), ('weakness', 1), ('far', 15), ('irritating', 2), ('manner', 4), ('speaking', 7), ('token', 2), ('effort', 3), ('change', 8), ('devotion', 1), ('horse', 6), ('rather', 17), (\"Robards'\", 1), ('indeed', 7), ('Mare', 3), ('Mrs.', 39), ('spoke', 12), ('Queen', 1), ('bless', 3), ('horses', 6), ('mares', 1), ('geldings', 1), ('what-nots', 1), ('barn', 2), ('reverent', 1), (\"Racin'\", 1), ('revolting', 1), ('Gunny', 6), ('marriage', 8), ('pearl', 1), ('stamp', 1), ('imperiously', 1), ('stall', 1), ('invariably', 1), ('bite', 2), ('Nerves', 1), ('nip', 1), ('Stand', 1), ('Jen', 6), (\"she's\", 9), ('oneasy', 1), ('scarf', 2), ('Never', 3), ('Quit', 1), (\"sor'l\", 1), ('concern', 7), ('nerves', 2), ('danger', 4), ('curled', 4), ('lip', 1), ('mark', 3), ('January', 1), (\"musn't\", 1), ('annoy', 1), ('foal', 2), ('Listening', 1), ('hours', 16), ('laments', 2), ('afterwards', 2), ('robbed', 2), ('mare', 2), ('many', 27), ('racing', 3), ('triumph', 3), ('predictions', 1), ('greatness', 2), ('procession', 1), ('foals', 1), ('forward', 8), ('years', 34), ('conflict', 2), ('animal', 5), ('intensely', 2), ('symbolized', 1), ('unpleasant', 1), ('indifference', 2), ('treated', 1), ('acknowledge', 1), ('husband', 10), ('lack', 4), ('understanding', 3), ('sympathy', 5), ('condition', 1), ('disgusting', 1), ('stomach', 8), ('Human', 1), ('birth', 1), ('novelty', 1), ('Tillie', 2), ('fine', 18), ('midwife', 1), ('quick', 6), ('suggested', 6), (\"Jenny's\", 1), ('aversion', 2), ('former', 1), ('admirer', 1), ('silly', 3), ('humor', 5), ('best', 12), ('chances', 2), ('riding', 1), ('veterinarian', 2), ('Night', 3), ('winter', 5), ('rubbing', 2), ('quarts', 1), ('expensive', 4), ('liniment', 1), ('fussing', 1), ('bran', 1), ('mash', 1), ('cook', 2), ('charlotte', 1), ('russe', 1), ('tracking', 1), ('manure', 1), ('carpet', 2), ('jiffy', 1), ('attentive', 3), ('worried', 7), ('wished', 10), ('feeling', 21), ('allowed', 2), ('triplets', 3), ('pleased', 6), ('showing', 4), ('disappointment', 3), ('saying', 18), (\"trippin'\", 1), ('pike', 3), (\"ever'\", 1), ('hon', 2), ('Rhyme', 1), (\"'em\", 4), ('cute', 2), ('Arcilla', 1), ('Flotilla', 1), ('Edmonia', 1), ('firmly', 2), ('Jennifer', 1), ('Kezziah', 1), ('mighty', 4), (\"an'\", 2), (\"this'll\", 1), ('fetch', 3), ('Now', 29), ('must', 45), ('boy-name', 1), ('special', 8), ('wait', 10), ('till', 10), (\"Mare's\", 1), ('Handsomest', 1), ('colt', 1), ('Kentucky', 1), ('Strong', 1), ('legs', 4), ('hour', 12), ('Royal', 1), ('Jesus', 1), ('tears', 6), ('deeply', 3), ('distressed', 1), ('unhappy', 6), ('peach', 1), ('Of', 16), ('spirits', 8), ('rise', 5), ('Those', 5), ('elegant', 2), ('Home', 1), ('sent', 11), ('wear', 3), ('trimmed', 1), ('brought', 19), ('callers', 1), ('Doc', 14), ('Sis', 2), ('So', 18), ('Shawnee', 1), ('Rakestraw', 1), ('criticisms', 1), ('changes', 2), ('giving', 6), ('thanks', 3), ('Heavenly', 1), ('Rest', 1), ('year', 14), ('enjoyed', 7), ('boarding', 1), ('inclement', 1), ('Spa', 1), ('summer', 8), ('snippy', 1), (\"you'd\", 6), ('namesake', 1), (\"she'd\", 22), ('silver', 3), ('teething', 1), ('rings', 2), ('trips', 2), ('return', 6), ('Kiz', 3), ('cordial', 1), ('hardly', 9), ('More', 4), ('driving', 6), (\"Tillie's\", 1), (\"Nick's\", 1), ('frame', 2), ('box', 5), ('posts', 1), ('chickens', 3), ('cats', 2), ('pups', 1), ('friendly', 5), ('to-do', 1), ('babies', 3), ('dollies', 1), ('Though', 2), ('glad', 7), ('folks', 7), ('welcome', 4), ('finest', 1), ('land', 5), ('hot', 15), ('collar', 2), ('holy', 2), ('spa', 1), ('reserved', 2), ('regretted', 2), ('entertain', 1), ('word', 17), ('nurse', 4), ('nigs', 1), ('fit', 4), ('shame', 6), ('Have', 6), ('party', 12), ('swell', 2), ('send', 7), ('invite', 1), (\"ever'body\", 1), ('met', 12), ('Galt', 1), ('House', 1), (\"I've\", 27), ('Jockey', 1), ('Club', 6), ('affair', 1), ('dang', 1), (\"We'll\", 8), ('oystchers', 1), ('couple', 17), (\"bar'l\", 1), (\"oystchers'll\", 1), ('crowd', 4), ('gets', 4), ('dare', 2), ('funny', 7), ('ideas', 6), ('perk', 1), ('downright', 1), ('surprised', 11), (\"Roy's\", 1), ('buggy', 1), ('beside', 16), ('walking', 12), ('school', 15), ('teaching', 2), ('Eph', 1), ('Showers', 1), ('preach', 1), ('mountain', 1), ('smile', 11), ('hat', 5), ('most', 26), ('politely', 1), ('hop', 2), ('lift', 3), ('hesitation', 2), ('momentary', 2), ('notice', 8), ('See', 4), ('yourself', 14), (\"won't\", 18), ('gateway', 1), (\"Them's\", 1), ('purtiest', 1), ('babes', 1), ('lonesome', 2), ('relish', 2), (\"comin'\", 1), ('uncomfortably', 2), ('forgiven', 1), ('Henrietta', 20), ('murmured', 2), ('absolution', 1), (\"Doaty's\", 6), ('testament', 1), ('proof', 1), ('Doaty', 8), ('godless', 1), ('wishing', 1), ('loving', 2), ('note', 13), ('garnet', 1), ('counsel', 1), ('extraordinary', 2), ('us', 42), ('Hetty', 2), ('inevitably', 1), ('unfavorable', 1), ('Adelia', 5), ('frequently', 1), ('tempted', 2), ('Their', 5), ('childhood', 2), ('circumspect', 1), (\"Hetty's\", 1), ('flair', 1), ('drama', 1), ('summers', 1), ('Maneret', 1), ('School', 2), ('taught', 2), ('excellently', 1), ('austere', 1), ('knowledge', 6), ('lessons', 1), ('French', 3), ('Polish', 1), ('nobleman', 1), ('profound', 2), ('distaste', 2), ('pupils', 3), ('dancing', 5), ('class', 9), ('Craddock', 1), ('tireless', 2), ('supervising', 1), ('wand', 1), ('everlasting', 1), ('one-two-three', 2), ('supper', 2), ('teas', 1), ('fetes', 1), ('balls', 2), ('Mama', 4), ('gay', 3), ('Papa', 5), ('enormously', 3), ('jocular', 1), ('possessive', 1), ('Blackwell', 3), ('planets', 1), ('revolved', 1), ('corruption', 1), ('circle', 5), ('interruption', 1), ('Charles', 4), ('safe', 7), ('assume', 1), ('sighing', 2), ('heavily', 3), ('daughter', 7), ('Thank', 3), ('spared', 1), ('true', 17), ('easier', 3), (\"Charles'\", 1), ('vulnerable', 1), ('able', 11), ('ignore', 2), ('moral', 3), ('question', 5), ('choice', 4), ('moment', 27), ('dawn', 3), ('lying', 3), ('others', 9), ('regard', 2), ('argue', 1), ('morality', 1), ('consisted', 1), ('ability', 3), ('finding', 1), ('oppressive', 1), ('someone', 11), ('Impossible', 1), ('imagine', 9), ('temptation', 2), ('sin', 2), ('virtue', 1), ('curious', 6), ('birds', 5), ('awake', 4), ('colloquy', 1), ('music', 6), ('creep', 2), ('across', 19), ('sill', 1), ('chair', 5), ('flowers', 8), ('artificial', 1), ('blossom', 1), ('leaf', 1), ('Before', 3), ('grave', 3), ('forgotten', 4), ('garden', 7), ('Everything', 4), ('mission', 2), ('sentimental', 2), ('duty', 7), ('pilgrim', 1), ('nature', 5), ('avoided', 1), ('graveyards', 1), ('closed', 4), ('remembering', 1), ('enclosed', 2), ('stone', 6), ('rain', 12), ('grass', 2), ('gray', 12), ('After', 11), ('sad', 6), ('impatient', 3), ('comfort', 3), ('slipped', 5), ('open', 18), ('lacy', 1), ('dew', 2), ('enchanting', 1), ('wildness', 1), ('Leaning', 1), ('tangle', 1), ('rosebush', 1), ('honeysuckle', 1), ('bloom', 1), ('On', 13), ('spray', 1), ('thorns', 1), ('dewdrops', 1), ('swelling', 4), ('buds', 1), ('Valentine', 1), ('bird', 2), ('balanced', 1), ('sang', 2), ('nondescriptly', 1), ('engine', 2), ('artless', 1), ('barefoot', 2), ('play', 8), ('growing', 6), ('permitted', 3), ('bare', 4), ('decidedly', 1), ('une', 1), ('femme', 1), (\"d'un\", 1), ('certain', 13), ('age', 15), ('Feeling', 3), ('suddenly', 22), ('neat', 2), ('subdued', 2), ('soberly', 2), ('downstairs', 4), ('Rosa', 4), ('unbelievably', 1), ('reassurance', 2), ('human', 5), ('protective', 1), ('yesterday', 3), ('bun', 1), ('jug', 1), ('breakfast', 16), ('equivalent', 1), ('Outside', 6), ('tame', 2), ('wilderness', 1), ('yielded', 1), ('patchwork', 1), ('bouquet', 3), ('daisies', 2), ('william', 1), ('scented', 2), (\"lady's\", 2), ('bedstraw', 1), ('tied', 4), ('grasses', 1), ('show', 9), ('stirring', 2), ('haranguing', 1), ('Folly', 3), ('poodle', 1), ('gleefully', 1), ('supplicating', 1), ('air', 19), ('prayerful', 1), ('forepaws', 1), ('held', 16), ('Rummaging', 1), ('coldly', 2), ('Go', 6), ('sounded', 6), ('clear', 17), ('impression', 3), ('comply', 1), ('danced', 4), ('eager', 3), ('whatever', 7), ('slumbered', 1), ('village', 3), ('sea', 10), ('thirty', 5), ('walked', 27), ('narrow', 7), ('shuttered', 1), ('shops', 1), ('inhabitants', 1), ('eying', 1), ('frankest', 1), ('curiosity', 1), ('bowed', 1), ('recalling', 2), ('princess-in-a-carriage', 1), ('acknowledgments', 1), ('cautious', 1), ('interested', 6), ('An', 7), ('cottage', 6), ('reflective', 1), ('passed', 10), ('sap', 1), ('plainly', 1), ('branches', 4), ('impulse', 5), ('cupped', 1), ('ear', 3), ('repetition', 1), ('announcing', 1), ('nettled', 1), ('offered', 4), ('estimate', 3), ('unenthusiastic', 1), (\"Summer's\", 1), ('slow', 2), (\"dryin'\", 2), ('scowled', 1), ('vague', 1), ('hospitality', 1), (\"They'll\", 1), (\"takin'\", 1), ('pleasantly', 1), (\"soon's\", 1), ('plan', 4), ('choose', 3), ('coffin', 3), ('myself', 27), ('does', 11), (\"You'd\", 2), ('doubtfully', 1), (\"Y're\", 2), ('straightened', 4), ('soldierly', 1), ('pulled', 8), ('sprawled', 2), ('boots', 2), ('stick', 11), ('ceased', 1), ('pointer', 1), ('emphasizing', 2), ('finer', 1), ('aspects', 2), ('text', 1), (\"f'r\", 1), ('happily', 1), ('system', 3), ('whatsoever', 2), ('rests', 1), ('tissues', 4), ('nodded', 9), ('approval', 2), ('womanly', 1), ('sense', 8), ('Rests', 1), ('pacifies', 1), ('My', 21), ('dad', 1), ('sharply', 3), ('link', 1), ('Titus', 2), ('nineties', 1), ('Next', 3), ('Blackwells', 1), ('island', 4), ('silenced', 1), ('terrible', 6), ('scanty', 1), ('beard', 9), ('deep-set', 1), ('mariner', 1), ('possible', 9), ('spoken', 3), ('awed', 1), ('sisters', 2), ('fellow', 5), ('fishing-boat', 1), ('captain', 5), ('powerful', 1), ('shriveled', 1), ('size', 5), ('senses', 2), ('gently', 2), (\"well's\", 1), ('Ran', 1), ('lawful', 1), ('wedded', 1), ('impressed', 2), (\"Can't\", 6), ('blame', 4), (\"leavin'\", 1), ('cheerfully', 1), ('Left', 1), ('mine', 8), ('boat', 2), (\"there's\", 5), ('places', 6), ('reasons', 6), ('Any', 1), ('harm', 5), ('Probably', 6), ('dryly', 1), ('short', 12), ('knowingly', 1), ('observed', 2), ('liking', 1), ('defend', 4), ('actions', 3), ('different', 11), ('laws', 2), ('connivance', 1), ('Selma', 1), (\"Cotter's\", 1), ('censure', 1), ('Great', 2), ('Island', 3), ('understood', 7), ('praised', 1), ('ancient', 4), ('earth', 8), ('move', 12), ('big-boned', 1), ('drab-haired', 1), ('clean', 10), ('apron', 1), ('limp', 6), ('print', 1), ('vaguely', 1), (\"gran'dad\", 1), (\"Y'r\", 1), (\"dam'\", 1), ('porridge', 1), ('Milk', 1), ('sops', 1), ('beat', 5), ('claws', 1), ('clattered', 1), ('stones', 2), (\"He's\", 14), ('lowly', 1), ('today', 11), ('grand-daughter', 2), ('wearily', 1), ('bent', 4), ('pick', 6), ('comes', 3), ('drink', 10), ('beer', 5), ('piously', 1), ('heaven', 2), ('Beer', 1), ('affect', 1), ('ingenious', 1), ('hypocrisy', 1), ('defense', 6), ('forgave', 1), ('stint', 1), ('malevolence', 1), ('Come', 7), ('eating', 7), (\"Blackwell's\", 1), ('somewheres', 1), ('graveyard', 2), ('Who', 6), (\"day's\", 4), (\"You'll\", 5), ('visiting', 3), (\"Ma'am\", 1), ('Delia', 1), ('arm', 7), ('grow', 7), ('answered', 9), ('nod', 3), ('lifted', 3), ('patiently', 2), ('gentle', 2), ('cruelty', 1), ('necessary', 8), ('tyranny', 1), ('mumbled', 1), ('led', 5), ('shuffling', 1), ('mightily', 1), ('weak', 2), ('buffeted', 1), ('wicked', 2), ('gabble', 1), ('voices', 6), ('indoors', 1), ('hungry', 3), ('fish', 5), ('swearing', 1), ('lively', 3), (\"journey's\", 1), ('leaving', 7), ('crossing', 2), ('field', 24), ('ahead', 10), ('edge', 5), ('wild', 4), ('rolling', 2), ('dotted', 1), ('bushes', 1), ('sheep', 1), ('covered', 4), ('blossoms', 1), ('scant', 1), ('roots', 2), ('clawing', 1), ('stony', 1), ('darted', 1), ('rustle', 1), ('cry', 10), ('placid', 1), ('terrestrial', 1), ('humming', 2), ('sky', 8), ('mindless', 1), ('easy', 6), ('spire', 1), ('Both', 2), ('smaller', 2), ('remembered', 13), ('lessened', 1), ('headstones', 1), ('grown', 6), ('Dorothy', 1), ('Tredding', 1), ('impossible', 8), ('nearest', 1), ('fallen', 3), ('sea-damp', 1), ('tracing', 1), ('indecipherable', 1), ('carved', 1), ('letters', 7), ('padded', 1), ('green', 12), ('moss', 1), ('gathering', 5), ('gold', 2), ('parasol', 1), ('shade', 2), ('rock-carved', 1), ('angel', 2), ('watched', 7), ('nearby', 1), ('tomb', 2), ('savage', 3), ('moonlight', 3), ('scudding', 1), ('clouds', 3), ('dared', 2), ('stolen', 3), ('hoping', 4), ('fearing', 1), ('ghosts', 1), ('Momoyama', 3), ('Miyagi', 2), ('Prefecture', 1), ('northeast', 1), ('main', 7), ('Japanese', 14), ('Honshu', 1), ('traces', 1), ('Ainu', 1), ('strain', 2), ('Ainus', 1), ('primitive', 1), ('principal', 5), ('ancestors', 2), ('Southern', 1), ('Asia', 2), ('Apparently', 1), ('Caucasian', 1), ('blood', 5), ('skins', 1), ('bearded', 1), ('pitiful', 1), ('subsist', 1), ('tourist', 4), ('trade', 4), ('sing', 2), ('tribal', 2), ('chants', 1), ('sadness', 1), ('Indians', 1), ('Most', 4), ('assimilated', 1), ('sometimes', 10), ('Akita', 1), ('prefectures', 1), ('hairy', 2), ('average', 5), ('occasionally', 1), ('strikingly', 1), ('lovely', 4), ('coloring', 1), ('warmed', 2), ('improved', 1), ('tawny', 1), ('honey-in-the-sun', 1), ('tint', 1), ('invaders', 1), ('South', 2), ('Tommy', 14), ('fortunate', 1), ('occasions', 2), ('taller', 2), ('girls', 15), ('exquisitely', 1), ('willowy', 1), ('lucky', 2), ('tall', 3), ('bridge', 3), ('pale', 25), ('susceptible', 1), ('sunburn', 5), ('vegetable', 1), ('diet', 1), ('forebears', 1), ('regular', 9), ('soft', 6), ('intriguingly', 1), ('tilted', 3), ('melody', 2), ('Japan', 5), ('week', 18), ('alien', 2), ('considering', 3), ('putting', 5), ('rebellious', 1), ('requests', 1), ('San', 5), ('Diego', 4), ('Bremerton', 1), ('Lakes', 1), ('Pensacola', 1), ('Navy', 12), ('hospital', 8), ('threat', 1), ('resign', 1), ('commission', 2), ('request', 3), ('granted', 2), ('Anywhere', 1), ('wrong', 23), ('job', 27), ('assigned', 1), ('psychopathic', 1), ('ward', 6), ('depressingly', 1), ('serious', 4), ('cases', 1), ('teamed', 1), ('chaplain', 1), ('counselor', 1), ('States', 4), ('preserve', 2), ('mental', 1), ('health', 2), ('rule', 2), (\"doctor's\", 3), ('seeing', 13), ('salvage', 1), ('firms', 1), ('operate', 1), ('hulks', 1), ('warships', 1), ('sunk', 1), ('inshore', 1), ('involved', 4), ('setting', 1), ('nerve-shattering', 1), ('blasts', 1), ('psychiatry', 1), ('help', 24), ('patients', 5), ('suffered', 3), ('off-duty', 1), ('Such', 3), (\"Officers'\", 2), ('hamburger', 2), ('sustain', 1), ('dinnertime', 1), ('cocktail', 1), ('tight', 5), (\"Navy's\", 2), ('crossroads', 1), ('Ships', 1), ('Coast', 2), ('rotated', 1), ('six-month', 1), ('tours', 3), ('Seventh', 2), ('Fleet', 3), ('Yokosuka', 3), (\"Fleet's\", 1), ('port', 1), ('maintenance', 1), ('shore', 1), ('liberty', 2), ('Sooner', 2), ('later', 19), ('ships', 1), ('officers', 1), ('Long', 2), ('Beach', 3), ('desperately', 2), ('approach', 6), ('good-looking', 1), ('Bar', 2), ('stag', 6), ('cubes', 1), ('tinkling', 2), ('alone', 24), ('trifle', 2), ('tipsy', 1), ('drinking', 4), ('consequently', 1), ('practice', 2), ('tweed', 2), ('sports', 3), ('jacket', 9), ('obviously', 4), ('tailored', 1), ('Hong', 3), ('Kong', 3), ('marked', 3), ('lieutenant', 4), ('carriers', 1), ('aviator', 1), ('fifty-fifty', 1), ('chance', 16), ('unmarried', 2), ('slender', 2), ('applied', 3), ('anywhere', 5), ('overseas', 1), ('foreign', 3), ('implied', 1), ('excused', 1), ('license', 2), ('intimated', 1), ('therefore', 2), ('Then', 42), ('Harro', 1), ('girl-san', 1), ('turning', 9), ('charm', 3), ('catchee', 1), ('boy-furiendo', 1), ('Maybe', 12), ('likee', 1), ('date', 3), ('beg', 1), ('pardon', 1), ('rage', 4), ('believe', 14), ('understand', 14), ('quaint', 2), ('brand', 1), ('English', 8), ('nice-looking', 1), ('officer', 3), ('heels', 2), ('open-mouthed', 1), ('blushing', 1), ('least', 12), ('decency', 3), ('blush', 1), ('mean', 10), ('furiously', 2), ('jerked', 2), ('thumb', 3), ('gesture', 1), ('slang', 1), ('Take', 4), ('fly-boy', 1), ('Uh', 2), ('muttered', 3), ('trouble', 9), ('lasting', 1), ('satisfaction', 1), ('college', 12), (\"nurses'\", 1), ('training', 4), ('Everybody', 3), ('accepted', 4), ('charming', 3), ('Nobody', 9), ('addressed', 3), ('Spanish', 3), ('brunettes', 1), ('Moorish', 1), ('hint', 2), ('Orient', 2), ('faces', 8), ('beauties', 2), ('Balkan', 1), ('states', 2), ('similarly', 2), ('endowed', 1), ('blessed', 1), ('United', 3), ('halfway', 1), ('humiliated', 1), ('self-consciously', 1), ('Four', 2), ('waitresses', 1), ('murdering', 2), ('language', 4), ('counter', 1), ('Yuki', 1), ('Kobayashi', 1), ('Bifutek-san', 1), ('steak', 3), ('sandwich', 3), ('Kohi', 1), ('Futotsu', 1), ('cup', 3), ('Two', 4), ('groomed', 2), ('whitehaired', 1), ('doting', 1), ('commander', 1), ('exceptionally', 2), ('appealing', 1), ('Seeing', 2), (\"Tommy's\", 1), ('rebelliously', 1), ('pride', 2), ('remain', 3), ('learning', 2), ('civilian', 1), ('transient', 1), ('experienced', 4), ('perfectly', 2), ('America', 4), ('becoming', 3), ('increasingly', 1), ('Nurse', 1), ('Corps', 1), ('friends', 13), ('congenial', 1), ('after-duty', 1), ('raucous', 1), ('male', 4), ('singing', 2), ('terribly', 4), ('key', 4), ('poorly', 1), ('admit', 6), ('companionship', 1), ('natural', 4), ('put-upon', 1), ('finished', 6), ('check', 5), ('incident', 2), ('repeated', 1), ('Eating', 1), ('angry', 5), ('slight', 3), ('indigestion', 1), ('Back', 2), ('bicarbonate', 1), ('soda', 1), ('sulked', 1), ('mirror', 7), ('certainly', 4), ('crude', 1), ('letter', 19), ('cheerful', 3), ('promised', 5), ('soon', 14), ('visit', 10), ('uncle', 2), ('Oyajima', 1), ('tomorrow', 10), ('kimono', 1), ('faculty', 1), ('member', 4), ('hostess', 1), ('gown', 1), ('kotowaza', 1), ('proverb', 1), ('says', 7), ('Tanin', 1), ('yori', 1), ('miuchi', 1), ('literally', 2), ('translated', 2), ('Relatives', 1), ('strangers', 2), ('Actually', 5), ('thicker', 1), (\"Doolittle's\", 1), ('scheduled', 1), (\"captain's\", 2), ('mast', 5), ('discipline', 2), ('dispensed', 1), ('ordinarily', 1), ('immature', 1), ('chief', 5), ('naturally', 3), ('report', 3), ('hall', 11), ('riot', 2), ('Subic', 2), ('Walt', 2), ('Perry', 3), ('convinced', 3), ('expert', 2), ('tactics', 1), ('rabble', 1), ('rousing', 1), ('executive', 3), ('opinion', 4), ('entirely', 4), ('belief', 1), ('reason', 11), ('Doolittle', 2), ('image', 8), ('fun-loving', 1), ('Guns', 1), ('Appleby', 1), ('perils', 1), ('awful', 2), ('horseplay', 1), ('practical', 2), ('jokes', 2), ('stabilizing', 1), ('sobering', 2), ('influence', 1), ('heart', 17), ('overdeveloped', 1), ('wisecracked', 1), ('indoctrination', 1), ('delight', 4), ('slaughtering', 1), ('cockroaches', 2), ('ethyl', 1), ('chloride', 1), ('security', 2), ('members', 3), ('Armed', 1), ('Forces', 1), ('wonderful', 7), ('uniform', 2), ('may', 11), ('heights', 1), ('eventually', 1), ('retired', 1), ('restriction', 1), ('ship', 7), ('Bustard', 1), ('deprived', 1), ('Boats', 1), ('McCafferty', 1), ('book', 10), ('restricted', 1), ('confines', 2), ('Base', 5), ('thoughtful', 1), ('draw', 3), ('medical', 1), ('supplies', 1), ('Supply', 1), ('naval', 2), ('establishment', 2), ('suited', 2), ('inspect', 1), ('caves', 1), ('dug', 2), ('hills', 4), ('Naval', 2), ('shipmate', 1), ('telephone', 5), ('connect', 1), ('exchange', 1), ('Whitey', 5), ('Gresham', 1), ('sonofabitch', 2), ('exclaimed', 2), ('affection', 2), ('commissary', 1), ('Grab', 1), ('taxi', 4), ('walk', 10), ('errand', 1), ('smart', 4), ('salute', 1), ('gangway', 1), ('dock', 2), ('Petty', 1), ('wondered', 13), ('enjoy', 3), (\"one's\", 4), ('spare', 3), ('considered', 8), ('excursion', 1), ('road', 6), ('dusk', 2), ('exercise', 2), ('boating', 1), ('hiking', 1), ('virile', 1), ('strenuous', 1), ('golf', 2), ('fashionable', 1), ('clubs', 2), ('played', 6), ('swimming', 13), ('Riverside', 7), ('Hotel', 1), ('bottom', 6), ('frog', 1), ('packing', 1), ('Sierras', 2), (\"Buzz's\", 1), ('Pagan', 3), ('Room', 3), ('Wow', 1), ('Strippers', 1), ('scrumptious', 1), ('Toodle', 2), ('Williams', 2), ('all-lesbian', 1), ('band', 1), ('Hi', 1), ('Buzz', 8), ('Owen', 20), ('Willows', 1), ('notes', 1), ('Tough', 1), ('Listen', 4), (\"we're\", 5), ('dinner', 7), ('Friday', 3), ('Imagine', 2), ('pleasant', 2), ('worked', 8), ('territory', 2), ('Reno', 1), ('dinners', 2), ('Thanks', 3), ('happen', 8), ('instigator', 1), ('victims', 1), ('finally', 11), ('rid', 3), ('timid', 2), ('rap', 1), ('Gertrude', 4), ('Parker', 5), ('explained', 7), (\"I'd\", 33), ('talk', 25), ('minutes', 9), ('Ahah', 1), ('lush', 1), ('divorcee', 1), ('lobby', 2), ('disappointed', 2), ('nervous', 5), ('scrawny', 1), ('standing', 16), ('frowned', 4), ('pajamas', 1), ('moons', 1), ('semi-professionally', 1), ('Our', 3), ('sponsoring', 1), ('group', 11), ('courageous', 1), ('Alaska', 2), ('lay-sisters', 4), ('among', 11), ('Eskimos', 2), ('bringing', 3), ('freezing', 3), ('highball', 2), ('glasses', 6), ('sparkled', 1), ('dully', 1), ('bright', 17), ('hardships', 1), ('undergo', 1), ('apparently', 2), ('satisfied', 2), ('reaction', 2), ('Smug', 1), ('smug', 1), ('sappy', 1), ('twitch', 1), ('region', 1), ('lewd', 1), ('winking', 2), ('effect', 4), ('Eskimo', 1), ('wildly', 5), ('admitted', 4), ('suppose', 7), ('religion', 9), ('probably', 13), ('resent', 3), ('outsiders', 2), ('telling', 6), ('sickly-tolerant', 1), ('fashion', 8), ('themselves', 10), ('remarks', 2), ('canvassing', 1), ('Forebearing', 1), ('pitch', 3), ('Several', 1), ('slowly', 22), ('retreated', 3), ('raised', 6), ('desk', 7), ('curiously', 2), ('hotel', 7), (\"you're\", 16), ('wandering', 1), ('corridors', 1), ('knocking', 3), (\"strangers'\", 1), ('difficulties', 1), ('proper', 3), ('travel', 2), ('pairs', 1), ('hundred-and-fifty', 1), ('miles', 4), ('Pacific', 4), ('Northwest', 1), ('aware', 5), ('overexcited', 1), ('drew', 10), (\"That's\", 18), ('remonstrated', 1), ('secular', 1), ('active', 3), ('salesmen', 2), ('business', 21), ('bibles', 1), ('prayer', 2), ('books', 6), ('publishing', 1), ('personnel', 2), ('appliances', 1), ('cosmetics', 2), ('plays', 4), ('waspishly', 1), ('appliance', 1), ('heatedly', 1), ('conversation', 7), ('whiskey', 3), ('smiling', 7), ('blinking', 1), ('forget', 5), ('seller', 1), ('excuse', 4), ('appointment', 2), ('bar', 3), ('Leave', 1), ('card', 4), ('listening', 14), ('helped', 5), ('bucking-up', 1), ('crestfallen', 1), ('race', 1), ('indecisively', 1), ('calm', 2), ('realized', 13), ('showered', 3), ('dining', 2), ('receive', 1), ('mail', 2), ('usual', 6), ('enthusiastic', 1), ('bulletins', 2), ('issued', 2), ('lawyer', 5), ('statement', 1), ('overdue', 1), ('alimony', 1), ('Collector', 1), ('Internal', 1), ('Revenue', 1), ('asking', 2), ('explain', 5), (\"year's\", 1), ('exemptions', 1), ('ate', 4), ('Virginia', 1), ('braced', 1), ('crest', 1), ('white-topped', 1), ('glisten', 2), ('Truckee', 1), ('River', 2), ('spangle', 1), ('elated', 1), ('adventurous', 2), ('luck', 9), ('easily', 5), ('flowerpot', 2), ('Although', 4), (\"o'clock\", 5), ('Golden', 3), ('Calf', 3), ('spinning', 2), ('dice', 3), ('rattling', 1), ('crowded', 4), ('test', 3), ('roulette', 1), ('combination', 4), ('five', 6), ('seventeen', 2), ('won', 4), ('surprisingly', 2), ('dollars', 7), ('management', 3), ('champagne', 4), ('dimly', 3), ('lit', 3), ('neon', 1), ('gamblers', 2), ('automatically', 1), ('caring', 2), ('mural', 1), ('depicted', 1), ('settlers', 1), ('wagons', 1), ('appeared', 6), ('animated', 1), ('expectancy', 1), ('gazed', 2), ('splendidly', 1), ('stern', 1), ('hopeful', 3), ('Donner', 1), ('starving', 1), ('wonder', 10), ('eat', 5), ('mused', 2), ('heavily-upholstered', 1), ('blonde', 6), ('cleaned', 2), ('dirty', 4), ('one-arm', 1), ('bandits', 1), ('cunningly', 1), ('arranged', 4), ('entrance', 2), ('slots', 1), ('bested', 1), ('mechanical', 1), ('devices', 1), ('depending', 1), ('support', 2), ('dried-up', 1), ('cowboy', 3), (\"blonde's\", 1), ('authentic', 4), ('slightly', 7), ('stables', 1), ('steady', 3), ('martingale', 1), ('announced', 5), ('build', 3), ('hit-and-miss', 1), ('five-seventeen', 1), ('logging', 1), ('twelve-hour', 1), ('period', 2), ('repeating', 3), (\"roulette's\", 1), ('game', 9), ('blackjack', 2), ('Incidentally', 1), ('famous', 1), ('parts', 2), ('Wrangler', 3), ('Nice', 2), ('spend', 3), ('ranch', 1), ('Bar-H', 1), ('pushing', 2), ('Sparky', 3), ('collect', 1), ('rack', 1), ('single-foot', 1), (\"he's\", 7), ('fastest', 1), ('Washoe', 1), ('County', 1), ('publicity', 1), ('campaign', 1), ('TV', 1), ('hero', 1), ('trained', 1), ('Hoot', 1), ('Gibson', 1), ('pinto', 1), ('photographs', 1), ('wonderfully', 1), ('Five', 4), ('neglected', 2), ('loss', 3), ('conclusively', 1), ('jinx', 1), ('Hurrays', 3), ('glorified', 2), ('gambling', 1), ('den', 2), ('marking', 1), ('keno', 1), ('spirit', 3), ('waned', 2), ('studied', 7), ('pistol', 2), ('exhibition', 3), ('featured', 1), ('added', 12), ('attraction', 1), ('ogled', 1), ('redhead', 5), ('shill', 1), ('prejudice', 1), ('shills', 1), ('cash', 2), ('everyone', 4), ('flipping', 1), ('discreetly', 1), ('withdrew', 2), ('customers', 2), ('chips', 1), ('checks', 5), ('premium', 1), ('points', 2), ('announcement', 1), ('whereby', 1), ('feature', 1), ('floorshow', 1), ('A.M.', 1), ('starring', 1), ('Adele', 1), ('Body', 1), ('Brenner', 1), ('fourteen', 4), ('glamorous', 2), ('schoolgirls', 1), ('bag', 8), ('frightened', 2), ('brides', 1), ('orchids', 1), ('chuck-a-luck', 1), ('Hawaiian', 1), ('shirt', 8), ('carrying', 7), ('sun-tan', 1), ('oil', 2), ('dark', 20), ('shorter', 1), ('fatter', 1), (\"We're\", 4), ('Lake', 1), ('Tahoe', 2), ('Cal-Neva', 1), ('instigating', 1), ('guy', 12), ('guarantees', 1), ('wheel', 3), ('stickman', 1), ('pit', 1), ('boss', 3), ('crossroading', 1), ('faro', 1), ('allergic', 1), ('pollen', 1), ('okay', 1), ('crap', 1), ('pyramid', 1), ('consecutive', 1), ('success', 3), (\"How's\", 3), ('honey', 3), ('platinum', 1), ('bursting', 1), ('sun-suit', 1), ('well-fed', 1), ('prosperous', 1), ('propositioned', 1), ('Stake', 1), ('dance', 6), ('tango', 1), ('hurry', 3), ('discuss', 1), ('merger', 1), ('broke', 4), ('Sounds', 1), ('real', 17), ('love', 32), ('brings', 2), ('lump', 4), ('throat', 3), (\"name's\", 3), ('Gisele', 1), ('ordered', 5), ('Scotch', 1), ('Named', 1), ('ballet', 1), ('Sylphide', 1), ('affected', 1), ('Spencer', 22), ('Is', 8), ('offer', 3), ('Alexander', 20), ('Answer', 1), ('properly', 2), ('quiet', 8), ('longer', 9), ('Captain', 9), ('Very', 1), ('procedure', 1), ('Philip', 5), ('cold-bloodedly', 1), ('planned', 3), ('murder', 4), ('chide', 1), ('lapse', 1), ('address', 3), ('During', 2), ('arrest', 3), ('Somers', 6), ('Greek', 3), ('paper', 9), ('manufacturing', 1), ('steal', 1), ('aft', 1), ('pretence', 1), ('opportunity', 2), ('communicate', 2), ('Hostile', 1), ('glances', 2), ('flashed', 1), ('Gansevoort', 6), (\"Captain's\", 1), ('cabin', 4), ('arrests', 1), ('E.', 1), ('Andrews', 1), ('Cromwell', 13), ('oldest', 1), ('dangers', 2), ('glories', 1), ('identified', 1), ('mutineer', 1), ('Somehow', 3), ('letting', 5), ('tap', 1), ('Oliver', 1), ('entered', 7), ('Heiser', 7), ('breathless', 1), ('wild-eyed', 1), ('chilling', 2), ('news', 4), ('handspikes', 3), ('heavers', 2), ('holystones', 1), ('mysteriously', 1), ('customary', 1), ('sir', 6), ('articles', 1), ('souvenirs', 1), ('African', 1), ('knife', 9), ('battle-ax', 1), ('sharpened', 1), ('McKinley', 3), ('Green', 2), ('overheard', 1), (\"Spencer's\", 6), ('Where', 4), ('information', 2), ('reported', 3), ('disappearance', 1), ('crash', 3), ('deck', 4), ('sprang', 2), ('ladder', 1), ('revealed', 2), ('topgallant', 2), ('aimless', 1), ('milling', 1), ('well-trained', 1), ('well-organized', 1), ('crew', 2), ('struck', 2), ('horror', 1), ('bellowed', 2), ('orders', 1), ('alert', 1), ('response', 2), ('heads', 3), ('questioningly', 1), ('shackled', 2), ('further', 7), ('instruction', 1), ('Adrien', 2), ('Deslonde', 2), ('hastened', 1), (\"Alexander's\", 2), ('Small', 3), ('violently', 3), ('weather-royal', 1), ('brace', 4), ('intention', 2), ('consultation', 1), ('swear', 3), ('mistaken', 1), ('aiding', 1), ('sending', 4), ('signal', 4), ('obey', 1), ('evident', 3), ('confusion', 2), ('turmoil', 3), ('ideal', 3), ('begin', 4), ('battle', 3), ('bloodshed', 1), ('strategy', 1), ('reasoned', 1), ('defeated', 1), ('unwillingness', 1), ('sanction', 1), ('originated', 1), ('placed', 4), ('irons', 3), ('terror', 2), ('stalked', 1), ('potential', 2), ('followers', 3), ('openly', 1), ('morose', 1), ('missing', 6), ('muster', 1), ('expressing', 1), ('ominous', 2), ('tones', 2), ('displeasure', 1), ('prisoners', 5), ('communicating', 1), ('hiding', 1), ('Midshipman', 2), ('Tillotson', 2), ('insolently', 1), ('disobeyed', 1), ('Seaman', 1), ('Wilson', 3), ('attacked', 1), ('brandishing', 2), ('weapon', 2), ('snarling', 1), ('joined', 4), ('McKee', 1), ('brig', 1), ('loyal', 1), ('villainous', 1), ('unaffected', 1), ('seven', 7), ('crime', 1), ('mutiny', 1), ('Wales', 3), ('speak', 11), ('listen', 5), ('Three', 5), ('fears', 1), ('requires', 1), ('omniscient', 1), ('select', 1), ('rely', 1), ('flush', 2), ('From', 7), ('aboard', 4), ('guess', 8), ('boast', 2), ('staunch', 1), ('modest', 1), ('ventured', 1), ('investigation', 2), ('questioning', 2), ('useless', 3), ('force', 4), ('guard', 1), ('increased', 1), ('number', 4), ('Besides', 4), ('court', 2), ('inquiry', 1), ('informed', 3), ('large', 13), ('punished', 1), ('loose', 2), ('perform', 1), ('truly', 3), ('workable', 1), ('flag', 2), ('needed', 10), ('self-confident', 2), ('lead', 4), ('As', 20), ('appointed', 2), ('rushed', 5), ('murdered', 2), ('extravagant', 1), ('harbor', 2), ('agree', 1), ('thoughtfully', 1), ('conspiracy', 1), ('ferocious', 1), ('instinct', 2), ('Anything', 2), ('anarchy', 1), ('paused', 3), ('Implements', 1), ('available', 1), ('hasty', 1), ('combat', 1), ('stands', 3), ('positive', 4), ('suspicious', 3), ('ourselves', 1), ('stand', 9), ('sentinel', 1), ('brothers', 1), ('midshipmen', 2), ('responsibility', 2), ('labor', 1), ('uncertain', 2), ('trust', 2), ('lowered', 3), ('wept', 2), ('act', 3), ('accordance', 1), ('implacable', 1), ('protection', 1), ('honor', 1), ('lose', 4), ('dedicated', 2), ('failed', 3), ('yearned', 1), ('passionately', 1), ('foolish', 3), ('strive', 1), ('seek', 2), ('gates', 1), ('fortune', 8), ('reward', 3), ('eighteen-year-old', 1), ('sailed', 1), ('sobbed', 2), ('shed', 1), ('desired', 1), (\"egotist's\", 1), ('fame', 2), ('precious', 1), ('career', 2), ('satisfy', 1), ('egotist', 1), ('served', 1), ('someday', 3), ('returned', 9), ('safely', 2), ('Dear', 1), ('dried', 1), ('assurance', 1), ('dignity', 4), ('Stern-faced', 1), ('inspected', 1), ('satisfying', 1), ('averted', 1), ('glimpsed', 1), ('anger', 9), ('boatswain', 2), ('mild-mannered', 1), ('respectful', 1), ('innocent', 10), ('plot', 4), ('Are', 6), ('doubt', 8), ('cannot', 6), ('squinting', 2), ('seeming', 1), ('shake', 3), ('lethargy', 1), ('shifted', 2), ('gaze', 1), ('calmness', 1), ('detachment', 1), ('unawareness', 1), ('implicit', 1), ('guilt', 3), ('naive', 1), ('thick-skulled', 1), ('sudden', 1), ('painful', 3), ('clarity', 1), ('recognized', 3), ('kinship', 1), ('Here', 8), ('stupidity', 1), ('quarreling', 1), ('inevitable', 2), ('bad', 15), ('handcuffs', 1), ('ankle', 1), ('follows', 1), ('misfortune', 1), ('red-haired', 3), ('towering', 1), ('prisoner', 2), ('symbol', 1), ('authority', 1), ('shocked', 3), ('tragic', 1), ('lad', 1), ('forged', 1), ('shackles', 2), ('favored', 3), (\"other's\", 1), ('undoing', 1), ('deny', 1), ('constant', 3), ('hazel', 1), ('accept', 1), ('gain', 1), ('defending', 1), ('Nothing', 9), ('agreed', 4), ('contemplation', 1), ('logical', 1), ('mass', 5), ('hesitate', 4), ('untruth', 1), ('guilty', 4), ('action', 2), ('interpreted', 1), ('favor', 3), ('four', 8), ('prior', 1), ('significance', 1), (\"Cromwell's\", 1), ('hands', 31), ('whispered', 3), ('explanations', 1), ('Rogers', 1), ('geometry', 1), ('fantastic', 2), ('wardroom', 1), ('apprentices', 2), ('awaited', 2), ('continue', 3), ('element', 1), ('frightful', 3), ('absurdity', 1), ('Some', 4), ('percentage', 1), ('Rachel', 16), ('steered', 1), ('boys', 13), ('study', 5), ('Torah', 1), ('Bits', 1), ('trash', 1), ('roadway', 1), ('warmish', 1), ('foul', 1), ('alley', 4), ('strides', 1), ('double-breasted', 1), ('coat', 6), ('material', 1), ('trousers', 4), ('buckles', 1), ('brim', 1), ('crown', 1), ('fur', 2), ('trim', 1), ('erect', 2), ('approached', 3), ('glancing', 3), ('fixed', 3), ('straight', 13), ('pinkish-white', 1), ('tightly', 4), ('paot', 3), ('conscious', 1), ('market', 5), ('long-sleeved', 1), ('cloth', 2), ('stride', 1), ('swinging', 4), ('sides', 3), ('dingy', 2), ('pivoting', 1), ('heel', 2), ('building', 8), ('Like', 4), ('swallowed', 3), ('plodding', 2), ('twisting', 1), ('discolored', 1), ('boarded', 1), ('windows', 3), ('schools', 2), ('synagogues', 1), ('occupied', 2), ('ajar', 2), ('flight', 3), ('steep', 2), ('shabby', 1), ('baggy', 2), ('skullcap', 2), ('greeted', 2), ('clasping', 1), ('unclasping', 1), ('paunch', 1), ('flicked', 2), ('ask', 10), ('bare-armed', 1), ('preceded', 2), ('corridor', 2), ('peering', 3), ('classroom', 2), ('stepped', 5), ('benches', 2), ('teacher', 6), ('dripped', 1), ('poised', 1), ('surly', 1), ('half-closed', 1), ('shouted', 11), ('Yiddish', 3), ('Rapping', 1), ('shrilled', 2), ('translation', 1), ('interpretation', 2), ('Books', 2), ('Moses', 1), ('previously', 1), ('chanted', 2), ('Hebrew', 2), ('tune', 2), ('Each', 2), ('rocked', 2), ('bench', 9), ('grandfather', 1), ('great-grandfather', 1), ('prayed', 2), ('ghettos', 3), ('Europe', 5), ('upturned', 1), ('noses', 3), ('cropped', 1), ('ringlets', 1), ('framing', 1), ('yellowed', 1), ('prayerbooks', 1), ('Since', 3), ('penalty', 1), ('distraction', 1), ('guttural', 1), ('ghetto', 1), ('portion', 2), ('rapping', 2), ('incessantly', 2), ('worn', 3), ('freckles', 2), ('hung', 3), ('brilliant', 5), ('curls', 1), ('barely', 2), ('interest', 12), ('traveled', 1), ('partially', 1), ('texts', 1), ('memorized', 1), ('ago', 9), ('singsonged', 1), ('accompanied', 2), ('off-key', 1), ('baritone', 1), ('spurred', 1), ('tapping', 1), ('defined', 1), ('rhythm', 1), ('pitched', 2), ('shuddered', 2), ('backed', 1), ('clucked', 1), ('cool', 9), ('high-pitched', 1), ('devote', 1), ('rigid', 3), ('Except', 1), ('Shabbat', 1), ('praying', 1), ('rubbed', 3), ('numb', 1), ('prickly', 1), ('waited', 16), ('glanced', 3), ('asks', 1), ('skirt', 3), ('fingered', 1), ('pruta', 1), ('coin', 2), ('handed', 2), ('thanked', 2), ('grinned', 7), ('Does', 2), ('Sabras', 1), ('horrible', 3), ('fighting', 6), ('orthodox', 3), ('roads', 1), ('fight', 7), ('Messiah', 1), ('amazed', 3), ('convictions', 1), ('appear', 2), ('stupid', 4), ('crazy', 9), ('immortal', 1), ('heroic', 1), ('resented', 2), ('faced', 2), ('twinkling', 1), ('Sometimes', 6), ('Your', 10), ('quietly', 13), ('respectfully', 1), ('section', 3), ('clicked', 2), ('visited', 3), ('kibbutzim', 1), ('Aliah', 1), ('immigrants', 1), ('Israel', 4), ('freedom', 3), ('dangerous', 2), ('slyly', 2), ('wherever', 2), ('chose', 4), ('sought', 3), ('helping', 2), ('Ready', 1), ('follow', 5), (\"Me'a\", 1), (\"She'arim\", 1), ('countries', 2), ('farms', 2), ('Jewish', 1), ('anyplace', 1), ('gaining', 1), ('nerve', 4), ('ready', 11), ('intimate', 3), ('rebuffed', 1), ('clasped', 2), ('slowed', 1), ('pace', 3), ('cobblestones', 1), ('pursed', 1), ('clamped', 2), ('relaxed', 4), ('Trouble', 1), ('hurt', 7), ('refugee', 4), ('relatives', 2), ('middle-aged', 1), ('strut', 1), ('numerals', 1), ('branded', 1), ('concentration', 1), ('Often', 1), ('despondent', 1), ('retrieve', 2), ('wandered', 1), ('official', 1), ('Mandate', 1), ('imprisoned', 2), ('arrested', 1), ('hanged', 2), ('continued', 4), ('energy', 2), ('Reuveni', 5), ('direct', 1), ('bright-eyed', 2), ('deep', 6), ('complained', 1), ('shrugged', 8), ('intend', 1), ('Anyway', 2), ('weeks', 21), ('skinny', 4), ('proposal', 1), ('upset', 2), ('straighten', 1), ('beaten', 1), ('imagined', 4), ('plans', 3), ('begun', 3), ('waking', 2), ('swing', 3), ('chariot', 1), ('maybe', 15), ('poling', 2), ('south', 1), ('fork', 2), ('Forked', 1), ('Deer', 1), ('braving', 1), ('wastes', 1), ('dumped', 1), ('barge', 1), ('gang', 4), ('Ethiopians', 1), ('taken', 11), ('Wednesday', 3), ('nights', 3), ('fellowship', 2), ('Out', 6), ('car', 20), ('tooling', 1), ('headlights', 3), ('sweeping', 1), ('hit', 6), ('expansiveness', 1), ('pine', 2), ('board', 4), ('courts', 1), ('cabins', 1), ('naked', 7), ('bulb', 1), ('ceiling', 3), ('unfrosted', 1), ('streetlight', 1), ('kid', 6), ('swooping', 1), ('bugs', 1), ('bouts', 1), ('hopscotch', 1), ('complete', 3), ('moths', 1), ('pinging', 1), ('casual', 3), ('cruising', 1), ('insect', 1), ('Highway', 1), ('Patrol', 2), ('feelers', 1), ('waving', 3), ('sagged', 1), ('weight', 5), ('overhearing', 1), ('Gratt', 8), ('curtain', 1), ('listened', 3), ('Shafer', 6), ('Memphis', 3), ('wedding', 6), ('rehearsal', 1), ('Mattie', 1), ('mayor', 3), ('gripping', 2), ('microphone', 1), ('Toonker', 1), ('Burkette', 1), ('yanking', 1), ('balloon', 3), ('leak', 1), ('blow', 2), ('hell', 10), ('burn', 1), ('parachute', 1), ('Starkey', 1), ('Poe', 1), ('suit', 7), ('underwear', 2), ('maid', 4), ('thinks', 4), ('pregnant', 2), ('dizzy', 2), ('somebody', 8), ('normal', 2), ('daddy', 2), ('kill', 12), ('draining', 1), ('punctured', 1), ('tire', 4), ('muddy', 1), ('raining', 2), ('mud', 3), ('spectator', 2), ('pumps', 1), ('squat', 1), ('crying', 4), ('afraid', 11), ('damned', 4), ('son-of-a-bitch', 1), ('drive', 6), ('changing', 3), ('hating', 1), ('raped', 1), ('tool', 1), ('ham', 6), ('eggs', 2), ('rape', 1), ('nestled', 1), ('breast', 1), ('gives', 3), ('whether', 7), ('tramp', 1), ('skull', 1), ('drives', 1), ('truck', 6), ('delivers', 1), ('berry', 1), ('crates', 1), ('sheds', 2), ('owns', 1), ('wells', 1), ('diamond', 4), ('mines', 1), ('makes', 4), ('difference', 5), ('mild-voiced', 1), ('little-town', 1), ('big-town', 1), ('level', 1), ('Houdini', 1), ('unlocked', 2), ('discover', 2), ('hate', 9), ('means', 4), ('Because', 3), ('share', 4), ('believed', 2), ('resting', 2), ('gift', 4), ('works', 2), ('wants', 7), ('mile', 1), ('sees', 2), ('asleep', 8), ('particularly', 3), ('chump', 1), ('plastered', 2), ('afford', 2), ('too-shiny', 1), ('radio', 1), ('dawns', 1), ('fill', 2), ('seat', 1), ('miserable', 6), (\"Shafer's\", 1), ('substitute', 1), ('drunk', 6), ('St.', 4), ('Louis', 1), ('looks', 6), ('Christmas', 2), ('Damn', 1), ('corn', 2), ('acres', 1), ('whitewashed', 1), ('bordering', 1), ('grounds', 1), ('envisioned', 1), ('factories', 2), ('Homes', 1), ('federal', 1), ('highway', 1), ('peaceful', 1), ('bandstand', 1), ('uniforms', 2), ('flash', 1), ('instruments', 1), ('bands', 2), ('spellbound', 1), ('symphony', 2), ('sophisticated', 2), ('concert', 2), ('piano', 1), ('virtuoso', 2), ('rehearsing', 1), ('governor', 1), ('courage', 4), ('swelled', 1), ('chill', 4), ('goose', 1), ('bumps', 1), ('rippled', 1), ('dying', 5), ('While', 5), ('Tennessee', 1), ('farmer', 1), ('rained', 1), (\"rat's\", 1), ('ass', 1), ('nodding', 2), ('furrowed', 1), ('lean', 5), ('cheeks', 2), ('powdery', 1), ('reflecting', 3), ('droughts', 1), ('drought', 2), ('August', 2), ('predicting', 1), ('festival', 1), ('thoughts', 3), ('store', 5), ('Factory-to-You', 1), ('maids', 1), ('youngest', 1), ('clerk', 2), ('thirty-four', 2), ('conditions', 2), ('unventilated', 1), ('toilet', 3), ('shut', 9), ('lock', 3), ('Herman', 2), ('allow', 1), ('encourage', 3), ('malingering', 1), ('primping', 1), ('sincere', 1), ('scrubbing', 1), ('written', 5), ('boxed-in', 1), ('public', 1), ('count', 1), ('rapped', 1), ('bangs', 3), ('closet', 6), ('break', 3), ('connections', 2), ('jerk', 1), ('drag', 3), ('opposite', 4), ('handle', 5), ('clutching', 3), ('whichever-the-hell', 1), ('six-thirty', 1), ('eleven', 5), ('Saturdays', 1), ('sales', 4), ('chairs', 1), ('cooling', 3), ('overhead', 3), ('fans', 1), ('porter', 1), ('janitor', 1), ('Among', 1), ('handled', 1), ('commissions', 1), ('spot', 2), ('drawings', 2), ('advertising', 6), ('uptown', 1), ('magazine', 3), ('lettering', 1), ('specialty', 1), ('George', 21), ('complicated', 1), ('pen-and-ink', 1), ('medieval', 1), ('hundreds', 1), ('delicate', 3), ('details', 3), ('crammed', 1), ('eight-by-ten', 1), ('sheet', 3), (\"jeweler's\", 1), ('precise', 1), ('spots', 1), ('sold', 4), ('various', 5), ('literary', 1), ('artistic', 1), ('journals', 1), ('Yorker', 1), ('instance', 3), ('Esquire', 1), ('jackets', 2), ('covers', 3), ('paperback', 1), ('reprints', 1), ('huddling', 1), ('corners', 1), ('furnished', 2), ('rooms', 6), ('doorway', 4), ('daring', 2), ('cops', 2), ('sleeves', 1), ('revolver', 1), ('Brothers', 1), ('Karamazov', 1), ('illustration', 1), ('Magpie', 1), ('Press', 1), ('historical', 1), ('novel', 1), ('Edward', 1), ('3', 1), ('research', 3), ('fifteenth-century', 1), ('armor', 3), ('ferreted', 1), ('materials', 1), ('shields', 1), ('linden', 1), ('leather', 2), ('reflections', 1), ('accurate', 2), ('McKenzie', 3), ('art', 3), ('editor', 2), ('sketch', 1), ('Rufus', 1), ('static', 1), ('third', 3), ('cost', 3), ('reproduce', 1), (\"you've\", 9), ('colors', 11), ('including', 2), ('readers', 1), ('researches', 1), ('television', 1), ('movies', 1), ('knights', 1), ('middle', 3), ('ages', 2), ('flowing', 1), ('haircuts', 1), ('Fauntleroy', 1), ('villains', 1), ('beards', 1), ('transparent', 2), ('picture', 8), ('Byron', 1), ('sword', 1), ('painted', 4), ('furniture', 2), ('stills', 1), ('costume', 2), ('movie', 1), ('clam', 1), ('authenticity', 1), ('Donald', 7), ('actually', 5), ('paintings', 4), ('easel', 4), ('painters', 1), ('scholarships', 1), ('usually', 5), ('Joyce', 1), ('Monmouth', 3), ('style', 1), ('inner', 2), ('vision', 2), ('reminded', 2), ('kids', 6), ('adults', 1), ('freshness', 1), ('perception', 1), ('self-consciousness', 1), ('twist', 1), ('forms', 1), ('leap', 1), ('page', 3), ('smack', 1), ('nearsighted', 1), ('bottoms', 2), ('bottles', 2), ('prevent', 1), ('exciting', 2), ('uncanny', 1), ('absent-minded', 1), ('sleepwalker', 1), (\"Christ's\", 1), ('Prussian', 1), ('paint', 5), ('pants', 2), ('discovery', 1), ('painting', 8), ('gravy', 1), ('shared', 2), ('expenses', 1), ('studio', 6), ('cheap', 2), ('lodgings', 1), ('Attending', 1), (\"Askington's\", 1), ('pressure', 2), ('ambition', 1), ('awoke', 2), ('reputation', 1), ('illustrator', 1), ('Peter', 1), ('Askington', 5), ('goal', 1), ('admired', 4), ('artist', 3), ('joy', 4), ('profession', 5), ('income', 2), (\"Monmouth's\", 2), ('cashmere', 1), ('buttons', 1), ('Viyella', 1), ('necktie', 1), ('bolo', 1), ('drawn', 3), ('golden', 3), ('ring', 2), ('pure', 4), ('jade', 1), ('richness', 2), ('texture', 1), ('clothing', 1), ('decorations', 1), (\"Brush-off's\", 1), ('rent', 2), ('forty-four', 2), ('sparkle', 1), ('erudite', 1), ('speech', 2), ('younger', 6), ('prominent', 3), ('illustrators', 1), ('cover', 1), ('slick', 3), ('national', 5), ('magazines', 1), ('Life', 3), ('included', 2), ('Modern', 1), ('Artists', 1), ('series', 2), ('photographed', 1), ('Sixties', 1), ('photograph', 3), ('Velasquez', 1), ('royalty', 1), ('Spain', 1), ('library', 3), ('bookshelves', 1), ('Modigliani', 1), ('portrait', 1), ('Jackson', 2), ('Pollock', 1), ('twelve', 5), ('gorgeous', 3), ('Miro', 1), ('background', 1), ('inscription', 1), ('Martian', 1), ('fireplace', 1), ('tiles', 1), ('Picasso', 1), ('restaurants', 1), ('illusion', 1), ('wealthy', 1), ('studying', 3), ('By', 7), ('classes', 3), ('point', 5), ('craft', 1), ('painter', 3), ('atmosphere', 2), ('absorb', 1), ('masters', 1), ('Durer', 1), ('Bellini', 1), ('Mantegna', 1), ('Painting', 1), ('embrace', 3), ('interdependent', 1), ('varied', 1), ('multitudinous', 1), ('fragment', 1), ('mosaic', 1), ('performer', 1), ('vast', 2), ('philharmonic', 1), ('organize', 1), ('gigantic', 1), ('extreme', 5), ('abstract', 1), ('expressionism', 1), ('photorealism', 1), ('artists', 2), ('common', 3), ('inward', 2), ('outward', 1), ('Ah', 5), ('title', 2), ('Eye', 1), ('fascinated', 2), ('intelligent', 2), ('anatomy', 1), ('Burns', 7), ('replied', 2), ('teaches', 1), ('Manhattan', 2), ('Art', 2), ('scholarship', 2), ('five-hundred-dollar', 1), ('prize', 1), ('bums', 1), ('Hudson', 1), ('enameling', 1), ('Hajime', 1), ('Iijima', 1), ('Pendleton', 3), ('Osric', 1), ('million', 1), ('retrospective', 1), ('eighteen', 4), ('contemporary', 1), (\"Cezanne's\", 1), ('sixty', 2), ('Still', 1), ('modern', 3), ('impressionist', 2), ('canvases', 1), (\"Thoreau's\", 1), ('hangouts', 1), ('magical', 1), ('Contact', 1), ('stimulating', 1), ('stimulation', 2), ('succeed', 1), ('isolating', 1), ('farther', 2), ('occupation', 1), ('Middle', 1), ('Ages', 1), ('Renaissance', 1), ('nineteenth', 1), ('century', 1), ('artisan', 1), ('craftsmanship', 1), ('goldsmith', 1), ('carver', 1), ('society', 1), ('portraying', 1), ('wars', 1), ('leaders', 3), ('ugliness', 3), ('religious', 5), ('impulses', 1), ('propagandist', 1), ('satirist', 1), ('lover', 1), ('philosopher', 1), ('scientist', 1), ('illustrating', 1), ('tooth-paste', 1), ('ads', 1), ('salacious', 1), ('incidents', 1), ('trivial', 1), ('novels', 1), ('picking', 2), ('fluff', 1), ('navel', 1), ('contemplated', 1), ('greater', 2), ('purity', 1), ('bunch', 2), ('amateur', 1), ('dervishes', 1), ('apprenticeship', 1), ('cafe', 2), ('upshot', 1), (\"Pendleton's\", 1), ('Tuesday', 3), ('Thursday', 1), ('awkward', 1), ('punch', 1), ('clock', 2), ('drawing', 1), ('finish', 1), ('lonely', 2), ('Brush-off', 1), ('reading', 7), ('mostly', 2), ('benefit', 1), ('mailman', 1), ('Stimulating', 1), ('rewarding', 1), ('Partly', 1), ('anticipated', 1), ('prepared', 1), ('worship', 2), ('classic', 1), ('bitter', 6), ('cigars', 1), ('quitting', 1), ('registration', 2), ('Ida', 2), ('glove', 3), ('compartment', 1), ('Via', 10), ('readily', 1), ('frowning', 1), ('Had', 3), ('signed', 3), ('mutually', 1), ('stir', 1), ('courtesy', 1), ('accusing', 2), ('fraud', 1), (\"Walter's\", 1), ('thank', 3), (\"Via's\", 2), ('assail', 1), ('Walter', 2), ('mind', 24), ('attention', 6), ('temporary', 1), ('tear', 2), ('narrows', 1), ('Salter', 8), ('half-murmured', 1), ('remark', 3), ('statements', 1), ('stress', 1), ('indulge', 1), ('killing', 2), ('sequence', 1), ('noble', 1), ('enjoying', 2), ('lemon', 4), ('sponge', 1), ('dessert', 1), ('roasted', 1), ('chicken', 2), ('parboiled', 1), ('frozen', 2), ('vegetables', 1), ('icebox', 1), ('weekend', 3), ('appointments', 1), ('Dolly', 4), ('Thaxters', 1), ('recovering', 1), ('movie-to-be', 1), ('London', 1), ('tranquil', 1), ('wiser', 2), ('tolerance', 1), ('patch', 1), ('foggy', 2), ('path', 5), ('grooved', 1), ('accustomed', 1), ('dense', 1), ('mists', 1), ('sun-warmed', 1), ('palisades', 1), ('river', 3), ('fog', 7), ('crept', 2), ('twinkle', 1), ('woods', 1), ('assumed', 4), ('shopping', 1), (\"women's\", 4), ('lunch', 4), ('parish', 1), ('discussed', 2), ('annual', 2), ('bazaar', 1), ('late', 12), ('Prisoners', 1), ('accused', 1), ('accident', 1), ('accounts', 2), ('testimony', 2), ('itself', 5), ('unsee', 1), ('Thaxter', 2), ('driveway', 2), (\"car's\", 1), ('length', 7), ('turnaround', 1), ('Engisch', 1), ('nowhere', 2), ('screamed', 2), ('search', 2), ('upstairs', 3), ('closets', 2), ('exclaiming', 1), ('rushes', 1), ('gasps', 1), ('portfolio', 1), ('lingerie', 1), ('mink', 1), ('telephoning', 2), (\"Salter's\", 1), ('friend', 5), ('equal', 4), ('servant', 1), ('sandwiches', 1), ('Sitting', 1), ('recalled', 2), ('alarm', 2), ('guests', 6), ('Harvie', 3), ('drop', 5), ('Rome', 8), ('habit', 6), ('busy', 7), ('hour-long', 1), ('conversations', 2), ('Constance', 1), ('final', 4), ('plea', 1), ('Hanging', 1), ('patience', 1), ('stab', 1), ('conclusion', 1), ('cliff', 2), ('disturbed', 3), ('winds', 1), ('romantic', 2), ('broad', 5), ('gleaming', 1), ('moontrack', 1), ('enormous', 2), ('poetic', 1), ('rock', 14), ('misstep', 1), ('fisherman', 1), ('shudder', 3), ('triumphant', 1), ('account', 2), ('Was', 6), ('hysterical', 1), ('release', 4), ('vigilance', 2), ('Sonny', 1), ('shuddering', 1), ('Everyone', 4), ('pitied', 1), ('underneath', 1), ('unquenched', 1), ('pity', 2), ('enduring', 1), ('ghastly', 1), ('outcry', 3), ('appalled', 1), ('knows', 3), ('absurd', 3), ('exclamation', 1), ('estranged', 1), ('hangs', 1), ('void', 2), ('connection', 3), ('self-pity', 2), ('separation', 1), ('prevented', 1), ('justify', 1), ('scapegoat', 1), ('borne', 1), ('avoidance', 1), ('rankles', 1), ('coolly', 1), ('hurts', 1), ('cried', 6), ('triumphantly', 2), ('Mathias', 1), ('haunted', 2), ('persisted', 1), ('explaining', 1), ('advised', 1), (\"nobody's\", 1), ('overplayed', 1), ('value', 4), ('coarse', 2), ('insulting', 2), ('harsh', 2), ('appraisal', 1), (\"Mathias'\", 1), ('advice', 4), ('thousands', 3), ('towns', 1), ('dispossessed', 1), ('hanging', 3), ('makeshifts', 1), ('altogether', 2), ('arid', 1), ('decision', 6), ('discarded', 1), ('risen', 1), ('fullest', 1), ('height', 1), ('transcending', 1), ('murky', 1), ('self', 1), ('ignorant', 1), ('self-examination', 1), ('conclusions', 1), ('realizing', 1), ('praise', 1), ('deliverance', 1), ('pettiness', 1), ('greed', 1), ('free', 2), ('darling', 4), ('Ellen', 2), ('funeral', 6), ('Methodist', 1), ('minister', 2), ('glistening', 2), ('eyeglasses', 1), ('doll', 2), ('stranger', 2), ('sacred', 3), ('drumming', 1), ('accompaniment', 1), ('relentless', 1), ('burial', 2), ('postponed', 1), ('decided', 9), ('cremate', 1), ('leaped', 1), ('trestles', 1), ('parlor', 2), ('surface', 2), ('sheaf', 1), ('roses', 2), ('knelt', 2), ('whispering', 1), ('Father', 4), ('Heaven', 2), ('grief', 2), ('parking', 1), ('Together', 2), ('hearse', 1), ('traffic', 3), ('Jersey', 1), ('arrived', 4), ('chapel-like', 1), ('auditorium', 1), ('discreet', 1), ('symbols', 1), ('faiths', 1), ('Again', 3), ('impelled', 1), ('kneel', 1), ('Bach', 1), ('healing', 1), ('bachelor', 2), ('apartment', 14), ('Lancaster', 1), ('Arms', 1), ('Uhhu', 3), ('eyelid', 1), ('downtown', 2), ('Carla', 13), ('wanting', 3), ('convivial', 1), ('needs', 2), ('Pausing', 1), ('Me', 1), ('Umm', 1), ('uhhu', 1), ('Kleenex', 1), ('purse', 2), ('wiped', 1), ('lipstick', 2), ('solemnly', 2), ('Alberto', 2), ('flatter', 1), ('vanity', 1), ('history', 3), ('Caneli', 1), ('Would', 3), ('stories', 1), ('lies', 2), ('cleansing', 1), ('using', 2), ('falling', 2), ('orderly', 1), ('hide', 1), ('annoyance', 1), ('sloppy', 1), ('bathroom', 6), ('knees', 4), ('scrub', 1), ('vent', 1), ('exasperation', 2), ('dwelt', 1), ('indignities', 1), ('respect', 2), ('view', 1), (\"What's\", 9), ('Sam', 18), ('Look', 8), ('shoe', 2), ('wears', 1), ('pair', 5), ('thin-soled', 1), ('Italian', 2), ('outfit', 2), ('dark-gray', 1), ('slacks', 1), ('fawn-colored', 1), ('encountered', 1), ('tweedy', 1), ('Englishman', 1), ('delighted', 1), ('Changing', 1), ('dark-blue', 1), ('aside', 5), ('remind', 1), ('Parioli', 1), ('loafed', 1), ('ruins', 2), ('Roman', 1), ('lower', 3), ('Veneto', 1), ('Farnese', 1), ('Gardens', 1), ('amusing', 2), ('scandal', 2), ('Farneses', 1), ('Trastevere', 1), ('fountain', 4), ('piazza', 1), ('Santa', 1), ('Maria', 1), ('eloquent', 1), ('midnight', 4), ('woke', 4), ('bells', 2), ('ringing', 2), ('scolding', 1), ('obelisk', 1), ('Steps', 2), ('clung', 1), (\"Peter's\", 2), ('wake', 5), ('shaking', 2), (\"Aren't\", 1), ('drowsily', 1), ('snuggled', 3), ('certainty', 1), (\"mother's\", 4), ('stuck', 5), ('Bible', 2), ('temperament', 1), ('achieved', 1), ('tranquility', 1), ('composure', 1), ('accepting', 1), ('Testament', 1), ('Sistine', 1), ('Chapel', 2), ('folklore', 1), ('Could', 2), ('honestly', 2), ('prophets', 1), ('imagination', 2), ('Being', 2), ('Catholic', 1), ('Protestant', 1), ('dogmatic', 1), ('atheists', 1), ('strict', 2), ('Communist', 1), ('wearied', 1), ('ideologies', 1), ('enlargement', 1), ('wearying', 1), ('somewhere', 3), ('pondering', 1), ('Ferraros', 3), ('hurrying', 1), ('joking', 1), ('stair', 1), ('worrying', 4), ('behave', 1), ('Ferraro', 2), ('lady', 4), ('softly', 1), ('Ciao', 1), ('gleamed', 1), ('gestures', 1), ('courteous', 1), ('Agnese', 4), (\"'ello\", 1), ('biscuits', 1), ('Acting', 1), ('interpreter', 1), ('folded', 4), ('lap', 2), ('utterly', 2), ('impersonal', 1), ('Watching', 1), ('tennis', 3), ('ball', 18), ('bounced', 1), ('Signora', 3), ('bobbing', 2), ('encouragingly', 1), ('Canada', 2), ('nephew', 5), ('North', 3), ('lumber', 3), ('mill', 1), ('seasonal', 1), ('unemployment', 1), ('migrated', 1), ('railway', 1), ('bush', 2), ('boxcar', 3), (\"Sam's\", 2), ('countrymen', 1), ('boxcars', 2), ('Regretfully', 1), ('experience', 4), ('adopted', 1), ('Pope', 6), ('sparkling', 1), ('intellectual', 1), ('mystical', 1), ('Portugal', 1), ('confirmation', 1), ('serenity', 1), ('unaware', 1), ('homely', 1), ('enchantment', 1), ('Holy', 2), ('translate', 1), ('assistance', 2), ('doctors', 2), ('rulers', 1), ('saint', 2), ('Nodding', 1), ('approvingly', 1), ('confidentially', 1), ('discontent', 1), ('cardinals', 2), ('splendor', 1), ('intellect', 1), ('Signor', 2), ('Raymond', 2), ('regime', 1), ('Jobs', 1), (\"Carla's\", 2), ('Italians', 1), ('Devout', 1), ('Brooklyn', 1), ('Malta', 1), ('Ireland', 1), ('glowing', 1), ('softening', 1), ('happiness', 5), ('dreamy', 2), ('Dookiyoon', 2), ('lodge', 8), ('Shades', 2), ('purify', 1), ('caressing', 1), ('flageolet', 1), ('whisper', 1), ('emerge', 1), ('unhesitant', 1), ('stiff', 2), ('facing', 2), ('contempt', 2), ('encounter', 1), ('disdain', 1), ('outraged', 1), ('scornful', 3), ('proceeded', 1), ('destination', 1), ('bleeding', 2), ('breath', 6), ('bounce', 1), ('press', 1), ('feared', 1), ('presences', 1), ('metabolism', 1), ('trembling', 3), ('stumbled', 5), ('Going', 2), ('queer', 2), ('hideous', 3), ('weird', 1), ('images', 3), ('invested', 1), ('eyeballs', 1), ('pressed', 3), ('thumbs', 1), ('fled', 1), ('minded', 1), ('Elsewhere', 1), ('lodges', 2), ('clusters', 1), ('Early', 4), ('Spring', 4), ('half-drunk', 1), ('Walitzee', 5), ('mild', 1), ('commotion', 1), ('hushed', 1), ('Standing', 2), ('imperious', 1), ('denying', 1), ('dread', 1), ('suffer', 1), ('insult', 1), (\"girl's\", 1), ('scorn', 1), ('overloud', 1), ('Tell', 3), ('Pile', 4), ('Clouds', 4), ('indignant', 2), ('wolf', 3), ('shriek', 1), ('begging', 2), ('Telling', 1), ('unsheathing', 1), ('curing', 1), ('hides', 1), ('wickedness', 1), ('cunning', 1), ('hunger', 2), ('Speaking', 1), ('loathing', 1), ('upright', 3), ('bearing', 2), (\"helsq'iyokom\", 1), ('murmuring', 1), ('knot', 1), ('threats', 1), ('mingling', 1), ('nagging', 3), ('indignation', 2), ('sticks', 3), ('hurled', 1), ('shower', 2), ('sting', 2), ('pain', 5), ('shouting', 5), ('embodiment', 1), ('defiance', 1), ('howling', 1), ('bullhide', 1), ('whip', 6), ('pack', 2), ('noise', 3), ('screaming', 3), ('tripping', 1), ('seized', 1), ('flog', 1), ('Drive', 1), ('demons', 3), ('teach', 2), ('jerking', 1), ('Get', 3), ('hovel', 1), ('spat', 4), ('double-married', 1), ('yours', 6), ('parades', 1), ('Keep', 2), ('confront', 1), ('leads', 1), ('fury', 1), ('sank', 3), ('darkness', 5), ('stirred', 1), ('mumbling', 1), ('stupor', 1), ('worrisome', 2), ('happens', 3), ('dreamed', 4), ('wolves', 1), ('nakedness', 1), ('smelling', 2), ('stale', 1), ('odor', 1), ('whisky', 2), ('TuHulHulZote', 2), ('concerns', 2), ('Lie', 1), ('enter', 3), ('brain', 3), ('curses', 1), ('bore', 3), ('twisted', 2), ('gnarled', 1), ('talons', 1), ('rudely', 1), ('moon', 2), ('thousand', 3), ('shoving', 1), ('spruce', 1), ('whine', 3), ('crack', 2), ('damp', 4), ('shortening', 1), ('arc', 1), ('narrowed', 1), ('snarled', 1), ('cracked', 1), ('settling', 2), ('unchanged', 1), ('motionless', 2), ('staring', 4), ('delineaments', 1), ('bark', 2), ('begotten', 1), ('forbidden', 1), ('tracings', 1), ('tree', 1), ('refracted', 1), ('rough', 2), ('edges', 2), ('lash', 2), ('crazed', 1), ('monosyllables', 1), ('meaning', 3), ('unnnt', 1), ('Sssshoo', 1), ('despair', 2), ('quavering', 1), ('Move', 3), ('settle', 2), (\"whip's\", 1), ('Turning', 2), ('unbent', 1), ('resigned', 1), ('blows', 1), ('fleeing', 1), ('dodging', 1), ('shadows', 1), ('hollow', 5), ('rocky', 1), ('hid', 1), ('madness', 1), ('glorying', 1), ('hoarse', 3), ('mastiff', 1), ('bristling', 1), ('ranted', 1), ('prophesied', 2), ('doom', 1), ('enemies', 1), ('circles', 4), ('gasping', 1), ('draughts', 1), ('incoherent', 1), ('oblivion', 1), ('amused', 1), ('appeasement', 1), ('violence', 1), ('retribution', 1), ('antics', 1), ('disdaining', 1), ('gloom', 1), ('games', 1), ('races', 1), ('future', 6), ('paraded', 1), ('grandly', 1), ('attis', 1), ('cave', 3), ('skeletons', 1), ('paxam', 1), ('dipped', 1), ('arrowheads', 1), ('venom', 1), ('rattlesnakes', 1), ('swift', 1), ('maneuvers', 1), ('firing', 1), ('guns', 1), ('unison', 1), ('indeterminate', 1), ('Sarpsis', 2), ('blankets', 1), ('flew', 1), ('wings', 2), ('Swan', 1), ('Necklace', 1), ('emulate', 1), ('timidly', 1), ('Yellow', 1), ('Wolf', 1), ('disordered', 1), ('chemistries', 1), ('bolt', 1), ('inaction', 1), ('boiled', 1), ('fermenting', 1), ('juices', 1), ('Alokut', 1), ('challenged', 1), ('matched', 1), ('raced', 1), ('maneuvered', 1), ('single', 3), ('file', 2), ('abreast', 1), ('cavalry', 1), ('frenziedly', 1), ('regalia', 1), ('preparations', 1), ('combed', 1), ('streaked', 1), ('greased', 1), ('foreheads', 1), ('tails', 1), ('sage', 1), ('hens', 1), ('whitened', 1), ('leggings', 1), ('reflection', 1), ('speeding', 1), ('arrow', 1), ('bow', 1), ('hurtling', 2), ('mad', 8), ('grace', 3), ('maleness', 2), ('meadow', 1), ('rue', 1), ('admiring', 1), ('envenomed', 1), ('hilltops', 1), ('descend', 1), ('eagle', 1), ('caper', 1), ('cliffs', 1), ('parade', 2), ('challenge', 1), ('arrogance', 1), ('streaming', 1), ('amulets', 1), ('ripening', 1), ('bellicosity', 1), ('nation', 2), ('throes', 1), (\"men's\", 2), ('shifting', 1), ('hearts', 2), ('mounted', 2), ('vanished', 3), ('disheveled', 2), ('hoofs', 2), ('Appaloosas', 1), ('Dogs', 1), ('Hell', 3), ('fleet', 1), ('ridge', 3), ('multicolored', 1), ('legion', 1), ('banners', 1), ('roll', 2), ('drums', 1), ('cacophony', 1), ('accompanying', 1), ('wind', 6), ('thousand-legged', 1), ('monster', 2), ('plunging', 2), ('saddles', 1), ('terrifying', 2), ('ejaculated', 1), ('grotesque', 3), ('hemlocks', 1), ('birch', 1), ('maples', 1), ('quarry', 1), ('pulse', 2), ('ears', 5), ('totally', 3), ('unfamiliar', 1), ('shape', 3), ('clutch', 2), ('stubs', 1), ('committed', 3), ('suicide', 1), ('dive', 3), ('expertly', 1), ('downward', 2), ('root', 1), ('sneakers', 1), ('sliding', 1), ('leaves', 2), ('jumped', 3), ('flat', 6), ('expanse', 1), ('seating', 1), ('short-cut', 1), ('reedy', 1), ('frogs', 1), ('faded', 1), ('presently', 1), ('volume', 2), ('vibrant', 1), ('Julia', 7), ('accomplished', 1), ('miracle', 2), ('confused', 2), ('Paul', 1), ('Easter', 1), ('holidays', 1), ('Evening', 1), ('Dancing', 1), ('Class', 3), ('attend', 1), ('Hello', 2), ('Julie', 7), ('casually', 1), ('breasts', 1), ('obvious', 2), ('lower-cut', 1), ('wire', 2), ('inability', 1), ('pretense', 2), ('acute', 2), ('embarrassment', 1), ('Bentley', 2), ('Rawlings', 4), ('sometime', 1), ('Millie', 4), ('robe', 2), ('ghost', 3), ('threshold', 1), ('slept', 4), ('china', 1), ('lamp', 1), ('switch', 1), ('Monday', 2), ('prison', 1), ('indebted', 1), ('Below', 1), ('remote', 3), ('tunnel', 1), ('vacuum', 2), ('cleaner', 2), ('fumbled', 1), ('bandages', 3), ('uncovered', 1), ('gripped', 1), ('fearful', 1), ('coursing', 1), ('vessels', 1), ('expanding', 2), ('fabric', 1), ('stains', 1), ('apparent', 1), ('mess', 3), ('shivered', 2), ('blood-soaked', 1), ('wound', 2), ('tidiness', 1), ('verge', 1), ('Alex', 2), ('Poldowski', 1), ('owed', 1), ('debt', 2), ('effete', 1), ('gentleman', 3), ('peered', 1), ('wristwatch', 1), ('Strange', 3), ('quarter', 1), ('Too', 2), ('kneeling', 1), ('tie', 1), ('shoelaces', 1), ('absurdly', 1), ('clumsy', 1), ('strands', 1), ('adhesive', 2), ('tape', 2), ('ugly', 9), ('gauze', 1), ('moist', 1), ('cheekbones', 3), ('however', 2), ('Hall', 2), ('imperative', 1), ('detained', 1), ('hallway', 2), ('plane', 4), ('freakish', 1), ('wreck', 2), ('cavern', 1), ('reply', 2), (\"Who's\", 1), ('thief', 1), ('discovered', 5), ('leading', 3), ('gazing', 2), ('Uncle', 3), ('Gosh', 1), ('blazer', 1), ('overly', 1), ('brow', 2), ('knitted', 1), (\"Pietro's\", 1), ('finishing', 1), ('Mother', 5), ('float', 1), ('implausibly', 1), ('shaft', 1), ('sunlight', 1), ('oddly', 1), ('considerate', 2), ('partly', 1), ('clearly', 2), (\"moment's\", 1), ('paneling', 1), ('vivid', 4), ('inserted', 1), ('eyelids', 1), ('good-bye', 1), ('mention', 5), (\"It'll\", 2), ('Please', 5), ('disappeared', 2), ('pounding', 1), ('goes', 5), ('footsteps', 2), ('manage', 1), ('Lincoln', 1), ('parked', 1), ('Pietro', 2), ('insolent', 1), ('disdainful', 1), ('Ardmore', 1), ('merest', 1), ('servants', 1), ('born', 1), ('inflection', 1), ('forced', 2), ('rehearsed', 1), ('analyze', 1), ('Carrie', 1), ('affectionate', 2), ('respected', 2), ('responded', 1), ('ridiculous', 3), ('theater', 2), ('restaurant', 1), ('Forget', 1), ('general', 3), ('slackened', 1), ('badly', 1), (\"aren't\", 4), ('disappointing', 1), ('purposeless', 1), ('relinquished', 1), ('Abruptly', 1), ('greatest', 1), ('automatic', 1), ('phrase', 1), ('crossed', 3), ('courtyard', 1), ('tender', 1), ('Someone', 2), ('Will', 6), ('bumped', 1), ('steadily', 1), ('entry', 1), ('brass', 1), ('screwed', 1), ('kitchenette', 1), ('raw', 1), ('gasp', 1), ('swallows', 1), ('lessen', 1), ('hauled', 1), ('upsets', 1), ('insist', 1), ('Joan', 3), ('sweetheart', 1), ('Happened', 1), ('intoxicated', 1), ('Unfortunately', 1), ('jury', 2), ('struggle', 2), ('win', 3), ('Tony', 1), ('Elliott', 1), ('pinch-hit', 1), (\"He'll\", 1), ('tactful', 2), ('nudge', 1), ('facts', 2), ('postponement', 1), ('routine', 2), ('strip', 2), ('bribe', 1), ('double', 1), ('martini', 1), ('Okay', 3), ('receiver', 4), ('relationship', 1), ('Fulbright', 1), ('renovated', 1), ('brick', 1), ('settler', 1), ('constructed', 2), ('clever', 1), ('efficient', 1), ('secretary', 2), ('train', 2), ('conformists', 1), ('peculiar', 2), ('obnoxious', 1), ('ruffled', 1), ('feathers', 1), (\"Jim's\", 3), ('Myra', 24), ('unreliable', 1), ('irresponsible', 1), ('flyaway', 1), ('Lucy', 30), ('Jim', 13), ('jollying', 1), ('Susan', 20), ('Obviously', 1), ('Upstairs', 1), ('showering', 1), ('raindrops', 1), ('pattered', 1), ('grandmother', 1), ('prudent', 1), ('packed', 4), ('lifetime', 1), (\"She'd\", 3), ('Websterville', 2), ('expressive', 1), ('registered', 3), ('anxiety', 2), ('Cathy', 19), ('finds', 2), ('Paris', 10), ('awfully', 3), ('grateful', 3), ('appreciated', 3), (\"sister's\", 1), ('Darling', 1), ('mingled', 1), ('blend', 1), ('Remember', 2), ('Leaving', 1), ('supposedly', 1), ('Gregg', 1), (\"Myra's\", 4), ('otherwise', 1), ('keys', 2), ('jingled', 1), ('nervously', 3), ('scare', 1), (\"she'll\", 1), ('defensive', 1), ('Greg', 1), ('widow', 4), ('depends', 1), ('rescue', 1), ('crises', 1), ('Remembering', 1), ('succession', 1), ('disasters', 1), ('child-cloud', 1), ('horizon', 2), ('youngster', 1), ('troubled', 3), ('fuss', 1), ('hers', 3), ('unhappily', 2), ('accuse', 1), ('looming', 1), ('specter', 1), ('forever-Cathy', 1), ('fiercely', 1), ('startled', 2), ('piping', 1), ('yell', 3), ('moon-washed', 1), ('steeped', 1), ('rung', 1), ('stairway', 1), ('brows', 1), ('smoothed', 1), ('muddling', 1), ('worthless', 1), ('selfish', 2), ('clattering', 1), ('overwhelmed', 1), ('dolls', 6), ('bundle', 2), ('sharp', 8), ('junk', 1), ('gushed', 1), ('instant', 2), ('approaching', 1), ('handkerchief', 1), ('mopping', 1), ('skillfully', 1), ('shape-up', 1), ('warning', 2), ('groaned', 1), (\"Susan's\", 2), ('gentler', 1), ('Sure', 4), ('entire', 2), ('grappling', 1), ('outsized', 1), ('armload', 1), ('Scrooge-like', 1), ('lecture', 1), (\"cousins'\", 1), ('sharing', 3), ('sympathize', 1), ('limit', 1), (\"Cathy's\", 1), ('Lilliputian', 1), ('competing', 1), ('silence', 3), ('rear', 1), ('dust', 2), ('flower-scented', 1), ('breeze', 2), ('darkened', 2), ('chilly', 1), ('good-by', 3), ('chillier', 1), ('feeding', 1), ('raffish', 1), ('cowbirds', 3), ('bobbed', 1), ('gobbled', 1), ('cardinal', 1), ('radiant', 2), ('feathered', 1), ('vestments', 1), ('solitary', 3), ('mate', 1), ('guarding', 1), ('nest', 1), ('sly', 1), ('advantage', 1), ('nests', 2), ('sentinels', 1), ('abandoning', 1), ('prepare', 1), ('guest', 6), ('baffled', 2), ('helplessness', 1), ('unscrupulous', 1), ('dump', 1), (\"people's\", 2), ('curtains', 1), (\"child's\", 3), ('hopping', 1), ('rabbits', 1), ('airy', 2), ('Goose', 1), ('Mobile', 1), ('row', 3), ('hangers', 1), ('neatly', 1), (\"Greg's\", 2), ('faintly', 2), ('fragrant', 1), ('lavender', 2), ('buried', 2), ('panicky', 1), ('Many', 1), ('phone', 8), ('Junction', 1), ('phoned', 1), ('sooner', 1), ('character', 5), ('napping', 1), ('surrounded', 3), ('multitude', 1), ('tension', 3), ('Methuselah', 1), ('maternal', 1), ('comforting', 1), ('magic', 1), ('Subdued', 1), ('merriest', 1), ('airport', 1), ('bet', 3), ('fixing', 1), ('pause', 2), ('hummed', 1), ('voiceless', 1), ('Puzzled', 1), ('flowered', 1), ('wallpaper', 2), ('forthright', 1), ('silences', 1), ('moth', 1), ('seekingly', 1), ('realize', 3), ('hesitated', 2), ('hunting', 3), ('Christmastime', 2), ('Shocked', 1), ('speechless', 2), ('elastic', 1), ('cord', 1), ('uncoiling', 1), ('snake', 21), ('bogey', 1), ('thickened', 1), ('fetching', 1), ('tightened', 1), ('to-and-fro', 1), ('abrupt', 1), (\"hall's\", 1), ('purple-black', 1), (\"cowbirds'\", 1), ('Cowbird', 1), ('trudged', 1), ('teddy', 2), ('package', 1), ('delivered', 2), (\"aunt's\", 1), (\"uncle's\", 1), ('Unlike', 1), ('traveling', 1), ('shortest', 1), ('stays', 1), ('buy', 3), ('Unimpressed', 1), ('plopped', 1), ('sand', 5), ('Quint', 11), ('disbelieving', 1), (\"they'd\", 3), ('Esperanza', 1), ('jammed', 2), ('tourists', 3), ('beach', 10), ('show-offy', 1), ('lifeguards', 1), ('swirling', 1), (\"Quint's\", 2), ('pronounced', 1), ('sherbet-colored', 1), ('cottages', 2), ('mint', 1), ('curve', 3), ('deserted', 1), ('Eats', 1), ('jiggling', 1), ('rocks', 4), ('jaggedly', 1), (\"water's\", 1), ('V-shaped', 2), ('inlet', 2), ('lumpy', 1), ('trailing', 1), ('seaweed', 2), ('whiskers', 2), ('dragon', 1), ('Swiss', 1), ('belt', 1), ('blades', 2), ('corkscrew', 1), ('perfect', 4), ('Canute', 1), ('controlling', 2), ('waves', 4), ('knight', 1), ('Round', 1), ('Table', 1), ('Sir', 1), ('Quintus', 3), ('Brave', 1), ('slaying', 1), ('banshees', 1), ('vampires', 1), ('witches', 1), ('warty', 1), ('astronaut', 1), ('chosen', 5), ('intrepid', 1), ('persecuted', 1), ('Fearless', 2), ('fearless', 1), ('scary', 1), ('Tomorrow', 1), ('Dad', 8), ('intended', 3), ('piece', 2), ('nightmare', 3), ('Stop', 6), ('thump', 1), ('signals', 1), ('radar', 1), ('Son', 1), ('pig', 1), ('cords', 1), ('Fortman', 2), ('limping', 1), ('Big', 3), ('dumb', 1), ('nut', 1), ('polio', 1), ('bedside', 1), ('spilled', 1), ('probly', 1), ('Victoria', 6), ('lick', 1), ('Fatso', 1), ('Stuck-up', 2), ('Mister', 3), ('loud', 2), ('bedtime', 1), ('Gord', 2), ('Strength', 1), ('zip', 1), ('unlaced', 1), ('metal', 3), ('wadded', 1), ('sweat', 2), ('stripped', 1), ('trunks', 1), ('Goolick', 1), ('goooolick', 1), ('creaked', 1), ('gull', 1), ('Aw', 2), ('dignified', 1), ('ocean', 3), ('bored', 1), ('hole', 2), ('shoulder', 2), ('choppy', 2), ('wedged', 1), ('scared', 9), ('crawled', 1), ('Watch', 1), ('shot', 3), ('yelled', 4), ('peppermints', 2), ('bathing', 5), ('straps', 1), ('shouders', 1), ('duck', 3), ('snapped', 5), (\"Isn't\", 3), ('sore', 1), ('boil', 1), ('Ever', 2), (\"squatter's\", 1), ('rights', 1), ('Kansas-Nebraska', 1), ('Bill', 5), ('Britches', 1), ('Mark', 1), ('Gordon', 2), ('Peters', 1), ('Fifth', 1), ('Latin', 3), ('kinds', 1), ('aleck', 1), ('cough', 4), ('ripping', 1), ('unconsciously', 1), ('imitating', 1), (\"Victoria's\", 1), ('holier-than-thou', 1), ('horrified', 1), ('momentum', 1), ('mama', 1), ('wop', 1), ('tail', 2), ('wops', 1), ('unimpressed', 1), ('obliged', 1), ('jeans', 1), ('Dingy-looking', 1), ('barber', 1), ('pole', 1), ('spouted', 1), (\"cane's\", 1), ('handy', 1), (\"Someone's\", 1), ('zoooop', 1), ('snag', 1), ('crook', 1), ('waiter', 3), ('bowl', 1), ('soup', 2), ('fly', 1), ('bannnnnng', 1), ('stooooomp', 1), ('shaken', 2), ('licking', 1), ('stubby', 1), ('plume', 1), ('Part', 3), ('collie', 1), ('wire-haired', 1), ('terrier', 1), ('glared', 3), ('mackerel', 2), ('unique', 1), ('DiMaggio', 1), ('tranquilizers', 1), ('braver', 1), ('lately', 1), ('Last', 1), ('jag', 1), ('yodeling', 2), ('gotta', 1), ('Squint', 1), ('mornings', 1), ('thereafter', 1), ('Same', 2), ('blister', 1), ('Sabella', 7), ('emerald', 1), ('necklace', 1), ('King', 2), ('undying', 1), ('picks', 1), ('nuts', 1), ('Naturally', 1), ('curly', 1), ('runs', 1), ('Personally', 1), ('prefer', 1), ('Continent', 1), ('Which', 2), ('continent', 1), ('Name', 1), ('pugh', 1), ('beaches', 1), ('scraped', 1), ('mold', 2), ('Pugh', 1), ('Camels', 1), ('Tripoli', 1), ('harelips', 1), ('Near', 1), ('Galway', 1), ('tinkers', 1), ('caravans', 1), ('fought', 2), ('gypsies', 1), ('Jerez', 1), ('Really', 1), ('smothered', 2), ('yawn', 1), ('Artfully', 1), ('occasion', 2), ('Cross', 1), ('Korean', 1), ('War', 1), ('spit', 1), ('personally', 1), ('IQ', 1), ('141', 1), ('currently', 1), ('Mushr', 1), ('Ozon', 1), ('encyclopedia', 1), ('schnooks', 1), ('skipped', 3), ('tonsil', 2), ('tonight', 5), ('Chinaman', 1), ('Tooth-hurty', 1), ('Encouraged', 1), ('giggles', 2), ('imitated', 1), ('described', 1), ('decorated', 1), ('pineapple', 1), ('cherries', 1), ('snuck', 1), ('gumming', 1), ('stumpy', 1), ('panting', 1), ('thirst', 1), ('lagoon', 1), ('staggering', 1), ('Say', 1), ('comic', 1), ('admiringly', 1), ('Either', 1), ('Better', 4), ('cod', 1), ('salmon', 1), ('sharks', 1), ('bones', 1), ('shrimp', 1), ('swam', 2), ('backward', 3), ('encylopedia', 1), ('string', 1), ('Boy', 1), ('Willie', 1), ('Mays', 1), ('outfield', 1), ('je', 1), ('ne', 1), ('quok', 1), ('daydreamed', 1), ('splashed', 1), ('buckets', 1), ('beseech', 1), ('thee', 1), ('sprayed', 1), ('raisin', 1), ('plastic', 2), ('bib', 1), (\"Daddy's\", 1), ('Francisco', 1), (\"he'll\", 2), (\"one-o'clock\", 1), ('Fifteen', 2), ('Yeah', 2), ('keen', 1), ('Children', 1), (\"we'll\", 4), ('organized', 1), ('nap', 1), ('noticing', 1), ('rope', 2), ('sheets', 1), ('Kool-Aid', 1), ('lung', 2), ('caused', 2), ('gagging', 1), ('Sweating', 1), ('unbearable', 3), ('drowning', 1), ('Bobbie', 22), ('smashed', 3), ('Jaguar', 2), ('Linda', 25), ('birthday', 3), ('thoroughly', 2), (\"afternoon's\", 1), ('Oakmont', 1), ('miswritten', 1), ('chapter', 2), ('community', 2), ('heartless', 1), ('prematurely', 1), ('John', 39), ('Cooper', 8), (\"Hadn't\", 1), (\"Wasn't\", 2), ('attractive', 3), ('forty-seven', 1), ('twenty-five', 1), ('earlier', 4), (\"John's\", 8), ('Edythe', 14), ('appalling', 1), ('deserve', 1), ('adult', 1), ('realistic', 1), ('rebound', 1), ('ruined', 4), ('Mousie', 7), ('Chandler', 4), ('Poor', 15), ('reproach', 1), ('rarely', 3), ('1936', 1), ('odds', 1), ('prettiest', 1), ('brightest', 1), ('Allegheny', 1), ('Mountains', 2), ('surely', 3), ('handsomer', 1), ('brighter', 1), ('Pittsburgh', 1), ('seasons', 1), ('Golf', 1), ('goggle-eyed', 1), ('admiration', 1), ('debs', 1), ('claimed', 1), ('Dartmouth', 2), ('skiing', 1), ('crinkles', 1), ('John-and-Linda', 5), ('entity', 1), ('Longue', 3), ('Vue', 3), ('Conneaut', 1), (\"lovers'\", 1), ('spats', 1), ('heal', 1), ('Dillinger', 1), ('First', 1), (\"Cooper's\", 1), (\"Linda's\", 3), ('engagement', 2), ('events', 2), ('aggressive', 1), ('steel', 4), ('jolt', 2), ('Cleveland', 2), ('bride', 4), ('wishful', 2), ('thinkers', 1), ('specifically', 1), ('absolutely', 2), ('someplace', 1), ('Baltimore', 1), (\"Horne's\", 1), ('underestimate', 1), ('shallow', 2), ('frivolous', 2), ('scatterbrained', 2), ('magnificent', 2), ('giggled', 1), ('ceremony', 3), ('bridesmaids', 1), ('choking', 1), ('myth', 1), ('example', 2), ('skirts', 1), ('correct', 2), ('pool', 5), ('suits', 4), ('drifted', 1), ('Others', 2), ('command', 1), ('less-dramatic', 1), ('Sewickley', 1), ('Fox', 1), ('reduced', 1), ('method', 1), ('grindstone', 1), ('Ben', 1), ('1938', 1), ('cutest', 1), ('blessing', 4), ('fontanel', 1), ('nary', 1), ('trace', 2), ('continuing', 1), ('Sally', 1), ('1940', 1), ('Jack', 5), ('1944', 1), (\"Edythe's\", 2), ('dizziness', 1), ('uselessness', 1), ('glaring', 2), ('shuffled', 1), ('graham', 2), ('crackers', 2), ('managed', 4), ('missionary', 1), ('Webber', 1), ('eldest', 1), ('elder', 1), (\"who'd\", 3), ('donated', 1), ('avoid', 1), ('bosoms', 1), ('afterward', 1), ('oversubscribed', 1), ('missionaries', 1), ('brave', 3), ('keeps', 3), ('bargain', 1), ('whimpering', 1), ('bends', 1), ('generous', 3), ('overgenerous', 1), ('problem', 2), ('Washington', 3), ('assignment', 1), ('heir', 1), ('apparency', 1), ('Coopers', 1), ('socially', 1), ('successful', 3), ('match', 2), ('hairpin', 1), ('mourning', 1), ('bites', 1), ('luncheon', 1), ('Le', 1), ('Mont', 1), (\"could've\", 1), (\"Bobbie's\", 2), ('bone-deep', 1), ('sorrow', 1), ('ambitious', 1), ('save', 3), ('undo', 1), ('trembled', 1), ('brink', 1), ('stream', 3), ('settlement', 1), ('soothe', 1), ('capable', 1), ('capturing', 1), ('anxious', 3), ('decent', 2), ('Years', 1), ('struggled', 1), ('wonders', 1), ('Alloy', 1), ('steels', 3), ('departments', 1), ('Smith', 2), ('&', 2), ('MacIsaacs', 1), ('alloy', 1), ('division', 1), ('salesman', 2), ('branch', 2), ('Lovejoy', 3), ('president', 9), ('manager', 10), ('Carnegie-Illinois', 1), ('Stuart-family', 1), ('contacts', 2), ('Reuben', 1), ('Pittsburghers', 1), ('sticking', 1), ('dragooned', 1), ('Murkland', 2), ('director', 1), ('S.', 1), ('M.', 1), ('jolly', 1), ('factors', 1), ('insiders', 1), ('weighed', 1), ('terms', 1), ('incentive', 1), (\"John'll\", 1), ('harder', 2), ('feels', 2), ('opportunities', 2), ('independent', 1), ('directors', 1), ('agreement', 1), ('surprise', 2), ('Funk', 3), ('Furnaces', 1), ('subordinate', 1), ('advancement', 1), ('degree', 2), ('meteoric', 1), ('vice', 1), ('biography', 1), ('baby-sitter', 1), ('Shirley', 3), ('sweetly', 2), ('worth', 1), ('obligated', 1), ('Nadine', 17), ('shakily', 1), ('Janice', 5), ('answers', 1), ('frantic', 1), ('Francie', 4), ('Ken', 7), (\"Thom's\", 1), ('falls', 2), ('Thom', 5), ('Wally', 23), ('possibly', 4), (\"everything's\", 1), ('Wondering', 1), (\"Nadine's\", 3), ('seconds', 1), ('flushed', 3), ('Roberts', 3), ('faltered', 1), ('thirteen', 1), ('sitters', 1), ('reliable', 1), ('beautifully', 1), ('staying', 2), ('ragged', 1), (\"Wally's\", 3), ('spreads', 1), ('refuse', 2), ('law', 1), ('scooted', 1), ('dozed', 3), ('strike', 1), ('Pack', 2), ('hissed', 1), ('thickly', 1), ('lurched', 1), ('davenport', 2), ('instantly', 2), ('strode', 2), ('nails', 2), ('raked', 1), ('grabbed', 1), ('insulted', 1), ('takes', 1), ('throw', 4), ('simmer', 1), ('state', 2), ('Tea', 1), ('forgive', 1), ('dime', 1), (\"Francie's\", 1), ('televison-record', 1), ('owe', 1), ('grubby', 1), ('filth', 1), ('traipsing', 1), ('curtly', 1), ('collapsed', 1), ('figured', 3), ('bubble', 2), ('snoring', 1), ('Whether', 1), ('thankful', 3), ('Thankful', 1), ('fired', 3), ('attending', 1), ('grease', 1), ('confessed', 1), ('cars', 4), ('pits', 1), ('repaired', 1), ('Seems', 1), ('hired', 1), ('repair', 1), ('gotten', 5), ('miserably', 2), ('coy', 2), ('promises', 1), ('blew', 1), ('stack', 1), ('Things', 1), ('honest', 6), ('deserved', 1), ('tough', 5), ('breaks', 1), ('unbelievable', 2), ('cent', 3), ('necks', 1), ('owing', 1), ('received', 1), ('evicted', 1), ('Worst', 1), ('stranded', 1), ('fretted', 1), ('position', 4), ('tide', 2), ('brightened', 1), ('candle', 1), ('incredible', 3), ('embarrassed', 1), ('pleading', 1), (\"we'd\", 4), ('Straightened', 1), (\"They'd\", 2), ('flatly', 1), ('uncomfortable', 1), ('darn', 1), ('spoiled', 2), ('snobs', 1), ('finance', 1), ('crawl', 1), ('dishes', 1), ('groceries', 1), ('Virus', 1), ('infection', 1), ('lazy', 1), ('no-good', 1), ('bum', 2), ('practically', 3), ('alibis', 1), ('excuses', 1), ('Wendell', 1), ('black-balled', 1), ('application', 2), ('grocery', 1), ('sewed', 1), ('punks', 1), ('fall', 7), (\"they'll\", 1), ('encouraging', 1), ('July', 1), ('stifling', 1), ('fresh', 3), ('intuition', 1), ('based', 1), ('logic', 2), ('thousandth', 2), ('nine-to-five', 1), ('five-days-a-week', 1), ('medicine', 1), ('complain', 2), ('shaving', 1), ('sneezed', 1), ('Gladdy', 6), ('Alice', 8), ('orphanage', 1), ('boarding-home', 1), ('Hodges', 2), ('fonder', 1), ('lots', 5), ('Especially', 1), ('Growing', 1), (\"mustn't\", 2), ('bureau', 4), ('story', 4), ('anyhow', 4), (\"Gladdy's\", 2), ('credit', 2), ('Pete', 11), ('Michelson', 2), ('promising', 2), ('intern', 1), ('Fairview', 3), ('chatter', 2), ('lightened', 1), ('heaviness', 1), ('Should', 1), ('secret', 3), ('interns', 1), ('Dick', 4), ('Ishii', 1), ('resident', 1), ('Chief', 3), ('Medicine', 1), ('rounds', 2), ('Seven', 4), ('sicker', 1), ('elevator', 3), ('post-operative', 1), ('shock', 3), ('Got', 1), ('lulu', 1), ('alcoholics', 1), ('sights', 2), ('segregated', 1), ('charity', 1), ('focus', 1), ('forming', 1), (\"woman's\", 3), ('Bancroft', 4), ('chart', 2), ('diagnosis', 2), ('alcoholism', 1), ('scar', 3), ('familiar', 2), ('puffy', 1), ('marred', 1), ('tell-tale', 1), ('network', 2), ('veins', 1), ('drinkers', 1), ('two-colored', 1), ('bleached', 1), ('unfortunate', 1), ('resemblance', 1), ('forcing', 1), ('disquiet', 1), ('violent', 2), ('knocked', 1), (\"We'd\", 3), ('AA', 1), ('patient', 2), ('describe', 1), ('ounce', 1), ('control', 2), ('examination', 2), ('relaxes', 1), ('chat', 1), ('gladly', 1), ('dull', 3), ('penetrating', 2), ('drawn-back', 1), ('bloodspots', 1), ('spotting', 1), ('emotion', 1), ('negative', 1), ('Groggins', 4), ('Papanicolaou', 1), ('vaginal', 1), ('gross', 1), ('slide', 3), ('smear', 2), ('lab', 1), ('Late', 1), ('private', 3), ('results', 1), ('Doctor', 2), ('D.', 1), ('C.', 1), ('permission', 2), ('hysterectomy', 1), ('intraepithelial', 1), ('situ', 1), ('wryly', 1), ('tells', 1), ('badgering', 1), ('Wants', 1), ('booze', 1), ('grimaced', 1), (\"Bancroft's\", 1), ('knob', 1), ('dozing', 1), ('shiver', 2), ('guys', 4), ('disregarded', 1), ('dilatation', 1), ('curettage', 1), ('proves', 1), ('definite', 1), ('Suppose', 3), ('difficulty', 1), ('liquor', 1), ('amazement', 2), ('refused', 3), ('surgery', 1), ('Mostly', 1), ('tremble', 3), ('coverlet', 1), ('secrets', 1), (\"patient's\", 1), ('cancer', 2), ('disregarding', 1), ('protests', 1), ('guinea', 1), ('pigs', 1), ('learn', 1), ('cultivated', 1), ('strongly', 1), ('assure', 1), ('Joe', 5), ('gaped', 1), ('echo', 2), ('intently', 1), ('half-smile', 1), ('Surprised', 1), ('Guess', 1), ('heart-stopping', 1), ('stammered', 1), ('goodness', 1), ('echoed', 1), ('mockingly', 1), ('Think', 1), ('introduce', 1), ('outta', 2), ('acceptance', 3), ('alcoholic', 1), ('blackout', 1), ('favors', 1), ('alike', 1), ('cut', 6), (\"what's\", 1), ('pathetic', 1), ('solution', 3), ('disappear', 1), ('caresses', 1), ('tricks', 1), ('ultimate', 1), ('pressures', 1), ('deeper', 3), ('squeezed', 1), ('breathed', 1), ('nitrogen', 2), ('anesthetic', 1), ('yielding-Mediterranian-woman-', 1), ('soothed', 1), ('230', 1), ('drunker', 1), ('contented', 2), ('metal-tasting', 1), ('mouthpiece', 2), ('suck', 1), ('aqua-lung', 1), ('swim', 1), ('chuckled', 1), ('aloud', 2), ('hazy', 1), ('concentrated', 1), ('sorted', 1), ('recent', 3), ('duds', 1), ('vacation', 2), ('bellyfull', 1), ('Wild', 1), ('kicks', 1), ('dig', 1), ('Valery', 2), ('twenty-one', 1), ('army', 2), ('Orly', 1), ('Rhine-Main', 1), ('April', 1), ('mist-like', 1), ('pocketful', 1), ('grounded', 1), ('Champs', 1), ('Elysees', 1), ('Hun', 2), ('dazzled', 1), ('machines', 1), ('Bugatti', 1), ('Farina', 1), ('coachwork', 1), ('chassis', 1), ('Swallow', 1), ('A40-AjK', 1), ('Mercedes', 1), ('Arc', 1), ('de', 1), ('Triomphe', 1), ('Tour', 1), (\"d'Eiffel\", 1), ('yokel', 1), (\"Maxim's\", 1), ('Jour', 2), ('et', 2), ('Nuit', 2), ('Montmartre', 2), ('Claire', 1), ('cheese', 2), ('feed', 1), ('drained', 2), ('Handsome', 1), ('soldier', 1), ('assuaged', 1), ('urgency', 1), ('Madame', 1), ('noblesse', 1), ('oblige', 1), ('yeah', 1), ('nymphomaniac', 1), ('Toward', 1), ('waxed', 1), ('philosophical', 1), ('analogies', 1), ('mistake', 1), ('sweep', 1), ('Panther', 1), ('Pils', 1), ('switched', 1), ('Tuborg', 1), ('crocked', 1), ('cognac', 3), ('orbit', 1), ('Tropic', 2), ('Capricorn', 1), ('Cancer', 1), ('Elemental', 1), ('sex', 4), ('debauchery', 1), ('sober', 3), ('reconciled', 1), ('flop', 1), ('binge', 1), ('therapeutic', 1), ('Sometime', 1), ('snowing', 1), ('breathing', 2), ('snowy', 1), ('dim', 1), ('beauty', 6), ('flakes', 1), ('topcoat', 2), ('Pretty', 1), ('umbrella', 2), ('poise', 1), ('posture', 1), ('drab', 1), ('propriety', 1), ('hustler', 2), ('unuttered', 1), ('snow', 4), ('Hardly', 2), ('bleak', 1), ('lied', 2), ('unhappiness', 1), ('profoundly', 1), ('wager', 2), ('derriere', 1), ('Monsieur', 2), ('crumble', 1), ('snorted', 1), ('chuckle', 1), ('sadly', 2), ('tiredness', 1), ('infinite', 1), ('wisdom', 3), ('cynicism', 2), ('reinforce', 1), ('gambit', 1), ('Remy', 1), ('Martin', 22), ('cork', 1), ('Non', 1), ('non', 1), ('rotten', 2), ('lug', 1), ('tart', 1), ('thirty-five', 2), ('forty', 2), ('wise', 3), ('drowsing', 1), ('Allons', 1), ('sensed', 2), ('rested', 1), ('rime', 1), ('melted', 1), ('absolute', 1), (\"night's\", 1), ('melancholy', 1), ('vital', 1), ('Bon', 2), ('jour', 2), ('brightly', 1), ('hips', 2), ('tousled', 1), ('make-up', 1), (\"J'ai\", 1), ('faim', 1), ('toothbrush', 3), ('bath', 3), ('brushed', 2), ('wheeled', 1), ('presenting', 1), ('innocently', 2), ('brush', 2), ('dangerously', 1), ('scald', 1), ('filter', 1), ('tremendous', 1), ('amount', 1), ('hard-boiled', 1), ('garlic', 1), ('Suzanne', 1), ('Stephen', 2), ('comfortably', 1), ('cups', 2), ('remarked', 1), ('Um', 1), ('grunted', 1), ('sipping', 1), ('les', 1), ('putains', 1), ('immense', 1), ('subject', 3), ('sentence', 1), ('Shall', 1), ('Louvre', 2), ('enthusiasm', 1), ('immediately', 1), ('bullet', 1), ('Metro', 1), ('cabaret', 1), ('steamed', 1), ('mussels', 1), ('sommelier', 1), ('magnum', 1), ('steely', 1), ('Jeroboam', 1), ('humorous', 1), ('Theresa', 24), ('Stubblefield', 4), ('Express', 2), ('leaning', 2), ('arched', 4), (\"mind's\", 1), ('responding', 1), ('exhaustingly', 1), (\"shores'\", 1), ('powers', 1), ('telescoped', 1), ('plains', 1), ('aqueducts', 1), ('tombs', 1), ('cypress', 1), ('Appian', 1), ('Way', 1), ('Today', 2), ('Colosseum', 2), ('Arch', 1), ('Constantine', 1), ('Moreover', 1), ('nursing', 1), ('Stubblefields', 4), ('aunt', 1), ('lengthy', 1), ('illnesses', 1), ('England', 1), ('France', 1), ('Germany', 1), ('Switzerland', 1), ('rendered', 1), ('prescribed', 2), ('pills', 4), ('tonics', 1), ('conceived', 1), ('lamplight', 1), ('noisy', 2), ('frightening', 2), ('Cars', 1), ('taxis', 1), ('buses', 1), ('motorscooters', 1), ('swerving', 1), ('perilously', 1), ('Shoals', 2), ('groups', 1), ('German', 1), ('cameras', 1), ('attached', 1), ('smartly', 2), ('Glad', 1), ('splendid', 2), ('outdoor', 1), ('staircase', 2), ('display', 2), ('azalea', 2), ('plants', 3), ('workmen', 2), ('unloading', 1), ('potted', 1), ('placing', 1), ('banked', 1), ('rows', 1), ('azaleas', 2), ('shrubs', 1), ('myriad', 1), ('blooms', 2), ('bud', 1), ('ranged', 1), ('purple', 2), ('fuchsia', 1), ('palest', 1), ('Marvelous', 1), ('portly', 1), ('well-bred', 1), ('learned', 2), ('Halfway', 1), ('Other', 1), ('banisters', 1), ('parapets', 1), ('Mediterranean', 1), ('warming', 2), ('underside', 1), ('insides', 1), ('churches', 1), ('cigarette', 2), ('Content', 1), ('excited', 1), ('contracted', 1), ('dismay', 1), ('Cousin', 22), ('Elec', 9), ('Emma', 7), ('Carraway', 3), ('script', 1), (\"t's\", 1), ('carefully', 5), (\"l's\", 1), ('inclined', 1), ('wobble', 1), ('slope', 1), ('post', 1), ('Tuxapoka', 5), ('Alabama', 1), ('mailed', 1), ('confidence', 2), ('next-door', 1), ('neighbor', 1), ('Somebody', 4), ('scrawled', 3), ('Piazza', 1), ('di', 1), ('Spagna', 1), ('President', 1), ('Republic', 1), ('Inside', 1), ('concerning', 1), ('illness', 1), ('devoted', 1), ('aging', 1), ('immemorial', 1), ('Montgomery', 1), ('sweetpeas', 1), ('drawer', 2), ('mother-of-pearl', 1), ('coveted', 1), ('sigh', 1), ('refolded', 1), ('replaced', 2), ('alas', 1), (\"Elec's\", 2), ('reminiscence', 1), ('weakening', 1), ('values', 1), ('grandchildren', 2), ('diapers', 1), ('gentility', 1), ('principle', 1), ('tense', 3), ('lest', 1), ('fraternity', 1), ('pursued', 1), ('mammas', 1), ('aroused', 1), (\"Emma's\", 2), ('uttermost', 1), ('cramp', 1), ('hobbled', 1), ('agony', 3), ('bathrobe', 1), ('footstool', 1), ('clenched', 1), ('contorted', 2), ('heroically', 1), ('monkey', 1), ('solemn', 2), ('cat', 3), ('kittens', 1), ('kettle', 1), ('steaming', 1), ('enamelled', 1), ('pan', 1), ('Can', 5), ('treat', 1), ('hiccups', 1), ('Drop', 1), ('unamused', 1), ('round-eyed', 1), ('woe', 1), (\"George's\", 2), ('parting', 1), ('Robbie', 1), ('Beryl', 1), ('persuade', 2), ('imposition', 1), ('Rosie', 1), ('possibility', 2), ('arrangements', 2), ('ladies', 3), ('populated', 1), ('Edna', 1), ('Whittaker', 1), ('meets', 1), ('crumbling', 1), ('makeshift', 1), ('sneezing', 1), ('uncertainly', 1), ('unnaturally', 1), ('tray', 1), ('cameos', 1), ('pens', 1), ('papal', 1), ('portraits', 1), ('spread', 4), ('borders', 1), ('separate', 2), ('Carrozza', 1), ('rides', 3), ('specialized', 2), ('escape', 1), ('landing', 1), ('vacant', 1), ('banister', 1), ('vendor', 1), ('well-dressed', 1), ('alligator', 2), ('ascending', 1), ('cast', 1), ('policeman', 1), ('Finally', 2), ('scurried', 2), ('viewed', 1), ('interlude', 1), ('hinting', 1), ('teachers', 1), ('September', 1), ('crisis', 1), ('supremely', 2), ('exist', 2), ('Balzac', 1), ('Dickens', 1), ('Stendhal', 1), (\"Mother's\", 1), ('operation', 1), ('twenty-six', 1), ('volumes', 1), ('Elsie', 2), ('Dinsmore', 1), ('motion', 2), ('arranging', 1), ('Mi', 1), ('diapiace', 1), ('ma', 1), ('insomma', 1), ('indicated', 1), ('Westfield', 2), ('Lucille', 11), ('stealer', 1), ('4000-plus', 1), ('Warren', 9), ('Dolan', 2), (\"nobody'd\", 1), ('bothered', 1), ('Young', 2), (\"Christians'\", 2), ('League', 5), ('good-living', 1), ('truthfully', 1), ('faith', 2), ('Johnnie', 25), ('Sue', 1), ('Much', 1), (\"guy's\", 2), (\"Lucille's\", 1), ('willing', 2), ('Honest', 1), ('kitten', 2), ('compete', 1), ('trucker', 1), ('carpentry', 1), ('February', 1), ('batting', 3), ('delivery', 1), ('masculine', 1), ('affairs', 3), ('providing', 1), ('Neither', 1), ('submit', 1), ('honorable', 2), ('penniless', 1), ('helpless', 1), ('Against', 1), (\"folks'\", 1), ('crackling', 1), ('hopelessly', 2), ('vices', 1), ('jockey', 1), ('drinks', 1), ('smokes', 1), ('ticking', 1), ('items', 1), ('swears', 1), ('whoever', 1), ('examined', 1), ('noncommittally', 1), ('driven', 3), ('scheming', 1), ('Devil', 1), ('surrendered', 2), ('motel', 2), ('Route', 1), ('10', 1), ('clutches', 1), ('blushed', 1), ('desire', 2), ('sexual', 1), ('awareness', 2), ('triggered', 1), ('fierceness', 1), ('Astonishingly', 1), ('summertime', 1), ('fields', 1), ('crickets', 1), ('serenaded', 1), ('huh', 1), ('Always', 4), ('Mmm', 2), ('blissful', 1), ('fulfilling', 1), ('witnesses', 1), ('certificate', 1), ('elbow', 2), ('Infinite', 1), ('contentment', 1), (\"Idiot's\", 1), ('upbringing', 1), ('resisted', 1), ('passes', 1), ('maturity', 2), (\"Wouldn't\", 1), ('insure', 1), (\"Johnnie's\", 1), ('denied', 1), ('contribute', 1), ('stake', 6), ('doubts', 1), ('petted', 1), ('touched', 3), ('longest', 1), ('behaved', 1), ('emotionally', 1), ('mere', 1), ('rescued', 1), ('husband-stealer', 1), ('wondrous', 1), ('fitting', 1), ('union', 1), ('Uh-huh', 1), ('Convention', 1), ('Boston', 2), ('eastern', 1), ('represent', 1), ('mixed', 1), ('emotions', 1), ('Faneuil', 1), ('cousin', 1), ('Alma', 6), ('convention', 1), ('introduced', 1), ('Rhode', 1), ('Ronald', 3), ('blond', 2), (\"someone's\", 1), ('separated', 2), ('anxiously', 1), ('twin', 1), ('Need', 2), ('pumpkin', 1), ('Schmalma', 1), ('shrilly', 1), ('alcohol', 1), ('burning', 3), ('disguised', 1), ('ginger', 1), ('ale', 1), (\"'most\", 1), ('snugly', 1), ('invisible', 2), (\"C'mon\", 1), ('lubricated', 1), ('all-American-boy', 1), ('appeal', 2), ('Astronaut', 1), ('vitamin', 1), ('Breakfast', 1), ('Eden', 1), ('two-burner', 1), ('refrigerator', 14), ('Kirby', 7), ('pelting', 1), ('reasonable', 3), ('lunatic', 1), ('arrangement', 1), ('Share', 1), ('units', 1), ('bachelor-type', 1), ('eatables', 1), ('curving', 1), ('veranda', 3), ('Unit', 2), ('Number', 2), (\"Kirby's\", 3), ('bloomed', 1), ('haze', 1), ('names', 1), ('magenta', 1), ('Charlie', 12), ('downed', 1), ('Lots', 1), ('vitamin-and-iron', 1), ('compound', 1), ('capsule', 1), ('flu', 3), ('lightly', 2), ('comment', 1), ('beriberi', 1), ('pill', 6), ('cure', 1), ('Vivian', 11), ('Wayne', 1), ('kissing', 1), ('piling', 1), ('ailment', 1), ('confirmed', 1), ('distrust', 1), ('scalded', 1), ('encouragement', 1), ('shy', 1), ('Woods', 1), ('blinds', 1), ('dawning', 1), ('poker', 1), ('secretaries', 1), ('Meanwhile', 1), ('sandy', 1), ('puddles', 1), ('prescription', 1), ('mockery', 1), ('odds-on', 1), ('develop', 1), ('awesome', 1), ('black-and-yellow', 1), ('polka-dotted', 1), ('slicker', 1), ('Three-day', 1), ('natives', 1), ('filthy', 1), ('Pyhrric', 1), ('victory', 2), ('Fine', 1), ('Thought', 1), ('bake', 1), ('briefly', 1), ('peaked', 6), ('forbore', 1), ('universal', 1), ('Peony', 3), ('weatherproof', 1), ('conviction', 1), ('honeymooning', 1), ('Nassau', 2), (\"what's-his-name\", 3), ('lounging', 1), ('sands', 1), ('unalloyed', 1), ('bliss', 1), ('salami', 5), ('leafed', 1), ('adventures', 1), ('Bobbsey', 2), ('Twins', 2), ('Seashore', 1), ('Farm', 1), ('Danger', 1), ('several', 3), ('agricultural', 1), ('treatment', 1), ('hoof-and-mouth', 1), ('disease', 1), ('cattle', 1), ('hideously', 1), ('illustrated', 1), ('bruising', 1), ('shin', 1), ('choke', 1), ('fuzzy', 1), ('mania', 1), ('dyed', 1), ('climb', 1), ('sweater', 7), ('long-hair', 1), ('variety', 2), ('according', 1), ('label', 1), ('explanation', 1), ('presence', 2), ('Bermuda', 1), ('onion', 2), ('wrapping', 2), ('Said', 1), ('permeates', 1), ('squirt', 1), (\"Kissin'\", 1), ('Kare', 1), ('lotion', 7), ('handwriting', 1), ('dainty', 1), ('feminine', 2), ('evidence', 1), ('Sorry', 1), ('judgment', 2), ('swiping', 1), ('onions', 1), ('following', 2), ('Ugh', 1), ('Must', 1), ('idly', 1), ('fast-frozen', 1), ('guided', 1), ('obscure', 1), ('horse-blanket', 1), ('plaid', 1), ('chic', 2), ('splashy', 1), ('Pink', 1), ('grown-up', 1), ('subconsciously', 2), ('clinging', 1), ('infancy', 1), ('toilsome', 1), ('laden', 1), ('clattery', 1), ('collection', 2), ('mops', 1), ('brushes', 1), ('pails', 1), (\"rain's\", 1), ('Be', 3), ('scorcher', 1), ('scrutinized', 1), ('warn', 1), ('Larkspur', 2), (\"kind's\", 1), ('worst', 3), ('inviting', 1), ('description', 1), ('Run-down', 1), ('iron-poor', 1), ('closely', 3), ('Frail', 1), ('feeble', 1), ('Clearly', 2), ('blazing', 1), ('varicolored', 1), ('properties', 1), (\"four-o'clock\", 1), ('gaudy', 1), ('mist', 1), ('floodlit', 1), ('punctuated', 1), ('refrigerators', 1), ('retreat', 1), ('Cape', 1), (\"flower's\", 1), ('transferred', 1), ('M-m-m', 1), ('propped', 1), ('postscript', 1), ('wrote', 3), ('ninety-six', 2), ('scrap', 1), ('Gee', 1), ('redheads', 1), ('rental', 1), ('browny', 1), ('browny-haired', 2), ('blondes', 1), ('sprinkling', 2), ('bikinis', 1), ('preponderance', 1), ('tank', 1), ('Up', 1), ('dune', 1), ('stool', 1), ('absorbed', 3), ('bulky', 1), ('turtle-neck', 1), ('sweaters', 1), ('not-so-pale', 1), ('moonlit', 1), ('filched', 1), ('Use', 1), (\"goodness'\", 1), ('sympathetic', 2), ('Sympathy', 1), (\"Vivian's\", 1), ('slopping', 1), ('offering', 1), ('peel', 1), ('pajama', 1), ('subside', 1), ('quantities', 1), ('Correspondence', 1), ('glycerin', 1), ('whitens', 1), ('tan', 2), ('puny', 3), ('Broiled', 1), ('Puny', 1), ('Surviving', 1), ('Wilderness', 1), ('Tom', 5), ('Speedy', 1), ('Canoe', 1), ('Also', 1), ('canoe', 1), ('pitcher', 10), ('overhand', 1), ('innings', 1), ('Anniston', 15), ('team', 6), ('fifth', 1), (\"Anniston's\", 1), ('catcher', 12), ('smacked', 1), ('Eddie', 22), ('Lee', 6), (\"Riverside's\", 1), ('redheaded', 1), ('Phil', 44), ('Rossoff', 6), ('relay', 1), ('Third', 2), ('base', 3), ('Mike', 28), (\"Deegan's\", 2), ('Deegan', 22), ('bastard', 2), ('punches', 1), ('tossed', 3), ('spectators', 2), ('uproar', 1), ('fighters', 1), ('resumed', 1), ('inning', 4), ('cursed', 1), ('dugout', 7), ('eyeing', 1), ('sonny', 1), ('infuriated', 1), ('Mind', 1), ('goddamn', 1), ('sixth', 1), ('bat', 4), (\"fielder's\", 1), ('fielder', 2), ('rounding', 1), ('heading', 1), ('tagged', 1), ('straddling', 1), ('plate', 5), ('rammed', 1), ('players', 5), (\"catcher's\", 1), ('physician', 1), ('injured', 1), ('ballplayer', 2), ('ballplayers', 3), ('dressing', 4), ('seated', 4), ('nearer', 1), ('quivering', 1), ('ram', 1), ('calculated', 1), ('pitching', 1), ('powerfully', 1), ('built', 2), ('hander', 1), ('mound', 2), ('eighth', 1), ('hefty', 1), (\"Mike's\", 3), ('dirt', 3), ('arose', 2), (\"batter's\", 1), ('Hit', 1), ('Frankie', 12), ('Ricco', 4), ('shortstop', 1), (\"Phil's\", 2), ('gonna', 4), ('bastards', 1), ('Haydon', 1), ('pounded', 1), ('rubber', 1), ('flat-footed', 1), ('towards', 4), ('unhurried', 1), ('infield', 1), ('Fights', 1), ('squelched', 1), ('sweatshirt', 2), ('helluva', 1), ('team-mate', 1), ('undressing', 1), ('jaw', 2), ('club', 9), ('inches', 1), ('locker', 2), ('banged', 2), (\"Eddie's\", 1), ('unconditional', 1), ('belong', 1), ('professional', 2), ('baseball', 4), ('confirm', 1), ('Sit', 1), ('steering', 1), ('leagues', 2), ('pro-ball', 1), ('Dazed', 1), ('abruptly', 2), ('fielding', 1), ('bases', 1), (\"Baseball's\", 1), ('cinch', 1), ('ramming', 1), ('puts', 1), ('sport', 1), ('goddamit', 1), ('ribbons', 1), ('league', 1), ('shaky', 2), ('Someday', 1), (\"Springfield's\", 1), ('Talk', 1), ('Ask', 1), ('Springfield', 1), ('Atta', 1), ('outfielders', 1), (\"Richard's\", 3), ('product', 2), ('insularity', 1), ('by-ways', 1), ('fascinate', 1), ('Augustine', 1), ('Aquinas', 1), ('Lao-tse', 1), ('Confucius', 1), ('Mencius', 1), ('Suzuki', 1), ('Hindu', 1), ('tomes', 1), ('Krishnaists', 1), ('numerous', 2), ('socio-archaeological', 1), ('papers', 1), ('Richard', 17), ('Zend-Avesta', 1), ('Indian', 1), ('god', 5), ('Acala', 5), ('entitled', 1), ('Book', 3), ('Dead', 3), ('Grinned', 1), ('gloomily', 1), ('Through', 2), ('laughter', 1), ('seldom', 2), ('formal', 1), ('sixteen', 1), ('substituted', 1), ('Asian', 3), ('fond', 1), ('graduated', 1), ('foundation', 1), ('studies', 2), ('student', 6), ('acquired', 2), ('remoteness', 1), ('thorough', 1), ('bookish', 1), ('lore', 1), ('literature', 1), ('politics', 1), ('awarded', 1), ('Tokyo', 6), ('biwa', 9), ('practicing', 1), ('sailing', 1), ('distrusted', 1), ('buying', 1), ('shorten', 1), ('relax', 1), ('incarcerated', 1), ('basement', 3), ('dusted', 1), ('flames', 3), ('sped', 1), ('freighter', 2), ('plucked', 1), ('wrought', 1), ('resemble', 1), ('instrument', 1), ('stole', 1), ('gusty', 1), ('rush', 3), ('eaten', 2), ('similar', 1), ('Charlotte', 8), ('Adams', 1), ('succeeded', 1), ('unusually', 1), ('searching', 3), ('frankness', 1), ('zest', 1), ('envied', 1), ('occasional', 1), ('participate', 1), ('tea-drinking', 1), ('complied', 1), ('random', 1), ('Ryusenji', 8), ('Fudomae', 3), (\"Charlotte's\", 3), ('gatherings', 1), ('flippant', 1), ('superficial', 1), ('pointless', 1), ('persons', 1), ('students', 1), ('judging', 1), ('popular', 1), ('foods', 1), ('equation', 1), ('Zen', 1), ('philosophy', 1), ('modifier', 1), ('Soba', 1), ('udon', 1), ('noisily', 1), ('Sushi', 1), ('pretentious', 2), ('Sashimi', 1), ('Samuel', 4), ('throughout', 2), ('Asked', 1), ('Ceecee', 2), ('Witter', 1), ('irritation', 1), ('Lovers', 1), ('Mound', 1), ('Gompachi', 1), ('Komurasaki', 1), ('parkish', 1), ('concluded', 1), ('Anyhow', 1), ('potatoes', 1), ('Kanto', 1), ('statue', 2), ('Fudo', 7), ('bothersome', 1), ('pull', 1), ('Twenty-two', 1), ('twenty-three', 1), ('colder', 1), ('tiniest', 1), ('reflect', 1), ('version', 1), ('recall', 3), ('ascetic', 1), ('returning', 1), ('paced', 2), ('tale', 3), ('waters', 1), ('sensation', 2), ('gate', 1), ('spigots', 1), ('hillside', 2), ('caged', 1), ('incarnation', 1), ('demon', 2), ('creature', 1), ('overwhelmingly', 1), ('likened', 1), ('limpid', 1), ('fountain-falls', 1), ('temple', 8), ('familiarity', 1), ('Into', 1), ('hundred-yen', 1), ('urge', 1), ('bronze', 1), ('priest', 1), ('Instead', 1), ('stare', 1), ('rigidly', 1), (\"Fudo's\", 2), ('fascination', 1), ('metallic', 1), ('scraping', 1), ('stillness', 1), ('severe', 1), ('emptied', 1), ('pockets', 1), ('coins', 1), ('hurried', 1), ('stairways', 1), ('virus', 1), ('refusing', 2), ('process', 1), ('reminder', 1), ('consciousness', 1), ('lingered', 1), ('inexplicable', 1), ('elements', 1), ('reality', 1), ('resolved', 1), ('plowing', 2), ('stubble', 2), ('farm', 1), (\"brother's\", 3), ('area', 2), ('plowed', 3), ('jar', 3), ('snow-fence', 1), ('lath', 2), ('tractor', 18), ('plow', 4), ('furrow', 5), ('wheels', 1), ('loaded', 1), ('snakes', 5), ('panic', 2), ('multi-colored', 1), ('graceful', 1), ('tapered', 2), ('throttle', 1), ('frighten', 2), ('fright', 1), ('idle', 1), ('movement', 1), ('trailed', 2), ('delicately', 2), ('tubular', 1), ('diamonds', 2), ('interlaced', 1), ('jet-black', 1), ('astonishing', 1), ('gracefully', 2), ('killed', 4), ('unthinkable', 1), ('fire-colored', 1), ('recently', 2), ('solid', 2), ('lumps', 1), ('forepart', 1), ('fieldmice', 1), ('satin', 1), ('newly-plowed', 1), ('clods', 2), ('soil', 4), ('target', 1), ('shone', 1), ('sun-burned', 1), ('crumbled', 1), ('paleness', 1), ('dusty', 1), ('uncolored', 1), ('triangular', 1), ('plowshares', 1), ('scouring', 1), ('stamping', 1), ('ferocity', 1), ('frenzied', 1), ('impatience', 1), ('fierce', 1), ('brutality', 3), ('hunched-up', 1), ('determination', 1), ('pirouette', 2), ('whipped', 1), ('lumbering', 1), ('brutal', 2), ('halt', 1), ('frenetic', 1), ('savagery', 1), ('glimmer', 1), ('remnant', 1), ('ache', 1), ('fumes', 1), ('crushed', 1), ('vanish', 1), ('mount', 1), ('bubbly', 1), ('finely-spun', 1), ('effeminate', 1), ('eyelashes', 1), ('brushlike', 1), ('newly-scrubbed', 1), ('resembled', 1), ('eagerly', 2), ('splintered', 1), ('Snakes', 3), ('bitten', 1), ('poisonous', 1), ('foolishly', 1), ('likes', 3), ('gray-looking', 1), ('beautifully-tapered', 1), ('flattened', 1), ('vise', 1), ('splayed', 1), ('wrenched', 1), ('thickest', 1), ('colored', 1), ('crystals', 1), ('ice-feeling', 1), ('spasm', 1), ('muscles', 1), ('wrenches', 1), ('tool-kit', 1), ('push', 3), ('gleeful', 1), ('puzzled', 1), ('brute', 1), ('nasty', 1), ('beast', 1), ('slap', 1), ('wipe', 1), ('insolence', 1), ('glee', 1), ('Cady', 27), ('unglued', 1), ('tidings', 1), ('Tax', 1), ('production', 3), ('Hanford', 16), ('College', 7), ('alma', 1), ('mater', 1), ('snapper', 1), ('enrolled', 1), ('credentials', 1), ('scholastic', 2), ('transcript', 1), ('references', 1), ('record', 2), ('boards', 1), ('applicants', 1), ('co-operate', 1), (\"son's\", 2), ('motivation', 5), ('interests', 6), ('qualifications', 1), ('leadership', 7), ('Partlow', 9), ('enroll', 1), ('David', 7), ('organization', 2), ('merchant', 1), ('Gone', 1), ('reunions', 1), ('1935', 1), ('old-grad-type', 1), ('Alcorn', 1), (\"Pete's\", 1), ('rejected', 1), ('Ivy', 2), ('football', 1), ('grades', 2), ('Good', 4), ('B', 1), (\"A's\", 1), ('math', 1), ('science', 6), ('temples', 1), ('chemistry', 1), ('Getting', 1), ('elected', 2), ('politicking', 1), ('conscience', 1), ('recommend', 1), ('candidate', 1), ('rugged', 1), ('Height', 1), (\"6'\", 1), ('Weight', 1), ('160', 1), ('Health', 1), ('excellent', 1), ('astronomy', 1), ('geology', 1), ('electronics', 5), ('enrolling', 1), ('keyboard', 1), ('ruining', 1), ('engineer', 4), ('Venetian', 1), ('slammed', 2), ('bestowed', 1), ('bucket', 1), ('commending', 1), ('eyebrow', 1), ('amusement', 1), ('soul-searching', 1), ('participated', 1), ('high-school', 1), ('activities', 1), ('civic', 1), ('forum', 2), ('treasurer', 3), ('flurry', 1), (\"David's\", 2), ('shoved', 1), ('unsealed', 1), ('omitted', 1), ('Products', 2), ('Half', 2), ('whistled', 1), ('locked', 1), ('gasser', 1), ('rounded', 1), ('firm', 3), ('pre-packed', 1), ('colleges', 2), ('State', 1), ('rocket', 1), ('messing', 1), ('Real', 1), ('Yale', 1), ('thinning', 1), ('unease', 1), ('Weakness', 1), ('Limited', 1), ('darned', 1), ('Martini', 1), ('tasted', 1), ('meal', 1), ('salad', 1), ('surcease', 1), ('ease', 1), ('sprinkle', 1), ('navy-blue', 1), ('shag', 1), ('woolly', 1), ('Board', 1), ('Work', 1), ('midweek', 1), ('eight', 1), ('commencement', 1), ('Carefully', 1), ('loudly', 1), ('Chairman', 1), (\"Partlow's\", 1), ('proverbial', 1), ('Dave', 10), ('pie', 1), ('methodically', 1), ('Hear', 2), ('Burke', 1), ('straight-A', 1), ('surprising', 2), ('antisocial', 1), ('lone', 1), ('completely', 1), ('one-sided', 1), ('Girls', 1), ('parent', 1), ('frayed', 1), ('coffeepot', 1), ('tattered', 1), ('book-lined', 1), ('dilapidated', 1), ('Wrong', 1), (\"hasn't\", 4), (\"Dave's\", 1), ('motives', 1), (\"Here's\", 1), ('belligerence', 1), ('Already', 1), (\"Anne's\", 1), ('acting', 1), ('Daley', 1), ('basketball', 1), ('play-off', 1), ('remains', 1), ('Astronomy', 1), ('stars', 1), ('Geology', 1), ('fishpond', 1), ('suggest', 1), ('chess', 1), ('Music', 1), ('season', 1), ('bass', 2), ('Crazy', 2), ('Horse', 2), ('Colts', 2), ('rock-and-roll', 1), ('combo', 1), ('solos', 1), ('guitar', 1), ('Rich', 1), ('sax', 1), ('solo', 1), ('shine', 1), ('Beethoven', 1), ('mollified', 1), ('brutally', 1), ('loosen', 1), ('padding', 1), ('document', 1), ('ham-radio', 1), ('equipment', 3), ('sale', 1), ('curb', 1), ('applying', 1), ('towel', 1), ('hemming', 1), ('guild', 1), ('banker', 1), ('conform', 1), ('leader', 1), ('well-worn', 1), ('chip', 1), ('qualities', 1), ('Give', 1), ('Army', 1), ('ninety-nine', 1), ('generals', 1), ('mailbox', 1), ('arguing', 1), ('situation', 5), ('monstrous', 1), ('proportions', 1), ('cotton', 1), ('shorts', 18), ('ruled', 1), ('Lying', 1), ('messy', 1), ('negligent', 1), ('strewn', 1), ('generally', 2), ('Dolores', 19), ('fun', 1), ('kidding', 1), ('trail', 1), ('garments', 2), ('littered', 1), ('rug', 1), ('assertive', 1), ('grinning', 1), ('refusal', 1), ('stoop', 1), ('petals', 1), ('seed', 1), ('catalogues', 1), ('referred', 1), ('flower', 1), ('contain', 1), ('patina', 1), ('veining', 1), ('reveal', 1), ('column', 1), ('vertebrae', 1), ('magnificently', 1), ('unyielding', 1), ('segments', 1), ('bone', 1), ('cracking', 1), ('noises', 1), ('stem', 1), ('tulip', 1), ('bluntly', 1), ('seriously', 1), ('leisure', 1), ('beforehand', 1), ('resistance', 2), ('delights', 1), ('emotional', 1), ('clash', 1), ('invigorating', 1), ('tenth', 1), ('teasing', 1), ('pat', 1), ('superhuman', 1), ('neatness', 1), ('incongruity', 1), ('mole', 1), ('Quietly', 1), ('foil', 1), ('stubborn', 2), ('doorbell', 1), ('Ten', 1), ('cross', 1), ('bend', 1), (\"Bill's\", 1), ('deposited', 1), ('Anthea', 3), ('strained', 1), ('glissade', 1), ('instructed', 1), ('ellipsis', 1), ('topic', 1), ('Brainards', 1), ('aback', 1), ('contrary', 1), ('weaken', 1), ('fumed', 1), ('adamant', 1), ('raving', 1), ('titters', 1), ('whisperings', 1), ('scabrous', 1), ('unclean', 1), ('gossiping', 1), ('lowering', 1), ('hoarseness', 1), ('crouched', 1), ('Afterwards', 1), ('apologized', 1), ('annoyed', 1), ('pallid', 1), ('resolution', 1), ('About', 1), ('newly', 1), ('Angrily', 1), ('delayed', 1), ('preferably', 1), ('lasted', 1), ('deciding', 1), ('postpone', 1), ('mercy', 1), ('These', 1), ('stray', 1), ('inspection', 1), ('ever-present', 1), ('visitors', 1), ('blot', 1), (\"bedroom's\", 1), ('countenance', 1), ('Quite', 1), ('lighthearted', 1), ('witty', 1), ('contest', 2), ('gaily', 1), ('anecdote', 1), ('frothy', 1), ('deceptive', 1), ('merriment', 1), ('snort', 1), ('mock', 1), ('ritual', 1), ('relations', 1), ('fatal', 1), ('scattering', 1), ('possessions', 1), ('drawers', 1), ('impinge', 1), ('Bizarre', 1), ('bizarre', 1), ('Six', 1), ('Pursuing', 1), ('trapped', 1), ('Day', 1), ('dilemma', 1), ('frantically', 1), ('seeking', 1), ('exit', 1), ('Alternately', 1), ('periods', 1), ('hostile', 1), ('defeatism', 1), ('sullenly', 1), ('morosely', 1), ('simplicity', 1), ('occurred', 1), ('frenzy', 1), ('Beside', 1), ('Instantaneously', 1), ('immeasurable', 1), ('panties', 1), ('alongside', 1), ('expenditure', 3), ('particular', 1), ('humiliation', 1), ('Furthermore', 1), ('maneuver', 1), ('endlessly', 1), ('slip', 1), ('brassiere', 1), ('girdle', 1), ('traversed', 1), ('installment', 1), ('rumpled', 1), ('childishness', 1), ('looseness', 1), ('untouched', 1), ('disciplined', 1), ('unruly', 1), ('underclothes', 1), ('linked', 1), ('visibly', 1), ('magnificence', 1), ('virility', 1), ('analyzing', 1), ('scheme', 1), ('exalted', 1), ('fanaticism', 1), ('nylon', 1), ('lace', 2), ('tenderly', 1), ('focused', 1), ('Slowly', 1), ('chain', 2), ('reasoning', 1), ('grasped', 1), ('implications', 1), ('occurring', 1), ('Extending', 1), ('inch', 1), ('swiftly', 1), ('unsteady', 1), ('breakfasted', 1), ('refer', 1), (\"That'll\", 1), ('resurgence', 1), ('A-Z', 5), ('Cap', 3), ('industrialist', 1), (\"nibs'\", 1), ('racket', 1), ('William', 18), ('forgot', 2), ('glory', 1), ('inadvertent', 1), ('agency', 1), ('brother-in-law', 1), ('General', 3), (\"Hershey's\", 1), ('draft', 1), ('Eddyman', 1), ('responsible', 1), ('eminence', 1), ('Freddy', 20), ('Bryan', 2), ('detached', 1), ('estate', 1), ('skyscraper', 1), ('financing', 3), ('Gerry', 4), ('Arthur', 3), ('Willis', 16), ('provide', 1), ('Zenith', 5), ('Plastic', 1), ('skeleton', 1), ('corporation', 2), ('sorts', 1), ('undergone', 1), ('vicissitudes', 1), ('engaged', 1), ('contracts', 2), ('Shortly', 1), ('proliferation', 1), ('bold', 1), ('exposed', 1), (\"Freddy's\", 4), ('suggestions', 1), ('prospering', 1), ('influenced', 1), ('involvement', 1), ('familial', 1), ('loyalty', 1), ('aid', 1), ('prodded', 1), (\"Joan's\", 1), (\"William's\", 3), ('competency', 1), ('factor', 1), ('eventual', 1), ('disposal', 1), (\"Willis'\", 2), ('unquestionably', 1), ('entwined', 1), ('likely', 1), ('richly', 1), ('Whatever', 1), ('factory', 1), ('ceramics', 1), ('experimentally', 1), ('high-speed', 1), ('calculators', 1), ('Adam', 6), ('Herberet', 3), ('partner', 2), ('political', 1), ('power', 2), ('additional', 1), ('worlds', 1), ('conquer', 1), ('Heavy', 1), ('industry', 1), ('slanted', 1), ('inexhaustible', 1), ('coffers', 1), ('attracted', 1), ('Allstates', 4), ('Auto', 1), ('Company', 1), ('medium-sized', 1), ('manufactured', 1), ('four-wheel-drive', 1), ('vehicles', 1), ('off-road', 1), ('over-large', 1), ('plant', 3), ('misguided', 1), ('optimism', 1), ('Cursed', 1), ('dissatisfied', 1), ('stockholders', 1), ('amalgamation', 1), ('mergers', 1), ('consequences', 1), (\"Herberet's\", 1), (\"Allstates'\", 1), ('Wisconsin', 4), ('folly', 1), ('conversion', 2), ('airplane', 1), ('sub-assembly', 1), ('tanks', 1), ('missiles', 1), ('ordnance', 1), ('desiring', 1), ('Freed', 1), ('complaisant', 1), ('broader', 1), ('overall', 1), ('administration', 1), ('corporate', 1), ('structure', 1), ('wider', 1), ('allied', 2), ('enchanted', 1), ('proposition', 1), ('Hamrick', 8), ('Chrysler', 1), ('acquainted', 1), ('hardware', 1), ('Air', 1), ('Force', 1), ('technical', 1), ('Missiles', 1), ('grabs', 1), ('manned', 1), ('aircraft', 2), ('affects', 1), ('procurement', 1), ('jet', 2), ('transports', 1), ('revolutionized', 1), ('airline', 1), ('compound-engine', 1), ('planes', 1), ('companies', 1), ('competition', 1), ('assembled', 1), ('settles', 1), ('bound', 1), ('pages', 1), ('assures', 1), ('raising', 1), ('Ham', 3), ('Richert', 5), ('legal', 1), ('exhibit', 1), ('deadly', 1), ('dampening', 1), ('elderly', 1), ('caution', 1), ('appreciate', 1), ('lukewarm', 1), ('entering', 1), ('fray', 1), ('cudgels', 1), ('prospect', 1), ('mix', 1), ('commercial', 1), ('patriarchy', 1), ('aide', 1), ('Hamilton', 1), ('prevailed', 1), ('devoting', 1), ('swaying', 1), ('dismissed', 1), ('project', 1), ('unwilling', 1), ('interfere', 1), ('transfers', 1), ('hyphenated', 1), ('automobile', 2), ('promotion', 2), ('Clay', 1), ('backing', 1), ('deficit', 1), ('beset', 1), ('deliver', 1), ('elephant', 1), ('Stock', 1), ('abundance', 1), ('Confronted', 1), ('plumped', 1), ('drastic', 1), ('liquidation', 1), ('summoned', 1), ('bind', 1), ('addition', 1), ('defects', 1), ('closeted', 1), ('motor', 1), ('existence', 1), (\"A-Z's\", 1), ('set-up', 1), ('exposure', 1), ('conceptions', 1), (\"Hamrick's\", 2), ('coincidental', 1), ('failure', 1), ('out-dated', 1), ('small-car', 1), ('manufacturer', 1), ('Ticonderoga', 4), ('Motors', 2), ('dimensions', 1), ('broach', 1), ('Initially', 1), ('passenger', 1), ('discouraging', 1), ('models', 1), ('founding', 1), ('nationwide', 1), ('dealerships', 1), ('cheaply', 1), ('presses', 1), ('dies', 1), ('precisely', 1), ('hurdle', 1), ('insurmountable', 1), ('investigate', 1), ('marshal', 1), ('statistics', 1), ('arguments', 1), ('Taking', 1), ('dubious', 1), ('alternative', 1), ('breathtaking', 1), ('frank', 1), ('resolve', 1), ('gantlet', 2), ('guarantee', 1), ('audience', 1), ('advocating', 1), ('publicly', 1), ('Forgive', 1), ('attended', 1), ('staff', 1), ('presiding', 1), ('incredulity', 1), ('listeners', 1), ('animosity', 1), ('quarrels', 1), ('transact', 1), ('larger', 1), ('low-priced', 1), ('bucking', 1), ('old-fashioned', 1), ('sell', 1), ('economy', 1), ('merit', 1), (\"We've\", 3), ('romance', 1), ('snobbery', 1), ('European', 1), ('woo', 1), ('consumer', 1), ('bludgeon', 1), ('chromed', 1), ('excess', 1), ('seduction', 1), ('dealers', 1), ('ready-made', 1), ('steam', 1), ('yachts', 1), ('Georgian', 1), ('bloated', 1), ('too-expensive', 1), ('Allstates-Zenith', 1), ('debate', 1), ('raged', 1), ('Financing', 1), ('emerged', 1), ('obstacle', 1), ('contributed', 1), ('maximum', 1), ('underwrite', 1), ('department', 1), ('risk', 1), ('risky', 1), ('basis', 1), ('capital', 1), ('Heads', 1), ('instinctively', 1), ('onus', 1), ('recriminations', 1), ('broadcast', 1), ('availing', 1), ('in-laws', 1), ('Sweat', 1), ('forehead', 1), ('disquietude', 1), ('Across', 1), ('saluted', 1), ('jubilantly', 1), ('encircled', 1), ('forefinger', 1), ('Spike-haired', 1), ('burly', 1), ('red-faced', 1), ('decked', 1), ('horn-rimmed', 1), (\"officers'\", 1), ('expect', 1), ('episode', 1)])"
      ]
     },
     "execution_count": 23,
     "metadata": {},
     "output_type": "execute_result"
    }
   ],
   "source": [
    "fdist.items()"
   ]
  },
  {
   "cell_type": "code",
   "execution_count": 25,
   "metadata": {},
   "outputs": [
    {
     "name": "stdout",
     "output_type": "stream",
     "text": [
      "<class 'nltk.probability.FreqDist'>\n",
      "<class 'dict_items'>\n"
     ]
    }
   ],
   "source": [
    "print(type(fdist))\n",
    "print(type(fdist.items()))"
   ]
  },
  {
   "cell_type": "code",
   "execution_count": 21,
   "metadata": {},
   "outputs": [
    {
     "name": "stdout",
     "output_type": "stream",
     "text": [
      "[(',', 539), ('.', 353), ('/', 110), ('for', 99), ('and', 74), ('to', 74), ('lady', 68), ('-', 66), ('seeks', 60), ('a', 52)]\n",
      "<FreqDist with 1108 samples and 4867 outcomes>\n"
     ]
    }
   ],
   "source": [
    "mas_comunes = fdist.most_common(10)  # Las 10 palabras más frecuentes\n",
    "print(mas_comunes)\n",
    "print(fdist)\n"
   ]
  },
  {
   "cell_type": "code",
   "execution_count": 22,
   "metadata": {},
   "outputs": [
    {
     "name": "stdout",
     "output_type": "stream",
     "text": [
      "\n",
      "Analizando el género 'fiction'\n",
      "what: 128 which: 123 how: 54 why: 18 when: 133 where: 76 who: 103 \n",
      "\n",
      "Analizando el género 'humor'\n",
      "what: 36 which: 62 how: 18 why: 9 when: 52 where: 15 who: 48 \n",
      "\n",
      "Analizando el género 'romance'\n",
      "what: 121 which: 104 how: 60 why: 34 when: 126 where: 54 who: 89 \n"
     ]
    }
   ],
   "source": [
    "for i in range(len(generos)):\n",
    "    genero = generos[i]\n",
    "    print()\n",
    "    print(f\"Analizando el género '{genero}'\")\n",
    "    texto_generos = brown.words(categories=genero)\n",
    "    fdist = nltk.FreqDist(texto_generos)\n",
    "    \n",
    "    for wh in palabraswh:\n",
    "        print(f\"{wh}: {fdist[wh]}\", end=' ')\n",
    "    print()\n"
   ]
  },
  {
   "cell_type": "markdown",
   "metadata": {},
   "source": [
    "## 3.Analizar la distribución de frecuencias de corpuses en la web y en ficheros de chats\n",
    "\n",
    "Aprovecharemos el set de datos webtext de la librería NLTK"
   ]
  },
  {
   "cell_type": "code",
   "execution_count": 26,
   "metadata": {},
   "outputs": [
    {
     "name": "stderr",
     "output_type": "stream",
     "text": [
      "[nltk_data] Downloading package webtext to\n",
      "[nltk_data]     /Users/egoitzaulestiapadilla/nltk_data...\n",
      "[nltk_data]   Package webtext is already up-to-date!\n"
     ]
    },
    {
     "data": {
      "text/plain": [
       "True"
      ]
     },
     "execution_count": 26,
     "metadata": {},
     "output_type": "execute_result"
    }
   ],
   "source": [
    "import nltk\n",
    "from nltk.corpus import webtext\n",
    "nltk.download('webtext')"
   ]
  },
  {
   "cell_type": "code",
   "execution_count": 27,
   "metadata": {},
   "outputs": [
    {
     "name": "stdout",
     "output_type": "stream",
     "text": [
      "['firefox.txt', 'grail.txt', 'overheard.txt', 'pirates.txt', 'singles.txt', 'wine.txt']\n"
     ]
    }
   ],
   "source": [
    "print(webtext.fileids())"
   ]
  },
  {
   "cell_type": "markdown",
   "metadata": {},
   "source": [
    "Analizamos el set singles.txt, que va a ser nuestro conjunto de datos \"objetivo\"."
   ]
  },
  {
   "cell_type": "code",
   "execution_count": 28,
   "metadata": {},
   "outputs": [
    {
     "name": "stdout",
     "output_type": "stream",
     "text": [
      "<FreqDist with 1108 samples and 4867 outcomes>\n"
     ]
    }
   ],
   "source": [
    "fileid = 'singles.txt'\n",
    "wbt_words = webtext.words(fileid)\n",
    "fdist = nltk.FreqDist(wbt_words)\n",
    "print (fdist)"
   ]
  },
  {
   "cell_type": "markdown",
   "metadata": {},
   "source": [
    "Podemos extraer la palabra más común..."
   ]
  },
  {
   "cell_type": "code",
   "execution_count": 29,
   "metadata": {},
   "outputs": [
    {
     "name": "stdout",
     "output_type": "stream",
     "text": [
      "Total de apariciones del token \" , \" :  539\n"
     ]
    }
   ],
   "source": [
    "print('Total de apariciones del token \"',fdist.max(),'\" : ', fdist[fdist.max()])"
   ]
  },
  {
   "cell_type": "markdown",
   "metadata": {},
   "source": [
    "Podemos extraer el total de tokens diferentes en nuestro corpus"
   ]
  },
  {
   "cell_type": "code",
   "execution_count": 30,
   "metadata": {},
   "outputs": [
    {
     "name": "stdout",
     "output_type": "stream",
     "text": [
      "Total de tokens distintos en el corpus:  4867\n"
     ]
    }
   ],
   "source": [
    "print('Total de tokens distintos en el corpus: ', fdist.N())"
   ]
  },
  {
   "cell_type": "markdown",
   "metadata": {},
   "source": [
    "Extraemos los 10 tokens más habituales en el corpus"
   ]
  },
  {
   "cell_type": "code",
   "execution_count": 40,
   "metadata": {},
   "outputs": [
    {
     "name": "stdout",
     "output_type": "stream",
     "text": [
      "Los 10 tokens más comunes del corpus: [(',', 539), ('.', 353), ('/', 110), ('for', 99), ('and', 74), ('to', 74), ('lady', 68), ('-', 66), ('seeks', 60), ('a', 52)]\n"
     ]
    }
   ],
   "source": [
    "print('Los 10 tokens más comunes del corpus:', fdist.most_common(10))"
   ]
  },
  {
   "cell_type": "code",
   "execution_count": 41,
   "metadata": {},
   "outputs": [
    {
     "data": {
      "text/plain": [
       "tuple"
      ]
     },
     "execution_count": 41,
     "metadata": {},
     "output_type": "execute_result"
    }
   ],
   "source": [
    "type(fdist.most_common(10)[0])"
   ]
  },
  {
   "cell_type": "markdown",
   "metadata": {},
   "source": [
    "Pintamos una gráfica con las frecuencias acumuladas de los 20 elementos más habituales."
   ]
  },
  {
   "cell_type": "code",
   "execution_count": 42,
   "metadata": {},
   "outputs": [
    {
     "data": {
      "text/plain": [
       "<Axes: xlabel='Samples', ylabel='Cumulative Counts'>"
      ]
     },
     "execution_count": 42,
     "metadata": {},
     "output_type": "execute_result"
    },
    {
     "data": {
      "image/png": "[encoded data removed]",
      "text/plain": [
       "<Figure size 640x480 with 1 Axes>"
      ]
     },
     "metadata": {},
     "output_type": "display_data"
    }
   ],
   "source": [
    "fdist.plot(20,cumulative=True)"
   ]
  },
  {
   "cell_type": "markdown",
   "metadata": {},
   "source": [
    "Hemos visto que el token más común es ',', seguido de '.' debido a que no hemos preprocesado los datos (eliminación de stopwords, ...)."
   ]
  },
  {
   "cell_type": "markdown",
   "metadata": {},
   "source": [
    "## 4.Extracción de textos a través de BeautifulSoup"
   ]
  },
  {
   "cell_type": "markdown",
   "metadata": {},
   "source": [
    "La librería BeautifulSoup tiene unas potentes funciones para el tratamiento de textos.  Vamos usarla para limpiar el texto descargado desde una web."
   ]
  },
  {
   "cell_type": "code",
   "execution_count": 43,
   "metadata": {},
   "outputs": [],
   "source": [
    "import nltk\n",
    "import urllib.request"
   ]
  },
  {
   "cell_type": "code",
   "execution_count": 44,
   "metadata": {
    "scrolled": true,
    "tags": []
   },
   "outputs": [
    {
     "name": "stdout",
     "output_type": "stream",
     "text": [
      "b'<!DOCTYPE html>\\n<html xmlns=\"http://www.w3.org/1999/xhtml\" lang=\"en\">\\n<head>\\n\\n  <meta charset=\"utf-8\">\\n  <meta name=\"viewport\" content=\"width=device-width, initial-scale=1.0\">\\n\\n  <title>PHP: Hypertext Preprocessor</title>\\n\\n <link rel=\"icon\" type=\"image/svg+xml\" sizes=\"any\" href=\"https://www.php.net/favicon.svg?v=2\">\\n <link rel=\"icon\" type=\"image/png\" sizes=\"196x196\" href=\"https://www.php.net/favicon-196x196.png?v=2\">\\n <link rel=\"icon\" type=\"image/png\" sizes=\"32x32\" href=\"https://www.php.net/favicon-32x32.png?v=2\">\\n <link rel=\"icon\" type=\"image/png\" sizes=\"16x16\" href=\"https://www.php.net/favicon-16x16.png?v=2\">\\n <link rel=\"shortcut icon\" href=\"https://www.php.net/favicon.ico?v=2\">\\n\\n <link rel=\"search\" type=\"application/opensearchdescription+xml\" href=\"http://php.net/phpnetimprovedsearch.src\" title=\"Add PHP.net search\">\\n <link rel=\"alternate\" type=\"application/atom+xml\" href=\"https://www.php.net/releases/feed.php\" title=\"PHP Release feed\">\\n <link rel=\"alternate\" type=\"application/atom+xml\" href=\"https://www.php.net/feed.atom\" title=\"PHP: Hypertext Preprocessor\">\\n\\n <link rel=\"canonical\" href=\"https://www.php.net/index.php\">\\n <link rel=\"shorturl\" href=\"https://www.php.net/index\">\\n <link rel=\"alternate\" href=\"https://www.php.net/index\" hreflang=\"x-default\">\\n\\n\\n\\n<link rel=\"stylesheet\" type=\"text/css\" href=\"/cached.php?t=1707321815&amp;f=/fonts/Fira/fira.css\" media=\"screen\">\\n<link rel=\"stylesheet\" type=\"text/css\" href=\"/cached.php?t=1707321815&amp;f=/fonts/Font-Awesome/css/fontello.css\" media=\"screen\">\\n<link rel=\"stylesheet\" type=\"text/css\" href=\"/cached.php?t=1732428602&amp;f=/styles/theme-base.css\" media=\"screen\">\\n<link rel=\"stylesheet\" type=\"text/css\" href=\"/cached.php?t=1730558402&amp;f=/styles/theme-medium.css\" media=\"screen\">\\n<link rel=\"stylesheet\" type=\"text/css\" href=\"/cached.php?t=1730558402&amp;f=/styles/home.css\" media=\"screen\">\\n\\n <base href=\"https://www.php.net/index.php\">\\n\\n<meta name=\"Description\" content=\"PHP is a popular general-purpose scripting language that powers everything from your blog to the most popular websites in the world.\" />\\n\\n<meta name=\"twitter:card\" content=\"summary_large_image\" />\\n<meta name=\"twitter:site\" content=\"@official_php\" />\\n<meta name=\"twitter:title\" content=\"PHP: Hypertext Preprocessor\" />\\n<meta name=\"twitter:description\" content=\"PHP is a popular general-purpose scripting language that powers everything from your blog to the most popular websites in the world.\" />\\n<meta name=\"twitter:creator\" content=\"@official_php\" />\\n<meta name=\"twitter:image:src\" content=\"https://www.php.net/images/meta-image.png\" />\\n\\n<meta itemprop=\"name\" content=\"PHP: Hypertext Preprocessor\" />\\n<meta itemprop=\"description\" content=\"PHP is a popular general-purpose scripting language that powers everything from your blog to the most popular websites in the world.\" />\\n<meta itemprop=\"image\" content=\"https://www.php.net/images/meta-image.png\" />\\n\\n<meta property=\"og:image\" content=\"https://www.php.net/images/meta-image.png\" />\\n<meta property=\"og:description\" content=\"PHP is a popular general-purpose scripting language that powers everything from your blog to the most popular websites in the world.\" />\\n\\n<link href=\"https://fosstodon.org/@php\" rel=\"me\" />\\n<!-- Matomo -->\\n<script>\\n    var _paq = window._paq = window._paq || [];\\n    /* tracker methods like \"setCustomDimension\" should be called before \"trackPageView\" */\\n    _paq.push([\"setDoNotTrack\", true]);\\n    _paq.push([\"disableCookies\"]);\\n    _paq.push([\\'trackPageView\\']);\\n    _paq.push([\\'enableLinkTracking\\']);\\n    (function() {\\n        var u=\"https://analytics.php.net/\";\\n        _paq.push([\\'setTrackerUrl\\', u+\\'matomo.php\\']);\\n        _paq.push([\\'setSiteId\\', \\'1\\']);\\n        var d=document, g=d.createElement(\\'script\\'), s=d.getElementsByTagName(\\'script\\')[0];\\n        g.async=true; g.src=u+\\'matomo.js\\'; s.parentNode.insertBefore(g,s);\\n    })();\\n</script>\\n<!-- End Matomo Code -->\\n</head>\\n<body class=\"home \">\\n\\n<nav class=\"navbar navbar-fixed-top\">\\n  <div class=\"navbar__inner\">\\n    <a href=\"/\" aria-label=\"PHP Home\" class=\"navbar__brand\">\\n      <img\\n        src=\"/images/logos/php-logo-white.svg\"\\n        aria-hidden=\"true\"\\n        width=\"80\"\\n        height=\"40\"\\n      >\\n    </a>\\n\\n    <div\\n      id=\"navbar__offcanvas\"\\n      tabindex=\"-1\"\\n      class=\"navbar__offcanvas\"\\n      aria-label=\"Menu\"\\n    >\\n      <button\\n        id=\"navbar__close-button\"\\n        class=\"navbar__icon-item navbar_icon-item--visually-aligned navbar__close-button\"\\n      >\\n        <svg xmlns=\"http://www.w3.org/2000/svg\" width=\"24\" viewBox=\"0 0 24 24\" fill=\"currentColor\"><path d=\"M19,6.41L17.59,5L12,10.59L6.41,5L5,6.41L10.59,12L5,17.59L6.41,19L12,13.41L17.59,19L19,17.59L13.41,12L19,6.41Z\" /></svg>\\n      </button>\\n\\n      <ul class=\"navbar__nav\">\\n                            <li class=\"navbar__item\">\\n              <a\\n                href=\"/downloads.php\"\\n                                class=\"navbar__link  \"\\n              >\\n                                  Downloads                              </a>\\n          </li>\\n                            <li class=\"navbar__item\">\\n              <a\\n                href=\"/docs.php\"\\n                                class=\"navbar__link  \"\\n              >\\n                                  Documentation                              </a>\\n          </li>\\n                            <li class=\"navbar__item\">\\n              <a\\n                href=\"/get-involved.php\"\\n                                class=\"navbar__link  \"\\n              >\\n                                  Get Involved                              </a>\\n          </li>\\n                            <li class=\"navbar__item\">\\n              <a\\n                href=\"/support.php\"\\n                                class=\"navbar__link  \"\\n              >\\n                                  Help                              </a>\\n          </li>\\n                            <li class=\"navbar__item\">\\n              <a\\n                href=\"/releases/8.4/index.php\"\\n                                class=\"navbar__link  navbar__release\"\\n              >\\n                                  <img src=\"/images/php8/logo_php8_4.svg\" alt=\"PHP 8.4\">\\n                              </a>\\n          </li>\\n              </ul>\\n    </div>\\n\\n    <div class=\"navbar__right\">\\n      \\n      <!-- Desktop default search -->\\n      <form\\n        action=\"/manual-lookup.php\"\\n        class=\"navbar__search-form\"\\n      >\\n        <label for=\"navbar__search-input\" aria-label=\"Search docs\">\\n          <svg\\n  xmlns=\"http://www.w3.org/2000/svg\"\\n  aria-hidden=\"true\"\\n  width=\"24\"\\n  viewBox=\"0 0 24 24\"\\n  fill=\"none\"\\n  stroke=\"currentColor\"\\n  stroke-width=\"2\"\\n  stroke-linecap=\"round\"\\n  stroke-linejoin=\"round\"\\n>\\n  <circle cx=\"11\" cy=\"11\" r=\"8\"></circle>\\n  <line x1=\"21\" y1=\"21\" x2=\"16.65\" y2=\"16.65\"></line>\\n</svg>        </label>\\n        <input\\n          type=\"search\"\\n          name=\"pattern\"\\n          id=\"navbar__search-input\"\\n          class=\"navbar__search-input\"\\n          placeholder=\"Search docs\"\\n          accesskey=\"s\"\\n        >\\n        <input type=\"hidden\" name=\"scope\" value=\"quickref\">\\n      </form>\\n\\n      <!-- Desktop encanced search -->\\n      <button\\n        id=\"navbar__search-button\"\\n        class=\"navbar__search-button\"\\n        hidden\\n      >\\n        <svg\\n  xmlns=\"http://www.w3.org/2000/svg\"\\n  aria-hidden=\"true\"\\n  width=\"24\"\\n  viewBox=\"0 0 24 24\"\\n  fill=\"none\"\\n  stroke=\"currentColor\"\\n  stroke-width=\"2\"\\n  stroke-linecap=\"round\"\\n  stroke-linejoin=\"round\"\\n>\\n  <circle cx=\"11\" cy=\"11\" r=\"8\"></circle>\\n  <line x1=\"21\" y1=\"21\" x2=\"16.65\" y2=\"16.65\"></line>\\n</svg>        Search docs\\n      </button>\\n\\n      <!-- Mobile default items -->\\n      <a\\n        id=\"navbar__search-link\"\\n        href=\"/lookup-form.php\"\\n        aria-label=\"Search docs\"\\n        class=\"navbar__icon-item navbar__search-link\"\\n      >\\n        <svg\\n  xmlns=\"http://www.w3.org/2000/svg\"\\n  aria-hidden=\"true\"\\n  width=\"24\"\\n  viewBox=\"0 0 24 24\"\\n  fill=\"none\"\\n  stroke=\"currentColor\"\\n  stroke-width=\"2\"\\n  stroke-linecap=\"round\"\\n  stroke-linejoin=\"round\"\\n>\\n  <circle cx=\"11\" cy=\"11\" r=\"8\"></circle>\\n  <line x1=\"21\" y1=\"21\" x2=\"16.65\" y2=\"16.65\"></line>\\n</svg>      </a>\\n      <a\\n        id=\"navbar__menu-link\"\\n        href=\"/menu.php\"\\n        aria-label=\"Menu\"\\n        class=\"navbar__icon-item navbar_icon-item--visually-aligned navbar_menu-link\"\\n      >\\n        <svg xmlns=\"http://www.w3.org/2000/svg\"\\n  aria-hidden=\"true\"\\n  width=\"24\"\\n  viewBox=\"0 0 24 24\"\\n  fill=\"currentColor\"\\n>\\n  <path d=\"M3,6H21V8H3V6M3,11H21V13H3V11M3,16H21V18H3V16Z\" />\\n</svg>      </a>\\n\\n      <!-- Mobile enhanced items -->\\n      <button\\n        id=\"navbar__search-button-mobile\"\\n        aria-label=\"Search docs\"\\n        class=\"navbar__icon-item navbar__search-button-mobile\"\\n        hidden\\n      >\\n        <svg\\n  xmlns=\"http://www.w3.org/2000/svg\"\\n  aria-hidden=\"true\"\\n  width=\"24\"\\n  viewBox=\"0 0 24 24\"\\n  fill=\"none\"\\n  stroke=\"currentColor\"\\n  stroke-width=\"2\"\\n  stroke-linecap=\"round\"\\n  stroke-linejoin=\"round\"\\n>\\n  <circle cx=\"11\" cy=\"11\" r=\"8\"></circle>\\n  <line x1=\"21\" y1=\"21\" x2=\"16.65\" y2=\"16.65\"></line>\\n</svg>      </button>\\n      <button\\n        id=\"navbar__menu-button\"\\n        aria-label=\"Menu\"\\n        class=\"navbar__icon-item navbar_icon-item--visually-aligned\"\\n        hidden\\n      >\\n        <svg xmlns=\"http://www.w3.org/2000/svg\"\\n  aria-hidden=\"true\"\\n  width=\"24\"\\n  viewBox=\"0 0 24 24\"\\n  fill=\"currentColor\"\\n>\\n  <path d=\"M3,6H21V8H3V6M3,11H21V13H3V11M3,16H21V18H3V16Z\" />\\n</svg>      </button>\\n    </div>\\n\\n    <div\\n      id=\"navbar__backdrop\"\\n      class=\"navbar__backdrop\"\\n    ></div>\\n  </div>\\n\\n  <div id=\"flash-message\"></div>\\n</nav>\\n<nav id=\"trick\"><div><dl>\\n<dt><a href=\\'/manual/en/getting-started.php\\'>Getting Started</a></dt>\\n\\t<dd><a href=\\'/manual/en/introduction.php\\'>Introduction</a></dd>\\n\\t<dd><a href=\\'/manual/en/tutorial.php\\'>A simple tutorial</a></dd>\\n<dt><a href=\\'/manual/en/langref.php\\'>Language Reference</a></dt>\\n\\t<dd><a href=\\'/manual/en/language.basic-syntax.php\\'>Basic syntax</a></dd>\\n\\t<dd><a href=\\'/manual/en/language.types.php\\'>Types</a></dd>\\n\\t<dd><a href=\\'/manual/en/language.variables.php\\'>Variables</a></dd>\\n\\t<dd><a href=\\'/manual/en/language.constants.php\\'>Constants</a></dd>\\n\\t<dd><a href=\\'/manual/en/language.expressions.php\\'>Expressions</a></dd>\\n\\t<dd><a href=\\'/manual/en/language.operators.php\\'>Operators</a></dd>\\n\\t<dd><a href=\\'/manual/en/language.control-structures.php\\'>Control Structures</a></dd>\\n\\t<dd><a href=\\'/manual/en/language.functions.php\\'>Functions</a></dd>\\n\\t<dd><a href=\\'/manual/en/language.oop5.php\\'>Classes and Objects</a></dd>\\n\\t<dd><a href=\\'/manual/en/language.namespaces.php\\'>Namespaces</a></dd>\\n\\t<dd><a href=\\'/manual/en/language.enumerations.php\\'>Enumerations</a></dd>\\n\\t<dd><a href=\\'/manual/en/language.errors.php\\'>Errors</a></dd>\\n\\t<dd><a href=\\'/manual/en/language.exceptions.php\\'>Exceptions</a></dd>\\n\\t<dd><a href=\\'/manual/en/language.fibers.php\\'>Fibers</a></dd>\\n\\t<dd><a href=\\'/manual/en/language.generators.php\\'>Generators</a></dd>\\n\\t<dd><a href=\\'/manual/en/language.attributes.php\\'>Attributes</a></dd>\\n\\t<dd><a href=\\'/manual/en/language.references.php\\'>References Explained</a></dd>\\n\\t<dd><a href=\\'/manual/en/reserved.variables.php\\'>Predefined Variables</a></dd>\\n\\t<dd><a href=\\'/manual/en/reserved.exceptions.php\\'>Predefined Exceptions</a></dd>\\n\\t<dd><a href=\\'/manual/en/reserved.interfaces.php\\'>Predefined Interfaces and Classes</a></dd>\\n\\t<dd><a href=\\'/manual/en/reserved.attributes.php\\'>Predefined Attributes</a></dd>\\n\\t<dd><a href=\\'/manual/en/context.php\\'>Context options and parameters</a></dd>\\n\\t<dd><a href=\\'/manual/en/wrappers.php\\'>Supported Protocols and Wrappers</a></dd>\\n</dl>\\n<dl>\\n<dt><a href=\\'/manual/en/security.php\\'>Security</a></dt>\\n\\t<dd><a href=\\'/manual/en/security.intro.php\\'>Introduction</a></dd>\\n\\t<dd><a href=\\'/manual/en/security.general.php\\'>General considerations</a></dd>\\n\\t<dd><a href=\\'/manual/en/security.cgi-bin.php\\'>Installed as CGI binary</a></dd>\\n\\t<dd><a href=\\'/manual/en/security.apache.php\\'>Installed as an Apache module</a></dd>\\n\\t<dd><a href=\\'/manual/en/security.sessions.php\\'>Session Security</a></dd>\\n\\t<dd><a href=\\'/manual/en/security.filesystem.php\\'>Filesystem Security</a></dd>\\n\\t<dd><a href=\\'/manual/en/security.database.php\\'>Database Security</a></dd>\\n\\t<dd><a href=\\'/manual/en/security.errors.php\\'>Error Reporting</a></dd>\\n\\t<dd><a href=\\'/manual/en/security.variables.php\\'>User Submitted Data</a></dd>\\n\\t<dd><a href=\\'/manual/en/security.hiding.php\\'>Hiding PHP</a></dd>\\n\\t<dd><a href=\\'/manual/en/security.current.php\\'>Keeping Current</a></dd>\\n<dt><a href=\\'/manual/en/features.php\\'>Features</a></dt>\\n\\t<dd><a href=\\'/manual/en/features.http-auth.php\\'>HTTP authentication with PHP</a></dd>\\n\\t<dd><a href=\\'/manual/en/features.cookies.php\\'>Cookies</a></dd>\\n\\t<dd><a href=\\'/manual/en/features.sessions.php\\'>Sessions</a></dd>\\n\\t<dd><a href=\\'/manual/en/features.file-upload.php\\'>Handling file uploads</a></dd>\\n\\t<dd><a href=\\'/manual/en/features.remote-files.php\\'>Using remote files</a></dd>\\n\\t<dd><a href=\\'/manual/en/features.connection-handling.php\\'>Connection handling</a></dd>\\n\\t<dd><a href=\\'/manual/en/features.persistent-connections.php\\'>Persistent Database Connections</a></dd>\\n\\t<dd><a href=\\'/manual/en/features.commandline.php\\'>Command line usage</a></dd>\\n\\t<dd><a href=\\'/manual/en/features.gc.php\\'>Garbage Collection</a></dd>\\n\\t<dd><a href=\\'/manual/en/features.dtrace.php\\'>DTrace Dynamic Tracing</a></dd>\\n</dl>\\n<dl>\\n<dt><a href=\\'/manual/en/funcref.php\\'>Function Reference</a></dt>\\n\\t<dd><a href=\\'/manual/en/refs.basic.php.php\\'>Affecting PHP\\'s Behaviour</a></dd>\\n\\t<dd><a href=\\'/manual/en/refs.utilspec.audio.php\\'>Audio Formats Manipulation</a></dd>\\n\\t<dd><a href=\\'/manual/en/refs.remote.auth.php\\'>Authentication Services</a></dd>\\n\\t<dd><a href=\\'/manual/en/refs.utilspec.cmdline.php\\'>Command Line Specific Extensions</a></dd>\\n\\t<dd><a href=\\'/manual/en/refs.compression.php\\'>Compression and Archive Extensions</a></dd>\\n\\t<dd><a href=\\'/manual/en/refs.crypto.php\\'>Cryptography Extensions</a></dd>\\n\\t<dd><a href=\\'/manual/en/refs.database.php\\'>Database Extensions</a></dd>\\n\\t<dd><a href=\\'/manual/en/refs.calendar.php\\'>Date and Time Related Extensions</a></dd>\\n\\t<dd><a href=\\'/manual/en/refs.fileprocess.file.php\\'>File System Related Extensions</a></dd>\\n\\t<dd><a href=\\'/manual/en/refs.international.php\\'>Human Language and Character Encoding Support</a></dd>\\n\\t<dd><a href=\\'/manual/en/refs.utilspec.image.php\\'>Image Processing and Generation</a></dd>\\n\\t<dd><a href=\\'/manual/en/refs.remote.mail.php\\'>Mail Related Extensions</a></dd>\\n\\t<dd><a href=\\'/manual/en/refs.math.php\\'>Mathematical Extensions</a></dd>\\n\\t<dd><a href=\\'/manual/en/refs.utilspec.nontext.php\\'>Non-Text MIME Output</a></dd>\\n\\t<dd><a href=\\'/manual/en/refs.fileprocess.process.php\\'>Process Control Extensions</a></dd>\\n\\t<dd><a href=\\'/manual/en/refs.basic.other.php\\'>Other Basic Extensions</a></dd>\\n\\t<dd><a href=\\'/manual/en/refs.remote.other.php\\'>Other Services</a></dd>\\n\\t<dd><a href=\\'/manual/en/refs.search.php\\'>Search Engine Extensions</a></dd>\\n\\t<dd><a href=\\'/manual/en/refs.utilspec.server.php\\'>Server Specific Extensions</a></dd>\\n\\t<dd><a href=\\'/manual/en/refs.basic.session.php\\'>Session Extensions</a></dd>\\n\\t<dd><a href=\\'/manual/en/refs.basic.text.php\\'>Text Processing</a></dd>\\n\\t<dd><a href=\\'/manual/en/refs.basic.vartype.php\\'>Variable and Type Related Extensions</a></dd>\\n\\t<dd><a href=\\'/manual/en/refs.webservice.php\\'>Web Services</a></dd>\\n\\t<dd><a href=\\'/manual/en/refs.utilspec.windows.php\\'>Windows Only Extensions</a></dd>\\n\\t<dd><a href=\\'/manual/en/refs.xml.php\\'>XML Manipulation</a></dd>\\n\\t<dd><a href=\\'/manual/en/refs.ui.php\\'>GUI Extensions</a></dd>\\n</dl>\\n<dl>\\n<dt>Keyboard Shortcuts</dt><dt>?</dt>\\n<dd>This help</dd>\\n<dt>j</dt>\\n<dd>Next menu item</dd>\\n<dt>k</dt>\\n<dd>Previous menu item</dd>\\n<dt>g p</dt>\\n<dd>Previous man page</dd>\\n<dt>g n</dt>\\n<dd>Next man page</dd>\\n<dt>G</dt>\\n<dd>Scroll to bottom</dd>\\n<dt>g g</dt>\\n<dd>Scroll to top</dd>\\n<dt>g h</dt>\\n<dd>Goto homepage</dd>\\n<dt>g s</dt>\\n<dd>Goto search<br>(current page)</dd>\\n<dt>/</dt>\\n<dd>Focus search box</dd>\\n</dl></div></nav>\\n<div id=\"goto\">\\n    <div class=\"search\">\\n         <div class=\"text\"></div>\\n         <div class=\"results\"><ul></ul></div>\\n   </div>\\n</div>\\n\\n\\n\\n<div id=\"intro\" class=\"clearfix\">\\n  <div class=\"container\">\\n      <div class=\"hero\">\\n    <img class=\"hero__logo\" src=\"/images/logos/php-logo-white.svg\" alt=\"php\" width=\"240\" height=\"120\">\\n    <p class=\"hero__text\">A <strong>popular general-purpose scripting language</strong> that is especially suited to web development.<br />Fast, flexible and pragmatic, PHP powers everything from your blog to the most popular websites in the world.</p>\\n    <div class=\"hero__actions\">\\n      <a href=\"/releases/8.4/index.php\" class=\"hero__btn hero__btn--primary\">What\\'s new in 8.4</a>\\n      <a href=\"/downloads.php\" class=\"hero__btn hero__btn--secondary\">Download</a>\\n    </div><ul class=\\'hero__versions\\'>\\n\\n            <li class=\\'hero__version\\'><a class=\\'hero__version-link\\' href=\\'/downloads.php#v8.4.2\\'>8.4.2</a> &middot; <a class=\\'notes\\' href=\\'/ChangeLog-8.php#8.4.2\\'>Changelog</a> &middot; <a class=\\'notes\\' href=\\'/migration84\\'>Upgrading</a></li>\\n\\n            <li class=\\'hero__version\\'><a class=\\'hero__version-link\\' href=\\'/downloads.php#v8.3.15\\'>8.3.15</a> &middot; <a class=\\'notes\\' href=\\'/ChangeLog-8.php#8.3.15\\'>Changelog</a> &middot; <a class=\\'notes\\' href=\\'/migration83\\'>Upgrading</a></li>\\n\\n            <li class=\\'hero__version\\'><a class=\\'hero__version-link\\' href=\\'/downloads.php#v8.2.27\\'>8.2.27</a> &middot; <a class=\\'notes\\' href=\\'/ChangeLog-8.php#8.2.27\\'>Changelog</a> &middot; <a class=\\'notes\\' href=\\'/migration82\\'>Upgrading</a></li>\\n\\n            <li class=\\'hero__version\\'><a class=\\'hero__version-link\\' href=\\'/downloads.php#v8.1.31\\'>8.1.31</a> &middot; <a class=\\'notes\\' href=\\'/ChangeLog-8.php#8.1.31\\'>Changelog</a> &middot; <a class=\\'notes\\' href=\\'/migration81\\'>Upgrading</a></li>\\n</ul>\\n  </div>  </div>\\n</div>\\n\\n\\n<div id=\"layout\" class=\"clearfix\">\\n  <section id=\"layout-content\">\\n<div class=\\'home-content\\'><article class=\"newsentry\">\\n  <header class=\"title\">\\n    <time datetime=\"2024-12-19T16:53:11+00:00\">19 Dec 2024</time>\\n    <h2 class=\"newstitle\">\\n      <a href=\"https://www.php.net/archive/2024.php#2024-12-19-3\" id=\"2024-12-19-3\">PHP 8.4.2 Released!</a>\\n    </h2>\\n  </header>\\n  <div class=\"newscontent\">\\n    <div><p>The PHP development team announces the immediate availability of PHP 8.4.2. This is a bug fix release.</p>\\n\\n<p>All PHP 8.4 users are encouraged to upgrade to this version.</p>\\n\\n<p>For source downloads of PHP 8.4.2 please visit our <a href=\"https://www.php.net/downloads.php\">downloads page</a>,\\nWindows source and binaries can be found on <a href=\"https://windows.php.net/download/\">windows.php.net/download/</a>.\\nThe list of changes is recorded in the <a href=\"https://www.php.net/ChangeLog-8.php#8.4.2\">ChangeLog</a>.\\n</p>    </div>\\n  \\n  </div>\\n</article><article class=\"newsentry\">\\n  <header class=\"title\">\\n    <time datetime=\"2024-12-19T16:40:56+00:00\">19 Dec 2024</time>\\n    <h2 class=\"newstitle\">\\n      <a href=\"https://www.php.net/archive/2024.php#2024-12-19-2\" id=\"2024-12-19-2\">PHP 8.3.15 Released!</a>\\n    </h2>\\n  </header>\\n  <div class=\"newscontent\">\\n    <div><p>The PHP development team announces the immediate availability of PHP 8.3.15. This is a bug fix release.</p>\\n\\n<p>All PHP 8.3 users are encouraged to upgrade to this version.</p>\\n\\n<p>For source downloads of PHP 8.3.15 please visit our <a href=\"https://www.php.net/downloads.php\">downloads page</a>,\\nWindows source and binaries can be found on <a href=\"https://windows.php.net/download/\">windows.php.net/download/</a>.\\nThe list of changes is recorded in the <a href=\"https://www.php.net/ChangeLog-8.php#8.3.15\">ChangeLog</a>.\\n</p>    </div>\\n  \\n  </div>\\n</article><article class=\"newsentry\">\\n  <header class=\"title\">\\n    <time datetime=\"2024-12-19T15:47:10+00:00\">19 Dec 2024</time>\\n    <h2 class=\"newstitle\">\\n      <a href=\"https://www.php.net/archive/2024.php#2024-12-19-1\" id=\"2024-12-19-1\">PHP 8.2.27 Released!</a>\\n    </h2>\\n  </header>\\n  <div class=\"newscontent\">\\n    <div>\\n      <p>The PHP development team announces the immediate availability of PHP 8.2.27. This is a bug fix release.</p>\\n      <p>All PHP 8.2 users are encouraged to upgrade to this version.</p>\\n      <p>For source downloads of PHP 8.2.27 please visit our <a href=\"https://www.php.net/downloads.php\">downloads page</a>,\\n        Windows source and binaries can be found on <a href=\"https://windows.php.net/download/\">windows.php.net/download/</a>.\\n        The list of changes is recorded in the <a href=\"https://www.php.net/ChangeLog-8.php#8.2.27\">ChangeLog</a>.\\n      </p>\\n      <p>Please note, this is the last bug-fix release for the 8.2.x series. Security fix support will continue until 31 Dec 2026.\\n        For more information, please check our <a href=\"https://www.php.net/supported-versions\">Supported Versions</a> page.\\n      </p>\\n    </div>\\n  \\n  </div>\\n</article><article class=\"newsentry\">\\n  <header class=\"title\">\\n    <time datetime=\"2024-11-21T06:55:34+00:00\">21 Nov 2024</time>\\n    <h2 class=\"newstitle\">\\n      <a href=\"https://www.php.net/archive/2024.php#2024-11-21-4\" id=\"2024-11-21-4\">PHP 8.4.1 Released!</a>\\n    </h2>\\n  </header>\\n  <div class=\"newscontent\">\\n    <div>\\n      <p>The PHP development team announces the immediate availability of PHP 8.4.1. This release marks the latest minor release of the PHP language.</p>\\n      <p>PHP 8.4 comes with numerous improvements and new features such as:</p>\\n      <ul>\\n        <li><a href=\"https://www.php.net/manual/en/migration84.new-features.php#migration84.new-features.core.property-hooks\">Property Hooks</a></li>\\n        <li><a href=\"https://www.php.net/manual/en/migration84.new-features.php#migration84.new-features.core.asymmetric-property-visibility\">Asymmetric Property Visibility</a></li>\\n        <li><a href=\"https://www.php.net/manual/en/migration84.new-features.php#migration84.new-features.core.lazy-objects\">Lazy Objects</a></li>\\n        <li><a href=\"https://www.php.net/manual/en/migration84.new-features.php#migration84.new-features.pdo\">PDO driver-specific subclasses</a></li>\\n        <li><a href=\"https://www.php.net/manual/en/migration84.new-classes.php#migration84.new-classes.bcmath\">BCMath object type</a></li>\\n        <li>And much much more...</li>\\n      </ul>\\n      <p>\\n        For source downloads of PHP 8.4.1 please visit our <a href=\"https://www.php.net/downloads.php\">downloads page</a>,\\n        Windows source and binaries can be found on <a href=\"https://windows.php.net/download/\">windows.php.net/download/</a>.\\n        The list of changes is recorded in the <a href=\"https://www.php.net/ChangeLog-8.php#8.4.1\">ChangeLog</a>.\\n      </p>\\n      <p>\\n        The <a href=\"https://php.net/manual/en/migration84.php\">migration guide</a> is available in the PHP Manual.\\n        Please consult it for the detailed list of new features and backward incompatible changes.\\n      </p>\\n      <p>Kudos to all the contributors and supporters!</p>\\n    </div>\\n  \\n  </div>\\n</article><article class=\"newsentry\">\\n  <header class=\"title\">\\n    <time datetime=\"2024-11-21T06:23:55+00:00\">21 Nov 2024</time>\\n    <h2 class=\"newstitle\">\\n      <a href=\"https://www.php.net/archive/2024.php#2024-11-21-3\" id=\"2024-11-21-3\">PHP 8.1.31 Released!</a>\\n    </h2>\\n  </header>\\n  <div class=\"newscontent\">\\n    <div><p>The PHP development team announces the immediate availability of PHP 8.1.31. This is a security release.</p>\\n\\n<p>All PHP 8.1 users are encouraged to upgrade to this version.</p>\\n\\n<p>For source downloads of PHP 8.1.31 please visit our <a href=\"https://www.php.net/downloads.php\">downloads page</a>,\\nWindows source and binaries can be found on <a href=\"https://windows.php.net/download/\">windows.php.net/download/</a>.\\nThe list of changes is recorded in the <a href=\"https://www.php.net/ChangeLog-8.php#8.1.31\">ChangeLog</a>.\\n</p>    </div>\\n  \\n  </div>\\n</article><article class=\"newsentry\">\\n  <header class=\"title\">\\n    <time datetime=\"2024-11-21T04:17:35+00:00\">21 Nov 2024</time>\\n    <h2 class=\"newstitle\">\\n      <a href=\"https://www.php.net/archive/2024.php#2024-11-21-2\" id=\"2024-11-21-2\">PHP 8.3.14 Released!</a>\\n    </h2>\\n  </header>\\n  <div class=\"newscontent\">\\n    <div><p>The PHP development team announces the immediate availability of PHP 8.3.14. This is a security release.</p>\\n\\n<p>All PHP 8.3 users are encouraged to upgrade to this version.</p>\\n\\n<p>For source downloads of PHP 8.3.14 please visit our <a href=\"https://www.php.net/downloads.php\">downloads page</a>,\\nWindows source and binaries can be found on <a href=\"https://windows.php.net/download/\">windows.php.net/download/</a>.\\nThe list of changes is recorded in the <a href=\"https://www.php.net/ChangeLog-8.php#8.3.14\">ChangeLog</a>.\\n</p>    </div>\\n  \\n  </div>\\n</article><article class=\"newsentry\">\\n  <header class=\"title\">\\n    <time datetime=\"2024-11-21T03:50:54+00:00\">21 Nov 2024</time>\\n    <h2 class=\"newstitle\">\\n      <a href=\"https://www.php.net/archive/2024.php#2024-11-21-1\" id=\"2024-11-21-1\">PHP 8.2.26 Released!</a>\\n    </h2>\\n  </header>\\n  <div class=\"newscontent\">\\n    <div><p>The PHP development team announces the immediate availability of PHP 8.2.26. This is a security release.</p>\\n\\n<p>All PHP 8.2 users are encouraged to upgrade to this version.</p>\\n\\n<p>For source downloads of PHP 8.2.26 please visit our <a href=\"https://www.php.net/downloads.php\">downloads page</a>,\\nWindows source and binaries can be found on <a href=\"https://windows.php.net/download/\">windows.php.net/download/</a>.\\nThe list of changes is recorded in the <a href=\"https://www.php.net/ChangeLog-8.php#8.2.26\">ChangeLog</a>.\\n</p>    </div>\\n  \\n  </div>\\n</article><article class=\"newsentry\">\\n  <header class=\"title\">\\n    <time datetime=\"2024-11-07T18:53:19+00:00\">07 Nov 2024</time>\\n    <h2 class=\"newstitle\">\\n      <a href=\"https://www.php.net/archive/2024.php#2024-11-07-1\" id=\"2024-11-07-1\">PHP 8.4.0 RC4 available for testing</a>\\n    </h2>\\n  </header>\\n  <div class=\"newscontent\">\\n    <div>\\n      <p>\\n        The PHP team is pleased to announce the release of PHP 8.4.0, RC4.\\n        This is the fourth release candidate, continuing the PHP 8.4 release cycle,\\n        the rough outline of which is specified in the\\n        <a href=\"https://wiki.php.net/todo/php84\">PHP Wiki</a>.\\n       </p>\\n       <p>\\n         For source downloads of PHP 8.4.0, RC4 please visit the\\n         <a href=\"https://downloads.php.net/~calvinb\">download page</a>.\\n       </p>\\n       <p>\\n         Please carefully test this version and report any issues found in the\\n         <a href=\"https://github.com/php/php-src/issues\">bug reporting system</a>.\\n       </p>\\n       <p><b>Please DO NOT use this version in production, it is an early test version.</b></p>\\n       <p>\\n         For more information on the new features and other changes, you can read the\\n         <a href=\"https://github.com/php/php-src/blob/php-8.4.0RC4/NEWS\">NEWS</a> file\\n         or the <a href=\"https://github.com/php/php-src/blob/php-8.4.0RC4/UPGRADING\">UPGRADING</a>\\n         file for a complete list of upgrading notes. These files can also be\\n         found in the release archive.\\n       </p>\\n       <p>\\n         The next release will be the production-ready, general availability\\n         release, planned for 21 November 2024.\\n       </p>\\n       <p>\\n         The signatures for the release can be found in\\n         <a href=\"https://gist.github.com/NattyNarwhal/6a107fe3b862ac3e2cf03b013e151eba\">the manifest</a>\\n         or on <a href=\"https://qa.php.net/\">the QA site</a>.\\n       </p>\\n       <p>Thank you for helping us make PHP better.</p>\\n    </div>\\n  \\n  </div>\\n</article><article class=\"newsentry\">\\n  <header class=\"title\">\\n    <time datetime=\"2024-10-24T13:22:16+00:00\">24 Oct 2024</time>\\n    <h2 class=\"newstitle\">\\n      <a href=\"https://www.php.net/archive/2024.php#2024-10-24-3\" id=\"2024-10-24-3\">PHP 8.4.0 RC3 available for testing</a>\\n    </h2>\\n  </header>\\n  <div class=\"newscontent\">\\n    <div>\\n      <p>\\n         The PHP team is pleased to announce the release of PHP 8.4.0, RC3.\\n         This is the third release candidate, continuing the PHP 8.4 release cycle,\\n         the rough outline of which is specified in the\\n         <a href=\"https://wiki.php.net/todo/php84\">PHP Wiki</a>.\\n       </p>\\n       <p>\\n         For source downloads of PHP 8.4.0, RC3 please visit the\\n         <a href=\"https://downloads.php.net/~saki\">download page</a>.\\n       </p>\\n       <p>\\n         Please carefully test this version and report any issues found in the\\n         <a href=\"https://github.com/php/php-src/issues\">bug reporting system</a>.\\n       </p>\\n       <p><b>Please DO NOT use this version in production, it is an early test version.</b></p>\\n       <p>\\n         For more information on the new features and other changes, you can read the\\n         <a href=\"https://github.com/php/php-src/blob/php-8.4.0RC3/NEWS\">NEWS</a> file\\n         or the <a href=\"https://github.com/php/php-src/blob/php-8.4.0RC3/UPGRADING\">UPGRADING</a>\\n         file for a complete list of upgrading notes. These files can also be\\n         found in the release archive.\\n       </p>\\n       <p>\\n         The next release will be RC 4, planned for 07 November 2024.\\n       </p>\\n       <p>\\n         The signatures for the release can be found in\\n         <a href=\"https://gist.github.com/SakiTakamachi/3648bbdbfeadefb8e40b4ad9592d3b6a\">the manifest</a>\\n         or on <a href=\"https://qa.php.net/\">the QA site</a>.\\n       </p>\\n       <p>Thank you for helping us make PHP better.</p>\\n    </div>\\n  \\n  </div>\\n</article><article class=\"newsentry\">\\n  <header class=\"title\">\\n    <time datetime=\"2024-10-24T12:54:49+00:00\">24 Oct 2024</time>\\n    <h2 class=\"newstitle\">\\n      <a href=\"https://www.php.net/archive/2024.php#2024-10-24-2\" id=\"2024-10-24-2\">PHP 8.2.25 Released!</a>\\n    </h2>\\n  </header>\\n  <div class=\"newscontent\">\\n    <div>\\n      <p>The PHP development team announces the immediate availability of PHP 8.2.25. This is a bug fix release.</p>\\n      <p>All PHP 8.2 users are encouraged to upgrade to this version.</p>\\n      <p>For source downloads of PHP 8.2.25 please visit our <a href=\"https://www.php.net/downloads.php\">downloads page</a>,\\n      Windows source and binaries can be found on <a href=\"https://windows.php.net/download/\">windows.php.net/download/</a>.\\n      The list of changes is recorded in the <a href=\"https://www.php.net/ChangeLog-8.php#8.2.25\">ChangeLog</a>.\\n      </p>\\n    </div>\\n  \\n  </div>\\n</article><article class=\"newsentry\">\\n  <header class=\"title\">\\n    <time datetime=\"2024-10-24T12:05:52+00:00\">24 Oct 2024</time>\\n    <h2 class=\"newstitle\">\\n      <a href=\"https://www.php.net/archive/2024.php#2024-10-24-1\" id=\"2024-10-24-1\">PHP 8.3.13 Released!</a>\\n    </h2>\\n  </header>\\n  <div class=\"newscontent\">\\n    <div><p>The PHP development team announces the immediate availability of PHP 8.3.13. This is a bug fix release.</p>\\n\\n<p>All PHP 8.3 users are encouraged to upgrade to this version.</p>\\n\\n<p>For source downloads of PHP 8.3.13 please visit our <a href=\"https://www.php.net/downloads.php\">downloads page</a>,\\nWindows source and binaries can be found on <a href=\"https://windows.php.net/download/\">windows.php.net/download/</a>.\\nThe list of changes is recorded in the <a href=\"https://www.php.net/ChangeLog-8.php#8.3.13\">ChangeLog</a>.\\n</p>    </div>\\n  \\n  </div>\\n</article><article class=\"newsentry\">\\n  <header class=\"title\">\\n    <time datetime=\"2024-10-10T14:04:23+00:00\">10 Oct 2024</time>\\n    <h2 class=\"newstitle\">\\n      <a href=\"https://www.php.net/archive/2024.php#2024-10-10-1\" id=\"2024-10-10-1\">PHP 8.4.0 RC2 available for testing</a>\\n    </h2>\\n  </header>\\n  <div class=\"newscontent\">\\n    <div>\\n      <p>\\n         The PHP team is pleased to announce the release of PHP 8.4.0, RC2.\\n         This is the second release candidate, continuing the PHP 8.4 release cycle,\\n         the rough outline of which is specified in the\\n         <a href=\"https://wiki.php.net/todo/php84\">PHP Wiki</a>.\\n       </p>\\n       <p>\\n         For source downloads of PHP 8.4.0, RC2 please visit the\\n         <a href=\"https://downloads.php.net/~calvinb\">download page</a>.\\n       </p>\\n       <p>\\n         Please carefully test this version and report any issues found in the\\n         <a href=\"https://github.com/php/php-src/issues\">bug reporting system</a>.\\n       </p>\\n       <p><b>Please DO NOT use this version in production, it is an early test version.</b></p>\\n       <p>\\n         For more information on the new features and other changes, you can read the\\n         <a href=\"https://github.com/php/php-src/blob/php-8.4.0RC2/NEWS\">NEWS</a> file\\n         or the <a href=\"https://github.com/php/php-src/blob/php-8.4.0RC2/UPGRADING\">UPGRADING</a>\\n         file for a complete list of upgrading notes. These files can also be\\n         found in the release archive.\\n       </p>\\n       <p>\\n         The next release will be RC 3, planned for 24 October 2024.\\n       </p>\\n       <p>\\n         The signatures for the release can be found in\\n         <a href=\"https://gist.github.com/NattyNarwhal/ea2bb82ce1e3fb67f385b2d6e2e085dc\">the manifest</a>\\n         or on <a href=\"https://qa.php.net/\">the QA site</a>.\\n       </p>\\n       <p>Thank you for helping us make PHP better.</p>\\n    </div>\\n  \\n  </div>\\n</article><article class=\"newsentry\">\\n  <header class=\"title\">\\n    <time datetime=\"2024-09-26T19:56:50+00:00\">26 Sep 2024</time>\\n    <h2 class=\"newstitle\">\\n      <a href=\"https://www.php.net/archive/2024.php#2024-09-26-4\" id=\"2024-09-26-4\">PHP 8.1.30 Released!</a>\\n    </h2>\\n  </header>\\n  <div class=\"newscontent\">\\n    <div><p>The PHP development team announces the immediate availability of PHP 8.1.30. This is a security release.</p>\\n\\n<p>All PHP 8.1 users are encouraged to upgrade to this version.</p>\\n\\n<p>For source downloads of PHP 8.1.30 please visit our <a href=\"https://www.php.net/downloads.php\">downloads page</a>,\\nWindows source and binaries can be found on <a href=\"https://windows.php.net/download/\">windows.php.net/download/</a>.\\nThe list of changes is recorded in the <a href=\"https://www.php.net/ChangeLog-8.php#8.1.30\">ChangeLog</a>.\\n</p>    </div>\\n  \\n  </div>\\n</article><article class=\"newsentry\">\\n  <header class=\"title\">\\n    <time datetime=\"2024-09-26T19:25:27+00:00\">26 Sep 2024</time>\\n    <h2 class=\"newstitle\">\\n      <a href=\"https://www.php.net/archive/2024.php#2024-09-26-3\" id=\"2024-09-26-3\">PHP 8.4.0 RC 1 now available for testing</a>\\n    </h2>\\n  </header>\\n  <div class=\"newscontent\">\\n    <div>\\n      <p>\\n         The PHP team is pleased to announce the release of PHP 8.4.0, RC 1.\\n         This is the first release candidate, continuing the PHP 8.4 release cycle,\\n         the rough outline of which is specified in the\\n         <a href=\"https://wiki.php.net/todo/php84\">PHP Wiki</a>.\\n       </p>\\n       <p>\\n         For source downloads of PHP 8.4.0, RC 1 please visit the\\n         <a href=\"https://downloads.php.net/~saki\">download page</a>.\\n       </p>\\n       <p>\\n         Please carefully test this version and report any issues found in the\\n         <a href=\"https://github.com/php/php-src/issues\">bug reporting system</a>.\\n       </p>\\n       <p><b>Please DO NOT use this version in production, it is an early test version.</b></p>\\n       <p>\\n         For more information on the new features and other changes, you can read the\\n         <a href=\"https://github.com/php/php-src/blob/php-8.4.0RC1/NEWS\">NEWS</a> file\\n         or the <a href=\"https://github.com/php/php-src/blob/php-8.4.0RC1/UPGRADING\">UPGRADING</a>\\n         file for a complete list of upgrading notes. These files can also be\\n         found in the release archive.\\n       </p>\\n       <p>\\n         The next release will be RC 2, planned for 10 October 2024.\\n       </p>\\n       <p>\\n         The signatures for the release can be found in\\n         <a href=\"https://gist.github.com/SakiTakamachi/198dac0514f8cba37ed3506526cd1fb2\">the manifest</a>\\n         or on <a href=\"https://qa.php.net/\">the QA site</a>.\\n       </p>\\n       <p>Thank you for helping us make PHP better.</p>\\n    </div>\\n  \\n  </div>\\n</article><article class=\"newsentry\">\\n  <header class=\"title\">\\n    <time datetime=\"2024-09-26T16:25:23+00:00\">26 Sep 2024</time>\\n    <h2 class=\"newstitle\">\\n      <a href=\"https://www.php.net/archive/2024.php#2024-09-26-2\" id=\"2024-09-26-2\">PHP 8.2.24 Released!</a>\\n    </h2>\\n  </header>\\n  <div class=\"newscontent\">\\n    <div><p>The PHP development team announces the immediate availability of PHP 8.2.24. This is a security release.</p>\\n\\n<p>All PHP 8.2 users are encouraged to upgrade to this version.</p>\\n\\n<p>For source downloads of PHP 8.2.24 please visit our <a href=\"https://www.php.net/downloads.php\">downloads page</a>,\\nWindows source and binaries can be found on <a href=\"https://windows.php.net/download/\">windows.php.net/download/</a>.\\nThe list of changes is recorded in the <a href=\"https://www.php.net/ChangeLog-8.php#8.2.24\">ChangeLog</a>.\\n</p>    </div>\\n  \\n  </div>\\n</article><article class=\"newsentry\">\\n  <header class=\"title\">\\n    <time datetime=\"2024-09-26T13:31:15+00:00\">26 Sep 2024</time>\\n    <h2 class=\"newstitle\">\\n      <a href=\"https://www.php.net/archive/2024.php#2024-09-26-1\" id=\"2024-09-26-1\">PHP 8.3.12 Released!</a>\\n    </h2>\\n  </header>\\n  <div class=\"newscontent\">\\n    <div><p>The PHP development team announces the immediate availability of PHP 8.3.12. This is a security release.</p>\\n\\n<p>All PHP 8.3 users are encouraged to upgrade to this version.</p>\\n\\n<p>For source downloads of PHP 8.3.12 please visit our <a href=\"https://www.php.net/downloads.php\">downloads page</a>,\\nWindows source and binaries can be found on <a href=\"https://windows.php.net/download/\">windows.php.net/download/</a>.\\nThe list of changes is recorded in the <a href=\"https://www.php.net/ChangeLog-8.php#8.3.12\">ChangeLog</a>.\\n</p>    </div>\\n  \\n  </div>\\n</article><article class=\"newsentry\">\\n  <header class=\"title\">\\n    <time datetime=\"2024-09-12T14:14:49+00:00\">12 Sep 2024</time>\\n    <h2 class=\"newstitle\">\\n      <a href=\"https://www.php.net/archive/2024.php#2024-09-12-1\" id=\"2024-09-12-1\">PHP 8.4.0 Beta 5 available for testing</a>\\n    </h2>\\n  </header>\\n  <div class=\"newscontent\">\\n    <div>\\n       <p>\\n         The PHP team is pleased to announce the release of PHP 8.4.0, Beta 5.\\n         This is the third beta release, continuing the PHP 8.4 release cycle,\\n         the rough outline of which is specified in the\\n         <a href=\"https://wiki.php.net/todo/php84\">PHP Wiki</a>.\\n       </p>\\n       <p>\\n         For source downloads of PHP 8.4.0, Beta 5 please visit the\\n         <a href=\"https://downloads.php.net/~calvinb\">download page</a>.\\n       </p>\\n       <p>\\n         Please carefully test this version and report any issues found in the\\n         <a href=\"https://github.com/php/php-src/issues\">bug reporting system</a>.\\n       </p>\\n       <p><b>Please DO NOT use this version in production, it is an early test version.</b></p>\\n       <p>\\n         For more information on the new features and other changes, you can read the\\n         <a href=\"https://github.com/php/php-src/blob/php-8.4.0beta5/NEWS\">NEWS</a> file\\n         or the <a href=\"https://github.com/php/php-src/blob/php-8.4.0beta5/UPGRADING\">UPGRADING</a>\\n         file for a complete list of upgrading notes. These files can also be\\n         found in the release archive.\\n       </p>\\n       <p>\\n         The next release will be RC 1, planned for 26 September 2024.\\n       </p>\\n       <p>\\n         The signatures for the release can be found in\\n         <a href=\"https://gist.github.com/NattyNarwhal/2dc0c8a3f7bf63ec5143b4bf703ee626\">the manifest</a>\\n         or on <a href=\"https://qa.php.net/\">the QA site</a>.\\n       </p>\\n       <p>Thank you for helping us make PHP better.</p>\\n    </div>\\n  \\n  </div>\\n</article><article class=\"newsentry\">\\n  <header class=\"title\">\\n    <time datetime=\"2024-08-29T21:40:58+00:00\">29 Aug 2024</time>\\n    <h2 class=\"newstitle\">\\n      <a href=\"https://www.php.net/archive/2024.php#2024-08-29-3\" id=\"2024-08-29-3\">PHP 8.3.11 Released!</a>\\n    </h2>\\n  </header>\\n  <div class=\"newscontent\">\\n    <div><p>The PHP development team announces the immediate availability of PHP 8.3.11. This is a bug fix release.</p>\\n\\n<p>All PHP 8.3 users are encouraged to upgrade to this version.</p>\\n\\n<p>For source downloads of PHP 8.3.11 please visit our <a href=\"https://www.php.net/downloads.php\">downloads page</a>,\\nWindows source and binaries can be found on <a href=\"https://windows.php.net/download/\">windows.php.net/download/</a>.\\nThe list of changes is recorded in the <a href=\"https://www.php.net/ChangeLog-8.php#8.3.11\">ChangeLog</a>.\\n</p>    </div>\\n  \\n  </div>\\n</article><article class=\"newsentry\">\\n  <header class=\"title\">\\n    <time datetime=\"2024-08-29T18:15:12+00:00\">29 Aug 2024</time>\\n    <h2 class=\"newstitle\">\\n      <a href=\"https://www.php.net/archive/2024.php#2024-08-29-2\" id=\"2024-08-29-2\">PHP 8.4.0 Beta 4 now available for testing</a>\\n    </h2>\\n  </header>\\n  <div class=\"newscontent\">\\n    <div>\\n      <p>\\n         The PHP team is pleased to announce the release of PHP 8.4.0, Beta 4.\\n         This is the second beta release, continuing the PHP 8.4 release cycle,\\n         the rough outline of which is specified in the\\n         <a href=\"https://wiki.php.net/todo/php84\">PHP Wiki</a>.\\n       </p>\\n       <p>\\n         For source downloads of PHP 8.4.0, Beta 4 please visit the\\n         <a href=\"https://downloads.php.net/~saki\">download page</a>.\\n       </p>\\n       <p>\\n         Please carefully test this version and report any issues found in the\\n         <a href=\"https://github.com/php/php-src/issues\">bug reporting system</a>.\\n       </p>\\n       <p><b>Please DO NOT use this version in production, it is an early test version.</b></p>\\n       <p>\\n         For more information on the new features and other changes, you can read the\\n         <a href=\"https://github.com/php/php-src/blob/php-8.4.0beta4/NEWS\">NEWS</a> file\\n         or the <a href=\"https://github.com/php/php-src/blob/php-8.4.0beta4/UPGRADING\">UPGRADING</a>\\n         file for a complete list of upgrading notes. These files can also be\\n         found in the release archive.\\n       </p>\\n       <p>\\n         The next release will be Beta 5, planned for 12 September 2024.\\n       </p>\\n       <p>\\n         The signatures for the release can be found in\\n         <a href=\"https://gist.github.com/SakiTakamachi/7132a67e0cdc1e792fa1e88f1726d5cc\">the manifest</a>\\n         or on <a href=\"https://qa.php.net/\">the QA site</a>.\\n       </p>\\n       <p>Thank you for helping us make PHP better.</p>\\n    </div>\\n  \\n  </div>\\n</article><article class=\"newsentry\">\\n  <header class=\"title\">\\n    <time datetime=\"2024-08-29T15:58:02+00:00\">29 Aug 2024</time>\\n    <h2 class=\"newstitle\">\\n      <a href=\"https://www.php.net/archive/2024.php#2024-08-29-1\" id=\"2024-08-29-1\">PHP 8.2.23 Released!</a>\\n    </h2>\\n  </header>\\n  <div class=\"newscontent\">\\n    <div>\\n      <p>The PHP development team announces the immediate availability of PHP 8.2.23. This is a bug fix release.</p>\\n      <p>All PHP 8.2 users are encouraged to upgrade to this version.</p>\\n      <p>For source downloads of PHP 8.2.23 please visit our <a href=\"https://www.php.net/downloads.php\">downloads page</a>,\\n        Windows source and binaries can be found on <a href=\"https://windows.php.net/download/\">windows.php.net/download/</a>.\\n        The list of changes is recorded in the <a href=\"https://www.php.net/ChangeLog-8.php#8.2.23\">ChangeLog</a>.\\n      </p>\\n    </div>\\n  \\n  </div>\\n</article><article class=\"newsentry\">\\n  <header class=\"title\">\\n    <time datetime=\"2024-08-15T13:45:25+00:00\">15 Aug 2024</time>\\n    <h2 class=\"newstitle\">\\n      <a href=\"https://www.php.net/archive/2024.php#2024-08-15-1\" id=\"2024-08-15-1\">PHP 8.4.0 Beta 3 now available for testing</a>\\n    </h2>\\n  </header>\\n  <div class=\"newscontent\">\\n    <div>\\n      <p>\\n         The PHP team is pleased to announce the release of PHP 8.4.0, Beta 3.\\n         This is the first beta release, continuing the PHP 8.4 release cycle,\\n         the rough outline of which is specified in the\\n         <a href=\"https://wiki.php.net/todo/php84\">PHP Wiki</a>.\\n       </p>\\n       <p>\\n         For source downloads of PHP 8.4.0, Beta 3 please visit the\\n         <a href=\"https://downloads.php.net/~calvinb\">download page</a>.\\n       </p>\\n       <p>\\n         Please carefully test this version and report any issues found in the\\n         <a href=\"https://github.com/php/php-src/issues\">bug reporting system</a>.\\n       </p>\\n       <p><b>Please DO NOT use this version in production, it is an early test version.</b></p>\\n       <p>\\n         For more information on the new features and other changes, you can read the\\n         <a href=\"https://github.com/php/php-src/blob/php-8.4.0beta3/NEWS\">NEWS</a> file\\n         or the <a href=\"https://github.com/php/php-src/blob/php-8.4.0beta3/UPGRADING\">UPGRADING</a>\\n         file for a complete list of upgrading notes. These files can also be\\n         found in the release archive.\\n       </p>\\n       <p>\\n         The next release will be Beta 4, planned for 29 August 2024.\\n       </p>\\n       <p>\\n         The signatures for the release can be found in\\n         <a href=\"https://gist.github.com/NattyNarwhal/fdd2de9d3b165143d376679258811c15\">the manifest</a>\\n         or on <a href=\"https://qa.php.net/\">the QA site</a>.\\n       </p>\\n       <p>Thank you for helping us make PHP better.</p>\\n    </div>\\n  \\n  </div>\\n</article><article class=\"newsentry\">\\n  <header class=\"title\">\\n    <time datetime=\"2024-08-01T23:21:43+00:00\">01 Aug 2024</time>\\n    <h2 class=\"newstitle\">\\n      <a href=\"https://www.php.net/archive/2024.php#2024-08-01-3\" id=\"2024-08-01-3\">PHP 8.4.0 Alpha 4 available for testing</a>\\n    </h2>\\n  </header>\\n  <div class=\"newscontent\">\\n    <div>\\n            <p>The PHP team is pleased to announce the second testing release of PHP 8.4.0, Alpha 4. This continues the PHP 8.4 release cycle, the rough outline of which is specified in the <a href=\"https://wiki.php.net/todo/php84\">PHP Wiki</a>.</p>\\n            <p>For source downloads of PHP 8.4.0 Alpha 4 please visit the <a href=\"https://downloads.php.net/~saki/\">download page</a>.</p>\\n            <p>Please carefully test this version and report any issues found in the <a href=\"https://github.com/php/php-src/issues\">bug reporting system</a>.</p>\\n            <p><strong>Please DO NOT use this version in production, it is an early test version.</strong></p>\\n            <p>For more information on the new features and other changes, you can read the <a href=\"https://github.com/php/php-src/blob/php-8.4.0alpha4/NEWS\">NEWS</a> file, or the <a href=\"https://github.com/php/php-src/blob/php-8.4.0alpha4/UPGRADING\">UPGRADING</a> file for a complete list of upgrading notes. These files can also be found in the release archive.</p>\\n            <p>The next release will be Beta 1, planned for 15 Aug 2024.</p>\\n            <p>The signatures for the release can be found in <a href=\"https://gist.github.com/SakiTakamachi/6ef16057e96947aa030408db244718a7\">the manifest</a> or on <a href=\"https://qa.php.net/\">the QA site</a>.</p>\\n            <p>Thank you for helping us make PHP better.</p>\\n        </div>\\n    \\n  </div>\\n</article><article class=\"newsentry\">\\n  <header class=\"title\">\\n    <time datetime=\"2024-08-01T16:12:06+00:00\">01 Aug 2024</time>\\n    <h2 class=\"newstitle\">\\n      <a href=\"https://www.php.net/archive/2024.php#2024-08-01-2\" id=\"2024-08-01-2\">PHP 8.2.22 Released!</a>\\n    </h2>\\n  </header>\\n  <div class=\"newscontent\">\\n    <div><p>The PHP development team announces the immediate availability of PHP 8.2.22. This is a bug fix release.</p>\\n\\n<p>All PHP 8.2 users are encouraged to upgrade to this version.</p>\\n\\n<p>For source downloads of PHP 8.2.22 please visit our <a href=\"https://www.php.net/downloads.php\">downloads page</a>,\\nWindows source and binaries can be found on <a href=\"https://windows.php.net/download/\">windows.php.net/download/</a>.\\nThe list of changes is recorded in the <a href=\"https://www.php.net/ChangeLog-8.php#8.2.22\">ChangeLog</a>.\\n</p>    </div>\\n  \\n  </div>\\n</article><article class=\"newsentry\">\\n  <header class=\"title\">\\n    <time datetime=\"2024-08-01T13:28:53+00:00\">01 Aug 2024</time>\\n    <h2 class=\"newstitle\">\\n      <a href=\"https://www.php.net/archive/2024.php#2024-08-01-1\" id=\"2024-08-01-1\">PHP 8.3.10 Released!</a>\\n    </h2>\\n  </header>\\n  <div class=\"newscontent\">\\n    <div><p>The PHP development team announces the immediate availability of PHP 8.3.10. This is a bug fix release.</p>\\n\\n<p>All PHP 8.3 users are encouraged to upgrade to this version.</p>\\n\\n<p>For source downloads of PHP 8.3.10 please visit our <a href=\"https://www.php.net/downloads.php\">downloads page</a>,\\nWindows source and binaries can be found on <a href=\"https://windows.php.net/download/\">windows.php.net/download/</a>.\\nThe list of changes is recorded in the <a href=\"https://www.php.net/ChangeLog-8.php#8.3.10\">ChangeLog</a>.\\n</p>    </div>\\n  \\n  </div>\\n</article><article class=\"newsentry\">\\n  <header class=\"title\">\\n    <time datetime=\"2024-07-18T13:30:46+00:00\">18 Jul 2024</time>\\n    <h2 class=\"newstitle\">\\n      <a href=\"https://www.php.net/archive/2024.php#2024-07-18-1\" id=\"2024-07-18-1\">PHP 8.4.0 Alpha 2 available for testing</a>\\n    </h2>\\n  </header>\\n  <div class=\"newscontent\">\\n    <div>\\n      <p>The PHP team is pleased to announce the second testing release of PHP 8.4.0, Alpha 2. This continues the PHP 8.4 release cycle, the rough outline of which is specified in the <a href=\"https://wiki.php.net/todo/php84\">PHP Wiki</a>.</p>\\n\\n      <p>For source downloads of PHP 8.4.0 Alpha 2 please visit the <a href=\"https://downloads.php.net/~calvinb/\">download page</a>.</p>\\n\\n      <p>Please carefully test this version and report any issues found in the <a href=\"https://github.com/php/php-src/issues\">bug reporting system</a>.</p>\\n\\n      <p><strong>Please DO NOT use this version in production, it is an early test version.</strong></p>\\n\\n      <p>For more information on the new features and other changes, you can read the <a href=\"https://github.com/php/php-src/blob/php-8.4.0alpha2/NEWS\">NEWS</a> file, or the <a href=\"https://github.com/php/php-src/blob/php-8.4.0alpha2/UPGRADING\">UPGRADING</a> file for a complete list of upgrading notes. These files can also be found in the release archive.</p>\\n\\n      <p>The next release will be Alpha 3, planned for 1 Aug 2024.</p>\\n\\n      <p>The signatures for the release can be found in <a href=\"https://gist.github.com/NattyNarwhal/74b55b8fcc6411ff8db05f87a6f41864\">the manifest</a> or on <a href=\"https://qa.php.net/\">the QA site</a>.</p>\\n\\n      <p>Thank you for helping us make PHP better.</p>\\n    </div>\\n  \\n  </div>\\n</article><p class=\"archive\"><a href=\"/archive/\">Older News Entries</a></p></div>    </section><!-- layout-content -->\\n    \\n<aside class=\"tips\">\\n    <div class=\"inner\">\\n    <div class=\\'panel\\'>\\n      <a href=\\'https://thephp.foundation/\\' class=\\'headline\\'>The PHP Foundation</a>\\n      <div class=\\'body\\'>\\n        <p>The PHP Foundation is a collective of people and organizations, united in the mission to ensure the long-term prosperity of the PHP language.\\n        <p><a href=\\'https://thephp.foundation/donate/\\' class=\\'btn btn-primary\\'>Donate</a></p>\\n      </div>\\n    </div>\\n<div class=\"panel\">  <a href=\"/conferences\" class=\"headline\" title=\"Upcoming conferences\">Upcoming conferences</a><div class=\"body\"><ul><li><a href=\\'https://www.php.net/conferences/index.php#2024-12-31-1\\' title=\\'Web Summer Camp 2025\\'>Web Summer Camp 2025</a></li><li><a href=\\'https://www.php.net/conferences/index.php#2024-12-13-1\\' title=\\'International PHP Conference Berlin 2025\\'>International PHP Conference Berlin 2025</a></li><li><a href=\\'https://www.php.net/conferences/index.php#2024-12-09-1\\' title=\\'ConFoo 2025\\'>ConFoo 2025</a></li><li><a href=\\'https://www.php.net/conferences/index.php#2024-12-03-1\\' title=\\'PHP Conference Nagoya 2025\\'>PHP Conference Nagoya 2025</a></li></ul></div></div>\\n    <p class=\\'panel\\'><a href=\\'/cal.php\\'>User Group Events</a></p>\\n    <p class=\\'panel\\'><a href=\\'/thanks.php\\'>Special Thanks</a></p>\\n    <div class=\\'panel social-media\\'>\\n      <span class=\\'headline\\'>Social media</span>\\n      <div class=\\'body\\'>\\n        <ul>\\n          <li>\\n            <a href=\"https://twitter.com/official_php\">\\n              <i class=\"icon-x-twitter\"></i>\\n              @official_php\\n            </a>\\n          </li>\\n          <li>\\n            <a href=\"https://fosstodon.org/@php\">\\n              <i class=\"icon-mastodon\"></i>\\n              @php@fosstodon.org\\n            </a>\\n          </li>\\n        </ul>\\n      </div>\\n    </div>\\n</div>\\n</aside>\\n\\n  </div><!-- layout -->\\n\\n  <footer>\\n    <div class=\"container footer-content\">\\n      <div class=\"row-fluid\">\\n      <ul class=\"footmenu\">\\n        <li><a href=\"/copyright.php\">Copyright &copy; 2001-2025 The PHP Group</a></li>\\n        <li><a href=\"/my.php\">My PHP.net</a></li>\\n        <li><a href=\"/contact.php\">Contact</a></li>\\n        <li><a href=\"/sites.php\">Other PHP.net sites</a></li>\\n        <li><a href=\"/privacy.php\">Privacy policy</a></li>\\n        <li><a href=\"https://github.com/php/web-php/blob/master/index.php\">View Source</a></li>\\n      </ul>\\n      </div>\\n    </div>\\n  </footer>\\n\\n    <div class=\\'elephpants\\'><div class=images></div></div>\\n<script src=\"/cached.php?t=1731172202&amp;f=/js/ext/jquery-3.6.0.min.js\"></script>\\n<script src=\"/cached.php?t=1723177202&amp;f=/js/ext/FuzzySearch.min.js\"></script>\\n<script src=\"/cached.php?t=1707321815&amp;f=/js/ext/mousetrap.min.js\"></script>\\n<script src=\"/cached.php?t=1707321815&amp;f=/js/ext/jquery.scrollTo.min.js\"></script>\\n<script src=\"/cached.php?t=1735564202&amp;f=/js/search.js\"></script>\\n<script src=\"/cached.php?t=1732876201&amp;f=/js/common.js\"></script>\\n<script type=\"module\" src=\"/cached.php?t=1733276402&amp;f=/js/interactive-examples.js\"></script>\\n\\n<a id=\"toTop\" href=\"javascript:;\"><span id=\"toTopHover\"></span><img width=\"40\" height=\"40\" alt=\"To Top\" src=\"/images/to-top@2x.png\"></a>\\n\\n<div id=\"search-modal__backdrop\" class=\"search-modal__backdrop\">\\n  <div\\n    role=\"dialog\"\\n    aria-label=\"Search modal\"\\n    id=\"search-modal\"\\n    class=\"search-modal\"\\n  >\\n    <div class=\"search-modal__header\">\\n      <div class=\"search-modal__form\">\\n        <div class=\"search-modal__input-icon\">\\n          <!-- https://feathericons.com search -->\\n          <svg xmlns=\"http://www.w3.org/2000/svg\"\\n            aria-hidden=\"true\"\\n            width=\"24\"\\n            viewBox=\"0 0 24 24\"\\n            fill=\"none\"\\n            stroke=\"currentColor\"\\n            stroke-width=\"2\"\\n            stroke-linecap=\"round\"\\n            stroke-linejoin=\"round\"\\n          >\\n            <circle cx=\"11\" cy=\"11\" r=\"8\"></circle>\\n            <line x1=\"21\" y1=\"21\" x2=\"16.65\" y2=\"16.65\"></line>\\n          </svg>\\n        </div>\\n        <input\\n          type=\"search\"\\n          id=\"search-modal__input\"\\n          class=\"search-modal__input\"\\n          placeholder=\"Search docs\"\\n          aria-label=\"Search docs\"\\n        />\\n      </div>\\n\\n      <button aria-label=\"Close\" class=\"search-modal__close\">\\n        <!-- https://pictogrammers.com/library/mdi/icon/close/ -->\\n        <svg\\n          xmlns=\"http://www.w3.org/2000/svg\"\\n          aria-hidden=\"true\"\\n          width=\"24\"\\n          viewBox=\"0 0 24 24\"\\n        >\\n          <path d=\"M19,6.41L17.59,5L12,10.59L6.41,5L5,6.41L10.59,12L5,17.59L6.41,19L12,13.41L17.59,19L19,17.59L13.41,12L19,6.41Z\"/>\\n        </svg>\\n      </button>\\n    </div>\\n    <div\\n      role=\"listbox\"\\n      aria-label=\"Search results\"\\n      id=\"search-modal__results\"\\n      class=\"search-modal__results\"\\n    ></div>\\n    <div class=\"search-modal__helper-text\">\\n      <div>\\n        <kbd>\\xe2\\x86\\x91</kbd> and <kbd>\\xe2\\x86\\x93</kbd> to navigate \\xe2\\x80\\xa2\\n        <kbd>Enter</kbd> to select \\xe2\\x80\\xa2\\n        <kbd>Esc</kbd> to close\\n      </div>\\n      <div>\\n        Press <kbd>Enter</kbd> without\\n        selection to search using Google\\n      </div>\\n    </div>\\n  </div>\\n</div>\\n\\n</body>\\n</html>\\n'\n"
     ]
    }
   ],
   "source": [
    "response = urllib.request.urlopen('http://php.net/')\n",
    "html = response.read()\n",
    "print (html)"
   ]
  },
  {
   "cell_type": "markdown",
   "metadata": {},
   "source": [
    "El resultado contiene muchas etiquetas HTML que deben limpiarse.  En este caso usaremos BeautifulSoup"
   ]
  },
  {
   "cell_type": "code",
   "execution_count": 45,
   "metadata": {},
   "outputs": [],
   "source": [
    "#pip install bs4"
   ]
  },
  {
   "cell_type": "code",
   "execution_count": 46,
   "metadata": {
    "scrolled": false,
    "tags": []
   },
   "outputs": [
    {
     "name": "stdout",
     "output_type": "stream",
     "text": [
      "PHP: Hypertext PreprocessorDownloadsDocumentationGet InvolvedHelpSearch docsGetting StartedIntroductionA simple tutorialLanguage ReferenceBasic syntaxTypesVariablesConstantsExpressionsOperatorsControl StructuresFunctionsClasses and ObjectsNamespacesEnumerationsErrorsExceptionsFibersGeneratorsAttributesReferences ExplainedPredefined VariablesPredefined ExceptionsPredefined Interfaces and ClassesPredefined AttributesContext options and parametersSupported Protocols and WrappersSecurityIntroductionGeneral considerationsInstalled as CGI binaryInstalled as an Apache moduleSession SecurityFilesystem SecurityDatabase SecurityError ReportingUser Submitted DataHiding PHPKeeping CurrentFeaturesHTTP authentication with PHPCookiesSessionsHandling file uploadsUsing remote filesConnection handlingPersistent Database ConnectionsCommand line usageGarbage CollectionDTrace Dynamic TracingFunction ReferenceAffecting PHP's BehaviourAudio Formats ManipulationAuthentication ServicesCommand Line Specific ExtensionsCompression and Archive ExtensionsCryptography ExtensionsDatabase ExtensionsDate and Time Related ExtensionsFile System Related ExtensionsHuman Language and Character Encoding SupportImage Processing and GenerationMail Related ExtensionsMathematical ExtensionsNon-Text MIME OutputProcess Control ExtensionsOther Basic ExtensionsOther ServicesSearch Engine ExtensionsServer Specific ExtensionsSession ExtensionsText ProcessingVariable and Type Related ExtensionsWeb ServicesWindows Only ExtensionsXML ManipulationGUI ExtensionsKeyboard Shortcuts?This helpjNext menu itemkPrevious menu itemg pPrevious man pageg nNext man pageGScroll to bottomg gScroll to topg hGoto homepageg sGoto search(current page)/Focus search boxApopular general-purpose scripting languagethat is especially suited to web development.Fast, flexible and pragmatic, PHP powers everything from your blog to the most popular websites in the world.What's new in 8.4Download8.4.2·Changelog·Upgrading8.3.15·Changelog·Upgrading8.2.27·Changelog·Upgrading8.1.31·Changelog·Upgrading19 Dec 2024PHP 8.4.2 Released!The PHP development team announces the immediate availability of PHP 8.4.2. This is a bug fix release.All PHP 8.4 users are encouraged to upgrade to this version.For source downloads of PHP 8.4.2 please visit ourdownloads page,\n",
      "Windows source and binaries can be found onwindows.php.net/download/.\n",
      "The list of changes is recorded in theChangeLog.19 Dec 2024PHP 8.3.15 Released!The PHP development team announces the immediate availability of PHP 8.3.15. This is a bug fix release.All PHP 8.3 users are encouraged to upgrade to this version.For source downloads of PHP 8.3.15 please visit ourdownloads page,\n",
      "Windows source and binaries can be found onwindows.php.net/download/.\n",
      "The list of changes is recorded in theChangeLog.19 Dec 2024PHP 8.2.27 Released!The PHP development team announces the immediate availability of PHP 8.2.27. This is a bug fix release.All PHP 8.2 users are encouraged to upgrade to this version.For source downloads of PHP 8.2.27 please visit ourdownloads page,\n",
      "        Windows source and binaries can be found onwindows.php.net/download/.\n",
      "        The list of changes is recorded in theChangeLog.Please note, this is the last bug-fix release for the 8.2.x series. Security fix support will continue until 31 Dec 2026.\n",
      "        For more information, please check ourSupported Versionspage.21 Nov 2024PHP 8.4.1 Released!The PHP development team announces the immediate availability of PHP 8.4.1. This release marks the latest minor release of the PHP language.PHP 8.4 comes with numerous improvements and new features such as:Property HooksAsymmetric Property VisibilityLazy ObjectsPDO driver-specific subclassesBCMath object typeAnd much much more...For source downloads of PHP 8.4.1 please visit ourdownloads page,\n",
      "        Windows source and binaries can be found onwindows.php.net/download/.\n",
      "        The list of changes is recorded in theChangeLog.Themigration guideis available in the PHP Manual.\n",
      "        Please consult it for the detailed list of new features and backward incompatible changes.Kudos to all the contributors and supporters!21 Nov 2024PHP 8.1.31 Released!The PHP development team announces the immediate availability of PHP 8.1.31. This is a security release.All PHP 8.1 users are encouraged to upgrade to this version.For source downloads of PHP 8.1.31 please visit ourdownloads page,\n",
      "Windows source and binaries can be found onwindows.php.net/download/.\n",
      "The list of changes is recorded in theChangeLog.21 Nov 2024PHP 8.3.14 Released!The PHP development team announces the immediate availability of PHP 8.3.14. This is a security release.All PHP 8.3 users are encouraged to upgrade to this version.For source downloads of PHP 8.3.14 please visit ourdownloads page,\n",
      "Windows source and binaries can be found onwindows.php.net/download/.\n",
      "The list of changes is recorded in theChangeLog.21 Nov 2024PHP 8.2.26 Released!The PHP development team announces the immediate availability of PHP 8.2.26. This is a security release.All PHP 8.2 users are encouraged to upgrade to this version.For source downloads of PHP 8.2.26 please visit ourdownloads page,\n",
      "Windows source and binaries can be found onwindows.php.net/download/.\n",
      "The list of changes is recorded in theChangeLog.07 Nov 2024PHP 8.4.0 RC4 available for testingThe PHP team is pleased to announce the release of PHP 8.4.0, RC4.\n",
      "        This is the fourth release candidate, continuing the PHP 8.4 release cycle,\n",
      "        the rough outline of which is specified in thePHP Wiki.For source downloads of PHP 8.4.0, RC4 please visit thedownload page.Please carefully test this version and report any issues found in thebug reporting system.Please DO NOT use this version in production, it is an early test version.For more information on the new features and other changes, you can read theNEWSfile\n",
      "         or theUPGRADINGfile for a complete list of upgrading notes. These files can also be\n",
      "         found in the release archive.The next release will be the production-ready, general availability\n",
      "         release, planned for 21 November 2024.The signatures for the release can be found inthe manifestor onthe QA site.Thank you for helping us make PHP better.24 Oct 2024PHP 8.4.0 RC3 available for testingThe PHP team is pleased to announce the release of PHP 8.4.0, RC3.\n",
      "         This is the third release candidate, continuing the PHP 8.4 release cycle,\n",
      "         the rough outline of which is specified in thePHP Wiki.For source downloads of PHP 8.4.0, RC3 please visit thedownload page.Please carefully test this version and report any issues found in thebug reporting system.Please DO NOT use this version in production, it is an early test version.For more information on the new features and other changes, you can read theNEWSfile\n",
      "         or theUPGRADINGfile for a complete list of upgrading notes. These files can also be\n",
      "         found in the release archive.The next release will be RC 4, planned for 07 November 2024.The signatures for the release can be found inthe manifestor onthe QA site.Thank you for helping us make PHP better.24 Oct 2024PHP 8.2.25 Released!The PHP development team announces the immediate availability of PHP 8.2.25. This is a bug fix release.All PHP 8.2 users are encouraged to upgrade to this version.For source downloads of PHP 8.2.25 please visit ourdownloads page,\n",
      "      Windows source and binaries can be found onwindows.php.net/download/.\n",
      "      The list of changes is recorded in theChangeLog.24 Oct 2024PHP 8.3.13 Released!The PHP development team announces the immediate availability of PHP 8.3.13. This is a bug fix release.All PHP 8.3 users are encouraged to upgrade to this version.For source downloads of PHP 8.3.13 please visit ourdownloads page,\n",
      "Windows source and binaries can be found onwindows.php.net/download/.\n",
      "The list of changes is recorded in theChangeLog.10 Oct 2024PHP 8.4.0 RC2 available for testingThe PHP team is pleased to announce the release of PHP 8.4.0, RC2.\n",
      "         This is the second release candidate, continuing the PHP 8.4 release cycle,\n",
      "         the rough outline of which is specified in thePHP Wiki.For source downloads of PHP 8.4.0, RC2 please visit thedownload page.Please carefully test this version and report any issues found in thebug reporting system.Please DO NOT use this version in production, it is an early test version.For more information on the new features and other changes, you can read theNEWSfile\n",
      "         or theUPGRADINGfile for a complete list of upgrading notes. These files can also be\n",
      "         found in the release archive.The next release will be RC 3, planned for 24 October 2024.The signatures for the release can be found inthe manifestor onthe QA site.Thank you for helping us make PHP better.26 Sep 2024PHP 8.1.30 Released!The PHP development team announces the immediate availability of PHP 8.1.30. This is a security release.All PHP 8.1 users are encouraged to upgrade to this version.For source downloads of PHP 8.1.30 please visit ourdownloads page,\n",
      "Windows source and binaries can be found onwindows.php.net/download/.\n",
      "The list of changes is recorded in theChangeLog.26 Sep 2024PHP 8.4.0 RC 1 now available for testingThe PHP team is pleased to announce the release of PHP 8.4.0, RC 1.\n",
      "         This is the first release candidate, continuing the PHP 8.4 release cycle,\n",
      "         the rough outline of which is specified in thePHP Wiki.For source downloads of PHP 8.4.0, RC 1 please visit thedownload page.Please carefully test this version and report any issues found in thebug reporting system.Please DO NOT use this version in production, it is an early test version.For more information on the new features and other changes, you can read theNEWSfile\n",
      "         or theUPGRADINGfile for a complete list of upgrading notes. These files can also be\n",
      "         found in the release archive.The next release will be RC 2, planned for 10 October 2024.The signatures for the release can be found inthe manifestor onthe QA site.Thank you for helping us make PHP better.26 Sep 2024PHP 8.2.24 Released!The PHP development team announces the immediate availability of PHP 8.2.24. This is a security release.All PHP 8.2 users are encouraged to upgrade to this version.For source downloads of PHP 8.2.24 please visit ourdownloads page,\n",
      "Windows source and binaries can be found onwindows.php.net/download/.\n",
      "The list of changes is recorded in theChangeLog.26 Sep 2024PHP 8.3.12 Released!The PHP development team announces the immediate availability of PHP 8.3.12. This is a security release.All PHP 8.3 users are encouraged to upgrade to this version.For source downloads of PHP 8.3.12 please visit ourdownloads page,\n",
      "Windows source and binaries can be found onwindows.php.net/download/.\n",
      "The list of changes is recorded in theChangeLog.12 Sep 2024PHP 8.4.0 Beta 5 available for testingThe PHP team is pleased to announce the release of PHP 8.4.0, Beta 5.\n",
      "         This is the third beta release, continuing the PHP 8.4 release cycle,\n",
      "         the rough outline of which is specified in thePHP Wiki.For source downloads of PHP 8.4.0, Beta 5 please visit thedownload page.Please carefully test this version and report any issues found in thebug reporting system.Please DO NOT use this version in production, it is an early test version.For more information on the new features and other changes, you can read theNEWSfile\n",
      "         or theUPGRADINGfile for a complete list of upgrading notes. These files can also be\n",
      "         found in the release archive.The next release will be RC 1, planned for 26 September 2024.The signatures for the release can be found inthe manifestor onthe QA site.Thank you for helping us make PHP better.29 Aug 2024PHP 8.3.11 Released!The PHP development team announces the immediate availability of PHP 8.3.11. This is a bug fix release.All PHP 8.3 users are encouraged to upgrade to this version.For source downloads of PHP 8.3.11 please visit ourdownloads page,\n",
      "Windows source and binaries can be found onwindows.php.net/download/.\n",
      "The list of changes is recorded in theChangeLog.29 Aug 2024PHP 8.4.0 Beta 4 now available for testingThe PHP team is pleased to announce the release of PHP 8.4.0, Beta 4.\n",
      "         This is the second beta release, continuing the PHP 8.4 release cycle,\n",
      "         the rough outline of which is specified in thePHP Wiki.For source downloads of PHP 8.4.0, Beta 4 please visit thedownload page.Please carefully test this version and report any issues found in thebug reporting system.Please DO NOT use this version in production, it is an early test version.For more information on the new features and other changes, you can read theNEWSfile\n",
      "         or theUPGRADINGfile for a complete list of upgrading notes. These files can also be\n",
      "         found in the release archive.The next release will be Beta 5, planned for 12 September 2024.The signatures for the release can be found inthe manifestor onthe QA site.Thank you for helping us make PHP better.29 Aug 2024PHP 8.2.23 Released!The PHP development team announces the immediate availability of PHP 8.2.23. This is a bug fix release.All PHP 8.2 users are encouraged to upgrade to this version.For source downloads of PHP 8.2.23 please visit ourdownloads page,\n",
      "        Windows source and binaries can be found onwindows.php.net/download/.\n",
      "        The list of changes is recorded in theChangeLog.15 Aug 2024PHP 8.4.0 Beta 3 now available for testingThe PHP team is pleased to announce the release of PHP 8.4.0, Beta 3.\n",
      "         This is the first beta release, continuing the PHP 8.4 release cycle,\n",
      "         the rough outline of which is specified in thePHP Wiki.For source downloads of PHP 8.4.0, Beta 3 please visit thedownload page.Please carefully test this version and report any issues found in thebug reporting system.Please DO NOT use this version in production, it is an early test version.For more information on the new features and other changes, you can read theNEWSfile\n",
      "         or theUPGRADINGfile for a complete list of upgrading notes. These files can also be\n",
      "         found in the release archive.The next release will be Beta 4, planned for 29 August 2024.The signatures for the release can be found inthe manifestor onthe QA site.Thank you for helping us make PHP better.01 Aug 2024PHP 8.4.0 Alpha 4 available for testingThe PHP team is pleased to announce the second testing release of PHP 8.4.0, Alpha 4. This continues the PHP 8.4 release cycle, the rough outline of which is specified in thePHP Wiki.For source downloads of PHP 8.4.0 Alpha 4 please visit thedownload page.Please carefully test this version and report any issues found in thebug reporting system.Please DO NOT use this version in production, it is an early test version.For more information on the new features and other changes, you can read theNEWSfile, or theUPGRADINGfile for a complete list of upgrading notes. These files can also be found in the release archive.The next release will be Beta 1, planned for 15 Aug 2024.The signatures for the release can be found inthe manifestor onthe QA site.Thank you for helping us make PHP better.01 Aug 2024PHP 8.2.22 Released!The PHP development team announces the immediate availability of PHP 8.2.22. This is a bug fix release.All PHP 8.2 users are encouraged to upgrade to this version.For source downloads of PHP 8.2.22 please visit ourdownloads page,\n",
      "Windows source and binaries can be found onwindows.php.net/download/.\n",
      "The list of changes is recorded in theChangeLog.01 Aug 2024PHP 8.3.10 Released!The PHP development team announces the immediate availability of PHP 8.3.10. This is a bug fix release.All PHP 8.3 users are encouraged to upgrade to this version.For source downloads of PHP 8.3.10 please visit ourdownloads page,\n",
      "Windows source and binaries can be found onwindows.php.net/download/.\n",
      "The list of changes is recorded in theChangeLog.18 Jul 2024PHP 8.4.0 Alpha 2 available for testingThe PHP team is pleased to announce the second testing release of PHP 8.4.0, Alpha 2. This continues the PHP 8.4 release cycle, the rough outline of which is specified in thePHP Wiki.For source downloads of PHP 8.4.0 Alpha 2 please visit thedownload page.Please carefully test this version and report any issues found in thebug reporting system.Please DO NOT use this version in production, it is an early test version.For more information on the new features and other changes, you can read theNEWSfile, or theUPGRADINGfile for a complete list of upgrading notes. These files can also be found in the release archive.The next release will be Alpha 3, planned for 1 Aug 2024.The signatures for the release can be found inthe manifestor onthe QA site.Thank you for helping us make PHP better.Older News EntriesThe PHP FoundationThe PHP Foundation is a collective of people and organizations, united in the mission to ensure the long-term prosperity of the PHP language.DonateUpcoming conferencesWeb Summer Camp 2025International PHP Conference Berlin 2025ConFoo 2025PHP Conference Nagoya 2025User Group EventsSpecial ThanksSocial media@official_php@php@fosstodon.orgCopyright © 2001-2025 The PHP GroupMy PHP.netContactOther PHP.net sitesPrivacy policyView Source↑and↓to navigate •Enterto select •Escto closePressEnterwithout\n",
      "        selection to search using Google\n"
     ]
    }
   ],
   "source": [
    "from bs4 import BeautifulSoup\n",
    "import urllib.request\n",
    "\n",
    "response = urllib.request.urlopen('http://php.net/')\n",
    "html = response.read()\n",
    "#soup = BeautifulSoup(html,\"html5lib\")\n",
    "soup = BeautifulSoup(html,\"html.parser\") \n",
    "\n",
    "text = soup.get_text(strip=True)\n",
    "\n",
    "print(text)"
   ]
  },
  {
   "cell_type": "markdown",
   "metadata": {},
   "source": [
    "Hemos eliminado a través de BeautifulSoup aquellas referencias html del texto.  Seguimos.  Extraemos los tokens del texto."
   ]
  },
  {
   "cell_type": "code",
   "execution_count": 47,
   "metadata": {},
   "outputs": [
    {
     "data": {
      "text/plain": [
       "['Hypertext',\n",
       " 'PreprocessorDownloadsDocumentationGet',\n",
       " 'InvolvedHelpSearch',\n",
       " 'docsGetting',\n",
       " 'StartedIntroductionA',\n",
       " 'simple',\n",
       " 'tutorialLanguage',\n",
       " 'ReferenceBasic',\n",
       " 'syntaxTypesVariablesConstantsExpressionsOperatorsControl',\n",
       " 'StructuresFunctionsClasses',\n",
       " 'and',\n",
       " 'ObjectsNamespacesEnumerationsErrorsExceptionsFibersGeneratorsAttributesReferences',\n",
       " 'ExplainedPredefined',\n",
       " 'VariablesPredefined',\n",
       " 'ExceptionsPredefined',\n",
       " 'Interfaces',\n",
       " 'and',\n",
       " 'ClassesPredefined',\n",
       " 'AttributesContext']"
      ]
     },
     "execution_count": 47,
     "metadata": {},
     "output_type": "execute_result"
    }
   ],
   "source": [
    "tokens = [t for t in text.split()]\n",
    "tokens [1:20]"
   ]
  },
  {
   "cell_type": "markdown",
   "metadata": {},
   "source": [
    "Contamos la frecuencia de palabras..."
   ]
  },
  {
   "cell_type": "code",
   "execution_count": 48,
   "metadata": {
    "scrolled": true,
    "tags": []
   },
   "outputs": [
    {
     "name": "stdout",
     "output_type": "stream",
     "text": [
      "PHP::1\n",
      "Hypertext:1\n",
      "PreprocessorDownloadsDocumentationGet:1\n",
      "InvolvedHelpSearch:1\n",
      "docsGetting:1\n",
      "StartedIntroductionA:1\n",
      "simple:1\n",
      "tutorialLanguage:1\n",
      "ReferenceBasic:1\n",
      "syntaxTypesVariablesConstantsExpressionsOperatorsControl:1\n",
      "StructuresFunctionsClasses:1\n",
      "and:48\n",
      "ObjectsNamespacesEnumerationsErrorsExceptionsFibersGeneratorsAttributesReferences:1\n",
      "ExplainedPredefined:1\n",
      "VariablesPredefined:1\n",
      "ExceptionsPredefined:1\n",
      "Interfaces:1\n",
      "ClassesPredefined:1\n",
      "AttributesContext:1\n",
      "options:1\n",
      "parametersSupported:1\n",
      "Protocols:1\n",
      "WrappersSecurityIntroductionGeneral:1\n",
      "considerationsInstalled:1\n",
      "as:2\n",
      "CGI:1\n",
      "binaryInstalled:1\n",
      "an:10\n",
      "Apache:1\n",
      "moduleSession:1\n",
      "SecurityFilesystem:1\n",
      "SecurityDatabase:1\n",
      "SecurityError:1\n",
      "ReportingUser:1\n",
      "Submitted:1\n",
      "DataHiding:1\n",
      "PHPKeeping:1\n",
      "CurrentFeaturesHTTP:1\n",
      "authentication:1\n",
      "with:2\n",
      "PHPCookiesSessionsHandling:1\n",
      "file:1\n",
      "uploadsUsing:1\n",
      "remote:1\n",
      "filesConnection:1\n",
      "handlingPersistent:1\n",
      "Database:1\n",
      "ConnectionsCommand:1\n",
      "line:1\n",
      "usageGarbage:1\n",
      "CollectionDTrace:1\n",
      "Dynamic:1\n",
      "TracingFunction:1\n",
      "ReferenceAffecting:1\n",
      "PHP's:1\n",
      "BehaviourAudio:1\n",
      "Formats:1\n",
      "ManipulationAuthentication:1\n",
      "ServicesCommand:1\n",
      "Line:1\n",
      "Specific:2\n",
      "ExtensionsCompression:1\n",
      "Archive:1\n",
      "ExtensionsCryptography:1\n",
      "ExtensionsDatabase:1\n",
      "ExtensionsDate:1\n",
      "Time:1\n",
      "Related:4\n",
      "ExtensionsFile:1\n",
      "System:1\n",
      "ExtensionsHuman:1\n",
      "Language:1\n",
      "Character:1\n",
      "Encoding:1\n",
      "SupportImage:1\n",
      "Processing:1\n",
      "GenerationMail:1\n",
      "ExtensionsMathematical:1\n",
      "ExtensionsNon-Text:1\n",
      "MIME:1\n",
      "OutputProcess:1\n",
      "Control:1\n",
      "ExtensionsOther:2\n",
      "Basic:1\n",
      "ServicesSearch:1\n",
      "Engine:1\n",
      "ExtensionsServer:1\n",
      "ExtensionsSession:1\n",
      "ExtensionsText:1\n",
      "ProcessingVariable:1\n",
      "Type:1\n",
      "ExtensionsWeb:1\n",
      "ServicesWindows:1\n",
      "Only:1\n",
      "ExtensionsXML:1\n",
      "ManipulationGUI:1\n",
      "ExtensionsKeyboard:1\n",
      "Shortcuts?This:1\n",
      "helpjNext:1\n",
      "menu:2\n",
      "itemkPrevious:1\n",
      "itemg:1\n",
      "pPrevious:1\n",
      "man:2\n",
      "pageg:1\n",
      "nNext:1\n",
      "pageGScroll:1\n",
      "to:46\n",
      "bottomg:1\n",
      "gScroll:1\n",
      "topg:1\n",
      "hGoto:1\n",
      "homepageg:1\n",
      "sGoto:1\n",
      "search(current:1\n",
      "page)/Focus:1\n",
      "search:2\n",
      "boxApopular:1\n",
      "general-purpose:1\n",
      "scripting:1\n",
      "languagethat:1\n",
      "is:68\n",
      "especially:1\n",
      "suited:1\n",
      "web:1\n",
      "development.Fast,:1\n",
      "flexible:1\n",
      "pragmatic,:1\n",
      "PHP:116\n",
      "powers:1\n",
      "everything:1\n",
      "from:1\n",
      "your:1\n",
      "blog:1\n",
      "the:90\n",
      "most:1\n",
      "popular:1\n",
      "websites:1\n",
      "in:56\n",
      "world.What's:1\n",
      "new:12\n",
      "8.4Download8.4.2·Changelog·Upgrading8.3.15·Changelog·Upgrading8.2.27·Changelog·Upgrading8.1.31·Changelog·Upgrading19:1\n",
      "Dec:4\n",
      "2024PHP:25\n",
      "8.4.2:2\n",
      "Released!The:16\n",
      "development:16\n",
      "team:25\n",
      "announces:16\n",
      "immediate:16\n",
      "availability:17\n",
      "of:88\n",
      "8.4.2.:1\n",
      "This:25\n",
      "a:25\n",
      "bug:9\n",
      "fix:10\n",
      "release.All:15\n",
      "8.4:11\n",
      "users:15\n",
      "are:15\n",
      "encouraged:15\n",
      "upgrade:15\n",
      "this:34\n",
      "version.For:24\n",
      "source:41\n",
      "downloads:25\n",
      "please:26\n",
      "visit:25\n",
      "ourdownloads:16\n",
      "page,:16\n",
      "Windows:16\n",
      "binaries:16\n",
      "can:43\n",
      "be:43\n",
      "found:43\n",
      "onwindows.php.net/download/.:16\n",
      "The:17\n",
      "list:26\n",
      "changes:16\n",
      "recorded:16\n",
      "theChangeLog.19:2\n",
      "8.3.15:2\n",
      "8.3.15.:1\n",
      "8.3:6\n",
      "8.2.27:2\n",
      "8.2.27.:1\n",
      "8.2:6\n",
      "theChangeLog.Please:1\n",
      "note,:1\n",
      "last:1\n",
      "bug-fix:1\n",
      "release:52\n",
      "for:47\n",
      "8.2.x:1\n",
      "series.:1\n",
      "Security:1\n",
      "support:1\n",
      "will:10\n",
      "continue:1\n",
      "until:1\n",
      "31:1\n",
      "2026.:1\n",
      "For:1\n",
      "more:10\n",
      "information,:1\n",
      "check:1\n",
      "ourSupported:1\n",
      "Versionspage.21:1\n",
      "Nov:5\n",
      "8.4.1:2\n",
      "8.4.1.:1\n",
      "marks:1\n",
      "latest:1\n",
      "minor:1\n",
      "language.PHP:1\n",
      "comes:1\n",
      "numerous:1\n",
      "improvements:1\n",
      "features:11\n",
      "such:1\n",
      "as:Property:1\n",
      "HooksAsymmetric:1\n",
      "Property:1\n",
      "VisibilityLazy:1\n",
      "ObjectsPDO:1\n",
      "driver-specific:1\n",
      "subclassesBCMath:1\n",
      "object:1\n",
      "typeAnd:1\n",
      "much:2\n",
      "more...For:1\n",
      "theChangeLog.Themigration:1\n",
      "guideis:1\n",
      "available:10\n",
      "Manual.:1\n",
      "Please:1\n",
      "consult:1\n",
      "it:10\n",
      "detailed:1\n",
      "backward:1\n",
      "incompatible:1\n",
      "changes.Kudos:1\n",
      "all:1\n",
      "contributors:1\n",
      "supporters!21:1\n",
      "8.1.31:2\n",
      "8.1.31.:1\n",
      "security:6\n",
      "8.1:2\n",
      "theChangeLog.21:2\n",
      "8.3.14:2\n",
      "8.3.14.:1\n",
      "8.2.26:2\n",
      "8.2.26.:1\n",
      "theChangeLog.07:1\n",
      "8.4.0:11\n",
      "RC4:2\n",
      "testingThe:9\n",
      "pleased:9\n",
      "announce:9\n",
      "8.4.0,:16\n",
      "RC4.:1\n",
      "fourth:1\n",
      "candidate,:4\n",
      "continuing:7\n",
      "cycle,:9\n",
      "rough:9\n",
      "outline:9\n",
      "which:9\n",
      "specified:9\n",
      "thePHP:9\n",
      "Wiki.For:9\n",
      "thedownload:9\n",
      "page.Please:9\n",
      "carefully:9\n",
      "test:18\n",
      "version:18\n",
      "report:9\n",
      "any:9\n",
      "issues:9\n",
      "thebug:9\n",
      "reporting:9\n",
      "system.Please:9\n",
      "DO:9\n",
      "NOT:9\n",
      "use:9\n",
      "production,:9\n",
      "early:9\n",
      "information:9\n",
      "on:9\n",
      "other:9\n",
      "changes,:9\n",
      "you:18\n",
      "read:9\n",
      "theNEWSfile:7\n",
      "or:9\n",
      "theUPGRADINGfile:9\n",
      "complete:9\n",
      "upgrading:9\n",
      "notes.:9\n",
      "These:9\n",
      "files:9\n",
      "also:9\n",
      "archive.The:9\n",
      "next:9\n",
      "production-ready,:1\n",
      "general:1\n",
      "release,:4\n",
      "planned:9\n",
      "21:1\n",
      "November:2\n",
      "2024.The:9\n",
      "signatures:9\n",
      "inthe:9\n",
      "manifestor:9\n",
      "onthe:9\n",
      "QA:9\n",
      "site.Thank:9\n",
      "helping:9\n",
      "us:9\n",
      "make:9\n",
      "better.24:2\n",
      "Oct:4\n",
      "RC3:2\n",
      "RC3.:1\n",
      "third:2\n",
      "RC:7\n",
      "4,:2\n",
      "07:1\n",
      "8.2.25:2\n",
      "8.2.25.:1\n",
      "theChangeLog.24:1\n",
      "8.3.13:2\n",
      "8.3.13.:1\n",
      "theChangeLog.10:1\n",
      "RC2:2\n",
      "RC2.:1\n",
      "second:4\n",
      "3,:2\n",
      "24:1\n",
      "October:2\n",
      "better.26:2\n",
      "Sep:5\n",
      "8.1.30:2\n",
      "8.1.30.:1\n",
      "theChangeLog.26:2\n",
      "1:3\n",
      "now:3\n",
      "1.:1\n",
      "first:2\n",
      "2,:1\n",
      "10:1\n",
      "8.2.24:2\n",
      "8.2.24.:1\n",
      "8.3.12:2\n",
      "8.3.12.:1\n",
      "theChangeLog.12:1\n",
      "Beta:12\n",
      "5:2\n",
      "5.:1\n",
      "beta:3\n",
      "1,:2\n",
      "26:1\n",
      "September:2\n",
      "better.29:2\n",
      "Aug:9\n",
      "8.3.11:2\n",
      "8.3.11.:1\n",
      "theChangeLog.29:1\n",
      "4:4\n",
      "4.:2\n",
      "5,:1\n",
      "12:1\n",
      "8.2.23:2\n",
      "8.2.23.:1\n",
      "theChangeLog.15:1\n",
      "3:2\n",
      "3.:1\n",
      "29:1\n",
      "August:1\n",
      "better.01:2\n",
      "Alpha:7\n",
      "testing:2\n",
      "continues:2\n",
      "theNEWSfile,:2\n",
      "15:1\n",
      "8.2.22:2\n",
      "8.2.22.:1\n",
      "theChangeLog.01:1\n",
      "8.3.10:2\n",
      "8.3.10.:1\n",
      "theChangeLog.18:1\n",
      "Jul:1\n",
      "2:2\n",
      "2.:1\n",
      "better.Older:1\n",
      "News:1\n",
      "EntriesThe:1\n",
      "FoundationThe:1\n",
      "Foundation:1\n",
      "collective:1\n",
      "people:1\n",
      "organizations,:1\n",
      "united:1\n",
      "mission:1\n",
      "ensure:1\n",
      "long-term:1\n",
      "prosperity:1\n",
      "language.DonateUpcoming:1\n",
      "conferencesWeb:1\n",
      "Summer:1\n",
      "Camp:1\n",
      "2025International:1\n",
      "Conference:2\n",
      "Berlin:1\n",
      "2025ConFoo:1\n",
      "2025PHP:1\n",
      "Nagoya:1\n",
      "2025User:1\n",
      "Group:1\n",
      "EventsSpecial:1\n",
      "ThanksSocial:1\n",
      "media@official_php@php@fosstodon.orgCopyright:1\n",
      "©:1\n",
      "2001-2025:1\n",
      "GroupMy:1\n",
      "PHP.netContactOther:1\n",
      "PHP.net:1\n",
      "sitesPrivacy:1\n",
      "policyView:1\n",
      "Source↑and↓to:1\n",
      "navigate:1\n",
      "•Enterto:1\n",
      "select:1\n",
      "•Escto:1\n",
      "closePressEnterwithout:1\n",
      "selection:1\n",
      "using:1\n",
      "Google:1\n"
     ]
    }
   ],
   "source": [
    "freq = nltk.FreqDist(tokens)\n",
    "\n",
    "for key,val in freq.items():\n",
    "    print (str(key) + ':' + str(val))"
   ]
  },
  {
   "cell_type": "markdown",
   "metadata": {},
   "source": [
    "¿Cuáles son los token más frecuentes?"
   ]
  },
  {
   "cell_type": "code",
   "execution_count": 49,
   "metadata": {},
   "outputs": [
    {
     "data": {
      "text/plain": [
       "<Axes: xlabel='Samples', ylabel='Counts'>"
      ]
     },
     "execution_count": 49,
     "metadata": {},
     "output_type": "execute_result"
    },
    {
     "data": {
      "image/png": "[encoded data removed]",
      "text/plain": [
       "<Figure size 640x480 with 1 Axes>"
      ]
     },
     "metadata": {},
     "output_type": "display_data"
    }
   ],
   "source": [
    "freq.plot(20, cumulative=False)"
   ]
  },
  {
   "cell_type": "markdown",
   "metadata": {},
   "source": [
    "Eliminamos StopWords"
   ]
  },
  {
   "cell_type": "code",
   "execution_count": 50,
   "metadata": {
    "scrolled": true,
    "tags": []
   },
   "outputs": [
    {
     "data": {
      "text/plain": [
       "['i',\n",
       " 'me',\n",
       " 'my',\n",
       " 'myself',\n",
       " 'we',\n",
       " 'our',\n",
       " 'ours',\n",
       " 'ourselves',\n",
       " 'you',\n",
       " \"you're\",\n",
       " \"you've\",\n",
       " \"you'll\",\n",
       " \"you'd\",\n",
       " 'your',\n",
       " 'yours',\n",
       " 'yourself',\n",
       " 'yourselves',\n",
       " 'he',\n",
       " 'him',\n",
       " 'his',\n",
       " 'himself',\n",
       " 'she',\n",
       " \"she's\",\n",
       " 'her',\n",
       " 'hers',\n",
       " 'herself',\n",
       " 'it',\n",
       " \"it's\",\n",
       " 'its',\n",
       " 'itself',\n",
       " 'they',\n",
       " 'them',\n",
       " 'their',\n",
       " 'theirs',\n",
       " 'themselves',\n",
       " 'what',\n",
       " 'which',\n",
       " 'who',\n",
       " 'whom',\n",
       " 'this',\n",
       " 'that',\n",
       " \"that'll\",\n",
       " 'these',\n",
       " 'those',\n",
       " 'am',\n",
       " 'is',\n",
       " 'are',\n",
       " 'was',\n",
       " 'were',\n",
       " 'be',\n",
       " 'been',\n",
       " 'being',\n",
       " 'have',\n",
       " 'has',\n",
       " 'had',\n",
       " 'having',\n",
       " 'do',\n",
       " 'does',\n",
       " 'did',\n",
       " 'doing',\n",
       " 'a',\n",
       " 'an',\n",
       " 'the',\n",
       " 'and',\n",
       " 'but',\n",
       " 'if',\n",
       " 'or',\n",
       " 'because',\n",
       " 'as',\n",
       " 'until',\n",
       " 'while',\n",
       " 'of',\n",
       " 'at',\n",
       " 'by',\n",
       " 'for',\n",
       " 'with',\n",
       " 'about',\n",
       " 'against',\n",
       " 'between',\n",
       " 'into',\n",
       " 'through',\n",
       " 'during',\n",
       " 'before',\n",
       " 'after',\n",
       " 'above',\n",
       " 'below',\n",
       " 'to',\n",
       " 'from',\n",
       " 'up',\n",
       " 'down',\n",
       " 'in',\n",
       " 'out',\n",
       " 'on',\n",
       " 'off',\n",
       " 'over',\n",
       " 'under',\n",
       " 'again',\n",
       " 'further',\n",
       " 'then',\n",
       " 'once',\n",
       " 'here',\n",
       " 'there',\n",
       " 'when',\n",
       " 'where',\n",
       " 'why',\n",
       " 'how',\n",
       " 'all',\n",
       " 'any',\n",
       " 'both',\n",
       " 'each',\n",
       " 'few',\n",
       " 'more',\n",
       " 'most',\n",
       " 'other',\n",
       " 'some',\n",
       " 'such',\n",
       " 'no',\n",
       " 'nor',\n",
       " 'not',\n",
       " 'only',\n",
       " 'own',\n",
       " 'same',\n",
       " 'so',\n",
       " 'than',\n",
       " 'too',\n",
       " 'very',\n",
       " 's',\n",
       " 't',\n",
       " 'can',\n",
       " 'will',\n",
       " 'just',\n",
       " 'don',\n",
       " \"don't\",\n",
       " 'should',\n",
       " \"should've\",\n",
       " 'now',\n",
       " 'd',\n",
       " 'll',\n",
       " 'm',\n",
       " 'o',\n",
       " 're',\n",
       " 've',\n",
       " 'y',\n",
       " 'ain',\n",
       " 'aren',\n",
       " \"aren't\",\n",
       " 'couldn',\n",
       " \"couldn't\",\n",
       " 'didn',\n",
       " \"didn't\",\n",
       " 'doesn',\n",
       " \"doesn't\",\n",
       " 'hadn',\n",
       " \"hadn't\",\n",
       " 'hasn',\n",
       " \"hasn't\",\n",
       " 'haven',\n",
       " \"haven't\",\n",
       " 'isn',\n",
       " \"isn't\",\n",
       " 'ma',\n",
       " 'mightn',\n",
       " \"mightn't\",\n",
       " 'mustn',\n",
       " \"mustn't\",\n",
       " 'needn',\n",
       " \"needn't\",\n",
       " 'shan',\n",
       " \"shan't\",\n",
       " 'shouldn',\n",
       " \"shouldn't\",\n",
       " 'wasn',\n",
       " \"wasn't\",\n",
       " 'weren',\n",
       " \"weren't\",\n",
       " 'won',\n",
       " \"won't\",\n",
       " 'wouldn',\n",
       " \"wouldn't\"]"
      ]
     },
     "execution_count": 50,
     "metadata": {},
     "output_type": "execute_result"
    }
   ],
   "source": [
    "from nltk.corpus import stopwords\n",
    "stopwords.words('english')"
   ]
  },
  {
   "cell_type": "code",
   "execution_count": 51,
   "metadata": {},
   "outputs": [
    {
     "data": {
      "text/plain": [
       "['de',\n",
       " 'la',\n",
       " 'que',\n",
       " 'el',\n",
       " 'en',\n",
       " 'y',\n",
       " 'a',\n",
       " 'los',\n",
       " 'del',\n",
       " 'se',\n",
       " 'las',\n",
       " 'por',\n",
       " 'un',\n",
       " 'para',\n",
       " 'con',\n",
       " 'no',\n",
       " 'una',\n",
       " 'su',\n",
       " 'al',\n",
       " 'lo',\n",
       " 'como',\n",
       " 'más',\n",
       " 'pero',\n",
       " 'sus',\n",
       " 'le',\n",
       " 'ya',\n",
       " 'o',\n",
       " 'este',\n",
       " 'sí',\n",
       " 'porque',\n",
       " 'esta',\n",
       " 'entre',\n",
       " 'cuando',\n",
       " 'muy',\n",
       " 'sin',\n",
       " 'sobre',\n",
       " 'también',\n",
       " 'me',\n",
       " 'hasta',\n",
       " 'hay',\n",
       " 'donde',\n",
       " 'quien',\n",
       " 'desde',\n",
       " 'todo',\n",
       " 'nos',\n",
       " 'durante',\n",
       " 'todos',\n",
       " 'uno',\n",
       " 'les',\n",
       " 'ni',\n",
       " 'contra',\n",
       " 'otros',\n",
       " 'ese',\n",
       " 'eso',\n",
       " 'ante',\n",
       " 'ellos',\n",
       " 'e',\n",
       " 'esto',\n",
       " 'mí',\n",
       " 'antes',\n",
       " 'algunos',\n",
       " 'qué',\n",
       " 'unos',\n",
       " 'yo',\n",
       " 'otro',\n",
       " 'otras',\n",
       " 'otra',\n",
       " 'él',\n",
       " 'tanto',\n",
       " 'esa',\n",
       " 'estos',\n",
       " 'mucho',\n",
       " 'quienes',\n",
       " 'nada',\n",
       " 'muchos',\n",
       " 'cual',\n",
       " 'poco',\n",
       " 'ella',\n",
       " 'estar',\n",
       " 'estas',\n",
       " 'algunas',\n",
       " 'algo',\n",
       " 'nosotros',\n",
       " 'mi',\n",
       " 'mis',\n",
       " 'tú',\n",
       " 'te',\n",
       " 'ti',\n",
       " 'tu',\n",
       " 'tus',\n",
       " 'ellas',\n",
       " 'nosotras',\n",
       " 'vosotros',\n",
       " 'vosotras',\n",
       " 'os',\n",
       " 'mío',\n",
       " 'mía',\n",
       " 'míos',\n",
       " 'mías',\n",
       " 'tuyo',\n",
       " 'tuya',\n",
       " 'tuyos',\n",
       " 'tuyas',\n",
       " 'suyo',\n",
       " 'suya',\n",
       " 'suyos',\n",
       " 'suyas',\n",
       " 'nuestro',\n",
       " 'nuestra',\n",
       " 'nuestros',\n",
       " 'nuestras',\n",
       " 'vuestro',\n",
       " 'vuestra',\n",
       " 'vuestros',\n",
       " 'vuestras',\n",
       " 'esos',\n",
       " 'esas',\n",
       " 'estoy',\n",
       " 'estás',\n",
       " 'está',\n",
       " 'estamos',\n",
       " 'estáis',\n",
       " 'están',\n",
       " 'esté',\n",
       " 'estés',\n",
       " 'estemos',\n",
       " 'estéis',\n",
       " 'estén',\n",
       " 'estaré',\n",
       " 'estarás',\n",
       " 'estará',\n",
       " 'estaremos',\n",
       " 'estaréis',\n",
       " 'estarán',\n",
       " 'estaría',\n",
       " 'estarías',\n",
       " 'estaríamos',\n",
       " 'estaríais',\n",
       " 'estarían',\n",
       " 'estaba',\n",
       " 'estabas',\n",
       " 'estábamos',\n",
       " 'estabais',\n",
       " 'estaban',\n",
       " 'estuve',\n",
       " 'estuviste',\n",
       " 'estuvo',\n",
       " 'estuvimos',\n",
       " 'estuvisteis',\n",
       " 'estuvieron',\n",
       " 'estuviera',\n",
       " 'estuvieras',\n",
       " 'estuviéramos',\n",
       " 'estuvierais',\n",
       " 'estuvieran',\n",
       " 'estuviese',\n",
       " 'estuvieses',\n",
       " 'estuviésemos',\n",
       " 'estuvieseis',\n",
       " 'estuviesen',\n",
       " 'estando',\n",
       " 'estado',\n",
       " 'estada',\n",
       " 'estados',\n",
       " 'estadas',\n",
       " 'estad',\n",
       " 'he',\n",
       " 'has',\n",
       " 'ha',\n",
       " 'hemos',\n",
       " 'habéis',\n",
       " 'han',\n",
       " 'haya',\n",
       " 'hayas',\n",
       " 'hayamos',\n",
       " 'hayáis',\n",
       " 'hayan',\n",
       " 'habré',\n",
       " 'habrás',\n",
       " 'habrá',\n",
       " 'habremos',\n",
       " 'habréis',\n",
       " 'habrán',\n",
       " 'habría',\n",
       " 'habrías',\n",
       " 'habríamos',\n",
       " 'habríais',\n",
       " 'habrían',\n",
       " 'había',\n",
       " 'habías',\n",
       " 'habíamos',\n",
       " 'habíais',\n",
       " 'habían',\n",
       " 'hube',\n",
       " 'hubiste',\n",
       " 'hubo',\n",
       " 'hubimos',\n",
       " 'hubisteis',\n",
       " 'hubieron',\n",
       " 'hubiera',\n",
       " 'hubieras',\n",
       " 'hubiéramos',\n",
       " 'hubierais',\n",
       " 'hubieran',\n",
       " 'hubiese',\n",
       " 'hubieses',\n",
       " 'hubiésemos',\n",
       " 'hubieseis',\n",
       " 'hubiesen',\n",
       " 'habiendo',\n",
       " 'habido',\n",
       " 'habida',\n",
       " 'habidos',\n",
       " 'habidas',\n",
       " 'soy',\n",
       " 'eres',\n",
       " 'es',\n",
       " 'somos',\n",
       " 'sois',\n",
       " 'son',\n",
       " 'sea',\n",
       " 'seas',\n",
       " 'seamos',\n",
       " 'seáis',\n",
       " 'sean',\n",
       " 'seré',\n",
       " 'serás',\n",
       " 'será',\n",
       " 'seremos',\n",
       " 'seréis',\n",
       " 'serán',\n",
       " 'sería',\n",
       " 'serías',\n",
       " 'seríamos',\n",
       " 'seríais',\n",
       " 'serían',\n",
       " 'era',\n",
       " 'eras',\n",
       " 'éramos',\n",
       " 'erais',\n",
       " 'eran',\n",
       " 'fui',\n",
       " 'fuiste',\n",
       " 'fue',\n",
       " 'fuimos',\n",
       " 'fuisteis',\n",
       " 'fueron',\n",
       " 'fuera',\n",
       " 'fueras',\n",
       " 'fuéramos',\n",
       " 'fuerais',\n",
       " 'fueran',\n",
       " 'fuese',\n",
       " 'fueses',\n",
       " 'fuésemos',\n",
       " 'fueseis',\n",
       " 'fuesen',\n",
       " 'sintiendo',\n",
       " 'sentido',\n",
       " 'sentida',\n",
       " 'sentidos',\n",
       " 'sentidas',\n",
       " 'siente',\n",
       " 'sentid',\n",
       " 'tengo',\n",
       " 'tienes',\n",
       " 'tiene',\n",
       " 'tenemos',\n",
       " 'tenéis',\n",
       " 'tienen',\n",
       " 'tenga',\n",
       " 'tengas',\n",
       " 'tengamos',\n",
       " 'tengáis',\n",
       " 'tengan',\n",
       " 'tendré',\n",
       " 'tendrás',\n",
       " 'tendrá',\n",
       " 'tendremos',\n",
       " 'tendréis',\n",
       " 'tendrán',\n",
       " 'tendría',\n",
       " 'tendrías',\n",
       " 'tendríamos',\n",
       " 'tendríais',\n",
       " 'tendrían',\n",
       " 'tenía',\n",
       " 'tenías',\n",
       " 'teníamos',\n",
       " 'teníais',\n",
       " 'tenían',\n",
       " 'tuve',\n",
       " 'tuviste',\n",
       " 'tuvo',\n",
       " 'tuvimos',\n",
       " 'tuvisteis',\n",
       " 'tuvieron',\n",
       " 'tuviera',\n",
       " 'tuvieras',\n",
       " 'tuviéramos',\n",
       " 'tuvierais',\n",
       " 'tuvieran',\n",
       " 'tuviese',\n",
       " 'tuvieses',\n",
       " 'tuviésemos',\n",
       " 'tuvieseis',\n",
       " 'tuviesen',\n",
       " 'teniendo',\n",
       " 'tenido',\n",
       " 'tenida',\n",
       " 'tenidos',\n",
       " 'tenidas',\n",
       " 'tened']"
      ]
     },
     "execution_count": 51,
     "metadata": {},
     "output_type": "execute_result"
    }
   ],
   "source": [
    "from nltk.corpus import stopwords\n",
    "stopwords.words('spanish')"
   ]
  },
  {
   "cell_type": "markdown",
   "metadata": {},
   "source": [
    "Convertimos todo a minúsculas..."
   ]
  },
  {
   "cell_type": "code",
   "execution_count": 52,
   "metadata": {},
   "outputs": [],
   "source": [
    "tokens = [x.lower() for x in tokens]"
   ]
  },
  {
   "cell_type": "code",
   "execution_count": 53,
   "metadata": {},
   "outputs": [],
   "source": [
    "tokens_limpios = tokens[:]\n",
    "sr = stopwords.words('english')\n",
    "for token in tokens:\n",
    "    if token in stopwords.words('english'):\n",
    "        tokens_limpios.remove(token)"
   ]
  },
  {
   "cell_type": "markdown",
   "metadata": {},
   "source": [
    "Extraemos los tokens más habituales..."
   ]
  },
  {
   "cell_type": "code",
   "execution_count": 54,
   "metadata": {
    "scrolled": true,
    "tags": []
   },
   "outputs": [
    {
     "name": "stdout",
     "output_type": "stream",
     "text": [
      "php::1\n",
      "hypertext:1\n",
      "preprocessordownloadsdocumentationget:1\n",
      "involvedhelpsearch:1\n",
      "docsgetting:1\n",
      "startedintroductiona:1\n",
      "simple:1\n",
      "tutoriallanguage:1\n",
      "referencebasic:1\n",
      "syntaxtypesvariablesconstantsexpressionsoperatorscontrol:1\n",
      "structuresfunctionsclasses:1\n",
      "objectsnamespacesenumerationserrorsexceptionsfibersgeneratorsattributesreferences:1\n",
      "explainedpredefined:1\n",
      "variablespredefined:1\n",
      "exceptionspredefined:1\n",
      "interfaces:1\n",
      "classespredefined:1\n",
      "attributescontext:1\n",
      "options:1\n",
      "parameterssupported:1\n",
      "protocols:1\n",
      "wrapperssecurityintroductiongeneral:1\n",
      "considerationsinstalled:1\n",
      "cgi:1\n",
      "binaryinstalled:1\n",
      "apache:1\n",
      "modulesession:1\n",
      "securityfilesystem:1\n",
      "securitydatabase:1\n",
      "securityerror:1\n",
      "reportinguser:1\n",
      "submitted:1\n",
      "datahiding:1\n",
      "phpkeeping:1\n",
      "currentfeatureshttp:1\n",
      "authentication:1\n",
      "phpcookiessessionshandling:1\n",
      "file:1\n",
      "uploadsusing:1\n",
      "remote:1\n",
      "filesconnection:1\n",
      "handlingpersistent:1\n",
      "database:1\n",
      "connectionscommand:1\n",
      "line:2\n",
      "usagegarbage:1\n",
      "collectiondtrace:1\n",
      "dynamic:1\n",
      "tracingfunction:1\n",
      "referenceaffecting:1\n",
      "php's:1\n",
      "behaviouraudio:1\n",
      "formats:1\n",
      "manipulationauthentication:1\n",
      "servicescommand:1\n",
      "specific:2\n",
      "extensionscompression:1\n",
      "archive:1\n",
      "extensionscryptography:1\n",
      "extensionsdatabase:1\n",
      "extensionsdate:1\n",
      "time:1\n",
      "related:4\n",
      "extensionsfile:1\n",
      "system:1\n",
      "extensionshuman:1\n",
      "language:1\n",
      "character:1\n",
      "encoding:1\n",
      "supportimage:1\n",
      "processing:1\n",
      "generationmail:1\n",
      "extensionsmathematical:1\n",
      "extensionsnon-text:1\n",
      "mime:1\n",
      "outputprocess:1\n",
      "control:1\n",
      "extensionsother:2\n",
      "basic:1\n",
      "servicessearch:1\n",
      "engine:1\n",
      "extensionsserver:1\n",
      "extensionssession:1\n",
      "extensionstext:1\n",
      "processingvariable:1\n",
      "type:1\n",
      "extensionsweb:1\n",
      "serviceswindows:1\n",
      "extensionsxml:1\n",
      "manipulationgui:1\n",
      "extensionskeyboard:1\n",
      "shortcuts?this:1\n",
      "helpjnext:1\n",
      "menu:2\n",
      "itemkprevious:1\n",
      "itemg:1\n",
      "pprevious:1\n",
      "man:2\n",
      "pageg:1\n",
      "nnext:1\n",
      "pagegscroll:1\n",
      "bottomg:1\n",
      "gscroll:1\n",
      "topg:1\n",
      "hgoto:1\n",
      "homepageg:1\n",
      "sgoto:1\n",
      "search(current:1\n",
      "page)/focus:1\n",
      "search:2\n",
      "boxapopular:1\n",
      "general-purpose:1\n",
      "scripting:1\n",
      "languagethat:1\n",
      "especially:1\n",
      "suited:1\n",
      "web:1\n",
      "development.fast,:1\n",
      "flexible:1\n",
      "pragmatic,:1\n",
      "php:116\n",
      "powers:1\n",
      "everything:1\n",
      "blog:1\n",
      "popular:1\n",
      "websites:1\n",
      "world.what's:1\n",
      "new:12\n",
      "8.4download8.4.2·changelog·upgrading8.3.15·changelog·upgrading8.2.27·changelog·upgrading8.1.31·changelog·upgrading19:1\n",
      "dec:4\n",
      "2024php:25\n",
      "8.4.2:2\n",
      "released!the:16\n",
      "development:16\n",
      "team:25\n",
      "announces:16\n",
      "immediate:16\n",
      "availability:17\n",
      "8.4.2.:1\n",
      "bug:9\n",
      "fix:10\n",
      "release.all:15\n",
      "8.4:11\n",
      "users:15\n",
      "encouraged:15\n",
      "upgrade:15\n",
      "version.for:24\n",
      "source:41\n",
      "downloads:25\n",
      "please:27\n",
      "visit:25\n",
      "ourdownloads:16\n",
      "page,:16\n",
      "windows:16\n",
      "binaries:16\n",
      "found:43\n",
      "onwindows.php.net/download/.:16\n",
      "list:26\n",
      "changes:16\n",
      "recorded:16\n",
      "thechangelog.19:2\n",
      "8.3.15:2\n",
      "8.3.15.:1\n",
      "8.3:6\n",
      "8.2.27:2\n",
      "8.2.27.:1\n",
      "8.2:6\n",
      "thechangelog.please:1\n",
      "note,:1\n",
      "last:1\n",
      "bug-fix:1\n",
      "release:52\n",
      "8.2.x:1\n",
      "series.:1\n",
      "security:7\n",
      "support:1\n",
      "continue:1\n",
      "31:1\n",
      "2026.:1\n",
      "information,:1\n",
      "check:1\n",
      "oursupported:1\n",
      "versionspage.21:1\n",
      "nov:5\n",
      "8.4.1:2\n",
      "8.4.1.:1\n",
      "marks:1\n",
      "latest:1\n",
      "minor:1\n",
      "language.php:1\n",
      "comes:1\n",
      "numerous:1\n",
      "improvements:1\n",
      "features:11\n",
      "as:property:1\n",
      "hooksasymmetric:1\n",
      "property:1\n",
      "visibilitylazy:1\n",
      "objectspdo:1\n",
      "driver-specific:1\n",
      "subclassesbcmath:1\n",
      "object:1\n",
      "typeand:1\n",
      "much:2\n",
      "more...for:1\n",
      "thechangelog.themigration:1\n",
      "guideis:1\n",
      "available:10\n",
      "manual.:1\n",
      "consult:1\n",
      "detailed:1\n",
      "backward:1\n",
      "incompatible:1\n",
      "changes.kudos:1\n",
      "contributors:1\n",
      "supporters!21:1\n",
      "8.1.31:2\n",
      "8.1.31.:1\n",
      "8.1:2\n",
      "thechangelog.21:2\n",
      "8.3.14:2\n",
      "8.3.14.:1\n",
      "8.2.26:2\n",
      "8.2.26.:1\n",
      "thechangelog.07:1\n",
      "8.4.0:11\n",
      "rc4:2\n",
      "testingthe:9\n",
      "pleased:9\n",
      "announce:9\n",
      "8.4.0,:16\n",
      "rc4.:1\n",
      "fourth:1\n",
      "candidate,:4\n",
      "continuing:7\n",
      "cycle,:9\n",
      "rough:9\n",
      "outline:9\n",
      "specified:9\n",
      "thephp:9\n",
      "wiki.for:9\n",
      "thedownload:9\n",
      "page.please:9\n",
      "carefully:9\n",
      "test:18\n",
      "version:18\n",
      "report:9\n",
      "issues:9\n",
      "thebug:9\n",
      "reporting:9\n",
      "system.please:9\n",
      "use:9\n",
      "production,:9\n",
      "early:9\n",
      "information:9\n",
      "changes,:9\n",
      "read:9\n",
      "thenewsfile:7\n",
      "theupgradingfile:9\n",
      "complete:9\n",
      "upgrading:9\n",
      "notes.:9\n",
      "files:9\n",
      "also:9\n",
      "archive.the:9\n",
      "next:9\n",
      "production-ready,:1\n",
      "general:1\n",
      "release,:4\n",
      "planned:9\n",
      "21:1\n",
      "november:2\n",
      "2024.the:9\n",
      "signatures:9\n",
      "inthe:9\n",
      "manifestor:9\n",
      "onthe:9\n",
      "qa:9\n",
      "site.thank:9\n",
      "helping:9\n",
      "us:9\n",
      "make:9\n",
      "better.24:2\n",
      "oct:4\n",
      "rc3:2\n",
      "rc3.:1\n",
      "third:2\n",
      "rc:7\n",
      "4,:2\n",
      "07:1\n",
      "8.2.25:2\n",
      "8.2.25.:1\n",
      "thechangelog.24:1\n",
      "8.3.13:2\n",
      "8.3.13.:1\n",
      "thechangelog.10:1\n",
      "rc2:2\n",
      "rc2.:1\n",
      "second:4\n",
      "3,:2\n",
      "24:1\n",
      "october:2\n",
      "better.26:2\n",
      "sep:5\n",
      "8.1.30:2\n",
      "8.1.30.:1\n",
      "thechangelog.26:2\n",
      "1:3\n",
      "1.:1\n",
      "first:2\n",
      "2,:1\n",
      "10:1\n",
      "8.2.24:2\n",
      "8.2.24.:1\n",
      "8.3.12:2\n",
      "8.3.12.:1\n",
      "thechangelog.12:1\n",
      "beta:15\n",
      "5:2\n",
      "5.:1\n",
      "1,:2\n",
      "26:1\n",
      "september:2\n",
      "better.29:2\n",
      "aug:9\n",
      "8.3.11:2\n",
      "8.3.11.:1\n",
      "thechangelog.29:1\n",
      "4:4\n",
      "4.:2\n",
      "5,:1\n",
      "12:1\n",
      "8.2.23:2\n",
      "8.2.23.:1\n",
      "thechangelog.15:1\n",
      "3:2\n",
      "3.:1\n",
      "29:1\n",
      "august:1\n",
      "better.01:2\n",
      "alpha:7\n",
      "testing:2\n",
      "continues:2\n",
      "thenewsfile,:2\n",
      "15:1\n",
      "8.2.22:2\n",
      "8.2.22.:1\n",
      "thechangelog.01:1\n",
      "8.3.10:2\n",
      "8.3.10.:1\n",
      "thechangelog.18:1\n",
      "jul:1\n",
      "2:2\n",
      "2.:1\n",
      "better.older:1\n",
      "news:1\n",
      "entriesthe:1\n",
      "foundationthe:1\n",
      "foundation:1\n",
      "collective:1\n",
      "people:1\n",
      "organizations,:1\n",
      "united:1\n",
      "mission:1\n",
      "ensure:1\n",
      "long-term:1\n",
      "prosperity:1\n",
      "language.donateupcoming:1\n",
      "conferencesweb:1\n",
      "summer:1\n",
      "camp:1\n",
      "2025international:1\n",
      "conference:2\n",
      "berlin:1\n",
      "2025confoo:1\n",
      "2025php:1\n",
      "nagoya:1\n",
      "2025user:1\n",
      "group:1\n",
      "eventsspecial:1\n",
      "thankssocial:1\n",
      "media@official_php@php@fosstodon.orgcopyright:1\n",
      "©:1\n",
      "2001-2025:1\n",
      "groupmy:1\n",
      "php.netcontactother:1\n",
      "php.net:1\n",
      "sitesprivacy:1\n",
      "policyview:1\n",
      "source↑and↓to:1\n",
      "navigate:1\n",
      "•enterto:1\n",
      "select:1\n",
      "•escto:1\n",
      "closepressenterwithout:1\n",
      "selection:1\n",
      "using:1\n",
      "google:1\n"
     ]
    }
   ],
   "source": [
    "freq = nltk.FreqDist(tokens_limpios)\n",
    "for key,val in freq.items():\n",
    "    print (str(key) + ':' + str(val))"
   ]
  },
  {
   "cell_type": "code",
   "execution_count": 55,
   "metadata": {
    "scrolled": true
   },
   "outputs": [
    {
     "data": {
      "text/plain": [
       "<Axes: xlabel='Samples', ylabel='Counts'>"
      ]
     },
     "execution_count": 55,
     "metadata": {},
     "output_type": "execute_result"
    },
    {
     "data": {
      "image/png": "[encoded data removed]",
      "text/plain": [
       "<Figure size 640x480 with 1 Axes>"
      ]
     },
     "metadata": {},
     "output_type": "display_data"
    }
   ],
   "source": [
    "freq.plot(20,cumulative=False)"
   ]
  },
  {
   "cell_type": "markdown",
   "metadata": {},
   "source": [
    "## 5.Leer pdfs, docs y txt con Python y generar un corpus"
   ]
  },
  {
   "cell_type": "markdown",
   "metadata": {},
   "source": [
    "Es necesario instalar para este caso, la librería PyPDF2 y la librería word"
   ]
  },
  {
   "cell_type": "code",
   "execution_count": 56,
   "metadata": {},
   "outputs": [],
   "source": [
    "#pip install docx2python"
   ]
  },
  {
   "cell_type": "code",
   "execution_count": 57,
   "metadata": {},
   "outputs": [],
   "source": [
    "#pip install PyPDF2\n",
    "## pip install word\n",
    "## pip install pdfminer.six"
   ]
  },
  {
   "cell_type": "code",
   "execution_count": 58,
   "metadata": {},
   "outputs": [],
   "source": [
    "#pip install pdfminer"
   ]
  },
  {
   "cell_type": "markdown",
   "metadata": {},
   "source": [
    "Importamos las clases que nos permiten leer pdf y docs"
   ]
  },
  {
   "cell_type": "code",
   "execution_count": 1,
   "metadata": {},
   "outputs": [],
   "source": [
    "import os\n",
    "#import PyPDF2\n",
    "import pdfminer as pdfm\n",
    "from docx2python import docx2python\n",
    "#from PyPDF2 import PdfFileReader\n",
    "from nltk.corpus.reader.plaintext import PlaintextCorpusReader"
   ]
  },
  {
   "cell_type": "markdown",
   "metadata": {},
   "source": [
    "Generamos una función que nos devuelva el contenido de texto de un fichero de texto."
   ]
  },
  {
   "cell_type": "code",
   "execution_count": 46,
   "metadata": {},
   "outputs": [],
   "source": [
    "def obtener_texto(nombre_txt):\n",
    "    archivo = open (nombre_txt, 'rb') # apertura del fichero en modo binario\n",
    "    return archivo.read()\n",
    "ruta = %pwd"
   ]
  },
  {
   "cell_type": "code",
   "execution_count": 47,
   "metadata": {},
   "outputs": [
    {
     "data": {
      "text/plain": [
       "'/home/mydoctor/Documents/03.Trabajos/01.C2B/25.Deep Learning - C2B (20h)/scripts'"
      ]
     },
     "execution_count": 47,
     "metadata": {},
     "output_type": "execute_result"
    }
   ],
   "source": [
    "ruta"
   ]
  },
  {
   "cell_type": "code",
   "execution_count": 48,
   "metadata": {},
   "outputs": [],
   "source": [
    "txt1 = obtener_texto(ruta + '/datos/reading/ejemplo_feed.txt')"
   ]
  },
  {
   "cell_type": "code",
   "execution_count": 49,
   "metadata": {},
   "outputs": [
    {
     "data": {
      "text/plain": [
       "b'Five months.\\n\\nThat\\'s how long it\\'s been since Mass Effect: Andromeda launched, and that\\'s how long it took BioWare Montreal to admit that nothing more can be done with the ailing game\\'s story mode. Technically, it wasn\\'t even a full five months, as Andromeda launched on March 21.\\n\\nSEE ALSO: \\'Mass Effect: Andromeda\\' reviews are in: Bad game is bad\\n\\nBioWare confirmed the decision in an update on the Mass Effect website. The Andromeda corner of the game\\'s universe won\\'t be tossed, but continuing stories will be relegated to special multiplayer missions and other forms of media.\\n\\n\"Our last update, 1.10, was the final update for Mass Effect: Andromeda,\" the note reads. \"There are no planned future patches for single-player or in-game story content.\"'"
      ]
     },
     "execution_count": 49,
     "metadata": {},
     "output_type": "execute_result"
    }
   ],
   "source": [
    "txt1"
   ]
  },
  {
   "cell_type": "code",
   "execution_count": 50,
   "metadata": {},
   "outputs": [],
   "source": [
    "from io import StringIO\n",
    "\n",
    "from pdfminer.converter import TextConverter\n",
    "from pdfminer.layout import LAParams\n",
    "from pdfminer.pdfdocument import PDFDocument\n",
    "from pdfminer.pdfinterp import PDFResourceManager, PDFPageInterpreter\n",
    "from pdfminer.pdfpage import PDFPage\n",
    "from pdfminer.pdfparser import PDFParser\n",
    "\n",
    "output_string = StringIO()\n",
    "with open(ruta +'/datos/reading/ejemplo-una-linea.pdf', 'rb') as in_file:\n",
    "    parser = PDFParser(in_file)\n",
    "    doc = PDFDocument(parser)\n",
    "    rsrcmgr = PDFResourceManager()\n",
    "    device = TextConverter(rsrcmgr, output_string, laparams=LAParams())\n",
    "    interpreter = PDFPageInterpreter(rsrcmgr, device)\n",
    "    for page in PDFPage.create_pages(doc):\n",
    "        interpreter.process_page(page)\n",
    "\n",
    "txt2 = output_string.getvalue()"
   ]
  },
  {
   "cell_type": "code",
   "execution_count": 51,
   "metadata": {},
   "outputs": [
    {
     "data": {
      "text/plain": [
       "'Ejemplo de documento PDF.  Contiene textos en negrita , en cursiva and texto subrayado\\n .   \\nAdemás incluye una línea de texto con estilo Título\\n\\n \\n\\nTítulo del documento.\\n\\nÉste es el tercer párrafo.\\n\\n\\x0c'"
      ]
     },
     "execution_count": 51,
     "metadata": {},
     "output_type": "execute_result"
    }
   ],
   "source": [
    "txt2"
   ]
  },
  {
   "cell_type": "code",
   "execution_count": 52,
   "metadata": {},
   "outputs": [],
   "source": [
    "# Ejecutar sólo en linux/mac\n",
    "txt2 = txt2 [:-4]"
   ]
  },
  {
   "cell_type": "code",
   "execution_count": 53,
   "metadata": {},
   "outputs": [
    {
     "data": {
      "text/plain": [
       "'Ejemplo de documento PDF.  Contiene textos en negrita , en cursiva and texto subrayado\\n .   \\nAdemás incluye una línea de texto con estilo Título\\n\\n \\n\\nTítulo del documento.\\n\\nÉste es el tercer párrafo'"
      ]
     },
     "execution_count": 53,
     "metadata": {},
     "output_type": "execute_result"
    }
   ],
   "source": [
    "txt2"
   ]
  },
  {
   "cell_type": "code",
   "execution_count": 67,
   "metadata": {
    "scrolled": true
   },
   "outputs": [
    {
     "data": {
      "text/plain": [
       "[[[['\\t\\tEjemplo de documento PDF.',\n",
       "    '\\t\\tContiene textos en negrita , en cursiva and texto subrayado.',\n",
       "    '\\t\\t',\n",
       "    '\\t\\tAdemás incluye una línea de texto con estilo Título',\n",
       "    'Título del documento.',\n",
       "    'Éste es el FINAL del documento.']]]]"
      ]
     },
     "execution_count": 67,
     "metadata": {},
     "output_type": "execute_result"
    }
   ],
   "source": [
    "txt3 = docx2python(ruta + '/datos/reading/ejemplo-una-linea.docx')\n",
    "txt3.body"
   ]
  },
  {
   "cell_type": "code",
   "execution_count": 71,
   "metadata": {},
   "outputs": [],
   "source": [
    "txt3=txt3.body[0][0][0][0]"
   ]
  },
  {
   "cell_type": "code",
   "execution_count": 51,
   "metadata": {},
   "outputs": [
    {
     "data": {
      "text/plain": [
       "'\\t\\tEjemplo de documento PDF.'"
      ]
     },
     "execution_count": 51,
     "metadata": {},
     "output_type": "execute_result"
    }
   ],
   "source": [
    "txt3"
   ]
  },
  {
   "cell_type": "markdown",
   "metadata": {},
   "source": [
    "Guardamos el resultado en nuestro equipo en una carpeta llamada _micorpus_."
   ]
  },
  {
   "cell_type": "code",
   "execution_count": 72,
   "metadata": {},
   "outputs": [],
   "source": [
    "nuevocorpus = 'micorpus/'\n",
    "if not os.path.isdir(nuevocorpus): # existe nuevocorpus?\n",
    "    os.mkdir(nuevocorpus)"
   ]
  },
  {
   "cell_type": "markdown",
   "metadata": {},
   "source": [
    "Guardamos los 3 ficheros cargados previamente."
   ]
  },
  {
   "cell_type": "code",
   "execution_count": 73,
   "metadata": {},
   "outputs": [
    {
     "data": {
      "text/plain": [
       "[b'Five months.\\n\\nThat\\'s how long it\\'s been since Mass Effect: Andromeda launched, and that\\'s how long it took BioWare Montreal to admit that nothing more can be done with the ailing game\\'s story mode. Technically, it wasn\\'t even a full five months, as Andromeda launched on March 21.\\n\\nSEE ALSO: \\'Mass Effect: Andromeda\\' reviews are in: Bad game is bad\\n\\nBioWare confirmed the decision in an update on the Mass Effect website. The Andromeda corner of the game\\'s universe won\\'t be tossed, but continuing stories will be relegated to special multiplayer missions and other forms of media.\\n\\n\"Our last update, 1.10, was the final update for Mass Effect: Andromeda,\" the note reads. \"There are no planned future patches for single-player or in-game story content.\"',\n",
       " 'Ejemplo de documento PDF.  Contiene textos en negrita , en cursiva and texto subrayado\\n .   \\nAdemás incluye una línea de texto con estilo Título\\n\\n \\n\\nTítulo del documento.\\n\\nÉste es el tercer párrafo',\n",
       " '\\t\\tEjemplo de documento PDF.']"
      ]
     },
     "execution_count": 73,
     "metadata": {},
     "output_type": "execute_result"
    }
   ],
   "source": [
    "files = [txt1,txt2,txt3]  # Generación array con objetos a usar en la iteración.\n",
    "files"
   ]
  },
  {
   "cell_type": "code",
   "execution_count": 74,
   "metadata": {},
   "outputs": [],
   "source": [
    "for idx, f in enumerate(files):  \n",
    "    with open(nuevocorpus+str(idx)+'.txt', 'w') as fileout:\n",
    "        fileout.write(str(f))"
   ]
  },
  {
   "cell_type": "markdown",
   "metadata": {},
   "source": [
    "Generamos el corpus.  Aquí se identifican internamente los párrafos, sentencias, palabras, ..."
   ]
  },
  {
   "cell_type": "code",
   "execution_count": 79,
   "metadata": {},
   "outputs": [],
   "source": [
    "corpus = PlaintextCorpusReader (ruta +'/datos/reading/', '.*')"
   ]
  },
  {
   "cell_type": "code",
   "execution_count": 80,
   "metadata": {},
   "outputs": [
    {
     "name": "stdout",
     "output_type": "stream",
     "text": [
      "['<!', 'DOCTYPE', 'HTML', 'PUBLIC', '\"-//', 'W3C', ...]\n"
     ]
    }
   ],
   "source": [
    "print (corpus.words())"
   ]
  },
  {
   "cell_type": "markdown",
   "metadata": {},
   "source": [
    "Para poder extraer las sentencias del corpus, necesitamos instalar un paquete..."
   ]
  },
  {
   "cell_type": "code",
   "execution_count": 60,
   "metadata": {
    "scrolled": true
   },
   "outputs": [
    {
     "name": "stderr",
     "output_type": "stream",
     "text": [
      "[nltk_data] Downloading package punkt to\n",
      "[nltk_data]     /Users/egoitzaulestiapadilla/nltk_data...\n",
      "[nltk_data]   Package punkt is already up-to-date!\n"
     ]
    },
    {
     "data": {
      "text/plain": [
       "True"
      ]
     },
     "execution_count": 60,
     "metadata": {},
     "output_type": "execute_result"
    }
   ],
   "source": [
    "import nltk\n",
    "nltk.download('punkt')"
   ]
  },
  {
   "cell_type": "code",
   "execution_count": 81,
   "metadata": {
    "scrolled": true
   },
   "outputs": [
    {
     "data": {
      "text/plain": [
       "'ejemplo-html.html'"
      ]
     },
     "execution_count": 81,
     "metadata": {},
     "output_type": "execute_result"
    }
   ],
   "source": [
    "corpus.fileids()[0]"
   ]
  },
  {
   "cell_type": "code",
   "execution_count": 82,
   "metadata": {},
   "outputs": [
    {
     "name": "stdout",
     "output_type": "stream",
     "text": [
      "[[['<!', 'DOCTYPE', 'HTML', 'PUBLIC', '\"-//', 'W3C', '//', 'DTD', 'HTML', '4', '.', '01', 'Transitional', '//', 'EN', '\">', '<', 'html', '>', '<', 'head', '>', '<', 'title', '>', 'Sample', 'Web', 'Page', '</', 'title', '>', '<', 'META', 'http', '-', 'equiv', '=\"', 'Content', '-', 'Type', '\"', 'content', '=\"', 'text', '/', 'html', ';', 'charset', '=', 'iso', '-', '8859', '-', '1', '\">', '</', 'head', '>', '<', 'body', 'bgcolor', '=\"#', 'ffffff', '\"', 'text', '=\"#', '000000', '\">', '<', 'h1', 'class', '=', \"'\", 'header', \"'>\", 'Main', 'heading', '</', 'h1', '>', '<', 'p', '>', 'This', 'is', 'a', 'very', 'simple', 'HTML', 'document', '</', 'p', '>', '<', 'p', '>', 'Improve', 'your', 'image', 'by', 'including', 'an', 'image', '.'], ['</', 'p', '>', '<', 'img', 'src', '=\"', 'http', '://', 'www', '.', 'mygifs', '.', 'com', '/', 'CoverImage', '.', 'gif', '\"', 'alt', '=\"', 'A', 'Great', 'HTML', 'Resource', '\">', '<', 'p', 'class', \"='\", 'link', \"'>\", 'Add', 'a', 'link', 'to', 'your', 'favorite', '<', 'a', 'href', '=\"', 'http', '://', 'www', '.', 'dummies', '.', 'com', '/\">', 'Web', 'site', '</', 'a', '>.</', 'p', '>', '<', 'BR', '>', '<', 'B', '><', 'I', '>', 'This', 'is', 'a', 'new', 'sentence', 'without', 'a', 'paragraph', 'break', ',', 'in', 'bold', 'italics', '.</', 'I', '></', 'B', '>', '</', 'body', '>', '</', 'html', '>']]]\n"
     ]
    }
   ],
   "source": [
    "print(corpus.paras(corpus.fileids()[0]))"
   ]
  },
  {
   "cell_type": "markdown",
   "metadata": {},
   "source": [
    "## 6. Tokenizar textos que no están en inglés."
   ]
  },
  {
   "cell_type": "code",
   "execution_count": 65,
   "metadata": {},
   "outputs": [
    {
     "name": "stderr",
     "output_type": "stream",
     "text": [
      "[nltk_data] Downloading package punkt to\n",
      "[nltk_data]     /Users/egoitzaulestiapadilla/nltk_data...\n",
      "[nltk_data]   Package punkt is already up-to-date!\n"
     ]
    },
    {
     "data": {
      "text/plain": [
       "True"
      ]
     },
     "execution_count": 65,
     "metadata": {},
     "output_type": "execute_result"
    }
   ],
   "source": [
    "import nltk\n",
    "nltk.download('punkt')\n"
   ]
  },
  {
   "cell_type": "code",
   "execution_count": 66,
   "metadata": {},
   "outputs": [
    {
     "name": "stdout",
     "output_type": "stream",
     "text": [
      "/Users/egoitzaulestiapadilla/nltk_data/tokenizers/punkt\n"
     ]
    }
   ],
   "source": [
    "from nltk.tokenize.punkt import PunktSentenceTokenizer, PunktTrainer\n",
    "import nltk.data\n",
    "\n",
    "print(nltk.data.find(\"tokenizers/punkt\"))\n"
   ]
  },
  {
   "cell_type": "code",
   "execution_count": 63,
   "metadata": {},
   "outputs": [
    {
     "name": "stdout",
     "output_type": "stream",
     "text": [
      "/Users/egoitzaulestiapadilla/nltk_data/tokenizers/punkt\n"
     ]
    }
   ],
   "source": [
    "import nltk.data\n",
    "print(nltk.data.find(\"tokenizers/punkt\"))\n"
   ]
  },
  {
   "cell_type": "code",
   "execution_count": 67,
   "metadata": {},
   "outputs": [
    {
     "ename": "LookupError",
     "evalue": "\n**********************************************************************\n  Resource \u001b[93mpunkt_tab\u001b[0m not found.\n  Please use the NLTK Downloader to obtain the resource:\n\n  \u001b[31m>>> import nltk\n  >>> nltk.download('punkt_tab')\n  \u001b[0m\n  For more information see: https://www.nltk.org/data.html\n\n  Attempted to load \u001b[93mtokenizers/punkt_tab/french/\u001b[0m\n\n  Searched in:\n    - '/Users/egoitzaulestiapadilla/nltk_data'\n    - '/Users/egoitzaulestiapadilla/opt/anaconda3/nltk_data'\n    - '/Users/egoitzaulestiapadilla/opt/anaconda3/share/nltk_data'\n    - '/Users/egoitzaulestiapadilla/opt/anaconda3/lib/nltk_data'\n    - '/usr/share/nltk_data'\n    - '/usr/local/share/nltk_data'\n    - '/usr/lib/nltk_data'\n    - '/usr/local/lib/nltk_data'\n**********************************************************************\n",
     "output_type": "error",
     "traceback": [
      "\u001b[0;31m---------------------------------------------------------------------------\u001b[0m",
      "\u001b[0;31mLookupError\u001b[0m                               Traceback (most recent call last)",
      "Cell \u001b[0;32mIn[67], line 4\u001b[0m\n\u001b[1;32m      1\u001b[0m \u001b[38;5;28;01mfrom\u001b[39;00m \u001b[38;5;21;01mnltk\u001b[39;00m\u001b[38;5;21;01m.\u001b[39;00m\u001b[38;5;21;01mtokenize\u001b[39;00m \u001b[38;5;28;01mimport\u001b[39;00m sent_tokenize\n\u001b[1;32m      3\u001b[0m texto \u001b[38;5;241m=\u001b[39m \u001b[38;5;124m\"\u001b[39m\u001b[38;5;124mBonjour M. Adam, comment allez-vous? J\u001b[39m\u001b[38;5;124m'\u001b[39m\u001b[38;5;124mespère que tout va bien. Aujourd\u001b[39m\u001b[38;5;124m'\u001b[39m\u001b[38;5;124mhui est un bon jour.\u001b[39m\u001b[38;5;124m\"\u001b[39m\n\u001b[0;32m----> 4\u001b[0m \u001b[38;5;28mprint\u001b[39m(\u001b[43msent_tokenize\u001b[49m\u001b[43m(\u001b[49m\u001b[43mtexto\u001b[49m\u001b[43m,\u001b[49m\u001b[43m \u001b[49m\u001b[38;5;124;43m\"\u001b[39;49m\u001b[38;5;124;43mfrench\u001b[39;49m\u001b[38;5;124;43m\"\u001b[39;49m\u001b[43m)\u001b[49m)\n",
      "File \u001b[0;32m~/opt/anaconda3/lib/python3.9/site-packages/nltk/tokenize/__init__.py:119\u001b[0m, in \u001b[0;36msent_tokenize\u001b[0;34m(text, language)\u001b[0m\n\u001b[1;32m    109\u001b[0m \u001b[38;5;28;01mdef\u001b[39;00m \u001b[38;5;21msent_tokenize\u001b[39m(text, language\u001b[38;5;241m=\u001b[39m\u001b[38;5;124m\"\u001b[39m\u001b[38;5;124menglish\u001b[39m\u001b[38;5;124m\"\u001b[39m):\n\u001b[1;32m    110\u001b[0m \u001b[38;5;250m    \u001b[39m\u001b[38;5;124;03m\"\"\"\u001b[39;00m\n\u001b[1;32m    111\u001b[0m \u001b[38;5;124;03m    Return a sentence-tokenized copy of *text*,\u001b[39;00m\n\u001b[1;32m    112\u001b[0m \u001b[38;5;124;03m    using NLTK's recommended sentence tokenizer\u001b[39;00m\n\u001b[0;32m   (...)\u001b[0m\n\u001b[1;32m    117\u001b[0m \u001b[38;5;124;03m    :param language: the model name in the Punkt corpus\u001b[39;00m\n\u001b[1;32m    118\u001b[0m \u001b[38;5;124;03m    \"\"\"\u001b[39;00m\n\u001b[0;32m--> 119\u001b[0m     tokenizer \u001b[38;5;241m=\u001b[39m \u001b[43m_get_punkt_tokenizer\u001b[49m\u001b[43m(\u001b[49m\u001b[43mlanguage\u001b[49m\u001b[43m)\u001b[49m\n\u001b[1;32m    120\u001b[0m     \u001b[38;5;28;01mreturn\u001b[39;00m tokenizer\u001b[38;5;241m.\u001b[39mtokenize(text)\n",
      "File \u001b[0;32m~/opt/anaconda3/lib/python3.9/site-packages/nltk/tokenize/__init__.py:105\u001b[0m, in \u001b[0;36m_get_punkt_tokenizer\u001b[0;34m(language)\u001b[0m\n\u001b[1;32m     96\u001b[0m \u001b[38;5;129m@functools\u001b[39m\u001b[38;5;241m.\u001b[39mlru_cache\n\u001b[1;32m     97\u001b[0m \u001b[38;5;28;01mdef\u001b[39;00m \u001b[38;5;21m_get_punkt_tokenizer\u001b[39m(language\u001b[38;5;241m=\u001b[39m\u001b[38;5;124m\"\u001b[39m\u001b[38;5;124menglish\u001b[39m\u001b[38;5;124m\"\u001b[39m):\n\u001b[1;32m     98\u001b[0m \u001b[38;5;250m    \u001b[39m\u001b[38;5;124;03m\"\"\"\u001b[39;00m\n\u001b[1;32m     99\u001b[0m \u001b[38;5;124;03m    A constructor for the PunktTokenizer that utilizes\u001b[39;00m\n\u001b[1;32m    100\u001b[0m \u001b[38;5;124;03m    a lru cache for performance.\u001b[39;00m\n\u001b[0;32m   (...)\u001b[0m\n\u001b[1;32m    103\u001b[0m \u001b[38;5;124;03m    :type language: str\u001b[39;00m\n\u001b[1;32m    104\u001b[0m \u001b[38;5;124;03m    \"\"\"\u001b[39;00m\n\u001b[0;32m--> 105\u001b[0m     \u001b[38;5;28;01mreturn\u001b[39;00m \u001b[43mPunktTokenizer\u001b[49m\u001b[43m(\u001b[49m\u001b[43mlanguage\u001b[49m\u001b[43m)\u001b[49m\n",
      "File \u001b[0;32m~/opt/anaconda3/lib/python3.9/site-packages/nltk/tokenize/punkt.py:1744\u001b[0m, in \u001b[0;36mPunktTokenizer.__init__\u001b[0;34m(self, lang)\u001b[0m\n\u001b[1;32m   1742\u001b[0m \u001b[38;5;28;01mdef\u001b[39;00m \u001b[38;5;21m__init__\u001b[39m(\u001b[38;5;28mself\u001b[39m, lang\u001b[38;5;241m=\u001b[39m\u001b[38;5;124m\"\u001b[39m\u001b[38;5;124menglish\u001b[39m\u001b[38;5;124m\"\u001b[39m):\n\u001b[1;32m   1743\u001b[0m     PunktSentenceTokenizer\u001b[38;5;241m.\u001b[39m\u001b[38;5;21m__init__\u001b[39m(\u001b[38;5;28mself\u001b[39m)\n\u001b[0;32m-> 1744\u001b[0m     \u001b[38;5;28;43mself\u001b[39;49m\u001b[38;5;241;43m.\u001b[39;49m\u001b[43mload_lang\u001b[49m\u001b[43m(\u001b[49m\u001b[43mlang\u001b[49m\u001b[43m)\u001b[49m\n",
      "File \u001b[0;32m~/opt/anaconda3/lib/python3.9/site-packages/nltk/tokenize/punkt.py:1749\u001b[0m, in \u001b[0;36mPunktTokenizer.load_lang\u001b[0;34m(self, lang)\u001b[0m\n\u001b[1;32m   1746\u001b[0m \u001b[38;5;28;01mdef\u001b[39;00m \u001b[38;5;21mload_lang\u001b[39m(\u001b[38;5;28mself\u001b[39m, lang\u001b[38;5;241m=\u001b[39m\u001b[38;5;124m\"\u001b[39m\u001b[38;5;124menglish\u001b[39m\u001b[38;5;124m\"\u001b[39m):\n\u001b[1;32m   1747\u001b[0m     \u001b[38;5;28;01mfrom\u001b[39;00m \u001b[38;5;21;01mnltk\u001b[39;00m\u001b[38;5;21;01m.\u001b[39;00m\u001b[38;5;21;01mdata\u001b[39;00m \u001b[38;5;28;01mimport\u001b[39;00m find\n\u001b[0;32m-> 1749\u001b[0m     lang_dir \u001b[38;5;241m=\u001b[39m \u001b[43mfind\u001b[49m\u001b[43m(\u001b[49m\u001b[38;5;124;43mf\u001b[39;49m\u001b[38;5;124;43m\"\u001b[39;49m\u001b[38;5;124;43mtokenizers/punkt_tab/\u001b[39;49m\u001b[38;5;132;43;01m{\u001b[39;49;00m\u001b[43mlang\u001b[49m\u001b[38;5;132;43;01m}\u001b[39;49;00m\u001b[38;5;124;43m/\u001b[39;49m\u001b[38;5;124;43m\"\u001b[39;49m\u001b[43m)\u001b[49m\n\u001b[1;32m   1750\u001b[0m     \u001b[38;5;28mself\u001b[39m\u001b[38;5;241m.\u001b[39m_params \u001b[38;5;241m=\u001b[39m load_punkt_params(lang_dir)\n\u001b[1;32m   1751\u001b[0m     \u001b[38;5;28mself\u001b[39m\u001b[38;5;241m.\u001b[39m_lang \u001b[38;5;241m=\u001b[39m lang\n",
      "File \u001b[0;32m~/opt/anaconda3/lib/python3.9/site-packages/nltk/data.py:579\u001b[0m, in \u001b[0;36mfind\u001b[0;34m(resource_name, paths)\u001b[0m\n\u001b[1;32m    577\u001b[0m sep \u001b[38;5;241m=\u001b[39m \u001b[38;5;124m\"\u001b[39m\u001b[38;5;124m*\u001b[39m\u001b[38;5;124m\"\u001b[39m \u001b[38;5;241m*\u001b[39m \u001b[38;5;241m70\u001b[39m\n\u001b[1;32m    578\u001b[0m resource_not_found \u001b[38;5;241m=\u001b[39m \u001b[38;5;124mf\u001b[39m\u001b[38;5;124m\"\u001b[39m\u001b[38;5;130;01m\\n\u001b[39;00m\u001b[38;5;132;01m{\u001b[39;00msep\u001b[38;5;132;01m}\u001b[39;00m\u001b[38;5;130;01m\\n\u001b[39;00m\u001b[38;5;132;01m{\u001b[39;00mmsg\u001b[38;5;132;01m}\u001b[39;00m\u001b[38;5;130;01m\\n\u001b[39;00m\u001b[38;5;132;01m{\u001b[39;00msep\u001b[38;5;132;01m}\u001b[39;00m\u001b[38;5;130;01m\\n\u001b[39;00m\u001b[38;5;124m\"\u001b[39m\n\u001b[0;32m--> 579\u001b[0m \u001b[38;5;28;01mraise\u001b[39;00m \u001b[38;5;167;01mLookupError\u001b[39;00m(resource_not_found)\n",
      "\u001b[0;31mLookupError\u001b[0m: \n**********************************************************************\n  Resource \u001b[93mpunkt_tab\u001b[0m not found.\n  Please use the NLTK Downloader to obtain the resource:\n\n  \u001b[31m>>> import nltk\n  >>> nltk.download('punkt_tab')\n  \u001b[0m\n  For more information see: https://www.nltk.org/data.html\n\n  Attempted to load \u001b[93mtokenizers/punkt_tab/french/\u001b[0m\n\n  Searched in:\n    - '/Users/egoitzaulestiapadilla/nltk_data'\n    - '/Users/egoitzaulestiapadilla/opt/anaconda3/nltk_data'\n    - '/Users/egoitzaulestiapadilla/opt/anaconda3/share/nltk_data'\n    - '/Users/egoitzaulestiapadilla/opt/anaconda3/lib/nltk_data'\n    - '/usr/share/nltk_data'\n    - '/usr/local/share/nltk_data'\n    - '/usr/lib/nltk_data'\n    - '/usr/local/lib/nltk_data'\n**********************************************************************\n"
     ]
    }
   ],
   "source": [
    "from nltk.tokenize import sent_tokenize\n",
    "\n",
    "texto = \"Bonjour M. Adam, comment allez-vous? J'espère que tout va bien. Aujourd'hui est un bon jour.\"\n",
    "print(sent_tokenize(texto, \"french\"))\n"
   ]
  },
  {
   "cell_type": "code",
   "execution_count": 61,
   "metadata": {},
   "outputs": [
    {
     "ename": "LookupError",
     "evalue": "\n**********************************************************************\n  Resource \u001b[93mpunkt_tab\u001b[0m not found.\n  Please use the NLTK Downloader to obtain the resource:\n\n  \u001b[31m>>> import nltk\n  >>> nltk.download('punkt_tab')\n  \u001b[0m\n  For more information see: https://www.nltk.org/data.html\n\n  Attempted to load \u001b[93mtokenizers/punkt_tab/french/\u001b[0m\n\n  Searched in:\n    - '/Users/egoitzaulestiapadilla/nltk_data'\n    - '/Users/egoitzaulestiapadilla/opt/anaconda3/nltk_data'\n    - '/Users/egoitzaulestiapadilla/opt/anaconda3/share/nltk_data'\n    - '/Users/egoitzaulestiapadilla/opt/anaconda3/lib/nltk_data'\n    - '/usr/share/nltk_data'\n    - '/usr/local/share/nltk_data'\n    - '/usr/lib/nltk_data'\n    - '/usr/local/lib/nltk_data'\n**********************************************************************\n",
     "output_type": "error",
     "traceback": [
      "\u001b[0;31m---------------------------------------------------------------------------\u001b[0m",
      "\u001b[0;31mLookupError\u001b[0m                               Traceback (most recent call last)",
      "Cell \u001b[0;32mIn[61], line 4\u001b[0m\n\u001b[1;32m      1\u001b[0m \u001b[38;5;28;01mfrom\u001b[39;00m \u001b[38;5;21;01mnltk\u001b[39;00m\u001b[38;5;21;01m.\u001b[39;00m\u001b[38;5;21;01mtokenize\u001b[39;00m \u001b[38;5;28;01mimport\u001b[39;00m sent_tokenize\n\u001b[1;32m      2\u001b[0m texto \u001b[38;5;241m=\u001b[39m \u001b[38;5;124m\"\u001b[39m\u001b[38;5;124mBonjour M. Adam, comment allez-vous? J\u001b[39m\u001b[38;5;124m'\u001b[39m\u001b[38;5;124mespère que tout va bien. Aujourd\u001b[39m\u001b[38;5;124m'\u001b[39m\u001b[38;5;124mhui est un bon jour.\u001b[39m\u001b[38;5;124m\"\u001b[39m\n\u001b[0;32m----> 4\u001b[0m \u001b[38;5;28mprint\u001b[39m(\u001b[43msent_tokenize\u001b[49m\u001b[43m(\u001b[49m\u001b[43mtexto\u001b[49m\u001b[43m,\u001b[49m\u001b[38;5;124;43m\"\u001b[39;49m\u001b[38;5;124;43mfrench\u001b[39;49m\u001b[38;5;124;43m\"\u001b[39;49m\u001b[43m)\u001b[49m)\n",
      "File \u001b[0;32m~/opt/anaconda3/lib/python3.9/site-packages/nltk/tokenize/__init__.py:119\u001b[0m, in \u001b[0;36msent_tokenize\u001b[0;34m(text, language)\u001b[0m\n\u001b[1;32m    109\u001b[0m \u001b[38;5;28;01mdef\u001b[39;00m \u001b[38;5;21msent_tokenize\u001b[39m(text, language\u001b[38;5;241m=\u001b[39m\u001b[38;5;124m\"\u001b[39m\u001b[38;5;124menglish\u001b[39m\u001b[38;5;124m\"\u001b[39m):\n\u001b[1;32m    110\u001b[0m \u001b[38;5;250m    \u001b[39m\u001b[38;5;124;03m\"\"\"\u001b[39;00m\n\u001b[1;32m    111\u001b[0m \u001b[38;5;124;03m    Return a sentence-tokenized copy of *text*,\u001b[39;00m\n\u001b[1;32m    112\u001b[0m \u001b[38;5;124;03m    using NLTK's recommended sentence tokenizer\u001b[39;00m\n\u001b[0;32m   (...)\u001b[0m\n\u001b[1;32m    117\u001b[0m \u001b[38;5;124;03m    :param language: the model name in the Punkt corpus\u001b[39;00m\n\u001b[1;32m    118\u001b[0m \u001b[38;5;124;03m    \"\"\"\u001b[39;00m\n\u001b[0;32m--> 119\u001b[0m     tokenizer \u001b[38;5;241m=\u001b[39m \u001b[43m_get_punkt_tokenizer\u001b[49m\u001b[43m(\u001b[49m\u001b[43mlanguage\u001b[49m\u001b[43m)\u001b[49m\n\u001b[1;32m    120\u001b[0m     \u001b[38;5;28;01mreturn\u001b[39;00m tokenizer\u001b[38;5;241m.\u001b[39mtokenize(text)\n",
      "File \u001b[0;32m~/opt/anaconda3/lib/python3.9/site-packages/nltk/tokenize/__init__.py:105\u001b[0m, in \u001b[0;36m_get_punkt_tokenizer\u001b[0;34m(language)\u001b[0m\n\u001b[1;32m     96\u001b[0m \u001b[38;5;129m@functools\u001b[39m\u001b[38;5;241m.\u001b[39mlru_cache\n\u001b[1;32m     97\u001b[0m \u001b[38;5;28;01mdef\u001b[39;00m \u001b[38;5;21m_get_punkt_tokenizer\u001b[39m(language\u001b[38;5;241m=\u001b[39m\u001b[38;5;124m\"\u001b[39m\u001b[38;5;124menglish\u001b[39m\u001b[38;5;124m\"\u001b[39m):\n\u001b[1;32m     98\u001b[0m \u001b[38;5;250m    \u001b[39m\u001b[38;5;124;03m\"\"\"\u001b[39;00m\n\u001b[1;32m     99\u001b[0m \u001b[38;5;124;03m    A constructor for the PunktTokenizer that utilizes\u001b[39;00m\n\u001b[1;32m    100\u001b[0m \u001b[38;5;124;03m    a lru cache for performance.\u001b[39;00m\n\u001b[0;32m   (...)\u001b[0m\n\u001b[1;32m    103\u001b[0m \u001b[38;5;124;03m    :type language: str\u001b[39;00m\n\u001b[1;32m    104\u001b[0m \u001b[38;5;124;03m    \"\"\"\u001b[39;00m\n\u001b[0;32m--> 105\u001b[0m     \u001b[38;5;28;01mreturn\u001b[39;00m \u001b[43mPunktTokenizer\u001b[49m\u001b[43m(\u001b[49m\u001b[43mlanguage\u001b[49m\u001b[43m)\u001b[49m\n",
      "File \u001b[0;32m~/opt/anaconda3/lib/python3.9/site-packages/nltk/tokenize/punkt.py:1744\u001b[0m, in \u001b[0;36mPunktTokenizer.__init__\u001b[0;34m(self, lang)\u001b[0m\n\u001b[1;32m   1742\u001b[0m \u001b[38;5;28;01mdef\u001b[39;00m \u001b[38;5;21m__init__\u001b[39m(\u001b[38;5;28mself\u001b[39m, lang\u001b[38;5;241m=\u001b[39m\u001b[38;5;124m\"\u001b[39m\u001b[38;5;124menglish\u001b[39m\u001b[38;5;124m\"\u001b[39m):\n\u001b[1;32m   1743\u001b[0m     PunktSentenceTokenizer\u001b[38;5;241m.\u001b[39m\u001b[38;5;21m__init__\u001b[39m(\u001b[38;5;28mself\u001b[39m)\n\u001b[0;32m-> 1744\u001b[0m     \u001b[38;5;28;43mself\u001b[39;49m\u001b[38;5;241;43m.\u001b[39;49m\u001b[43mload_lang\u001b[49m\u001b[43m(\u001b[49m\u001b[43mlang\u001b[49m\u001b[43m)\u001b[49m\n",
      "File \u001b[0;32m~/opt/anaconda3/lib/python3.9/site-packages/nltk/tokenize/punkt.py:1749\u001b[0m, in \u001b[0;36mPunktTokenizer.load_lang\u001b[0;34m(self, lang)\u001b[0m\n\u001b[1;32m   1746\u001b[0m \u001b[38;5;28;01mdef\u001b[39;00m \u001b[38;5;21mload_lang\u001b[39m(\u001b[38;5;28mself\u001b[39m, lang\u001b[38;5;241m=\u001b[39m\u001b[38;5;124m\"\u001b[39m\u001b[38;5;124menglish\u001b[39m\u001b[38;5;124m\"\u001b[39m):\n\u001b[1;32m   1747\u001b[0m     \u001b[38;5;28;01mfrom\u001b[39;00m \u001b[38;5;21;01mnltk\u001b[39;00m\u001b[38;5;21;01m.\u001b[39;00m\u001b[38;5;21;01mdata\u001b[39;00m \u001b[38;5;28;01mimport\u001b[39;00m find\n\u001b[0;32m-> 1749\u001b[0m     lang_dir \u001b[38;5;241m=\u001b[39m \u001b[43mfind\u001b[49m\u001b[43m(\u001b[49m\u001b[38;5;124;43mf\u001b[39;49m\u001b[38;5;124;43m\"\u001b[39;49m\u001b[38;5;124;43mtokenizers/punkt_tab/\u001b[39;49m\u001b[38;5;132;43;01m{\u001b[39;49;00m\u001b[43mlang\u001b[49m\u001b[38;5;132;43;01m}\u001b[39;49;00m\u001b[38;5;124;43m/\u001b[39;49m\u001b[38;5;124;43m\"\u001b[39;49m\u001b[43m)\u001b[49m\n\u001b[1;32m   1750\u001b[0m     \u001b[38;5;28mself\u001b[39m\u001b[38;5;241m.\u001b[39m_params \u001b[38;5;241m=\u001b[39m load_punkt_params(lang_dir)\n\u001b[1;32m   1751\u001b[0m     \u001b[38;5;28mself\u001b[39m\u001b[38;5;241m.\u001b[39m_lang \u001b[38;5;241m=\u001b[39m lang\n",
      "File \u001b[0;32m~/opt/anaconda3/lib/python3.9/site-packages/nltk/data.py:579\u001b[0m, in \u001b[0;36mfind\u001b[0;34m(resource_name, paths)\u001b[0m\n\u001b[1;32m    577\u001b[0m sep \u001b[38;5;241m=\u001b[39m \u001b[38;5;124m\"\u001b[39m\u001b[38;5;124m*\u001b[39m\u001b[38;5;124m\"\u001b[39m \u001b[38;5;241m*\u001b[39m \u001b[38;5;241m70\u001b[39m\n\u001b[1;32m    578\u001b[0m resource_not_found \u001b[38;5;241m=\u001b[39m \u001b[38;5;124mf\u001b[39m\u001b[38;5;124m\"\u001b[39m\u001b[38;5;130;01m\\n\u001b[39;00m\u001b[38;5;132;01m{\u001b[39;00msep\u001b[38;5;132;01m}\u001b[39;00m\u001b[38;5;130;01m\\n\u001b[39;00m\u001b[38;5;132;01m{\u001b[39;00mmsg\u001b[38;5;132;01m}\u001b[39;00m\u001b[38;5;130;01m\\n\u001b[39;00m\u001b[38;5;132;01m{\u001b[39;00msep\u001b[38;5;132;01m}\u001b[39;00m\u001b[38;5;130;01m\\n\u001b[39;00m\u001b[38;5;124m\"\u001b[39m\n\u001b[0;32m--> 579\u001b[0m \u001b[38;5;28;01mraise\u001b[39;00m \u001b[38;5;167;01mLookupError\u001b[39;00m(resource_not_found)\n",
      "\u001b[0;31mLookupError\u001b[0m: \n**********************************************************************\n  Resource \u001b[93mpunkt_tab\u001b[0m not found.\n  Please use the NLTK Downloader to obtain the resource:\n\n  \u001b[31m>>> import nltk\n  >>> nltk.download('punkt_tab')\n  \u001b[0m\n  For more information see: https://www.nltk.org/data.html\n\n  Attempted to load \u001b[93mtokenizers/punkt_tab/french/\u001b[0m\n\n  Searched in:\n    - '/Users/egoitzaulestiapadilla/nltk_data'\n    - '/Users/egoitzaulestiapadilla/opt/anaconda3/nltk_data'\n    - '/Users/egoitzaulestiapadilla/opt/anaconda3/share/nltk_data'\n    - '/Users/egoitzaulestiapadilla/opt/anaconda3/lib/nltk_data'\n    - '/usr/share/nltk_data'\n    - '/usr/local/share/nltk_data'\n    - '/usr/lib/nltk_data'\n    - '/usr/local/lib/nltk_data'\n**********************************************************************\n"
     ]
    }
   ],
   "source": [
    "from nltk.tokenize import sent_tokenize\n",
    "texto = \"Bonjour M. Adam, comment allez-vous? J'espère que tout va bien. Aujourd'hui est un bon jour.\"\n",
    "\n",
    "print(sent_tokenize(texto,\"french\"))"
   ]
  },
  {
   "cell_type": "markdown",
   "metadata": {},
   "source": [
    "# 7. Obtención de sinónimos (Wordnet)"
   ]
  },
  {
   "cell_type": "code",
   "execution_count": 68,
   "metadata": {
    "scrolled": true
   },
   "outputs": [
    {
     "name": "stdout",
     "output_type": "stream",
     "text": [
      "enjoying or showing or marked by joy or pleasure\n",
      "['a happy smile', 'spent many happy days on the beach', 'a happy marriage']\n"
     ]
    }
   ],
   "source": [
    "from nltk.corpus import wordnet\n",
    "\n",
    "syn = wordnet.synsets(\"happy\")\n",
    "print(syn[0].definition())\n",
    "print(syn[0].examples())"
   ]
  },
  {
   "cell_type": "code",
   "execution_count": 69,
   "metadata": {},
   "outputs": [
    {
     "data": {
      "text/plain": [
       "[Synset('happy.a.01'),\n",
       " Synset('felicitous.s.02'),\n",
       " Synset('glad.s.02'),\n",
       " Synset('happy.s.04')]"
      ]
     },
     "execution_count": 69,
     "metadata": {},
     "output_type": "execute_result"
    }
   ],
   "source": [
    "syn"
   ]
  },
  {
   "cell_type": "code",
   "execution_count": 70,
   "metadata": {},
   "outputs": [
    {
     "name": "stdout",
     "output_type": "stream",
     "text": [
      "large Old World boas\n",
      "[]\n"
     ]
    }
   ],
   "source": [
    "syn = wordnet.synsets(\"python\")\n",
    "print(syn[0].definition())\n",
    "print(syn[0].examples())"
   ]
  },
  {
   "cell_type": "code",
   "execution_count": 71,
   "metadata": {},
   "outputs": [
    {
     "data": {
      "text/plain": [
       "[Synset('python.n.01'), Synset('python.n.02'), Synset('python.n.03')]"
      ]
     },
     "execution_count": 71,
     "metadata": {},
     "output_type": "execute_result"
    }
   ],
   "source": [
    "syn"
   ]
  },
  {
   "cell_type": "code",
   "execution_count": 72,
   "metadata": {},
   "outputs": [
    {
     "name": "stdout",
     "output_type": "stream",
     "text": [
      "['happy', 'felicitous', 'happy', 'glad', 'happy', 'happy', 'well-chosen']\n",
      "['felicitous', 'happy', 'glad', 'well-chosen']\n"
     ]
    }
   ],
   "source": [
    "sinonimos = []\n",
    "\n",
    "for syn in wordnet.synsets('happy'):\n",
    "    for lemma in syn.lemmas():\n",
    "        sinonimos.append(lemma.name())\n",
    "\n",
    "print(sinonimos)\n",
    "\n",
    "# Eliminamos duplicados\n",
    "print([*set(sinonimos)])"
   ]
  },
  {
   "cell_type": "markdown",
   "metadata": {},
   "source": [
    "# 8. Extracción de lemas usando Wordnet"
   ]
  },
  {
   "cell_type": "code",
   "execution_count": 76,
   "metadata": {},
   "outputs": [
    {
     "name": "stdout",
     "output_type": "stream",
     "text": [
      "increase\n"
     ]
    }
   ],
   "source": [
    "from nltk.stem import WordNetLemmatizer\n",
    "\n",
    "lema = WordNetLemmatizer()\n",
    "print(lema.lemmatize('increases'))"
   ]
  },
  {
   "cell_type": "markdown",
   "metadata": {},
   "source": [
    "Puede suceder que una misma palabra sea un sustantivo o verbo en función del contexto.  Podemos indicarle al lematizador, que nos devuelva el lema para una palabra que sea un verbo."
   ]
  },
  {
   "cell_type": "code",
   "execution_count": 77,
   "metadata": {},
   "outputs": [
    {
     "name": "stdout",
     "output_type": "stream",
     "text": [
      "play\n"
     ]
    }
   ],
   "source": [
    "print(lema.lemmatize('playing', pos=\"v\"))"
   ]
  },
  {
   "cell_type": "markdown",
   "metadata": {},
   "source": [
    "¿Y si le pedimos que nos devuelva los lemas en función de los diferentes contextos?..."
   ]
  },
  {
   "cell_type": "code",
   "execution_count": 78,
   "metadata": {},
   "outputs": [
    {
     "name": "stdout",
     "output_type": "stream",
     "text": [
      "play\n",
      "playing\n",
      "playing\n"
     ]
    }
   ],
   "source": [
    "print(lema.lemmatize('playing', pos=\"v\")) # verbos\n",
    "print(lema.lemmatize('playing', pos=\"n\")) # sustantivos\n",
    "print(lema.lemmatize('playing', pos=\"a\")) # adjetivos"
   ]
  },
  {
   "cell_type": "markdown",
   "metadata": {},
   "source": [
    "# 9. Extracción de steems para otro idioma distinto al inglés."
   ]
  },
  {
   "cell_type": "code",
   "execution_count": 79,
   "metadata": {},
   "outputs": [
    {
     "name": "stdout",
     "output_type": "stream",
     "text": [
      "('arabic', 'danish', 'dutch', 'english', 'finnish', 'french', 'german', 'hungarian', 'italian', 'norwegian', 'porter', 'portuguese', 'romanian', 'russian', 'spanish', 'swedish')\n"
     ]
    }
   ],
   "source": [
    "from nltk.stem import SnowballStemmer\n",
    "print(SnowballStemmer.languages)"
   ]
  },
  {
   "cell_type": "code",
   "execution_count": 89,
   "metadata": {},
   "outputs": [
    {
     "name": "stdout",
     "output_type": "stream",
     "text": [
      "palabrita\n"
     ]
    }
   ],
   "source": [
    "castellano = SnowballStemmer('english')\n",
    "print(castellano.stem(\"palabrita\"))"
   ]
  },
  {
   "cell_type": "markdown",
   "metadata": {},
   "source": [
    "No ha funcionado."
   ]
  },
  {
   "cell_type": "code",
   "execution_count": 90,
   "metadata": {},
   "outputs": [
    {
     "name": "stdout",
     "output_type": "stream",
     "text": [
      "palabrit\n"
     ]
    }
   ],
   "source": [
    "castellano = SnowballStemmer('spanish')\n",
    "print(castellano.stem(\"palabrite\"))"
   ]
  },
  {
   "cell_type": "markdown",
   "metadata": {},
   "source": [
    "# 10. Extracción de steems (formas canónicas) y lemas"
   ]
  },
  {
   "cell_type": "code",
   "execution_count": 91,
   "metadata": {},
   "outputs": [
    {
     "name": "stdout",
     "output_type": "stream",
     "text": [
      "stone\n",
      "speak\n",
      "bedroom\n",
      "joke\n",
      "lisa\n",
      "purpl\n",
      "----------------------\n",
      "stone\n",
      "speaking\n",
      "bedroom\n",
      "joke\n",
      "lisa\n",
      "purple\n"
     ]
    }
   ],
   "source": [
    "from nltk.stem import WordNetLemmatizer\n",
    "from nltk.stem import PorterStemmer\n",
    "\n",
    "steams = PorterStemmer()\n",
    "lemas = WordNetLemmatizer()\n",
    "\n",
    "print(steams.stem('stones'))\n",
    "print(steams.stem('speaking'))\n",
    "print(steams.stem('bedroom'))\n",
    "print(steams.stem('jokes'))\n",
    "print(steams.stem('lisa'))\n",
    "print(steams.stem('purple'))\n",
    "print('----------------------')\n",
    "print(lemas.lemmatize('stones'))\n",
    "print(lemas.lemmatize('speaking'))\n",
    "print(lemas.lemmatize('bedroom'))\n",
    "print(lemas.lemmatize('jokes'))\n",
    "print(lemas.lemmatize('lisa'))\n",
    "print(lemas.lemmatize('purple'))"
   ]
  }
 ],
 "metadata": {
  "kernelspec": {
   "display_name": "base",
   "language": "python",
   "name": "python3"
  },
  "language_info": {
   "codemirror_mode": {
    "name": "ipython",
    "version": 3
   },
   "file_extension": ".py",
   "mimetype": "text/x-python",
   "name": "python",
   "nbconvert_exporter": "python",
   "pygments_lexer": "ipython3",
   "version": "3.9.19"
  },
  "varInspector": {
   "cols": {
    "lenName": 16,
    "lenType": 16,
    "lenVar": 40
   },
   "kernels_config": {
    "python": {
     "delete_cmd_postfix": "",
     "delete_cmd_prefix": "del ",
     "library": "var_list.py",
     "varRefreshCmd": "print(var_dic_list())"
    },
    "r": {
     "delete_cmd_postfix": ") ",
     "delete_cmd_prefix": "rm(",
     "library": "var_list.r",
     "varRefreshCmd": "cat(var_dic_list()) "
    }
   },
   "types_to_exclude": [
    "module",
    "function",
    "builtin_function_or_method",
    "instance",
    "_Feature"
   ],
   "window_display": false
  }
 },
 "nbformat": 4,
 "nbformat_minor": 4
}
