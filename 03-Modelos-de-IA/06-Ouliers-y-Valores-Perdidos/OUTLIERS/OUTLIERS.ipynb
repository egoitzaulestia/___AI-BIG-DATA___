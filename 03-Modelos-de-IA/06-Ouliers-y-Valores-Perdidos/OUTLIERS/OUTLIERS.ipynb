{
 "cells": [
  {
   "cell_type": "code",
   "execution_count": null,
   "metadata": {},
   "outputs": [],
   "source": [
    "import os\n",
    "import pandas as pd"
   ]
  },
  {
   "cell_type": "code",
   "execution_count": null,
   "metadata": {},
   "outputs": [],
   "source": [
    "# os.chdir(r\"E:\\dias 9-10-11 diciembre\\PY_OUTLIERS_VP\\14- OUTLIERS\\TEORIA\")\n",
    "data = pd.read_csv(\"Ejemplo_3.csv\")"
   ]
  },
  {
   "cell_type": "code",
   "execution_count": null,
   "metadata": {},
   "outputs": [],
   "source": [
    "# Resumen\n",
    "resumen = data.describe()"
   ]
  },
  {
   "cell_type": "markdown",
   "metadata": {},
   "source": [
    "# Gráfico: boxplot para visualizar outliers"
   ]
  },
  {
   "cell_type": "code",
   "execution_count": null,
   "metadata": {},
   "outputs": [],
   "source": [
    "# Gráfico para una variable\n",
    "var1 = data.iloc[:, 0]\n",
    "var1.plot(kind = 'box')"
   ]
  },
  {
   "cell_type": "code",
   "execution_count": null,
   "metadata": {},
   "outputs": [],
   "source": [
    "# Gráfico para todas las variables \n",
    "data.plot(kind = 'box')"
   ]
  },
  {
   "cell_type": "code",
   "execution_count": null,
   "metadata": {},
   "outputs": [],
   "source": [
    "# Una vez que hemos constatado que existen outliers, la primera opción es eliminar las filas que contienen outliers en alguna de las variables:\n",
    "# Nos quedamos con los datos que tienen un z-score en valor absoluto menor que 3 \n",
    "# Concepto z-score: número de desviaciones estándar \n",
    "import numpy as np\n",
    "from scipy import stats\n",
    "dataSinOut = data[(np.abs(stats.zscore(data)) < 3).all(axis=1)]"
   ]
  },
  {
   "cell_type": "code",
   "execution_count": null,
   "metadata": {},
   "outputs": [],
   "source": [
    "# Graficamos\n",
    "dataSinOut.plot(kind = 'box')"
   ]
  },
  {
   "cell_type": "markdown",
   "metadata": {},
   "source": [
    "---"
   ]
  },
  {
   "cell_type": "code",
   "execution_count": 1,
   "metadata": {},
   "outputs": [],
   "source": [
    "import os\n",
    "import pandas as pd\n"
   ]
  },
  {
   "cell_type": "code",
   "execution_count": 2,
   "metadata": {},
   "outputs": [],
   "source": [
    "# os.chdir(r\"E:\\dias 9-10-11 diciembre\\PY_OUTLIERS_VP\\14- OUTLIERS\\TEORIA\")"
   ]
  },
  {
   "cell_type": "code",
   "execution_count": 3,
   "metadata": {},
   "outputs": [],
   "source": [
    "data = pd.read_csv(\"Ejemplo_3.csv\")"
   ]
  },
  {
   "cell_type": "code",
   "execution_count": 4,
   "metadata": {},
   "outputs": [
    {
     "data": {
      "text/plain": [
       "<Axes: >"
      ]
     },
     "execution_count": 4,
     "metadata": {},
     "output_type": "execute_result"
    },
    {
     "data": {
      "image/png": "[encoded data removed]",
      "text/plain": [
       "<Figure size 640x480 with 1 Axes>"
      ]
     },
     "metadata": {},
     "output_type": "display_data"
    }
   ],
   "source": [
    "data.plot(kind='box')"
   ]
  },
  {
   "cell_type": "code",
   "execution_count": 5,
   "metadata": {},
   "outputs": [
    {
     "data": {
      "text/plain": [
       "<Axes: >"
      ]
     },
     "execution_count": 5,
     "metadata": {},
     "output_type": "execute_result"
    },
    {
     "data": {
      "image/png": "[encoded data removed]",
      "text/plain": [
       "<Figure size 640x480 with 1 Axes>"
      ]
     },
     "metadata": {},
     "output_type": "display_data"
    }
   ],
   "source": [
    "# Otra forma de eliminar los datos es en función de los cuantiles de cada variable.\n",
    "# Este procedimiento puede ser interesante si estamos interesados en descartar\n",
    "# algun tipo de evento concreto que se haya focalizado en alguna de las variables.\n",
    "\n",
    "qA = data[\"G1\"].quantile(0.15)\n",
    "qA\n",
    "qB = data[\"G1\"].quantile(0.85)\n",
    "qB\n",
    "\n",
    "dataSinOut = data[(data[\"G1\"] > qA) & (data[\"G1\"] < qB)]\n",
    "\n",
    "dataSinOut.plot(kind='box')"
   ]
  },
  {
   "cell_type": "code",
   "execution_count": null,
   "metadata": {},
   "outputs": [],
   "source": [
    "# Observamos que han desaparecido la mayoria de las observaciones.\n",
    "# Esto puede deberse a que los outliers estén almacenados en las mismas observaciones"
   ]
  },
  {
   "cell_type": "code",
   "execution_count": null,
   "metadata": {},
   "outputs": [],
   "source": [
    "# Seleccionamos outliers de la variable G1 \n",
    "# En este caso tenemos muchos outliers.\n",
    "dataOut = data[(data[\"G1\"] < qA) | (data[\"G1\"] > qB)]"
   ]
  },
  {
   "cell_type": "code",
   "execution_count": null,
   "metadata": {},
   "outputs": [],
   "source": [
    "# Realmente estamos más interesado en saber que ocurre con los valores verdaderamente extremos.\n",
    "# Por ello ajustamos más los porcentajes para seleccionar aquellos valores en los que estamos interesados.\n",
    "\n",
    "qA = data[\"G1\"].quantile(0.01)\n",
    "qB = data[\"G1\"].quantile(0.99)\n",
    "\n",
    "dataSinOut = data[(data[\"G1\"] > qA) & (data[\"G1\"] < qB)]\n",
    "dataSinOut.plot(kind='box')\n",
    "dataOut = data[(data[\"G1\"] < qA) | (data[\"G1\"] > qB)]"
   ]
  },
  {
   "cell_type": "code",
   "execution_count": null,
   "metadata": {},
   "outputs": [],
   "source": [
    "# Podemos observar en la tabla de los outliers que la observacion 38 agrupa valores muy extremos y que realmente resultan muy anómalos.\n",
    "# Una observacioón asi puede distorisionar un modelo, por ello sería adecuado estudiar dicha variable por separado y excluirla del modelo."
   ]
  },
  {
   "cell_type": "code",
   "execution_count": null,
   "metadata": {},
   "outputs": [],
   "source": [
    "# Por otro lado, en el gráfico anterior observamos que en la variable \"G6\" exite un outlier realmente extremo.\n",
    "# De cara a entender bien nuestros datos es conveniente saber qué ocurre con esa observación."
   ]
  },
  {
   "cell_type": "code",
   "execution_count": null,
   "metadata": {},
   "outputs": [],
   "source": [
    "# Por ello repetimos el proceso con la variable G6.\n",
    "\n",
    "qA6 = data[\"G6\"].quantile(0.01)\n",
    "qB6 = data[\"G6\"].quantile(0.99)\n",
    "dataOut6 = data[(data[\"G6\"] < qA6) | (data[\"G6\"] > qB6)]\n",
    "dataOut6"
   ]
  },
  {
   "cell_type": "code",
   "execution_count": null,
   "metadata": {},
   "outputs": [],
   "source": [
    "# En este análisis vemos que en la observación que nos acontece el resto de las variables toman valore que podemos calificar como normales"
   ]
  },
  {
   "cell_type": "markdown",
   "metadata": {},
   "source": [
    "---\n"
   ]
  },
  {
   "cell_type": "code",
   "execution_count": null,
   "metadata": {},
   "outputs": [],
   "source": [
    "import os\n",
    "import pandas as pd"
   ]
  },
  {
   "cell_type": "code",
   "execution_count": null,
   "metadata": {},
   "outputs": [],
   "source": [
    "# os.chdir(r\"E:\\dias 9-10-11 diciembre\\PY_OUTLIERS_VP\\14- OUTLIERS\\TEORIA\")"
   ]
  },
  {
   "cell_type": "code",
   "execution_count": null,
   "metadata": {},
   "outputs": [],
   "source": [
    "data = pd.read_csv(\"Ejemplo_3.csv\")"
   ]
  },
  {
   "cell_type": "code",
   "execution_count": null,
   "metadata": {},
   "outputs": [],
   "source": [
    "# Hacemos lo mismo que al principio pero teniendo solo en cuenta la variable G1 (por ejemplo)\n",
    "# Imaginemos que la variable G1 es la que nos interesa, la variable objetivo.\n",
    "from scipy import stats\n",
    "data2 = data[(np.abs(stats.zscore(data[\"G1\"])) < 3)]"
   ]
  },
  {
   "cell_type": "markdown",
   "metadata": {},
   "source": [
    "---"
   ]
  },
  {
   "cell_type": "code",
   "execution_count": null,
   "metadata": {},
   "outputs": [],
   "source": [
    "import os\n",
    "import pandas as pd"
   ]
  },
  {
   "cell_type": "code",
   "execution_count": null,
   "metadata": {},
   "outputs": [],
   "source": [
    "os.chdir(r\"E:\\dias 9-10-11 diciembre\\PY_OUTLIERS_VP\\14- OUTLIERS\\TEORIA\")"
   ]
  },
  {
   "cell_type": "code",
   "execution_count": null,
   "metadata": {},
   "outputs": [],
   "source": [
    "data = pd.read_csv(\"Ejemplo_3.csv\")"
   ]
  },
  {
   "cell_type": "code",
   "execution_count": null,
   "metadata": {},
   "outputs": [],
   "source": [
    "# En los pasos anteriores hemos concluido que la fila 38 presenta unos valores muy extremos.\n",
    "# Por ello, eliminamos la observación 38.\n",
    "data1 = data.drop(data.index[38])"
   ]
  },
  {
   "cell_type": "markdown",
   "metadata": {},
   "source": [
    "---"
   ]
  },
  {
   "cell_type": "code",
   "execution_count": null,
   "metadata": {},
   "outputs": [],
   "source": [
    "import os\n",
    "import pandas as pd"
   ]
  },
  {
   "cell_type": "code",
   "execution_count": null,
   "metadata": {},
   "outputs": [],
   "source": [
    "# os.chdir(r\"E:\\dias 9-10-11 diciembre\\PY_OUTLIERS_VP\\14- OUTLIERS\\TEORIA\")"
   ]
  },
  {
   "cell_type": "code",
   "execution_count": null,
   "metadata": {},
   "outputs": [],
   "source": [
    "data = pd.read_csv(\"Ejemplo_3.csv\")"
   ]
  },
  {
   "cell_type": "code",
   "execution_count": null,
   "metadata": {},
   "outputs": [],
   "source": [
    "# Otra opción es seleccionar una de las variables y establecer un límite porque conocemos los datos\n",
    "# Vuelvo a cargar los datos.\n",
    "\n",
    "data2 = data[(data[\"G1\"] < 5)]"
   ]
  },
  {
   "cell_type": "markdown",
   "metadata": {},
   "source": [
    "---"
   ]
  },
  {
   "cell_type": "code",
   "execution_count": null,
   "metadata": {},
   "outputs": [],
   "source": [
    "import os\n",
    "import pandas as pd"
   ]
  },
  {
   "cell_type": "code",
   "execution_count": null,
   "metadata": {},
   "outputs": [],
   "source": [
    "# os.chdir(r\"E:\\dias 9-10-11 diciembre\\PY_OUTLIERS_VP\\14- OUTLIERS\\TEORIA\")"
   ]
  },
  {
   "cell_type": "code",
   "execution_count": null,
   "metadata": {},
   "outputs": [],
   "source": [
    "data = pd.read_csv(\"Ejemplo_3.csv\")"
   ]
  },
  {
   "cell_type": "code",
   "execution_count": null,
   "metadata": {},
   "outputs": [],
   "source": [
    "# Otra opción es eliminar aquellas observaciones que sobrepasen una desviación prefijada.\n",
    "\n",
    "# Esto se puede aplicar sobre una de las variables o sobre todo el dataset.\n",
    "\n",
    "# Aplicarlo sobre una determinada variable nos exige ser cuidadosos a la hora de fijar el limite para no eliminar demasiadas observaciones.\n",
    "\n",
    "from scipy import stats\n",
    "data1 = data[(np.abs(stats.zscore(data[\"G1\"])) < 6)]\n",
    "data2 = data[(np.abs(stats.zscore(data[\"G1\"])) < 1)]"
   ]
  },
  {
   "cell_type": "markdown",
   "metadata": {},
   "source": [
    "---"
   ]
  },
  {
   "cell_type": "code",
   "execution_count": null,
   "metadata": {},
   "outputs": [],
   "source": [
    "import os\n",
    "import pandas as pd"
   ]
  },
  {
   "cell_type": "code",
   "execution_count": null,
   "metadata": {},
   "outputs": [],
   "source": [
    "# os.chdir(r\"E:\\dias 9-10-11 diciembre\\PY_OUTLIERS_VP\\14- OUTLIERS\\TEORIA\")"
   ]
  },
  {
   "cell_type": "code",
   "execution_count": null,
   "metadata": {},
   "outputs": [],
   "source": [
    "data = pd.read_csv(\"Ejemplo_3.csv\")"
   ]
  },
  {
   "cell_type": "code",
   "execution_count": null,
   "metadata": {},
   "outputs": [],
   "source": [
    "import numpy as np\n",
    "import matplotlib.pyplot as plt\n",
    "import seaborn as sns"
   ]
  },
  {
   "cell_type": "markdown",
   "metadata": {},
   "source": [
    "#### Creamos tres funciones: cada una nos calcula las observaciones que considera outliers para cada variable "
   ]
  },
  {
   "cell_type": "code",
   "execution_count": null,
   "metadata": {},
   "outputs": [],
   "source": [
    "# 1. Marca como outliers aquellas observaciones que difieran de la media más de tres veces la desviación típica.\n",
    "def outliers_z_score(ys):\n",
    "    c_desv_st = 3\n",
    "    mean_y = np.mean(ys)\n",
    "    stdev_y = np.std(ys)\n",
    "    z_scores = [(y - mean_y) / stdev_y for y in ys]\n",
    "    return np.where(np.abs(z_scores) > c_desv_st)\n",
    "\n",
    "datos = data.apply(outliers_z_score)"
   ]
  },
  {
   "cell_type": "code",
   "execution_count": null,
   "metadata": {},
   "outputs": [],
   "source": [
    "# 2. Mediana\n",
    "def outliers_modified_z_score(ys):\n",
    "    threshold = 3.5\n",
    "\n",
    "    median_y = np.median(ys)\n",
    "    median_absolute_deviation_y = np.median([np.abs(y - median_y) for y in ys])\n",
    "    modified_z_scores = [0.6745 * (y - median_y) / median_absolute_deviation_y\n",
    "                         for y in ys]\n",
    "    return np.where(np.abs(modified_z_scores) > threshold)\n",
    "\n",
    "datos = data.apply(outliers_modified_z_score)"
   ]
  },
  {
   "cell_type": "code",
   "execution_count": null,
   "metadata": {},
   "outputs": [],
   "source": [
    "# 3. El cálculo se basa en la diferencia para el percentil 25 y 75.\n",
    "def outliers_iqr(ys):\n",
    "    quartile_1, quartile_3 = np.percentile(ys, [25, 75])\n",
    "    iqr = quartile_3 - quartile_1\n",
    "    lower_bound = quartile_1 - (iqr * 1.5)\n",
    "    upper_bound = quartile_3 + (iqr * 1.5)\n",
    "    return np.where((ys > upper_bound) | (ys < lower_bound))\n",
    "\n",
    "datos = data.apply(outliers_iqr)"
   ]
  },
  {
   "cell_type": "markdown",
   "metadata": {},
   "source": [
    "---"
   ]
  },
  {
   "cell_type": "code",
   "execution_count": null,
   "metadata": {},
   "outputs": [],
   "source": [
    "import os\n",
    "import pandas as pd"
   ]
  },
  {
   "cell_type": "code",
   "execution_count": null,
   "metadata": {},
   "outputs": [],
   "source": [
    "# os.chdir(r\"E:\\dias 9-10-11 diciembre\\PY_OUTLIERS_VP\\14- OUTLIERS\\TEORIA\")"
   ]
  },
  {
   "cell_type": "code",
   "execution_count": null,
   "metadata": {},
   "outputs": [],
   "source": [
    "data = pd.read_csv(\"Ejemplo_3.csv\")"
   ]
  },
  {
   "cell_type": "code",
   "execution_count": null,
   "metadata": {},
   "outputs": [],
   "source": [
    "# Hasta ahora hemos visto cómo identificar los outliers mediante diferentes métodos \n",
    "# A continuación mostramos cómo sustituirlos (por ejemplo por la media)\n",
    "\n",
    "def replace(group):\n",
    "    mean, std = group.mean(), group.std()\n",
    "    outliers = (group - mean).abs() > 3*std\n",
    "    group[outliers] = mean        \n",
    "    return group\n",
    "\n",
    "datos = data.apply(replace)"
   ]
  },
  {
   "cell_type": "markdown",
   "metadata": {},
   "source": [
    "---"
   ]
  },
  {
   "cell_type": "code",
   "execution_count": null,
   "metadata": {},
   "outputs": [],
   "source": [
    "import os\n",
    "import pandas as pd"
   ]
  },
  {
   "cell_type": "code",
   "execution_count": null,
   "metadata": {},
   "outputs": [],
   "source": [
    "# os.chdir(r\"E:\\dias 9-10-11 diciembre\\PY_OUTLIERS_VP\\14- OUTLIERS\\TEORIA\")"
   ]
  },
  {
   "cell_type": "code",
   "execution_count": null,
   "metadata": {},
   "outputs": [],
   "source": [
    "data = pd.read_csv(\"Ejemplo_3.csv\")"
   ]
  },
  {
   "cell_type": "code",
   "execution_count": null,
   "metadata": {},
   "outputs": [],
   "source": [
    "# De esta manera podemos convertir los outliers en NAs y luego tratarlos como NAs.\n",
    "\n",
    "import numpy as np\n",
    "\n",
    "def replace2(group):\n",
    "    mean, std = group.mean(), group.std()\n",
    "    outliers = (group - mean).abs() > 3*std\n",
    "    group[outliers] = np.nan        \n",
    "    return group\n",
    "\n",
    "datos = data.apply(replace2)"
   ]
  },
  {
   "cell_type": "code",
   "execution_count": null,
   "metadata": {},
   "outputs": [],
   "source": [
    "# Comprobamos que existen valores perdidos\n",
    "datos.isnull().any().any()"
   ]
  },
  {
   "cell_type": "markdown",
   "metadata": {},
   "source": [
    "---\n",
    "#### En estos procedimientos hemos visto diferentes formas de eliminar los valores extremos.\n",
    "#### Existen otras muchas ocasiones en las que estos valores juegan un papel clave para el modelo.\n",
    "#### De hecho en algunos casos son mas importantes los valores extremos que los valores \"normales\".\n",
    "#### En estas ocasiones nos interesa crear una nueva variable que nos marque si una determinada observacion es un outlier o no.\n",
    "#### Ademas en estos casos nos puede interesar diferenciar si se trata de un outlier \"por arriba\" o \"por abajo\".\n",
    "---"
   ]
  },
  {
   "cell_type": "code",
   "execution_count": null,
   "metadata": {},
   "outputs": [],
   "source": [
    "import os\n",
    "import pandas as pd"
   ]
  },
  {
   "cell_type": "code",
   "execution_count": null,
   "metadata": {},
   "outputs": [],
   "source": [
    "os.chdir(r\"E:\\dias 9-10-11 diciembre\\PY_OUTLIERS_VP\\14- OUTLIERS\\TEORIA\")"
   ]
  },
  {
   "cell_type": "code",
   "execution_count": null,
   "metadata": {},
   "outputs": [],
   "source": [
    "data = pd.read_csv(\"Ejemplo_3.csv\")"
   ]
  },
  {
   "cell_type": "markdown",
   "metadata": {},
   "source": [
    "#### Para cada variable original vamos a crear una variable 'outlier alto' y otra 'outlier bajo' "
   ]
  },
  {
   "cell_type": "code",
   "execution_count": null,
   "metadata": {},
   "outputs": [],
   "source": [
    "# Variable G1:\n",
    "q1A = data[\"G1\"].quantile(0.15)\n",
    "q1B = data[\"G1\"].quantile(0.85)\n",
    "\n",
    "data.loc[:,\"out1bajo\"] = 0\n",
    "data.loc[data[\"G1\"] < q1A, \"out1bajo\"] = 1\n",
    "\n",
    "data.loc[:,\"out1alto\"] = 0\n",
    "data.loc[data[\"G1\"] > q1B,\"out1alto\"] = 1"
   ]
  },
  {
   "cell_type": "code",
   "execution_count": null,
   "metadata": {},
   "outputs": [],
   "source": [
    "# Variable G2:\n",
    "q2A = data[\"G2\"].quantile(0.15)\n",
    "q2B = data[\"G2\"].quantile(0.85)\n",
    "\n",
    "data.loc[:,\"out2bajo\"] = 0\n",
    "data.loc[data[\"G2\"] < q2A,\"out1bajo\"] = 1\n",
    "\n",
    "data.loc[:,\"out2alto\"] = 0\n",
    "data.loc[data[\"G2\"] > q2B,\"out2alto\"] = 1"
   ]
  },
  {
   "cell_type": "markdown",
   "metadata": {},
   "source": [
    "##### De esta forma vemos si debido a los valores extremos se produce un \"salto\" en el valor."
   ]
  },
  {
   "cell_type": "code",
   "execution_count": null,
   "metadata": {},
   "outputs": [],
   "source": [
    "# También puede ocurrir que en estos valores se produzca un cambio en la pendiente.\n",
    "# Para incluir esto hay que incluir una variable multicativa para cada caso:\n",
    "\n",
    "data[\"out1bajomulti\"] = data[\"G1\"]*data[\"out1bajo\"]\n",
    "data[\"out1altomulti\"] = data[\"G1\"]*data[\"out1alto\"]\n",
    "data[\"out2bajomulti\"] = data[\"G2\"]*data[\"out2bajo\"]\n",
    "data[\"out2altomulti\"] = data[\"G2\"]*data[\"out2alto\"]"
   ]
  }
 ],
 "metadata": {
  "kernelspec": {
   "display_name": "base",
   "language": "python",
   "name": "python3"
  },
  "language_info": {
   "codemirror_mode": {
    "name": "ipython",
    "version": 3
   },
   "file_extension": ".py",
   "mimetype": "text/x-python",
   "name": "python",
   "nbconvert_exporter": "python",
   "pygments_lexer": "ipython3",
   "version": "3.9.19"
  }
 },
 "nbformat": 4,
 "nbformat_minor": 2
}
